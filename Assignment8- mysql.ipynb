{
 "cells": [
  {
   "cell_type": "markdown",
   "id": "eeb5e2ed-09be-4ad0-a73c-0de372ec4680",
   "metadata": {},
   "source": [
    "## Q1. What is a database? Differentiate between SQL and NoSQL databases."
   ]
  },
  {
   "cell_type": "markdown",
   "id": "c2b8c835-95f3-4cce-87c0-faddaa0c85b6",
   "metadata": {},
   "source": [
    "Database: A database is a structured collection of data that is organized and managed to provide efficient storage, retrieval, and manipulation of data. It provides a way to store, organize, and manage large amounts of data for various applications and purposes.\n",
    "\n",
    "SQL Database: \n",
    "1. SQL (Structured Query Language) databases are relational databases that store data in tables with predefined schemas.\n",
    "2. They use SQL as the standard language for querying and manipulating data. \n",
    "3. SQL databases are based on the relational model, where data is organized into tables with rows and columns.\n",
    "4. They ensure data integrity through constraints, enforce relationships between tables through keys, and support ACID (Atomicity, Consistency, Isolation, Durability) properties.\n",
    "5. Examples of SQL databases include MySQL, Oracle, Microsoft SQL Server, and PostgreSQL.\n",
    "\n",
    "NoSQL Database:\n",
    "1. NoSQL (Not Only SQL) databases are non-relational databases that provide a flexible and scalable approach to storing and managing data.\n",
    "2. They do not require a fixed schema and can handle unstructured and semi-structured data.\n",
    "3. NoSQL databases offer high scalability and performance by distributing data across multiple nodes. \n",
    "4. They support horizontal scaling, handle large volumes of data, and are often used in big data and real-time applications\n",
    "5. NoSQL databases come in various types, such as document stores, key-value stores, columnar databases, and graph databases.\n",
    "6. Examples of NoSQL databases include MongoDB, Cassandra, Redis, and Neo4j."
   ]
  },
  {
   "cell_type": "markdown",
   "id": "0ec7edf1-1fa1-4dd1-876e-08b58b341ec2",
   "metadata": {},
   "source": [
    "## Q2. What is DDL? Explain why CREATE, DROP, ALTER, and TRUNCATE are used with an example."
   ]
  },
  {
   "cell_type": "markdown",
   "id": "72fdc92a-3c9b-48c9-82d8-b79461385ce2",
   "metadata": {},
   "source": [
    "DDL (Data Definition Language): DDL is a subset of SQL (Structured Query Language) used to define and manage the structure of a database and its objects.\n",
    "\n",
    "\n",
    "CREATE: The CREATE statement is used to create new database objects, such as tables, views, indexes, or schemas. For example, to create a new table named \"Employees\" with columns for employee ID, name, and salary, the CREATE TABLE statement can be used:\n",
    "\n",
    "    CREATE TABLE Employees (\n",
    "    EmployeeID INT,\n",
    "    Name VARCHAR(50),\n",
    "    Salary DECIMAL(10, 2)\n",
    "    );\n",
    "\n",
    "DROP: The DROP statement is used to remove database objects. It deletes the entire object and its associated data from the database. For example, to drop the \"Employees\" table created in the previous example, the DROP TABLE statement can be used:\n",
    "\n",
    "    DROP TABLE Employees;\n",
    "\n",
    "ALTER: The ALTER statement is used to modify the structure of an existing database object. It allows adding, modifying, or dropping columns, constraints, or other attributes of a table, view, or index. For example, to add a new column named \"Department\" to the \"Employees\" table, the ALTER TABLE statement can be used:\n",
    "\n",
    "    ALTER TABLE Employees\n",
    "    ADD COLUMN Department VARCHAR(50);\n",
    "\n",
    "TRUNCATE: The TRUNCATE statement is used to remove all rows from a table, effectively deleting all the data within the table while keeping its structure intact. Unlike the DROP statement, which deletes the entire table, TRUNCATE only removes the data. For example, to remove all rows from the \"Employees\" table, the TRUNCATE TABLE statement can be used:\n",
    "\n",
    "    TRUNCATE TABLE Employees;"
   ]
  },
  {
   "cell_type": "markdown",
   "id": "e368506d-29b6-4cd2-9a9d-83d916b5a982",
   "metadata": {},
   "source": [
    "## Q3. What is DML? Explain INSERT, UPDATE, and DELETE with an example."
   ]
  },
  {
   "cell_type": "markdown",
   "id": "6bb65c61-fd2a-42b3-b92c-4ac54c348358",
   "metadata": {},
   "source": [
    "DML (Data Manipulation Language):\n",
    "DML is a subset of SQL (Structured Query Language) used to manipulate data within a database. DML statements are used to insert, update, and delete data from tables, and they focus on the manipulation and retrieval of data rather than the structure of the database.\n",
    "\n",
    "INSERT: \n",
    "The INSERT statement is used to insert new rows of data into a table. It adds new records to an existing table or a specified set of columns within a table. For example, to insert a new employee record into the \"Employees\" table, the INSERT INTO statement can be used:\n",
    "\n",
    "    INSERT INTO Employees (EmployeeID, Name, Salary)\n",
    "    VALUES (1, 'John Doe', 5000);\n",
    "\n",
    "UPDATE:\n",
    "The UPDATE statement is used to modify existing data within a table. It allows updating one or more columns of existing records based on specified conditions. For example, to update the salary of an employee with ID 1 in the \"Employees\" table, the UPDATE statement can be used:\n",
    "\n",
    "    UPDATE Employees\n",
    "    SET Salary = 6000\n",
    "    WHERE EmployeeID = 1;\n",
    "\n",
    "DELETE: \n",
    "The DELETE statement is used to remove specific rows of data from a table. It deletes records based on specified conditions or removes all rows if no conditions are provided. For example, to delete an employee record with ID 1 from the \"Employees\" table, the DELETE FROM statement can be used:\n",
    "\n",
    "    DELETE FROM Employees\n",
    "    WHERE EmployeeID = 1;\n"
   ]
  },
  {
   "cell_type": "markdown",
   "id": "402db375-226d-4c0a-a64f-4d6010360de5",
   "metadata": {},
   "source": [
    "## Q4. What is DQL? Explain SELECT with an example."
   ]
  },
  {
   "cell_type": "markdown",
   "id": "236161f5-e8b5-4f85-bdf3-097f38076b05",
   "metadata": {},
   "source": [
    "DQL (Data Query Language):\n",
    "DQL is a subset of SQL (Structured Query Language) used to query and retrieve data from a database. DQL statements are primarily focused on retrieving data based on specified criteria and conditions.\n",
    "\n",
    "SELECT:\n",
    "The SELECT statement is used to retrieve data from one or more tables in a database. It allows you to specify the columns to be retrieved, the table(s) from which to retrieve the data, and any filtering or sorting conditions. For example\n",
    "\n",
    "    SELECT * FROM Employees;\n",
    "This will retrieve all columns (*) from the \"Employees\" table.\n",
    "\n",
    "You can also select specific columns by listing them after the SELECT keyword. \n",
    "\n",
    "    SELECT Name, Salary FROM Employees;\n",
    "\n",
    "The SELECT statement can include additional clauses such as WHERE, ORDER BY, GROUP BY, JOIN, and more, to filter, sort, and manipulate the retrieved data based on specific criteria.\n",
    "\n",
    "For example, to retrieve employee records with a salary greater than 5000 and order them by descending salary, the SELECT statement can be extended as:\n",
    "\n",
    "\n",
    "    SELECT * FROM Employees\n",
    "    WHERE Salary > 5000\n",
    "    ORDER BY Salary DESC;\n"
   ]
  },
  {
   "cell_type": "markdown",
   "id": "6d993346-e6ec-4883-889d-8f129f660d89",
   "metadata": {},
   "source": [
    "## Q5. Explain Primary Key and Foreign Key."
   ]
  },
  {
   "cell_type": "markdown",
   "id": "6f77f6a9-3ed7-48b4-ba29-25d191535b7a",
   "metadata": {},
   "source": [
    "Primary Key:\n",
    "A primary key is a column or a combination of columns in a relational database table that uniquely identifies each row in the table.\n",
    "\n",
    "For example, consider an \"Employees\" table with an \"EmployeeID\" column as the primary key. Each employee will have a unique EmployeeID assigned to them, which serves as their unique identifier within the table.\n",
    "\n",
    "Foreign Key: \n",
    "A foreign key is a column or a combination of columns in a relational database table that establishes a link between data in two tables. It represents a relationship between the data in the referenced table (parent table) and the referencing table (child table)\n",
    "\n",
    "For example, in a database schema, there may be an \"Orders\" table and a \"Customers\" table. The \"Orders\" table might have a foreign key column called \"CustomerID\" that refers to the primary key column \"CustomerID\" in the \"Customers\" table. "
   ]
  },
  {
   "cell_type": "markdown",
   "id": "9c8850ee-c513-4fc7-b44d-7689295f119e",
   "metadata": {},
   "source": [
    "## Q6. Write a python code to connect MySQL to python. Explain the cursor() and execute() method."
   ]
  },
  {
   "cell_type": "markdown",
   "id": "ed7e3772-5f78-4a92-8843-711b09c3de04",
   "metadata": {},
   "source": [
    "       pip install mysql-connector-python\n",
    "\n",
    "       import mysql.connector\n",
    "\n",
    "    Establish a connection\n",
    "       cnx = mysql.connector.connect(\n",
    "       host='your_host',\n",
    "       user='your_username',\n",
    "       password='your_password',\n",
    "       database='your_database'\n",
    "       )\n",
    "\n",
    "    Create a cursor object\n",
    "       cursor = cnx.cursor()\n",
    "\n",
    "    Execute SQL queries\n",
    "       query = \"SELECT * FROM your_table\"\n",
    "       cursor.execute(query)\n",
    "\n",
    "    Fetch and print the results\n",
    "       results = cursor.fetchall()\n",
    "       for row in results:\n",
    "          print(row)\n",
    "\n",
    "    Close the cursor and connection\n",
    "       cursor.close()\n",
    "       cnx.close()\n",
    "\n"
   ]
  },
  {
   "cell_type": "markdown",
   "id": "174388c1-f41b-4974-a3f2-8d1bc7cbce95",
   "metadata": {},
   "source": [
    "cursor() method: The cursor() method is used to create a cursor object, which allows you to execute SQL queries and fetch the results. \n",
    "\n",
    "execute() method: The execute() method is used to execute an SQL query using the cursor object. It takes the SQL query as a parameter and executes it."
   ]
  },
  {
   "cell_type": "markdown",
   "id": "e8075996-c22c-41df-a9ec-b2e45cd5e3e3",
   "metadata": {},
   "source": [
    "## Q7. Give the order of execution of SQL clauses in an SQL query."
   ]
  },
  {
   "cell_type": "markdown",
   "id": "3ef18410-7253-4e9a-9b46-3c70e37ed2c2",
   "metadata": {},
   "source": [
    "1. from - choose and join tables to get base data\n",
    "2. where - filter the base data\n",
    "3. group by - aggregate the base data\n",
    "4. having - filters the aggregated data\n",
    "5. select - return the final data\n",
    "6. order by - sorts the final data\n",
    "7. limit - limits the returned to a row count"
   ]
  },
  {
   "cell_type": "code",
   "execution_count": null,
   "id": "30c0bd41-ce34-4c1e-8fb1-935a27a4458f",
   "metadata": {},
   "outputs": [],
   "source": []
  }
 ],
 "metadata": {
  "kernelspec": {
   "display_name": "Python 3 (ipykernel)",
   "language": "python",
   "name": "python3"
  },
  "language_info": {
   "codemirror_mode": {
    "name": "ipython",
    "version": 3
   },
   "file_extension": ".py",
   "mimetype": "text/x-python",
   "name": "python",
   "nbconvert_exporter": "python",
   "pygments_lexer": "ipython3",
   "version": "3.10.8"
  }
 },
 "nbformat": 4,
 "nbformat_minor": 5
}
