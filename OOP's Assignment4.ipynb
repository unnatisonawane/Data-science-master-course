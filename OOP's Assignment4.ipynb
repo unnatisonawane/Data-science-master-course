{
 "cells": [
  {
   "cell_type": "markdown",
   "id": "981d57b3-407f-4c25-884d-d3016ea0acf5",
   "metadata": {},
   "source": [
    "## Q1. Explain Class and Object with respect to Object-Oriented Programming. Give a suitable example.\n",
    "    Class : \n",
    "    1. Class is a blueprint.Which defines some properties and behaviours.\n",
    "    2. Also called as classification of real world entity.\n",
    "    3. It consist of declaration and definition.\n",
    "    4. Classes are created by keyword class.\n",
    "    5. Attributes are the variables that belong to a class.\n",
    "    6. Attributes are always public and can be accessed using the dot (.) operator. Eg.: Myclass.Myattribute\n",
    "    \n",
    "    Object :\n",
    "    1. The object is an entity that has a state and behavior associated with it.\n",
    "    2. It may be any real-world object like a mouse, keyboard, chair, table, pen, etc. Integers, strings, \n",
    "       floating-point numbers, even arrays, and dictionaries, are all objects. \n",
    "    3. Also called as instance of a class or variable of class.\n",
    "    \n",
    "    Example :\n",
    "     suppose we want to create a Vehicle class. What information would we associate with a vehicle, and what behavior would it have? A vehicle may have a type, brand, model and so on. This type of information is stored in python variables called attributes. These things also have behaviors. A Vehicle can drive, stop, honk its horn, and so on. Behaviors are contained in functions and a function that is part of a class is called a method.\n"
   ]
  },
  {
   "cell_type": "code",
   "execution_count": 2,
   "id": "90cc0b1b-cbb8-4ade-82ca-26b4da660bdc",
   "metadata": {},
   "outputs": [],
   "source": [
    "## A Vehicle class\n",
    "class Vehicle:\n",
    "    def __init__(self, brand, model, type):\n",
    "        self.brand = brand\n",
    "        self.model = model\n",
    "        self.type = type\n",
    "    def return_vehicle_details(self):\n",
    "        return self.brand, self.model, self.type\n",
    "        \n",
    "        "
   ]
  },
  {
   "cell_type": "markdown",
   "id": "70b61dbc-383d-4f25-92a9-f3736cd4d473",
   "metadata": {},
   "source": [
    "Constructing an object\n",
    "An instance of a class is called an object. It’s created by calling the class itself as if it were a function. The code below passes in three python strings to create a new vehicle object."
   ]
  },
  {
   "cell_type": "code",
   "execution_count": 3,
   "id": "9f550595-b05a-4f15-bc6d-5b2362ffebd3",
   "metadata": {},
   "outputs": [],
   "source": [
    "vehicle_object = Vehicle('Honda', 'Ridgeline', 'Truck')"
   ]
  },
  {
   "cell_type": "markdown",
   "id": "28b041be-e98d-4d7b-b7eb-c57a2a676df4",
   "metadata": {},
   "source": [
    "Accessing attribute values"
   ]
  },
  {
   "cell_type": "code",
   "execution_count": 4,
   "id": "f4c44250-27e8-4db8-ba6b-4da4107e0960",
   "metadata": {},
   "outputs": [
    {
     "name": "stdout",
     "output_type": "stream",
     "text": [
      "Honda\n",
      "Ridgeline\n",
      "Truck\n"
     ]
    }
   ],
   "source": [
    "print(vehicle_object.brand)\n",
    "print(vehicle_object.model)\n",
    "print(vehicle_object.type)"
   ]
  },
  {
   "cell_type": "markdown",
   "id": "2f9666bf-fc78-4fc8-a51c-189d978342fc",
   "metadata": {},
   "source": [
    "Calling methods"
   ]
  },
  {
   "cell_type": "code",
   "execution_count": 5,
   "id": "1c9095b0-18f0-4b36-97b2-307c2cb32fd6",
   "metadata": {},
   "outputs": [
    {
     "data": {
      "text/plain": [
       "'Honda'"
      ]
     },
     "execution_count": 5,
     "metadata": {},
     "output_type": "execute_result"
    }
   ],
   "source": [
    "vehicle_object.brand"
   ]
  },
  {
   "cell_type": "markdown",
   "id": "e988d41a-c3e6-482a-95cd-12a22e3f87dc",
   "metadata": {},
   "source": [
    "Creating multiple objects"
   ]
  },
  {
   "cell_type": "code",
   "execution_count": 6,
   "id": "d1e3cb8f-1b0d-4398-97d9-d88e10551040",
   "metadata": {},
   "outputs": [],
   "source": [
    "vehicle_object = Vehicle('Honda', 'Ridgeline', 'Truck')\n",
    "a_subaru = Vehicle('Subaru', 'Forester', 'Crossover')\n",
    "an_suv = Vehicle('Ford', 'Explorer', 'SUV')"
   ]
  },
  {
   "cell_type": "code",
   "execution_count": 7,
   "id": "cf858b00-b286-4618-bfc6-131df4d73efa",
   "metadata": {},
   "outputs": [
    {
     "name": "stdout",
     "output_type": "stream",
     "text": [
      "Subaru\n",
      "Forester\n",
      "Crossover\n"
     ]
    }
   ],
   "source": [
    "print(a_subaru.brand)\n",
    "print(a_subaru.model)\n",
    "print(a_subaru.type)"
   ]
  },
  {
   "cell_type": "markdown",
   "id": "d801ed0e-63ae-437b-bdba-a03b509db46a",
   "metadata": {},
   "source": [
    "## Q2. Name the four pillars of OOPs.\n",
    "   1. Inheritence\n",
    "   2. Abstraction\n",
    "   3. Polymorphism\n",
    "   4. Encapsulation"
   ]
  },
  {
   "cell_type": "markdown",
   "id": "e680147b-907a-40ba-985b-b16b1deff5b8",
   "metadata": {},
   "source": [
    "## Q3. Explain why the __init__() function is used. Give a suitable example.\n",
    "    1. The __init__ method is similar to constructors.\n",
    "    2. Constructors are used to initialize the object’s state\n",
    "    3. Constructor also contains a collection of statements(i.e. instructions) that are executed \n",
    "       at the time of Object creation\n",
    "    4. It runs as soon as an object of a class is instantiated."
   ]
  },
  {
   "cell_type": "code",
   "execution_count": 8,
   "id": "2ef969c8-9228-40d0-8d6a-2bfb0b3f3b15",
   "metadata": {},
   "outputs": [
    {
     "name": "stdout",
     "output_type": "stream",
     "text": [
      "Hello, my name is Unnati\n"
     ]
    }
   ],
   "source": [
    "# example\n",
    "class Person:\n",
    " \n",
    "    # init method or constructor\n",
    "    def __init__(self, name):\n",
    "        self.name = name\n",
    " \n",
    "    # Sample Method\n",
    "    def say_hi(self):\n",
    "        print('Hello, my name is', self.name)\n",
    " \n",
    " \n",
    "p = Person('Unnati')\n",
    "p.say_hi()"
   ]
  },
  {
   "cell_type": "markdown",
   "id": "6c3da54a-dc34-4885-8765-152019787d9d",
   "metadata": {},
   "source": [
    "## Q4. Why self is used in OOPs?\n",
    "    1. It works as a reference to the object\n",
    "    2. The self variable is used to represent the instance of the class\n",
    "    3. Whenever we define methods for a class, we use self as the first parameter in each case.\n",
    "    4. If there was no self argument, the class couldn't hold the information for objects.\n",
    "    "
   ]
  },
  {
   "cell_type": "markdown",
   "id": "26eb1365-010d-4546-99b9-68bca4baa59e",
   "metadata": {},
   "source": [
    "## Q5. What is inheritance? Give an example for each type of inheritance.\n",
    "    Inheritance is a mechanism in which one class acquires the property of another class. \n",
    "    1. Example of single inheritance:\n",
    "       Class A is the parent class and Class B is the child class since Class B inherits the features and \n",
    "       behavior of the parent class A.\n",
    "    2. Multi-level inheritance:\n",
    "       class c inherits the properties and behavior of class B and class B inherits the properties and \n",
    "       behavior of class B.\n",
    "       So,here A is the parent class of B and class B is the parent class of C.\n",
    "       So, here class C implicitly inherits the properties and behavior of class A along with Class B\n",
    "    3. Multiple inheritance :\n",
    "       class c inherits the properties and behavior of class B and class A at the same level.\n",
    "       So, here A and Class B both are the parent classes for Class C.\n",
    "    4. Hierarchical Inheritance :\n",
    "       class A has two children class B and class D. Further, class B and class C both are having \n",
    "       two children - class D and E; class F and G respectively.\n",
    "    5. Hybrid inheritance :\n",
    "       combination of multiple and hierarchical inheritance\n",
    "       "
   ]
  },
  {
   "cell_type": "code",
   "execution_count": null,
   "id": "ae679ac2-1636-47dc-b7af-a721d139ac74",
   "metadata": {},
   "outputs": [],
   "source": []
  }
 ],
 "metadata": {
  "kernelspec": {
   "display_name": "Python 3 (ipykernel)",
   "language": "python",
   "name": "python3"
  },
  "language_info": {
   "codemirror_mode": {
    "name": "ipython",
    "version": 3
   },
   "file_extension": ".py",
   "mimetype": "text/x-python",
   "name": "python",
   "nbconvert_exporter": "python",
   "pygments_lexer": "ipython3",
   "version": "3.10.8"
  }
 },
 "nbformat": 4,
 "nbformat_minor": 5
}
