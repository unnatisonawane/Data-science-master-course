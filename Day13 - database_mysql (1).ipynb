{
 "cells": [
  {
   "cell_type": "markdown",
   "metadata": {},
   "source": [
    "Database: A database is a structured collection of data that is organized and managed to provide efficient storage, retrieval, and manipulation of data. It provides a way to store, organize, and manage large amounts of data for various applications and purposes.\n",
    "\n",
    "SQL Database: \n",
    "1. SQL (Structured Query Language) databases are relational databases that store data in tables with predefined schemas.\n",
    "2. Examples of SQL databases include MySQL, Oracle, Microsoft SQL Server, and PostgreSQL.\n",
    "\n",
    "NoSQL Database:\n",
    "1. NoSQL (Not Only SQL) databases are non-relational databases that provide a flexible and scalable approach to storing and managing data.\n",
    "2. Examples of NoSQL databases include MongoDB, Cassandra, Redis, and Neo4j."
   ]
  },
  {
   "cell_type": "markdown",
   "metadata": {},
   "source": [
    "## to connect sql with python: following are the requirements\n",
    "1. Install MySQL Connector/Python: MySQL Connector/Python is a Python driver that allows you to connect Python to MySQL.\n",
    "\n",
    "2. MySQL Server: You need a running instance of MySQL Server. \n",
    "\n",
    "3. MySQL Server Credentials: You'll need the following information to connect to your MySQL server:\n",
    "\n",
    "\n",
    "        a) Host: The host name or IP address where your MySQL server is running. If it's running on your local machine, you can use \"localhost\".\n",
    "        b) Username: The username with the necessary privileges to connect to the MySQL server.\n",
    "        c) Password: The password for the specified username.\n",
    "        d) Port: The port number on which your MySQL server is listening. The default port for MySQL is 3306."
   ]
  },
  {
   "cell_type": "code",
   "execution_count": null,
   "metadata": {},
   "outputs": [],
   "source": []
  },
  {
   "cell_type": "code",
   "execution_count": null,
   "metadata": {},
   "outputs": [],
   "source": []
  },
  {
   "cell_type": "code",
   "execution_count": null,
   "metadata": {},
   "outputs": [],
   "source": []
  },
  {
   "cell_type": "code",
   "execution_count": 11,
   "metadata": {},
   "outputs": [
    {
     "name": "stdout",
     "output_type": "stream",
     "text": [
      "The database 'your_database' has been created.\n"
     ]
    }
   ],
   "source": [
    "import mysql.connector\n",
    "\n",
    "# Establish a connection to the MySQL server\n",
    "connection = mysql.connector.connect(\n",
    "    host=\"localhost\",\n",
    "    user=\"abc\",\n",
    "    password=\"password\"\n",
    ")\n",
    "\n",
    "# Create a new database\n",
    "database_name = \"your_database\"\n",
    "create_database_query = f\"CREATE DATABASE {database_name}\"\n",
    "\n",
    "cursor = connection.cursor()\n",
    "cursor.execute(create_database_query)\n",
    "cursor.close()\n",
    "\n",
    "# Close the connection\n",
    "connection.close()\n",
    "\n",
    "print(f\"The database '{database_name}' has been created.\")"
   ]
  },
  {
   "cell_type": "code",
   "execution_count": 18,
   "metadata": {},
   "outputs": [
    {
     "name": "stdout",
     "output_type": "stream",
     "text": [
      "(324, 'sudh', 456, 45.78, 'kumar')\n",
      "(324, 'josh', 789, 45.14, 'sen')\n",
      "(344, 'krish', 654, 47.45, 'naik')\n",
      "(324, 'sudh', 456, 45.78, 'kumar')\n",
      "(324, 'josh', 789, 45.14, 'sen')\n",
      "(344, 'krish', 654, 47.45, 'naik')\n",
      "(324, 'sudh', 456, 45.78, 'kumar')\n",
      "(324, 'josh', 789, 45.14, 'sen')\n",
      "(344, 'krish', 654, 47.45, 'naik')\n",
      "The table has been created.\n"
     ]
    }
   ],
   "source": [
    "import mysql.connector\n",
    "\n",
    "# Establish a connection to the MySQL server\n",
    "connection = mysql.connector.connect(\n",
    "    host=\"localhost\",\n",
    "    user=\"abc\",\n",
    "    password=\"password\",\n",
    "    database=\"your_database\"\n",
    ")\n",
    "\n",
    "\n",
    "mycursor = connection.cursor()\n",
    "mycursor.execute(create_table_query)\n",
    "# Insert values into the table\n",
    "mycursor.execute(\"DROP TABLE your_table\")\n",
    "mycursor.execute(\"CREATE TABLE if not exists  your_database.test_table (c1 INT , c2 VARCHAR(50),c3 INT , c4 FLOAT , c5 VARCHAR(40))\")\n",
    "mycursor.execute(\"insert into your_database.test_table values(324,'sudh',456,45.78,'kumar')\")\n",
    "mycursor.execute(\"insert into your_database.test_table values(324,'josh',789,45.14,'sen')\")\n",
    "mycursor.execute(\"insert into your_database.test_table values(344,'krish',654,47.45,'naik')\")\n",
    "\n",
    "mycursor.execute(\"select * from your_database.test_table\")\n",
    "\n",
    "for i in mycursor.fetchall():\n",
    "    print(i)\n",
    "\n",
    "# Commit the changes to the database\n",
    "connection.commit()\n",
    "mycursor.close()\n",
    "\n",
    "# Close the connection\n",
    "connection.close()\n",
    "\n",
    "print(\"The table has been created.\")"
   ]
  },
  {
   "cell_type": "code",
   "execution_count": 5,
   "metadata": {},
   "outputs": [],
   "source": [
    "# here we can use DDL,DML,DQL in same code.\n"
   ]
  },
  {
   "cell_type": "code",
   "execution_count": null,
   "metadata": {},
   "outputs": [],
   "source": []
  }
 ],
 "metadata": {
  "kernelspec": {
   "display_name": "Python 3 (ipykernel)",
   "language": "python",
   "name": "python3"
  },
  "language_info": {
   "codemirror_mode": {
    "name": "ipython",
    "version": 3
   },
   "file_extension": ".py",
   "mimetype": "text/x-python",
   "name": "python",
   "nbconvert_exporter": "python",
   "pygments_lexer": "ipython3",
   "version": "3.10.8"
  },
  "vscode": {
   "interpreter": {
    "hash": "e7370f93d1d0cde622a1f8e1c04877d8463912d04d973331ad4851f04de6915a"
   }
  }
 },
 "nbformat": 4,
 "nbformat_minor": 4
}
