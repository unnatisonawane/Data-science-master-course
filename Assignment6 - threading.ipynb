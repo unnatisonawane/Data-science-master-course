{
 "cells": [
  {
   "cell_type": "markdown",
   "id": "3f9896f5-45f9-4b03-8bf2-33e6f983f16f",
   "metadata": {},
   "source": [
    "## Q.1.  what is multithreading in python? why is it used? Name the module used to handle threads in python"
   ]
  },
  {
   "cell_type": "markdown",
   "id": "7f72c3e2-5cac-47a6-9453-a89fd13c4596",
   "metadata": {},
   "source": [
    "    1. Multithreading is a way to execute multiple tasks simultaneously within a program.\n",
    "    2. In a similar way, multithreading allows a program to perform multiple tasks concurrently. Each task is called a thread,and these threads can work independently while sharing the same resources of the program.\n",
    "    3. Multithreading is particularly useful in scenarios where there are I/O-bound operations or tasks that can be executed in parallel.\n",
    "    4. The threading module in Python is used to handle threads. "
   ]
  },
  {
   "cell_type": "markdown",
   "id": "0ab02762-86d2-49db-bfb1-5ac8ac21f3a6",
   "metadata": {},
   "source": [
    "## Q.2. why threading module used? write the use of the following functions\n",
    "    1. activeCount()\n",
    "    2. currentThread()\n",
    "    3.  enumerate()\n",
    "    "
   ]
  },
  {
   "cell_type": "markdown",
   "id": "ca84f107-51e9-4d6a-93f4-3d90a889547d",
   "metadata": {},
   "source": [
    "    The threading module in Python is used for creating and managing threads. \\\n",
    "    \n",
    "    1. activeCount(): This function returns the number of currently active (alive) Thread objects in the program. It is used    to determine the total number of threads that are currently running or have not yet finished their execution.\n",
    "    \n",
    "    2. currentThread(): This function returns the current Thread object corresponding to the calling thread. It is used to obtain a reference to the currently executing thread.\n",
    "    \n",
    "    3. enumerate(): This function returns a list of all currently active Thread objects in the program. It is used to obtain a list of all running threads, including the main thread and any other created threads."
   ]
  },
  {
   "cell_type": "markdown",
   "id": "2def00b9-9cb9-417f-91ff-394d93b86987",
   "metadata": {},
   "source": [
    "## Q.3. Explain the following functions\n",
    "    1. run()\n",
    "    2. start()\n",
    "    3. join()\n",
    "    4. isAlive()"
   ]
  },
  {
   "cell_type": "markdown",
   "id": "875c95da-b986-4952-be98-87d7fd86351e",
   "metadata": {},
   "source": [
    "    1. run(): This is a method defined in the Thread class. It represents the entry point for the thread's execution  logic.When a thread is started using the start() method, the run() method is automatically invoked internally. \n",
    "    \n",
    "    2. start(): This method is used to start the execution of a thread.\n",
    "    \n",
    "    3. join(): This method allows one thread to wait for the completion of another thread. When a thread calls the join()   method on another thread, it suspends its own execution and waits until the target thread finishes its execution. \n",
    "    \n",
    "    4. isAlive(): This method is used to determine if a thread is currently alive or running. It returns True if the thread is still active and running, and False otherwise. "
   ]
  },
  {
   "cell_type": "markdown",
   "id": "9ca46ba1-b33d-4640-8181-42de977557b8",
   "metadata": {},
   "source": [
    "## Q.4. Write a python program to create two threads. Thread one must print the list of squares and thread two must print the list of cubes"
   ]
  },
  {
   "cell_type": "code",
   "execution_count": 6,
   "id": "46466dce-ea98-4a3b-8dcb-4c4eb53228c4",
   "metadata": {},
   "outputs": [
    {
     "name": "stdout",
     "output_type": "stream",
     "text": [
      "Squares: [1, 4, 9, 16, 25]\n",
      "Cubes: [1, 8, 27, 64, 125]\n"
     ]
    }
   ],
   "source": [
    "import threading\n",
    "\n",
    "numbers = [1, 2, 3, 4, 5]\n",
    "\n",
    "# Function for thread one: prints squares\n",
    "def print_squares():\n",
    "    squares = [num ** 2 for num in numbers]\n",
    "    print(\"Squares:\", squares)\n",
    "\n",
    "# Function for thread two: prints cubes\n",
    "def print_cubes():\n",
    "    cubes = [num ** 3 for num in numbers]\n",
    "    print(\"Cubes:\", cubes)\n",
    "\n",
    "# Create thread one and thread two\n",
    "thread1 = threading.Thread(target=print_squares)\n",
    "thread2 = threading.Thread(target=print_cubes)\n",
    "\n",
    "# Start both threads\n",
    "thread1.start()\n",
    "thread2.start()\n",
    "\n",
    "\n"
   ]
  },
  {
   "cell_type": "markdown",
   "id": "fcbc8ad4-40fb-40de-9874-fc37d2a39e57",
   "metadata": {},
   "source": [
    "## Q.5. State advantages and disadvantages of multithreading"
   ]
  },
  {
   "cell_type": "markdown",
   "id": "2b39c3e5-432b-4805-a24c-c51c93f55d5e",
   "metadata": {},
   "source": [
    "Advantages of Multithreading:\n",
    "\n",
    "Improved Performance: Multithreading allows for concurrent execution of tasks, which can lead to improved performance and responsiveness in certain scenarios. By utilizing multiple threads, you can leverage the full potential of multicore processors and efficiently utilize system resources.\n",
    "\n",
    "Responsiveness: Multithreading enables you to perform multiple tasks simultaneously, providing a more responsive user experience. For example, in a graphical user interface (GUI) application, you can use separate threads to handle user input, update the UI, and perform background operations concurrently.\n",
    "\n",
    "Resource Sharing: Threads within a process can share the same memory space, allowing for efficient sharing and communication of data between threads. This eliminates the need for expensive inter-process communication (IPC) mechanisms and simplifies the development of concurrent applications.\n",
    "\n",
    "Simplified Program Structure: Multithreading can lead to cleaner program structure by allowing you to separate different tasks or operations into separate threads. This modularization can make code more maintainable and easier to understand.\n",
    "\n",
    "Disadvantages of Multithreading:\n",
    "\n",
    "Complexity and Difficulty: Multithreaded programming introduces additional complexity, making it more challenging to develop and debug code. Issues such as race conditions, deadlocks, and thread synchronization errors can arise, requiring careful attention to detail and proper handling.\n",
    "\n",
    "Increased Resource Consumption: Multithreading requires additional system resources, such as memory and CPU time, to manage and coordinate the execution of threads. Creating and managing threads also incurs some overhead. If not properly managed, excessive thread creation can lead to resource contention and degrade overall performance.\n",
    "\n",
    "Synchronization Overhead: When multiple threads access shared resources concurrently, proper synchronization mechanisms must be employed to prevent data corruption or inconsistent states. Implementing and managing synchronization can add complexity and introduce overhead, impacting performance.\n",
    "\n",
    "Difficulty in Debugging: Debugging multithreaded applications can be more challenging than single-threaded ones. Issues such as race conditions or deadlocks may occur intermittently and may be hard to reproduce or detect, making it harder to identify and fix bugs.\n"
   ]
  },
  {
   "cell_type": "markdown",
   "id": "1249573d-fcab-4f51-b2a2-dfd0e8a86f99",
   "metadata": {},
   "source": [
    "## Q.6. Explain deadlocks and race conditions."
   ]
  },
  {
   "cell_type": "markdown",
   "id": "6287fe17-bbee-48bc-95b5-0241b1f61424",
   "metadata": {},
   "source": [
    "\n",
    "Deadlock and race condition are two common concurrency issues that can occur in multithreaded programs:\n",
    "\n",
    "Deadlock: Deadlock refers to a situation where two or more threads are blocked indefinitely, waiting for each other to release resources that they hold. It occurs when two or more threads acquire locks or resources in a way that creates a circular dependency. As a result, the threads cannot proceed, leading to a program freeze or a deadlock.\n",
    "\n",
    "For example, imagine two threads, Thread A and Thread B, where Thread A holds a lock on Resource X and waits to acquire a lock on Resource Y, while Thread B holds a lock on Resource Y and waits to acquire a lock on Resource X. Both threads are waiting for each other to release the resources they need, resulting in a deadlock.\n",
    "\n",
    "Race Condition: A race condition occurs when the behavior or output of a program depends on the relative timing or interleaving of multiple threads. It happens when multiple threads access and manipulate shared data concurrently without proper synchronization, leading to unpredictable and incorrect results.\n",
    "\n",
    "Race conditions typically occur when multiple threads perform read and write operations on the same shared data simultaneously. The outcome of such operations can vary depending on the order of execution, leading to inconsistent or incorrect results.\n",
    "\n",
    "For example, consider two threads, Thread A and Thread B, both accessing and modifying a shared variable count. If both threads read the value of count at the same time, perform their computations, and then write the result back, the final value of count may not be what was expected due to the interleaved execution of the threads.\n",
    "\n",
    "\n"
   ]
  },
  {
   "cell_type": "code",
   "execution_count": null,
   "id": "2baa5b75-ff84-403f-bd4a-366aff410ede",
   "metadata": {},
   "outputs": [],
   "source": []
  }
 ],
 "metadata": {
  "kernelspec": {
   "display_name": "Python 3 (ipykernel)",
   "language": "python",
   "name": "python3"
  },
  "language_info": {
   "codemirror_mode": {
    "name": "ipython",
    "version": 3
   },
   "file_extension": ".py",
   "mimetype": "text/x-python",
   "name": "python",
   "nbconvert_exporter": "python",
   "pygments_lexer": "ipython3",
   "version": "3.10.8"
  }
 },
 "nbformat": 4,
 "nbformat_minor": 5
}
