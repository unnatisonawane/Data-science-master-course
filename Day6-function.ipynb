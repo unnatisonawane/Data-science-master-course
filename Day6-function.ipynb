{
 "cells": [
  {
   "cell_type": "markdown",
   "id": "dabddfa9-1525-48d5-a8fc-5605fbc0b548",
   "metadata": {},
   "source": [
    "## Functions"
   ]
  },
  {
   "cell_type": "code",
   "execution_count": 1,
   "id": "5eedeb4b-abeb-4daf-a9d1-1ff2dde2d45e",
   "metadata": {},
   "outputs": [],
   "source": [
    "def test1():\n",
    "    print('trying to create first function')"
   ]
  },
  {
   "cell_type": "code",
   "execution_count": 3,
   "id": "7038492e-2026-4a35-9315-0808e8daf739",
   "metadata": {},
   "outputs": [
    {
     "name": "stdout",
     "output_type": "stream",
     "text": [
      "trying to create first function\n"
     ]
    }
   ],
   "source": [
    "test1()"
   ]
  },
  {
   "cell_type": "code",
   "execution_count": 4,
   "id": "15554340-1995-47f7-81b5-06e9ef2842d0",
   "metadata": {},
   "outputs": [
    {
     "name": "stdout",
     "output_type": "stream",
     "text": [
      "trying to create first function\n"
     ]
    },
    {
     "ename": "TypeError",
     "evalue": "unsupported operand type(s) for +: 'NoneType' and 'str'",
     "output_type": "error",
     "traceback": [
      "\u001b[0;31m---------------------------------------------------------------------------\u001b[0m",
      "\u001b[0;31mTypeError\u001b[0m                                 Traceback (most recent call last)",
      "Cell \u001b[0;32mIn[4], line 1\u001b[0m\n\u001b[0;32m----> 1\u001b[0m \u001b[43mtest1\u001b[49m\u001b[43m(\u001b[49m\u001b[43m)\u001b[49m\u001b[43m \u001b[49m\u001b[38;5;241;43m+\u001b[39;49m\u001b[43m \u001b[49m\u001b[38;5;124;43m'\u001b[39;49m\u001b[38;5;124;43mData Science\u001b[39;49m\u001b[38;5;124;43m'\u001b[39;49m\n",
      "\u001b[0;31mTypeError\u001b[0m: unsupported operand type(s) for +: 'NoneType' and 'str'"
     ]
    }
   ],
   "source": [
    "test1() + 'Data Science'"
   ]
  },
  {
   "cell_type": "code",
   "execution_count": 5,
   "id": "093979fd-5523-4e56-a159-61138569f964",
   "metadata": {},
   "outputs": [],
   "source": [
    "def test2():\n",
    "    return 'with python'"
   ]
  },
  {
   "cell_type": "code",
   "execution_count": 6,
   "id": "2f427e01-ba1b-4c63-8171-f4bb8663c649",
   "metadata": {},
   "outputs": [
    {
     "data": {
      "text/plain": [
       "'with python'"
      ]
     },
     "execution_count": 6,
     "metadata": {},
     "output_type": "execute_result"
    }
   ],
   "source": [
    "test2()"
   ]
  },
  {
   "cell_type": "code",
   "execution_count": 9,
   "id": "f06bbffd-edf2-4298-b387-11fa124e4b46",
   "metadata": {},
   "outputs": [
    {
     "data": {
      "text/plain": [
       "'with python i am able to understand code'"
      ]
     },
     "execution_count": 9,
     "metadata": {},
     "output_type": "execute_result"
    }
   ],
   "source": [
    "test2()+ ' i am able to understand code'\n"
   ]
  },
  {
   "cell_type": "code",
   "execution_count": 12,
   "id": "ea826550-fdea-4735-9f02-6f6b98dd05f6",
   "metadata": {},
   "outputs": [],
   "source": [
    "#multiple datatypes returns\n",
    "def test3():\n",
    "    return 1,4,'data science',88.88"
   ]
  },
  {
   "cell_type": "code",
   "execution_count": 13,
   "id": "90cdc778-b261-4ff5-9f04-1eb0291dabcc",
   "metadata": {},
   "outputs": [
    {
     "data": {
      "text/plain": [
       "(1, 4, 'data science', 88.88)"
      ]
     },
     "execution_count": 13,
     "metadata": {},
     "output_type": "execute_result"
    }
   ],
   "source": [
    "test3()"
   ]
  },
  {
   "cell_type": "code",
   "execution_count": 14,
   "id": "3560b6a0-df8d-446d-961a-183d6bfb3cf3",
   "metadata": {},
   "outputs": [
    {
     "data": {
      "text/plain": [
       "'data science'"
      ]
     },
     "execution_count": 14,
     "metadata": {},
     "output_type": "execute_result"
    }
   ],
   "source": [
    "test3()[2]"
   ]
  },
  {
   "cell_type": "code",
   "execution_count": 19,
   "id": "00184b9a-4ea3-454d-8c3e-980111470514",
   "metadata": {},
   "outputs": [],
   "source": [
    "a,b,c,d = test3()"
   ]
  },
  {
   "cell_type": "code",
   "execution_count": 20,
   "id": "65a192cf-0d87-4a16-a351-803d55fd7cf7",
   "metadata": {},
   "outputs": [
    {
     "data": {
      "text/plain": [
       "1"
      ]
     },
     "execution_count": 20,
     "metadata": {},
     "output_type": "execute_result"
    }
   ],
   "source": [
    "a"
   ]
  },
  {
   "cell_type": "code",
   "execution_count": 21,
   "id": "c4ba8734-3a0d-45df-9d8c-0a5f28aad02f",
   "metadata": {},
   "outputs": [
    {
     "data": {
      "text/plain": [
       "'data science'"
      ]
     },
     "execution_count": 21,
     "metadata": {},
     "output_type": "execute_result"
    }
   ],
   "source": [
    "c"
   ]
  },
  {
   "cell_type": "code",
   "execution_count": 25,
   "id": "ae8cba71-8896-44f8-a147-8b15ca10fbe0",
   "metadata": {},
   "outputs": [],
   "source": [
    "def test4():\n",
    "    x=4*5+10\n",
    "    return x"
   ]
  },
  {
   "cell_type": "code",
   "execution_count": 30,
   "id": "d244cd7c-ee6e-4552-ac43-8a8e554dbe01",
   "metadata": {},
   "outputs": [
    {
     "data": {
      "text/plain": [
       "30"
      ]
     },
     "execution_count": 30,
     "metadata": {},
     "output_type": "execute_result"
    }
   ],
   "source": [
    "test4()"
   ]
  },
  {
   "cell_type": "code",
   "execution_count": 31,
   "id": "8323eb4a-ba74-4564-a36a-a16a80ec8a8a",
   "metadata": {},
   "outputs": [
    {
     "data": {
      "text/plain": [
       "int"
      ]
     },
     "execution_count": 31,
     "metadata": {},
     "output_type": "execute_result"
    }
   ],
   "source": [
    "type(test4())"
   ]
  },
  {
   "cell_type": "code",
   "execution_count": 32,
   "id": "1cc30952-76f4-4d5e-a97d-70e225b70c27",
   "metadata": {},
   "outputs": [],
   "source": [
    "def test5(a,b):\n",
    "    c=a+b\n",
    "    return c"
   ]
  },
  {
   "cell_type": "code",
   "execution_count": 33,
   "id": "e9d53ecd-bed7-46f5-9a4d-477ba032b145",
   "metadata": {},
   "outputs": [
    {
     "data": {
      "text/plain": [
       "6"
      ]
     },
     "execution_count": 33,
     "metadata": {},
     "output_type": "execute_result"
    }
   ],
   "source": [
    "test5(4,2)"
   ]
  },
  {
   "cell_type": "code",
   "execution_count": 36,
   "id": "a44f95e2-54d6-4b03-a8ee-cd13c2b8b8b5",
   "metadata": {},
   "outputs": [
    {
     "data": {
      "text/plain": [
       "'pwskill master'"
      ]
     },
     "execution_count": 36,
     "metadata": {},
     "output_type": "execute_result"
    }
   ],
   "source": [
    "test5('pwskill', ' master')"
   ]
  },
  {
   "cell_type": "code",
   "execution_count": 37,
   "id": "1af542f5-abb9-4fdb-b10d-4c6a032acadc",
   "metadata": {},
   "outputs": [
    {
     "data": {
      "text/plain": [
       "[1, 2, 3, 4, 5, 6, 7, 8]"
      ]
     },
     "execution_count": 37,
     "metadata": {},
     "output_type": "execute_result"
    }
   ],
   "source": [
    "test5([1,2,3,4],[5,6,7,8])"
   ]
  },
  {
   "cell_type": "code",
   "execution_count": 1,
   "id": "f28c9c6c-38c4-4a07-8e5a-ee0f7b47dfb6",
   "metadata": {},
   "outputs": [],
   "source": [
    "l=[1,2,3,4,'pwskill',[1,2,55,44]]"
   ]
  },
  {
   "cell_type": "code",
   "execution_count": 17,
   "id": "f8087f64-883f-43d3-bf89-4b391202929c",
   "metadata": {},
   "outputs": [],
   "source": [
    "# define a function which will take list as input and give final list which will return only numeric values\n",
    "def test6(a):\n",
    "    n=[]\n",
    "    for i in a:\n",
    "        if type(i) == int or type(i) == float:\n",
    "            n.append(i)\n",
    "    return n"
   ]
  },
  {
   "cell_type": "code",
   "execution_count": 18,
   "id": "680bd714-3a8f-489d-8576-338cd521e03b",
   "metadata": {},
   "outputs": [
    {
     "data": {
      "text/plain": [
       "[1, 2, 3, 4]"
      ]
     },
     "execution_count": 18,
     "metadata": {},
     "output_type": "execute_result"
    }
   ],
   "source": [
    "test6(l)"
   ]
  },
  {
   "cell_type": "code",
   "execution_count": 19,
   "id": "08fcb9e2-8696-4c3b-9901-d9f52aface75",
   "metadata": {},
   "outputs": [],
   "source": [
    "def test7(a):\n",
    "    n=[]\n",
    "    for i in a:\n",
    "        if type(i) == str :\n",
    "            n.append(i)\n",
    "    return n"
   ]
  },
  {
   "cell_type": "code",
   "execution_count": 20,
   "id": "3ed29734-c925-4b3f-8acb-8df400e36f24",
   "metadata": {},
   "outputs": [
    {
     "data": {
      "text/plain": [
       "['pwskill']"
      ]
     },
     "execution_count": 20,
     "metadata": {},
     "output_type": "execute_result"
    }
   ],
   "source": [
    "test7(l)"
   ]
  },
  {
   "cell_type": "code",
   "execution_count": 46,
   "id": "ac338e61-d1fb-4647-88ae-d3f52755542f",
   "metadata": {},
   "outputs": [],
   "source": [
    "#function for nested lists\n",
    "def test8(a):\n",
    "    n=[]\n",
    "    for i in a:\n",
    "        if type(i)==list :\n",
    "            for j in i:\n",
    "                if type(j)==int or type(j)==float:\n",
    "                    n.append(j)\n",
    "        else:\n",
    "            if type(i)==int or type(i)==float :\n",
    "                    n.append(i)\n",
    "    return n"
   ]
  },
  {
   "cell_type": "code",
   "execution_count": 47,
   "id": "854a8859-e870-4bf1-a25a-d7334176d6a5",
   "metadata": {},
   "outputs": [
    {
     "data": {
      "text/plain": [
       "[1, 2, 3, 4, 1, 2, 55, 44]"
      ]
     },
     "execution_count": 47,
     "metadata": {},
     "output_type": "execute_result"
    }
   ],
   "source": [
    "test8(l)"
   ]
  },
  {
   "cell_type": "code",
   "execution_count": 62,
   "id": "256a940f-fe97-4ebf-952b-bb3d28053f4f",
   "metadata": {},
   "outputs": [],
   "source": [
    "#passing any number of arguments or data ( args is not a key,we can use any variable)\n",
    "def test9(*args):\n",
    "    return args"
   ]
  },
  {
   "cell_type": "code",
   "execution_count": 63,
   "id": "6df84829-6ce0-470f-8557-490ba007dd96",
   "metadata": {},
   "outputs": [
    {
     "data": {
      "text/plain": [
       "([1, 2, 3, 4, 'pwskill', [1, 2, 55, 44]],)"
      ]
     },
     "execution_count": 63,
     "metadata": {},
     "output_type": "execute_result"
    }
   ],
   "source": [
    "test9(l)"
   ]
  },
  {
   "cell_type": "code",
   "execution_count": 64,
   "id": "2dd68546-6b11-4841-982a-6322e60aa502",
   "metadata": {},
   "outputs": [],
   "source": [
    "l2=[1,2,3,4,5]"
   ]
  },
  {
   "cell_type": "code",
   "execution_count": 65,
   "id": "ce61ea19-fa41-49ec-be3d-364ef0eeeb76",
   "metadata": {},
   "outputs": [
    {
     "data": {
      "text/plain": [
       "([1, 2, 3, 4, 5],)"
      ]
     },
     "execution_count": 65,
     "metadata": {},
     "output_type": "execute_result"
    }
   ],
   "source": [
    "test9(l2)"
   ]
  },
  {
   "cell_type": "code",
   "execution_count": 66,
   "id": "ec43a2eb-6587-4ab8-9723-2e5c5475964e",
   "metadata": {},
   "outputs": [
    {
     "data": {
      "text/plain": [
       "(1, 2, 3, 4, 'pwskill', (1, 3, 6, 9))"
      ]
     },
     "execution_count": 66,
     "metadata": {},
     "output_type": "execute_result"
    }
   ],
   "source": [
    "test9(1,2,3,4,'pwskill',(1,3,6,9))"
   ]
  },
  {
   "cell_type": "code",
   "execution_count": 67,
   "id": "2f59e261-98cc-4b22-9408-d4dd748265bc",
   "metadata": {},
   "outputs": [],
   "source": [
    "def test10(*args, a):\n",
    "    return *args, a"
   ]
  },
  {
   "cell_type": "code",
   "execution_count": 68,
   "id": "c3d90dca-baef-47b4-bb7d-13f34f2ddcaf",
   "metadata": {},
   "outputs": [
    {
     "ename": "TypeError",
     "evalue": "test10() missing 1 required keyword-only argument: 'a'",
     "output_type": "error",
     "traceback": [
      "\u001b[0;31m---------------------------------------------------------------------------\u001b[0m",
      "\u001b[0;31mTypeError\u001b[0m                                 Traceback (most recent call last)",
      "Cell \u001b[0;32mIn[68], line 1\u001b[0m\n\u001b[0;32m----> 1\u001b[0m \u001b[43mtest10\u001b[49m\u001b[43m(\u001b[49m\u001b[38;5;241;43m1\u001b[39;49m\u001b[43m,\u001b[49m\u001b[38;5;241;43m2\u001b[39;49m\u001b[43m,\u001b[49m\u001b[38;5;241;43m3\u001b[39;49m\u001b[43m)\u001b[49m\n",
      "\u001b[0;31mTypeError\u001b[0m: test10() missing 1 required keyword-only argument: 'a'"
     ]
    }
   ],
   "source": [
    "test10(1,2,3)"
   ]
  },
  {
   "cell_type": "code",
   "execution_count": 69,
   "id": "c2d35999-2572-4558-8cd1-f5de8153b4b0",
   "metadata": {},
   "outputs": [
    {
     "data": {
      "text/plain": [
       "(1, 2, 3, 4, 'pwskill')"
      ]
     },
     "execution_count": 69,
     "metadata": {},
     "output_type": "execute_result"
    }
   ],
   "source": [
    "test10(1,2,3,4,a='pwskill')"
   ]
  },
  {
   "cell_type": "code",
   "execution_count": 75,
   "id": "92bcc0a3-4a6d-4f04-8362-fc25c468d56c",
   "metadata": {},
   "outputs": [],
   "source": [
    "#passing any number of data if it is list and return list of list \n",
    "def test11(*args):\n",
    "    l=[]\n",
    "    for i in args:\n",
    "        if type(i)==list:\n",
    "            l.append(i)\n",
    "    return l\n"
   ]
  },
  {
   "cell_type": "code",
   "execution_count": 78,
   "id": "8b6eae05-f883-453a-893f-2ff9df2f90e3",
   "metadata": {},
   "outputs": [
    {
     "data": {
      "text/plain": [
       "[[1, 2, 3, 4], [5, 6, 7], [8, 9, 10], ['at free cost', 888]]"
      ]
     },
     "execution_count": 78,
     "metadata": {},
     "output_type": "execute_result"
    }
   ],
   "source": [
    "test11([1,2,3,4],'pwskill',[5,6,7],'courses',[8,9,10],['at free cost',888])"
   ]
  },
  {
   "cell_type": "code",
   "execution_count": 82,
   "id": "ae51a2e7-610f-45c6-847c-6767ba3125dc",
   "metadata": {},
   "outputs": [],
   "source": [
    "#passing any number of input in the form of key value pair (output will be dict type)\n",
    "def test12(**kwargs):\n",
    "    return kwargs\n",
    "    "
   ]
  },
  {
   "cell_type": "code",
   "execution_count": 83,
   "id": "06ad8e9d-1fb7-4c92-a4ab-aed2d677c445",
   "metadata": {},
   "outputs": [
    {
     "data": {
      "text/plain": [
       "{}"
      ]
     },
     "execution_count": 83,
     "metadata": {},
     "output_type": "execute_result"
    }
   ],
   "source": [
    "test12()"
   ]
  },
  {
   "cell_type": "code",
   "execution_count": 84,
   "id": "bbad15da-e73f-44af-a27c-ef54581cd21a",
   "metadata": {},
   "outputs": [
    {
     "data": {
      "text/plain": [
       "{'a': 12, 'b': 44, 'c': 78, 'd': ('pwskill', 'at free')}"
      ]
     },
     "execution_count": 84,
     "metadata": {},
     "output_type": "execute_result"
    }
   ],
   "source": [
    "test12(a=12,b=44,c=78,d=('pwskill','at free'))"
   ]
  },
  {
   "cell_type": "code",
   "execution_count": 94,
   "id": "ca237e67-a829-47c0-b36d-7571378bff8e",
   "metadata": {},
   "outputs": [],
   "source": [
    "def test13(**kwargs):\n",
    "    for i in kwargs.keys():\n",
    "        if type(kwargs[i])==list :\n",
    "            return i,kwargs[i]"
   ]
  },
  {
   "cell_type": "code",
   "execution_count": 96,
   "id": "a3415f81-c349-41cc-bd27-13d3f6fe2b3c",
   "metadata": {},
   "outputs": [
    {
     "data": {
      "text/plain": [
       "('e', [1, 2, 3, 4])"
      ]
     },
     "execution_count": 96,
     "metadata": {},
     "output_type": "execute_result"
    }
   ],
   "source": [
    "test13(a=12,b=44,c=78,d=('pwskill','at free'),e=[1,2,3,4])"
   ]
  },
  {
   "cell_type": "code",
   "execution_count": 97,
   "id": "248a4dbc-69d6-429f-a175-3f56401326a9",
   "metadata": {},
   "outputs": [],
   "source": [
    "def test14(*args,**kwargs):\n",
    "    return args,kwargs"
   ]
  },
  {
   "cell_type": "code",
   "execution_count": 99,
   "id": "0601e150-b71c-469e-8864-3e353ccd1d24",
   "metadata": {},
   "outputs": [
    {
     "data": {
      "text/plain": [
       "(('pwskill', 45, 48, 90), {'a': 4, 'b': 5, 'c': 8})"
      ]
     },
     "execution_count": 99,
     "metadata": {},
     "output_type": "execute_result"
    }
   ],
   "source": [
    "test14('pwskill',45,48,90,a=4,b=5,c=8)"
   ]
  },
  {
   "cell_type": "markdown",
   "id": "3659a36f-3726-4bbf-8c07-ba4d1fbe85f6",
   "metadata": {},
   "source": [
    "## function generator"
   ]
  },
  {
   "cell_type": "code",
   "execution_count": 100,
   "id": "5adee775-5061-4490-ab6b-022da8b8d0ee",
   "metadata": {},
   "outputs": [],
   "source": [
    "#fibonnaci series function generator\n",
    "def test_fib(n):\n",
    "    a,b=0,1\n",
    "    for i in range(n):\n",
    "        yield a\n",
    "        a,b=b,a+b"
   ]
  },
  {
   "cell_type": "code",
   "execution_count": 101,
   "id": "42adca50-3c51-40b7-adb4-7742c35ac12f",
   "metadata": {},
   "outputs": [
    {
     "data": {
      "text/plain": [
       "<generator object test_fib at 0x7f1d3409be60>"
      ]
     },
     "execution_count": 101,
     "metadata": {},
     "output_type": "execute_result"
    }
   ],
   "source": [
    "test_fib(10)"
   ]
  },
  {
   "cell_type": "code",
   "execution_count": 102,
   "id": "0e22945b-7cd6-4d77-aa1a-29a354388dae",
   "metadata": {},
   "outputs": [
    {
     "name": "stdout",
     "output_type": "stream",
     "text": [
      "0\n",
      "1\n",
      "1\n",
      "2\n",
      "3\n",
      "5\n",
      "8\n",
      "13\n",
      "21\n",
      "34\n"
     ]
    }
   ],
   "source": [
    "for i in test_fib(10):\n",
    "    print(i)"
   ]
  },
  {
   "cell_type": "code",
   "execution_count": 1,
   "id": "f8fd4583-cfcc-43fa-bc7c-0222b02594e5",
   "metadata": {},
   "outputs": [],
   "source": [
    "# Create a function to return a list of odd numbers in the range of 1 to 25\n",
    "def odd_no(n):\n",
    "    return[i for i in range(n+1) if i%2!=0]"
   ]
  },
  {
   "cell_type": "code",
   "execution_count": 2,
   "id": "5e4590d6-4932-42dd-9185-12434c3c37ec",
   "metadata": {},
   "outputs": [
    {
     "data": {
      "text/plain": [
       "[1, 3, 5, 7, 9, 11, 13, 15, 17, 19, 21, 23, 25]"
      ]
     },
     "execution_count": 2,
     "metadata": {},
     "output_type": "execute_result"
    }
   ],
   "source": [
    "odd_no(25)"
   ]
  },
  {
   "cell_type": "code",
   "execution_count": 3,
   "id": "ca0ea7a4-b1c0-4d59-9e14-e0d121cc5930",
   "metadata": {},
   "outputs": [],
   "source": [
    "## generator to print even numbers\n",
    "list1=[1,2,3,4,5,6,7,8,9,10]\n",
    "def even_list(n):\n",
    "    for i in n:\n",
    "        if i%2==0:\n",
    "            yield i"
   ]
  },
  {
   "cell_type": "code",
   "execution_count": 5,
   "id": "62c00ad4-83c4-4ee9-88d8-4f023cdd1e46",
   "metadata": {},
   "outputs": [
    {
     "name": "stdout",
     "output_type": "stream",
     "text": [
      "2\n",
      "4\n",
      "6\n",
      "8\n",
      "10\n"
     ]
    }
   ],
   "source": [
    "even_list(list1)\n",
    "for j in even_list(list1):\n",
    "    print(j)"
   ]
  },
  {
   "cell_type": "code",
   "execution_count": 7,
   "id": "e1dc26d9-c9ef-4707-b121-04a4ef876715",
   "metadata": {},
   "outputs": [
    {
     "name": "stdout",
     "output_type": "stream",
     "text": [
      "2\n",
      "3\n",
      "5\n",
      "7\n",
      "11\n",
      "13\n",
      "17\n",
      "19\n",
      "23\n",
      "29\n",
      "31\n",
      "37\n",
      "41\n",
      "43\n",
      "47\n",
      "53\n",
      "59\n",
      "61\n",
      "67\n",
      "71\n"
     ]
    }
   ],
   "source": [
    "#Create a generator function for prime numbers less than 1000. Use the next() method to print the first 20 prime numbers\n",
    "def primes():\n",
    "    \"\"\"\n",
    "    Generator function for prime numbers less than 1000\n",
    "    \"\"\"\n",
    "    for num in range(2, 1000):\n",
    "        # check if num is prime\n",
    "        for i in range(2, num):\n",
    "            if num % i == 0:\n",
    "                break\n",
    "        else:\n",
    "            yield num\n",
    "\n",
    "# Call the generator function and print the first 20 prime numbers using next()\n",
    "prime_gen = primes()\n",
    "for i in range(20):\n",
    "    print(next(prime_gen))\n",
    "\n"
   ]
  },
  {
   "cell_type": "markdown",
   "id": "4f52a312-3240-4d5f-a11f-8ff1a2081d95",
   "metadata": {},
   "source": [
    "## Lambda function"
   ]
  },
  {
   "cell_type": "code",
   "execution_count": 8,
   "id": "ff5eca37-b600-4d0d-b1c4-57b7fb791daa",
   "metadata": {},
   "outputs": [],
   "source": [
    "# also called as ananomous function or sorted function\n"
   ]
  },
  {
   "cell_type": "code",
   "execution_count": 10,
   "id": "d49cfd71-cd37-4404-8370-1183233a1e5c",
   "metadata": {},
   "outputs": [],
   "source": [
    "c=lambda a,b: a*b"
   ]
  },
  {
   "cell_type": "code",
   "execution_count": 11,
   "id": "c1a33659-908e-4385-a583-99e3b28ee825",
   "metadata": {},
   "outputs": [
    {
     "data": {
      "text/plain": [
       "6"
      ]
     },
     "execution_count": 11,
     "metadata": {},
     "output_type": "execute_result"
    }
   ],
   "source": [
    "c(2,3)"
   ]
  },
  {
   "cell_type": "code",
   "execution_count": 12,
   "id": "9f3e3f07-4b3a-49aa-bb97-712ad942387b",
   "metadata": {},
   "outputs": [],
   "source": [
    "#celsius to farenheit\n",
    "c_to_f=lambda c:(9/5)*c+32"
   ]
  },
  {
   "cell_type": "code",
   "execution_count": 13,
   "id": "32c3ccf1-6945-464d-9755-aebe0fbe1e23",
   "metadata": {},
   "outputs": [
    {
     "data": {
      "text/plain": [
       "89.6"
      ]
     },
     "execution_count": 13,
     "metadata": {},
     "output_type": "execute_result"
    }
   ],
   "source": [
    "c_to_f(32)"
   ]
  },
  {
   "cell_type": "code",
   "execution_count": 19,
   "id": "306a2067-5130-4ebd-a9ba-383b28b06679",
   "metadata": {},
   "outputs": [],
   "source": [
    "#max of two no.\n",
    "max= lambda a,b : a if a<b else b"
   ]
  },
  {
   "cell_type": "code",
   "execution_count": 20,
   "id": "32cd7daa-00be-4d9d-8e30-3a102fb0d4bc",
   "metadata": {},
   "outputs": [
    {
     "data": {
      "text/plain": [
       "2"
      ]
     },
     "execution_count": 20,
     "metadata": {},
     "output_type": "execute_result"
    }
   ],
   "source": [
    "max(2,3)"
   ]
  },
  {
   "cell_type": "code",
   "execution_count": 21,
   "id": "48af1845-8df4-4886-b478-538716ac9655",
   "metadata": {},
   "outputs": [],
   "source": [
    "#length of string\n",
    "s='pwskill'"
   ]
  },
  {
   "cell_type": "code",
   "execution_count": 22,
   "id": "6b5bb6f6-53b4-4660-8893-6dd4c23bc6c1",
   "metadata": {},
   "outputs": [],
   "source": [
    "s_len=lambda s: len(s)"
   ]
  },
  {
   "cell_type": "code",
   "execution_count": 23,
   "id": "2cbaeb11-ea6c-4013-8339-31d0f73c1246",
   "metadata": {},
   "outputs": [
    {
     "data": {
      "text/plain": [
       "7"
      ]
     },
     "execution_count": 23,
     "metadata": {},
     "output_type": "execute_result"
    }
   ],
   "source": [
    "s_len(s)"
   ]
  },
  {
   "cell_type": "markdown",
   "id": "e70cb3ba-3524-4b46-8a2d-4436aa002ffa",
   "metadata": {},
   "source": [
    "## Map,Reduce and Filter function"
   ]
  },
  {
   "cell_type": "code",
   "execution_count": 24,
   "id": "d85cec21-da91-4102-b3f3-4d293cc75b3e",
   "metadata": {},
   "outputs": [],
   "source": [
    "l=[2,5,6,7,8]"
   ]
  },
  {
   "cell_type": "code",
   "execution_count": 28,
   "id": "75f940cf-ab64-499e-b189-c0d9747c0f8a",
   "metadata": {},
   "outputs": [],
   "source": [
    "def test(l):\n",
    "    l1=[]\n",
    "    for i in l:\n",
    "        l1.append(i**2)\n",
    "    return l1"
   ]
  },
  {
   "cell_type": "code",
   "execution_count": 29,
   "id": "92ae038c-0b3c-434c-9b99-cdfb8d5638bf",
   "metadata": {},
   "outputs": [
    {
     "data": {
      "text/plain": [
       "[4, 25, 36, 49, 64]"
      ]
     },
     "execution_count": 29,
     "metadata": {},
     "output_type": "execute_result"
    }
   ],
   "source": [
    "test(l)"
   ]
  },
  {
   "cell_type": "code",
   "execution_count": 32,
   "id": "4844779b-9517-41c3-bff7-4d9bbf437b3a",
   "metadata": {},
   "outputs": [],
   "source": [
    "def sq(x):\n",
    "    return x**2"
   ]
  },
  {
   "cell_type": "markdown",
   "id": "74e49d29-d67b-4433-83a9-222cbb238374",
   "metadata": {},
   "source": [
    "## Map"
   ]
  },
  {
   "cell_type": "code",
   "execution_count": 46,
   "id": "df6f2f64-4202-435f-9b43-3f1cf5e393a5",
   "metadata": {},
   "outputs": [
    {
     "data": {
      "text/plain": [
       "[4, 25, 36, 49, 64]"
      ]
     },
     "execution_count": 46,
     "metadata": {},
     "output_type": "execute_result"
    }
   ],
   "source": [
    "# map function just do mapping of elements inside a list\n",
    "list(map(sq,l))"
   ]
  },
  {
   "cell_type": "code",
   "execution_count": 47,
   "id": "75cdfc46-bf64-4a81-8be8-561280b34ca7",
   "metadata": {},
   "outputs": [
    {
     "data": {
      "text/plain": [
       "[4, 25, 36, 49, 64]"
      ]
     },
     "execution_count": 47,
     "metadata": {},
     "output_type": "execute_result"
    }
   ],
   "source": [
    "list(map(lambda x: x**2,l))"
   ]
  },
  {
   "cell_type": "code",
   "execution_count": 48,
   "id": "ae2aa478-d55c-471a-9f56-d8fb759324c6",
   "metadata": {},
   "outputs": [
    {
     "data": {
      "text/plain": [
       "[12, 15, 16, 17, 18]"
      ]
     },
     "execution_count": 48,
     "metadata": {},
     "output_type": "execute_result"
    }
   ],
   "source": [
    "list(map(lambda x: x+10,l))"
   ]
  },
  {
   "cell_type": "code",
   "execution_count": 49,
   "id": "eba71dc9-7278-4926-9017-1884c1b834aa",
   "metadata": {},
   "outputs": [
    {
     "data": {
      "text/plain": [
       "['2', '5', '6', '7', '8']"
      ]
     },
     "execution_count": 49,
     "metadata": {},
     "output_type": "execute_result"
    }
   ],
   "source": [
    "list(map(lambda x: str(x),l))"
   ]
  },
  {
   "cell_type": "code",
   "execution_count": 50,
   "id": "6f29ce8c-4da0-45b0-a531-26a0602fda0a",
   "metadata": {},
   "outputs": [],
   "source": [
    "l1=[1,2,3,4]\n",
    "l2=[9,8,7,6]"
   ]
  },
  {
   "cell_type": "code",
   "execution_count": 51,
   "id": "d792e5f1-0437-4262-9f1f-5fcd0318bb06",
   "metadata": {},
   "outputs": [
    {
     "data": {
      "text/plain": [
       "[10, 10, 10, 10]"
      ]
     },
     "execution_count": 51,
     "metadata": {},
     "output_type": "execute_result"
    }
   ],
   "source": [
    "list(map(lambda x,y: x+y ,l1,l2))"
   ]
  },
  {
   "cell_type": "code",
   "execution_count": 52,
   "id": "afed5240-79f3-417d-a553-733afc23706b",
   "metadata": {},
   "outputs": [],
   "source": [
    "f= lambda x,y: y-x "
   ]
  },
  {
   "cell_type": "code",
   "execution_count": 53,
   "id": "ade2da6d-a1de-437e-bf0c-efacd47d9e3d",
   "metadata": {},
   "outputs": [
    {
     "data": {
      "text/plain": [
       "[8, 6, 4, 2]"
      ]
     },
     "execution_count": 53,
     "metadata": {},
     "output_type": "execute_result"
    }
   ],
   "source": [
    "list(map(f ,l1,l2))"
   ]
  },
  {
   "cell_type": "code",
   "execution_count": 54,
   "id": "5bc98334-5e52-4b08-883e-eff1311ddc04",
   "metadata": {},
   "outputs": [],
   "source": [
    "s='pwskill'"
   ]
  },
  {
   "cell_type": "code",
   "execution_count": 55,
   "id": "349f912f-7731-4f8b-88fd-8c059c48d563",
   "metadata": {},
   "outputs": [
    {
     "data": {
      "text/plain": [
       "['P', 'W', 'S', 'K', 'I', 'L', 'L']"
      ]
     },
     "execution_count": 55,
     "metadata": {},
     "output_type": "execute_result"
    }
   ],
   "source": [
    "list(map(lambda x: x.upper(),s))"
   ]
  },
  {
   "cell_type": "markdown",
   "id": "ee520acf-d271-4dae-b15d-6d640240ea8f",
   "metadata": {},
   "source": [
    "## Reduce\n",
    "reduce the iterables"
   ]
  },
  {
   "cell_type": "code",
   "execution_count": 56,
   "id": "4829e232-937b-4d39-9e3e-440f908b64d5",
   "metadata": {},
   "outputs": [],
   "source": [
    "l=[4,7,8,1,2]"
   ]
  },
  {
   "cell_type": "code",
   "execution_count": 59,
   "id": "a1fc8492-1821-47e9-8cb3-bf959d20f9f7",
   "metadata": {},
   "outputs": [],
   "source": [
    "from functools import reduce"
   ]
  },
  {
   "cell_type": "code",
   "execution_count": 63,
   "id": "9102c2d2-cf20-4fb6-9764-c0fffcfd0e0b",
   "metadata": {},
   "outputs": [
    {
     "data": {
      "text/plain": [
       "22"
      ]
     },
     "execution_count": 63,
     "metadata": {},
     "output_type": "execute_result"
    }
   ],
   "source": [
    "reduce(lambda x,y: x+y ,l)"
   ]
  },
  {
   "cell_type": "code",
   "execution_count": 64,
   "id": "6138e053-5c1f-4a46-b4b6-7ff60797d851",
   "metadata": {},
   "outputs": [],
   "source": [
    "def test(x,y):\n",
    "    return x+y"
   ]
  },
  {
   "cell_type": "code",
   "execution_count": 65,
   "id": "8043f0f5-692b-4455-b348-f790f7055bdc",
   "metadata": {},
   "outputs": [
    {
     "data": {
      "text/plain": [
       "22"
      ]
     },
     "execution_count": 65,
     "metadata": {},
     "output_type": "execute_result"
    }
   ],
   "source": [
    "reduce(test, l)"
   ]
  },
  {
   "cell_type": "code",
   "execution_count": 67,
   "id": "7bca38e9-875f-4382-9639-591b17e33b40",
   "metadata": {},
   "outputs": [
    {
     "data": {
      "text/plain": [
       "8"
      ]
     },
     "execution_count": 67,
     "metadata": {},
     "output_type": "execute_result"
    }
   ],
   "source": [
    "reduce(lambda x,y: x if x>y else y,l)"
   ]
  },
  {
   "cell_type": "markdown",
   "id": "443b1c62-a591-48cf-8ab7-b0703de4629e",
   "metadata": {},
   "source": [
    "## Filter"
   ]
  },
  {
   "cell_type": "code",
   "execution_count": 69,
   "id": "a05caccf-b998-448e-864d-3de2e79b079c",
   "metadata": {},
   "outputs": [
    {
     "data": {
      "text/plain": [
       "[4, 8, 2]"
      ]
     },
     "execution_count": 69,
     "metadata": {},
     "output_type": "execute_result"
    }
   ],
   "source": [
    "list(filter(lambda x: x%2==0, l))"
   ]
  },
  {
   "cell_type": "code",
   "execution_count": 70,
   "id": "929273f7-53ba-45a1-81d9-6e1662167182",
   "metadata": {},
   "outputs": [],
   "source": [
    "l1=[-1,3,5,-6,2]"
   ]
  },
  {
   "cell_type": "code",
   "execution_count": 71,
   "id": "9bf92a34-ad38-4948-ac83-92d3e8f5f5a9",
   "metadata": {},
   "outputs": [
    {
     "data": {
      "text/plain": [
       "[3, 5, 2]"
      ]
     },
     "execution_count": 71,
     "metadata": {},
     "output_type": "execute_result"
    }
   ],
   "source": [
    "list(filter(lambda x: x>0, l1))"
   ]
  },
  {
   "cell_type": "code",
   "execution_count": 72,
   "id": "7eeb9df3-2f7e-48c0-ba3d-375b3e3bc8a7",
   "metadata": {},
   "outputs": [
    {
     "data": {
      "text/plain": [
       "[-1, -6]"
      ]
     },
     "execution_count": 72,
     "metadata": {},
     "output_type": "execute_result"
    }
   ],
   "source": [
    "list(filter(lambda x: x<0, l1))"
   ]
  },
  {
   "cell_type": "code",
   "execution_count": 73,
   "id": "404d6429-6eb6-4585-8116-30e815792e4b",
   "metadata": {},
   "outputs": [],
   "source": [
    "l3=['pwskill','courses','data sciemce']"
   ]
  },
  {
   "cell_type": "code",
   "execution_count": 78,
   "id": "81bbcab4-2141-4e75-8cde-26c0c8d84bae",
   "metadata": {},
   "outputs": [
    {
     "data": {
      "text/plain": [
       "['data sciemce']"
      ]
     },
     "execution_count": 78,
     "metadata": {},
     "output_type": "execute_result"
    }
   ],
   "source": [
    "list(filter(lambda x: len(x) >7 ,l3))"
   ]
  },
  {
   "cell_type": "code",
   "execution_count": null,
   "id": "af95dcaf-2196-4453-8dcf-cc24e56b455e",
   "metadata": {},
   "outputs": [],
   "source": []
  }
 ],
 "metadata": {
  "kernelspec": {
   "display_name": "Python 3 (ipykernel)",
   "language": "python",
   "name": "python3"
  },
  "language_info": {
   "codemirror_mode": {
    "name": "ipython",
    "version": 3
   },
   "file_extension": ".py",
   "mimetype": "text/x-python",
   "name": "python",
   "nbconvert_exporter": "python",
   "pygments_lexer": "ipython3",
   "version": "3.10.8"
  }
 },
 "nbformat": 4,
 "nbformat_minor": 5
}
