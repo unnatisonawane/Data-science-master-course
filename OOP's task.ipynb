{
 "cells": [
  {
   "cell_type": "markdown",
   "id": "d27baa58-4d1d-4550-a339-24131eb18c62",
   "metadata": {},
   "source": [
    "Q1, Create a vehicle class with an init method having instance variables as name_of_vehicle, max_speed\n",
    "and average_of_vehicle."
   ]
  },
  {
   "cell_type": "code",
   "execution_count": 15,
   "id": "fce60473-e07a-405e-8a63-711c6dbaa809",
   "metadata": {},
   "outputs": [
    {
     "name": "stdout",
     "output_type": "stream",
     "text": [
      "innova\n",
      "150\n",
      "200\n"
     ]
    }
   ],
   "source": [
    "class vehicle():\n",
    "    def __init__(self,name_of_vehicle,max_speed,average_of_vehicle):\n",
    "        self.name_of_vehicle=name_of_vehicle\n",
    "        self.max_speed=max_speed\n",
    "        self.average_of_vehicle=average_of_vehicle\n",
    "        \n",
    "model=vehicle('innova',150,200)\n",
    "print(model.name_of_vehicle)\n",
    "print(model.max_speed)\n",
    "print(model.average_of_vehicle)"
   ]
  },
  {
   "cell_type": "markdown",
   "id": "38259554-2dda-43f6-84be-c4a3ad0b3231",
   "metadata": {},
   "source": [
    "Q2. Create a child class car from the vehicle class created in Que 1, which will inherit the vehicle class.\n",
    "Create a method named seating_capacity which takes capacity as an argument and returns the name of\n",
    "the vehicle and its seating capacity."
   ]
  },
  {
   "cell_type": "code",
   "execution_count": 24,
   "id": "46c49cb4-24a3-4915-9e5a-f59eee79b139",
   "metadata": {},
   "outputs": [],
   "source": [
    "class car(vehicle):\n",
    "    def seating_capacity(self,capacity):\n",
    "        return f\"{self.name_of_vehicle} has a seating capacity of {capacity} passengers.\"\n"
   ]
  },
  {
   "cell_type": "code",
   "execution_count": 25,
   "id": "4dcbb714-82f5-4b3c-aa01-ee2cf7ffd378",
   "metadata": {},
   "outputs": [
    {
     "name": "stdout",
     "output_type": "stream",
     "text": [
      "innova has a seating capacity of 5 passengers.\n"
     ]
    }
   ],
   "source": [
    "Car=car('innova',150,200)\n",
    "print(Car.seating_capacity(5))"
   ]
  },
  {
   "cell_type": "markdown",
   "id": "a7b5cf6c-5fd6-43f4-a860-3de4794bc91a",
   "metadata": {},
   "source": [
    "Q3. What is multiple inheritance? Write a python code to demonstrate multiple inheritance.\n",
    "   \n",
    "   Multiple inheritance is a feature in object-oriented programming (OOP) where a class can inherit properties and behavior from multiple parent classes. In other words, a child class can have more than one parent class."
   ]
  },
  {
   "cell_type": "code",
   "execution_count": 30,
   "id": "c794dd54-ea26-4f84-975b-a2b2eaec9cb4",
   "metadata": {},
   "outputs": [],
   "source": [
    "class data_science():\n",
    "    def ML(self):\n",
    "        print('ML  course is under data science ')\n",
    "        \n",
    "class web_dev():\n",
    "    def backened(self):\n",
    "        print('backened is under web_dev')\n",
    "        \n",
    "class NLP(data_science,web_dev):\n",
    "    pass"
   ]
  },
  {
   "cell_type": "code",
   "execution_count": 31,
   "id": "74548513-7efd-4b4f-9950-0a0d59e936bf",
   "metadata": {},
   "outputs": [],
   "source": [
    "obj_NLP=NLP()"
   ]
  },
  {
   "cell_type": "code",
   "execution_count": 32,
   "id": "68d95228-282a-48df-a448-67675e43ae65",
   "metadata": {},
   "outputs": [
    {
     "name": "stdout",
     "output_type": "stream",
     "text": [
      "ML  course is under data science \n"
     ]
    }
   ],
   "source": [
    "obj_NLP.ML()"
   ]
  },
  {
   "cell_type": "markdown",
   "id": "c4ad2926-3e4e-4201-ac9e-2b876cda87d1",
   "metadata": {},
   "source": [
    "Q4. What are getter and setter in python? Create a class and create a getter and a setter method in this\n",
    "class.\n",
    "\n",
    "Use the getter method to access data members and the setter methods to modify the data members."
   ]
  },
  {
   "cell_type": "code",
   "execution_count": 39,
   "id": "5a999252-15d1-4c82-9e06-89c53279139b",
   "metadata": {},
   "outputs": [
    {
     "name": "stdout",
     "output_type": "stream",
     "text": [
      "Name: unnati 28\n",
      "Name: unnati 25\n"
     ]
    }
   ],
   "source": [
    "class Student:\n",
    "    def __init__(self, name, age):\n",
    "        # private member\n",
    "        self.name = name\n",
    "        self.age = age\n",
    "\n",
    "    # getter method\n",
    "    def get_age(self):\n",
    "        return self.age\n",
    "\n",
    "    # setter method\n",
    "    def set_age(self, age):\n",
    "        self.age = age\n",
    "\n",
    "stud = Student('unnati', 28)\n",
    "\n",
    "# retrieving age using getter\n",
    "print('Name:', stud.name, stud.get_age())\n",
    "\n",
    "# changing age using setter\n",
    "stud.set_age(25)\n",
    "\n",
    "# retrieving age using getter\n",
    "print('Name:', stud.name, stud.get_age())"
   ]
  },
  {
   "cell_type": "markdown",
   "id": "5fb71c0c-6b73-47cc-a7ab-ad2178d12b77",
   "metadata": {},
   "source": [
    "Q5.What is method overriding in python? Write a python code to demonstrate method overriding.\n",
    "\n",
    " In Python, method overriding is achieved by redefining a method in the child class with the same name as the method in the parent class."
   ]
  },
  {
   "cell_type": "code",
   "execution_count": 40,
   "id": "87764c85-d418-4c2b-af26-9b4b4b534e2c",
   "metadata": {},
   "outputs": [
    {
     "name": "stdout",
     "output_type": "stream",
     "text": [
      "The animal makes a sound.\n",
      "The dog barks.\n"
     ]
    }
   ],
   "source": [
    "class Animal:\n",
    "    def speak(self):\n",
    "        print(\"The animal makes a sound.\")\n",
    "\n",
    "class Dog(Animal):\n",
    "    def speak(self):\n",
    "        print(\"The dog barks.\")\n",
    "\n",
    "a = Animal()\n",
    "d = Dog()\n",
    "\n",
    "a.speak()  \n",
    "d.speak()"
   ]
  },
  {
   "cell_type": "code",
   "execution_count": null,
   "id": "981aa3e2-f7d0-43cd-8874-9443fbf87d30",
   "metadata": {},
   "outputs": [],
   "source": []
  }
 ],
 "metadata": {
  "kernelspec": {
   "display_name": "Python 3 (ipykernel)",
   "language": "python",
   "name": "python3"
  },
  "language_info": {
   "codemirror_mode": {
    "name": "ipython",
    "version": 3
   },
   "file_extension": ".py",
   "mimetype": "text/x-python",
   "name": "python",
   "nbconvert_exporter": "python",
   "pygments_lexer": "ipython3",
   "version": "3.10.8"
  }
 },
 "nbformat": 4,
 "nbformat_minor": 5
}
