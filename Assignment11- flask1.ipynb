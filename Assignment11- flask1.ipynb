{
 "cells": [
  {
   "cell_type": "markdown",
   "id": "18f2841d-d257-4fd1-adbb-d27496cb3413",
   "metadata": {},
   "source": [
    "## Q1. What is Flask Framework? What are the advantages of Flask Framework?"
   ]
  },
  {
   "cell_type": "markdown",
   "id": "e1bbd5c8-1fa8-4f7a-839e-de78b435218d",
   "metadata": {},
   "source": [
    "Flask is a lightweight web framework written in Python. It is designed to be simple, flexible, and easy to use, making it a popular choice for developing web applications and APIs.\n",
    "\n",
    "Advantages:\n",
    "1. Flask provides a solid foundation for building web applications. It handles the low-level details of web development, such as routing URLs to functions, managing sessions, handling request/response cycles, and more.\n",
    "\n",
    "2. Flask follows a minimalistic approach, allowing developers to add only the features they need.\n",
    "\n",
    "3. Flask is known for its simplicity and ease of use.\n",
    "\n",
    "4. Flask is highly extensible and customizable. It provides a modular design, allowing developers to add or remove components based on their project requirements.\n",
    "\n",
    "5. Flask integrates well with other Python libraries and tools, leveraging the rich Python ecosystem.\n",
    "\n",
    "6. The lightweight nature of Flask contributes to its performance and efficiency. "
   ]
  },
  {
   "cell_type": "markdown",
   "id": "2e58843e-152d-4fc0-b6c6-bdfe41a1f0aa",
   "metadata": {},
   "source": [
    "## Q2. Create a simple Flask application to display ‘Hello World!!’. Attach the screenshot of the output in Jupyter Notebook."
   ]
  },
  {
   "attachments": {
    "a8325c90-974b-464f-9ea2-e8421358369b.PNG": {
     "image/png": "[encoded data removed]"
    }
   },
   "cell_type": "markdown",
   "id": "a0080513-d752-48f4-ab71-1d2f6d274e39",
   "metadata": {},
   "source": [
    "![helloworld.PNG](attachment:a8325c90-974b-464f-9ea2-e8421358369b.PNG)"
   ]
  },
  {
   "cell_type": "markdown",
   "id": "61cc821d-0c1f-4e5f-bb6c-4f7f8a6a99f6",
   "metadata": {},
   "source": [
    "## Q3. What is App routing in Flask? Why do we use app routes?"
   ]
  },
  {
   "cell_type": "markdown",
   "id": "4bec78c4-164d-4a80-b084-da3c51f9da94",
   "metadata": {},
   "source": [
    "In Flask, app routing refers to the process of mapping URLs to specific functions or view handlers within a web application. It allows you to define different routes for different URLs and specify the corresponding functions that should be executed when those URLs are accessed.\n",
    "\n",
    "It is used for:\n",
    "1. App routing is crucial because it allows you to create distinct endpoints within your web application. \n",
    "2. It enables you to handle different requests and serve different content based on the URL requested by the client. \n",
    "3. By defining routes, you can organize your application's functionality and provide appropriate responses to user interactions.\n",
    "4. App routing also helps in creating RESTful APIs, implementing different views for different pages, and building a clean and structured URL hierarchy for your web application."
   ]
  },
  {
   "cell_type": "markdown",
   "id": "a53897bc-2a88-435b-8ae8-5e97299a7cae",
   "metadata": {},
   "source": [
    "## Q4. Create a “/welcome” route to display the welcome message “Welcome to ABC Corporation” and a “/” route to show the following details:\n",
    "Company Name: ABC Corporation\n",
    "Location: India\n",
    "Contact Detail: 999-999-9999"
   ]
  },
  {
   "attachments": {
    "a390d1aa-18bb-49b5-a155-eed17ecb3597.PNG": {
     "image/png": "[encoded data removed]"
    }
   },
   "cell_type": "markdown",
   "id": "9395fe9e-e205-4e8d-b774-3b54d250741a",
   "metadata": {},
   "source": [
    "![flask2.PNG](attachment:a390d1aa-18bb-49b5-a155-eed17ecb3597.PNG)"
   ]
  },
  {
   "cell_type": "markdown",
   "id": "b1da7e30-5958-4299-aec1-c6244a08118e",
   "metadata": {},
   "source": [
    "## Q5. What function is used in Flask for URL Building? Write a Python code to demonstrate the working of the url_for() function."
   ]
  },
  {
   "cell_type": "markdown",
   "id": "1b69d0f1-08bc-4070-889e-7b9b3a674329",
   "metadata": {},
   "source": [
    "In Flask, the url_for() function is used for URL building. It is a powerful function that generates a URL for a specific route based on its name and any associated parameters."
   ]
  },
  {
   "cell_type": "code",
   "execution_count": 2,
   "id": "e338a671-e68b-45a9-9a8d-ca6631a373ba",
   "metadata": {},
   "outputs": [
    {
     "name": "stdout",
     "output_type": "stream",
     "text": [
      "Collecting flask\n",
      "  Downloading Flask-2.3.2-py3-none-any.whl (96 kB)\n",
      "\u001b[2K     \u001b[90m━━━━━━━━━━━━━━━━━━━━━━━━━━━━━━━━━━━━━━━━\u001b[0m \u001b[32m96.9/96.9 kB\u001b[0m \u001b[31m5.2 MB/s\u001b[0m eta \u001b[36m0:00:00\u001b[0m\n",
      "\u001b[?25hCollecting blinker>=1.6.2\n",
      "  Downloading blinker-1.6.2-py3-none-any.whl (13 kB)\n",
      "Requirement already satisfied: click>=8.1.3 in /opt/conda/lib/python3.10/site-packages (from flask) (8.1.3)\n",
      "Collecting itsdangerous>=2.1.2\n",
      "  Downloading itsdangerous-2.1.2-py3-none-any.whl (15 kB)\n",
      "Collecting Werkzeug>=2.3.3\n",
      "  Downloading Werkzeug-2.3.4-py3-none-any.whl (242 kB)\n",
      "\u001b[2K     \u001b[90m━━━━━━━━━━━━━━━━━━━━━━━━━━━━━━━━━━━━━━\u001b[0m \u001b[32m242.5/242.5 kB\u001b[0m \u001b[31m30.1 MB/s\u001b[0m eta \u001b[36m0:00:00\u001b[0m\n",
      "\u001b[?25hRequirement already satisfied: Jinja2>=3.1.2 in /opt/conda/lib/python3.10/site-packages (from flask) (3.1.2)\n",
      "Requirement already satisfied: MarkupSafe>=2.0 in /opt/conda/lib/python3.10/site-packages (from Jinja2>=3.1.2->flask) (2.1.1)\n",
      "Installing collected packages: Werkzeug, itsdangerous, blinker, flask\n",
      "  Attempting uninstall: blinker\n",
      "    Found existing installation: blinker 1.5\n",
      "    Uninstalling blinker-1.5:\n",
      "      Successfully uninstalled blinker-1.5\n",
      "Successfully installed Werkzeug-2.3.4 blinker-1.6.2 flask-2.3.2 itsdangerous-2.1.2\n",
      "Note: you may need to restart the kernel to use updated packages.\n"
     ]
    }
   ],
   "source": [
    "pip install flask"
   ]
  },
  {
   "cell_type": "code",
   "execution_count": 3,
   "id": "2114d698-8ea7-428e-92f7-b1862b153a7c",
   "metadata": {},
   "outputs": [
    {
     "name": "stdout",
     "output_type": "stream",
     "text": [
      "/\n",
      "/about\n",
      "/contact\n"
     ]
    }
   ],
   "source": [
    "from flask import Flask, url_for\n",
    "\n",
    "app = Flask(__name__)\n",
    "\n",
    "@app.route('/')\n",
    "def index():\n",
    "    return 'Welcome to the homepage!'\n",
    "\n",
    "@app.route('/about')\n",
    "def about():\n",
    "    return 'This is the about page.'\n",
    "\n",
    "@app.route('/contact')\n",
    "def contact():\n",
    "    return 'You can reach us at contact@example.com.'\n",
    "\n",
    "if __name__ == '__main__':\n",
    "    with app.test_request_context():\n",
    "        print(url_for('index'))\n",
    "        print(url_for('about'))\n",
    "        print(url_for('contact'))"
   ]
  },
  {
   "cell_type": "code",
   "execution_count": null,
   "id": "ae129016-d9fe-4429-8e89-6bffeb2abd6b",
   "metadata": {},
   "outputs": [],
   "source": []
  }
 ],
 "metadata": {
  "kernelspec": {
   "display_name": "Python 3 (ipykernel)",
   "language": "python",
   "name": "python3"
  },
  "language_info": {
   "codemirror_mode": {
    "name": "ipython",
    "version": 3
   },
   "file_extension": ".py",
   "mimetype": "text/x-python",
   "name": "python",
   "nbconvert_exporter": "python",
   "pygments_lexer": "ipython3",
   "version": "3.10.8"
  }
 },
 "nbformat": 4,
 "nbformat_minor": 5
}
