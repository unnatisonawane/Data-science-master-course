{
 "cells": [
  {
   "cell_type": "markdown",
   "id": "dc3fc594-dd9c-4485-99bb-0a694621d7ab",
   "metadata": {},
   "source": [
    "## Q1. Which keyword is used to create a function? Create a function to return a list of odd numbers in the range of 1 to 25.\n",
    " \n",
    "    def keyword is used to create a function"
   ]
  },
  {
   "cell_type": "code",
   "execution_count": 48,
   "id": "c8c6e519-f030-47b1-8192-8355e7d00dfc",
   "metadata": {},
   "outputs": [],
   "source": [
    "def odd_no(n):\n",
    "    return[i for i in range(n+1) if i%2!=0]\n",
    "   "
   ]
  },
  {
   "cell_type": "code",
   "execution_count": 49,
   "id": "aeb1ad8a-4596-4539-a01a-2e045bd17f6d",
   "metadata": {},
   "outputs": [
    {
     "data": {
      "text/plain": [
       "[1, 3, 5, 7, 9, 11, 13, 15, 17, 19, 21, 23, 25]"
      ]
     },
     "execution_count": 49,
     "metadata": {},
     "output_type": "execute_result"
    }
   ],
   "source": [
    "odd_no(25)"
   ]
  },
  {
   "cell_type": "markdown",
   "id": "879e04b3-345e-4a40-9b11-5419a89697af",
   "metadata": {},
   "source": [
    "## Q2. Why *args and **kwargs is used in some functions? Create a function each for *args and **kwargs to demonstrate their use.\n",
    "    *args and **kwargs allow to pass any number of arguments to a function\n",
    "    *args is used to pass a non-keyworded, variable-length argument list. \n",
    "    **kwargs is used to pass a keyworded, variable-length argument list. "
   ]
  },
  {
   "cell_type": "code",
   "execution_count": 50,
   "id": "8a50043f-5957-48c7-90f0-bcd2089a840a",
   "metadata": {},
   "outputs": [],
   "source": [
    "def test1(*args):\n",
    "    return args"
   ]
  },
  {
   "cell_type": "code",
   "execution_count": 51,
   "id": "e4d4df14-7cd5-4e24-a638-ca194a5c9a04",
   "metadata": {},
   "outputs": [
    {
     "data": {
      "text/plain": [
       "('pwskill', 'assignment', 2)"
      ]
     },
     "execution_count": 51,
     "metadata": {},
     "output_type": "execute_result"
    }
   ],
   "source": [
    "test1('pwskill','assignment',2)"
   ]
  },
  {
   "cell_type": "code",
   "execution_count": 52,
   "id": "b5556b10-37d4-4cea-8df4-891afb6462d8",
   "metadata": {},
   "outputs": [],
   "source": [
    "def test2(**kwargs):\n",
    "    return kwargs"
   ]
  },
  {
   "cell_type": "code",
   "execution_count": 57,
   "id": "6ff1b3b0-af81-4ab3-8043-ff0e51cdbf10",
   "metadata": {},
   "outputs": [
    {
     "data": {
      "text/plain": [
       "{'a': 1, 'b': 2, 'c': 4, 'pwskill': 'interested', 'solving': 'assignment 2'}"
      ]
     },
     "execution_count": 57,
     "metadata": {},
     "output_type": "execute_result"
    }
   ],
   "source": [
    "test2(a=1,b=2,c=4,pwskill='interested',solving='assignment 2')"
   ]
  },
  {
   "cell_type": "markdown",
   "id": "8bb708d6-7749-4a7e-9111-4e904e692b4f",
   "metadata": {},
   "source": [
    "##  Q3. What is an iterator in python? Name the method used to initialise the iterator object and the method used for iteration. Use these methods to print the first five elements of the given list [2, 4, 6, 8, 10, 12, 14, 16,18, 20].\n",
    "\n",
    "    Iterator is an object that allows to itearte over collection of data\n",
    "    iter() and next() used to initialise the iterator object and for iteration.\n"
   ]
  },
  {
   "cell_type": "code",
   "execution_count": 58,
   "id": "7eaad167-0239-4f49-b6e3-c476f5974de6",
   "metadata": {},
   "outputs": [],
   "source": [
    "l=[2, 4, 6, 8, 10, 12, 14, 16,18, 20]"
   ]
  },
  {
   "cell_type": "code",
   "execution_count": 65,
   "id": "87bf37bc-227d-4fe9-aceb-ef4b48f9754a",
   "metadata": {},
   "outputs": [],
   "source": [
    "l1=iter(l)"
   ]
  },
  {
   "cell_type": "code",
   "execution_count": 66,
   "id": "eeb6fbb2-65d1-485b-81e5-ea4474e9f7a0",
   "metadata": {},
   "outputs": [
    {
     "name": "stdout",
     "output_type": "stream",
     "text": [
      "2\n",
      "4\n",
      "6\n",
      "8\n",
      "10\n"
     ]
    }
   ],
   "source": [
    "print(next(l1))\n",
    "print(next(l1))\n",
    "print(next(l1))\n",
    "print(next(l1))\n",
    "print(next(l1))\n"
   ]
  },
  {
   "cell_type": "markdown",
   "id": "ec1aa0b3-9bc2-40df-80d5-e253a3c2a07b",
   "metadata": {},
   "source": [
    "## Q4. What is a generator function in python? Why yield keyword is used? Give an example of a generator function.\n",
    "    1. A generator function is a function that returns an iterator that produces a sequence of values when iterated over\n",
    "    2. yield statement pauses the execution of the function.\n",
    "    3. yield statements are executed when the function resumes its execution.\n",
    "    4. used yield when we want to iterate over a sequence, but don't want to store the entire sequence in memory. "
   ]
  },
  {
   "cell_type": "code",
   "execution_count": 73,
   "id": "9efb3a42-4aed-434e-b786-14e8022206de",
   "metadata": {},
   "outputs": [],
   "source": [
    "## generator to print even numbers\n",
    "list1=[1,2,3,4,5,6,7,8,9,10]\n",
    "def even_list(n):\n",
    "    for i in n:\n",
    "        if i%2==0:\n",
    "            yield i"
   ]
  },
  {
   "cell_type": "code",
   "execution_count": 74,
   "id": "cddd7fa5-aa98-4499-a983-09f337e50b8b",
   "metadata": {},
   "outputs": [
    {
     "data": {
      "text/plain": [
       "<generator object even_list at 0x7f85f0078740>"
      ]
     },
     "execution_count": 74,
     "metadata": {},
     "output_type": "execute_result"
    }
   ],
   "source": [
    "even_list(list1)"
   ]
  },
  {
   "cell_type": "code",
   "execution_count": 75,
   "id": "78d9e348-5002-4505-9834-f5d950ff4f4c",
   "metadata": {},
   "outputs": [
    {
     "name": "stdout",
     "output_type": "stream",
     "text": [
      "2\n",
      "4\n",
      "6\n",
      "8\n",
      "10\n"
     ]
    }
   ],
   "source": [
    "for j in even_list(list1):\n",
    "    print(j)"
   ]
  },
  {
   "cell_type": "markdown",
   "id": "71353fc8-a2b7-4b03-bbf3-56bd916ef70b",
   "metadata": {},
   "source": [
    "## Q5. Create a generator function for prime numbers less than 1000. Use the next() method to print the first 20 prime numbers."
   ]
  },
  {
   "cell_type": "code",
   "execution_count": 113,
   "id": "6cdff716-f806-4ede-b067-ca87a68186e2",
   "metadata": {},
   "outputs": [
    {
     "name": "stdout",
     "output_type": "stream",
     "text": [
      "2\n",
      "3\n",
      "5\n",
      "7\n",
      "11\n",
      "13\n",
      "17\n",
      "19\n",
      "23\n",
      "29\n",
      "31\n",
      "37\n",
      "41\n",
      "43\n",
      "47\n",
      "53\n",
      "59\n",
      "61\n",
      "67\n",
      "71\n"
     ]
    }
   ],
   "source": [
    "def primes():\n",
    "    \"\"\"\n",
    "    Generator function for prime numbers less than 1000\n",
    "    \"\"\"\n",
    "    for num in range(2, 1000):\n",
    "        # check if num is prime\n",
    "        for i in range(2, num):\n",
    "            if num % i == 0:\n",
    "                break\n",
    "        else:\n",
    "            yield num\n",
    "\n",
    "# Call the generator function and print the first 20 prime numbers using next()\n",
    "prime_gen = primes()\n",
    "for i in range(20):\n",
    "    print(next(prime_gen))\n",
    "\n"
   ]
  },
  {
   "cell_type": "code",
   "execution_count": null,
   "id": "77c2e920-c277-46a7-b3eb-49caaf55266a",
   "metadata": {},
   "outputs": [],
   "source": []
  }
 ],
 "metadata": {
  "kernelspec": {
   "display_name": "Python 3 (ipykernel)",
   "language": "python",
   "name": "python3"
  },
  "language_info": {
   "codemirror_mode": {
    "name": "ipython",
    "version": 3
   },
   "file_extension": ".py",
   "mimetype": "text/x-python",
   "name": "python",
   "nbconvert_exporter": "python",
   "pygments_lexer": "ipython3",
   "version": "3.10.8"
  }
 },
 "nbformat": 4,
 "nbformat_minor": 5
}
