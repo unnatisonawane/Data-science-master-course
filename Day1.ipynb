{
 "cells": [
  {
   "cell_type": "code",
   "execution_count": 1,
   "id": "7d49654d-e386-4a37-a5b9-270d6cbfec0d",
   "metadata": {},
   "outputs": [],
   "source": [
    "a=10"
   ]
  },
  {
   "cell_type": "code",
   "execution_count": 2,
   "id": "14e65da8-8655-438f-88cc-125c5637e1e3",
   "metadata": {},
   "outputs": [],
   "source": [
    "a='c'"
   ]
  },
  {
   "cell_type": "code",
   "execution_count": 3,
   "id": "aa189115-2e3a-4f1b-927c-0568cc794ae5",
   "metadata": {},
   "outputs": [
    {
     "data": {
      "text/plain": [
       "str"
      ]
     },
     "execution_count": 3,
     "metadata": {},
     "output_type": "execute_result"
    }
   ],
   "source": [
    "type(a)"
   ]
  },
  {
   "cell_type": "code",
   "execution_count": 4,
   "id": "22f9178b-267f-4a93-9d24-6a718b45a346",
   "metadata": {},
   "outputs": [
    {
     "data": {
      "text/plain": [
       "123"
      ]
     },
     "execution_count": 4,
     "metadata": {},
     "output_type": "execute_result"
    }
   ],
   "source": [
    "int('123')"
   ]
  },
  {
   "cell_type": "code",
   "execution_count": 5,
   "id": "81259eec-cd72-4732-8233-b095e97757be",
   "metadata": {},
   "outputs": [
    {
     "name": "stdout",
     "output_type": "stream",
     "text": [
      "Hello World\n"
     ]
    }
   ],
   "source": [
    "print(\"Hello World\")"
   ]
  },
  {
   "cell_type": "code",
   "execution_count": 6,
   "id": "5ebf2c90-2b10-47ac-af99-705396c656b9",
   "metadata": {},
   "outputs": [
    {
     "name": "stdout",
     "output_type": "stream",
     "text": [
      "123\n"
     ]
    }
   ],
   "source": [
    "print(123)"
   ]
  },
  {
   "cell_type": "code",
   "execution_count": 8,
   "id": "111fbcfc-cdc8-4a7f-be0b-8ca602883a69",
   "metadata": {},
   "outputs": [
    {
     "name": "stdout",
     "output_type": "stream",
     "text": [
      "My age is: 26\n"
     ]
    }
   ],
   "source": [
    "age=26\n",
    "print(\"My age is:\",age)"
   ]
  },
  {
   "cell_type": "code",
   "execution_count": 9,
   "id": "ec9c40c7-f8e2-4d99-a35c-302da52e7aac",
   "metadata": {},
   "outputs": [
    {
     "name": "stdout",
     "output_type": "stream",
     "text": [
      "My age is: 26\n"
     ]
    }
   ],
   "source": [
    "##  f string\n",
    "print(f\"My age is: {age}\")"
   ]
  },
  {
   "cell_type": "code",
   "execution_count": 11,
   "id": "f7a537eb-ef10-4561-9816-208d131976ed",
   "metadata": {},
   "outputs": [
    {
     "name": "stdout",
     "output_type": "stream",
     "text": [
      "My name is unna and age is 26\n"
     ]
    }
   ],
   "source": [
    "## format()\n",
    "name=\"unna\"\n",
    "age=26\n",
    "print(\"My name is {} and age is {}\".format(name,age))"
   ]
  },
  {
   "cell_type": "code",
   "execution_count": 12,
   "id": "3888cb10-f828-4eb6-a61f-1a54196812d0",
   "metadata": {},
   "outputs": [
    {
     "name": "stdout",
     "output_type": "stream",
     "text": [
      "My name is unna and age is 26\n"
     ]
    }
   ],
   "source": [
    "##placeholder\n",
    "print(\"My name is {firstname} and age is {firstage}\".format(firstage=age,firstname=name))"
   ]
  },
  {
   "cell_type": "code",
   "execution_count": 14,
   "id": "a6f0b26d-e953-4c9a-8901-b77105402fa9",
   "metadata": {},
   "outputs": [
    {
     "name": "stdout",
     "output_type": "stream",
     "text": [
      "My age is 26 and i have completed: my degree msc with the name of unna \n"
     ]
    }
   ],
   "source": [
    "name=\"unna \"\n",
    "age=26\n",
    "degree=\"msc\"\n",
    "print(\"My age is {} and i have completed: my degree {} with the name of {}\".format(age,degree,name))"
   ]
  },
  {
   "cell_type": "code",
   "execution_count": 24,
   "id": "4ddd43f7-61fb-4de2-9265-7bbc54153e54",
   "metadata": {},
   "outputs": [
    {
     "name": "stdout",
     "output_type": "stream",
     "text": [
      "My age is 26 and I have completed: my degree of msc with the name of unna \n"
     ]
    }
   ],
   "source": [
    "print(f\"My age is {age} and I have completed: my degree of {degree} with the name of {name}\")"
   ]
  },
  {
   "cell_type": "markdown",
   "id": "2335558b-4729-4a39-96c8-80a5d1ad5ab7",
   "metadata": {},
   "source": [
    "# Control Flow\n",
    "   **Here, we are going to review and learn the most fundamentals of Python control flow: Decision making statement and loops.**\n"
   ]
  },
  {
   "cell_type": "markdown",
   "id": "8aa95d2b-359d-44ef-a23e-54ae9fdaa3ea",
   "metadata": {},
   "source": [
    "## Control Flow\n",
    "### Decision Making statements\n",
    "    * It is kind of making decision during occurred situation of program execution and action can be taken according to specified conditions.\n",
    "    * Structure of decision making evaluate several expressions that provide True or False as a result.\n",
    "    * It is up to you to decide which type of action want to take and execute the statements based upon True and False.\n",
    "   \n",
    "**These are several topics of decision making which going to be discussed below:**\n",
    "   1. **if**\n",
    "   2. **if else** \n",
    "   3. **if elif else**\n",
    "   4. **Nested if**\n",
    "   5. **Single Statement Suites**"
   ]
  },
  {
   "cell_type": "markdown",
   "id": "6d4377df-9f89-4541-b74d-c4f8974f6ee1",
   "metadata": {},
   "source": [
    "### 4.1.1 If statement\n",
    "   - In python `if` statement is same as other languages.\n",
    "   - It is having a logical expression where data is getting compared and based upon comparison result a decision is made.\n",
    "   \n",
    "**Examples**"
   ]
  },
  {
   "cell_type": "code",
   "execution_count": 3,
   "id": "a5043602-4646-42f7-a65b-3de9dea123c4",
   "metadata": {},
   "outputs": [
    {
     "name": "stdout",
     "output_type": "stream",
     "text": [
      "You are eligible to vote\n"
     ]
    }
   ],
   "source": [
    "## If Statements\n",
    "age=18\n",
    "if age>=18:\n",
    "    print(\"You are eligible to vote\")\n",
    "    "
   ]
  },
  {
   "cell_type": "code",
   "execution_count": 4,
   "id": "f31438b4-c346-4b3c-98b1-bdeba56222d3",
   "metadata": {},
   "outputs": [
    {
     "name": "stdout",
     "output_type": "stream",
     "text": [
      "You are not eligible to vote\n"
     ]
    }
   ],
   "source": [
    "age=17\n",
    "if age<18:\n",
    "    print(\"You are not eligible to vote\")"
   ]
  },
  {
   "cell_type": "code",
   "execution_count": 5,
   "id": "9781906e-25d2-4c72-b872-cdccc950daad",
   "metadata": {},
   "outputs": [
    {
     "name": "stdin",
     "output_type": "stream",
     "text": [
      "Enter the name 26\n"
     ]
    }
   ],
   "source": [
    "name=input(\"Enter the name\") #use to give input value"
   ]
  },
  {
   "cell_type": "code",
   "execution_count": 29,
   "id": "48fbfec6-e40f-4d4a-bba1-bb07c3577243",
   "metadata": {},
   "outputs": [
    {
     "name": "stdin",
     "output_type": "stream",
     "text": [
      "Enter your age 26\n"
     ]
    }
   ],
   "source": [
    "age=int(input(\"Enter your age\"))"
   ]
  },
  {
   "cell_type": "code",
   "execution_count": 30,
   "id": "83e7e9f6-c9da-4a68-8dee-862ae05d9c63",
   "metadata": {},
   "outputs": [],
   "source": [
    "## Take a input of age\n",
    "## check whether age >=18 and age<=45\n",
    "## display a message you are young blood"
   ]
  },
  {
   "cell_type": "code",
   "execution_count": 31,
   "id": "6bbcb4c2-f945-464a-bcf3-5bbf894bfc55",
   "metadata": {},
   "outputs": [
    {
     "name": "stdin",
     "output_type": "stream",
     "text": [
      "my age is 26\n"
     ]
    },
    {
     "name": "stdout",
     "output_type": "stream",
     "text": [
      "you are young blood\n"
     ]
    }
   ],
   "source": [
    "age=int(input('my age is'))\n",
    "if age>=18 and age<=45:\n",
    "    print('you are young blood')"
   ]
  },
  {
   "cell_type": "markdown",
   "id": "c29faa00-3cd8-445e-8e7d-69bb4e3fa0bc",
   "metadata": {},
   "source": [
    "### If-else statement\n",
    "\n",
    "   - With `if` statement an `else` statement is combined.\n",
    "   - `if-else` statement have a block of code, where `if` is executed when it is `1` or `True` and `else` when `if` is `0` or `False` \n",
    "   >**Note:** The `else` statement is consider to be an optional statement, so there could be only one `else` statement in block of code.\n",
    "   \n",
    "**Examples**"
   ]
  },
  {
   "cell_type": "code",
   "execution_count": 6,
   "id": "ed4aab82-8de3-4f7d-87f8-e5a9f8abc1a7",
   "metadata": {},
   "outputs": [
    {
     "name": "stdin",
     "output_type": "stream",
     "text": [
      "Enter the age 20\n"
     ]
    },
    {
     "name": "stdout",
     "output_type": "stream",
     "text": [
      "You are young blood\n"
     ]
    }
   ],
   "source": [
    "\n",
    "age=int(input(\"Enter the age\"))\n",
    "if  age>=18 and age <=45:\n",
    "    print(\"You are young blood\")\n",
    "else:\n",
    "    print(\"Thank you we will let you know\")"
   ]
  },
  {
   "cell_type": "code",
   "execution_count": 34,
   "id": "2b9cab6b-8f1e-4742-a04f-95aa6ea41bf9",
   "metadata": {},
   "outputs": [],
   "source": [
    "## mall - input the product price\n",
    "## product >1000 rs 20% off\n",
    "## print the product price after removing the discount\n",
    "## product <=1000 rs 30% off\n",
    "## print the product price after removing the discount\n"
   ]
  },
  {
   "cell_type": "code",
   "execution_count": 39,
   "id": "e33455dc-ba6b-4571-802e-01fcb585d1cd",
   "metadata": {},
   "outputs": [
    {
     "name": "stdin",
     "output_type": "stream",
     "text": [
      "Enter the price 500\n"
     ]
    },
    {
     "name": "stdout",
     "output_type": "stream",
     "text": [
      "The price of the product is 350.0\n"
     ]
    }
   ],
   "source": [
    "product_price=int(input(\"Enter the price\"))\n",
    "if product_price>1000:\n",
    "    print(\"The price of the product is {}\".format(product_price*0.8))\n",
    "else:\n",
    "    print(\"The price of the product is {}\".format(product_price*0.7))"
   ]
  },
  {
   "cell_type": "code",
   "execution_count": 40,
   "id": "c317078c-acaf-4626-9b0e-17ea91a66814",
   "metadata": {},
   "outputs": [
    {
     "name": "stdin",
     "output_type": "stream",
     "text": [
      "Enter the price 1000\n"
     ]
    },
    {
     "name": "stdout",
     "output_type": "stream",
     "text": [
      "The price of the product is 700.0\n"
     ]
    }
   ],
   "source": [
    "product_price=int(input(\"Enter the price\"))\n",
    "if product_price>1000:\n",
    "    print(f\"The price of the product is {product_price*0.8}\")\n",
    "else:\n",
    "    print(\"The price of the product is {}\".format(product_price*0.7))"
   ]
  },
  {
   "cell_type": "code",
   "execution_count": 7,
   "id": "30836601-0541-4c01-b094-91bf373651ca",
   "metadata": {},
   "outputs": [
    {
     "name": "stdin",
     "output_type": "stream",
     "text": [
      "Price:  450\n"
     ]
    },
    {
     "name": "stdout",
     "output_type": "stream",
     "text": [
      "Discount Rupess: 45.0\n",
      "Net payable Amount:  405.0\n"
     ]
    }
   ],
   "source": [
    "'''Its a good example to get \n",
    "the Net payable amount by setting up \n",
    "discount at specific price range by using if-else statement'''\n",
    "\n",
    "Total_Price=int(input(\"Price: \"))\n",
    "if Total_Price<100:\n",
    "    discount=Total_Price*0.04\n",
    "    print (\"Discount Rupess: \"+str(discount))\n",
    "else:\n",
    "    discount=Total_Price*0.1\n",
    "    print (\"Discount Rupess: \"+str(discount))\n",
    "print (\"Net payable Amount: \",Total_Price-discount)"
   ]
  },
  {
   "cell_type": "markdown",
   "id": "10e57e01-6954-46c3-907a-6f284953f606",
   "metadata": {},
   "source": [
    "### If-elif-else statement\n",
    "\n",
    "   - The `elif` statement is used to check for the multiple `True` expressions and so on if the condition is `True` it execute a block of code.\n",
    "   - Similar `elif` statement is consider to be an optional like `else` statement. \n",
    "   - Though, we can use `elif` statement multiple times in a block of code, but `else` statement can be used only ones\n",
    "   \n",
    "**Examples**"
   ]
  },
  {
   "cell_type": "code",
   "execution_count": 8,
   "id": "b5d1ac7b-de5d-40f7-8ecc-10f362d1695a",
   "metadata": {},
   "outputs": [
    {
     "name": "stdin",
     "output_type": "stream",
     "text": [
      "Price:  50\n"
     ]
    },
    {
     "name": "stdout",
     "output_type": "stream",
     "text": [
      "Discount Rupess: 2.0\n",
      "Net payable Amount:  48.0\n"
     ]
    }
   ],
   "source": [
    "'''Its very good example to get \n",
    "the Net payable amount by setting up some \n",
    "discount at specific price range by using if-elif-else statement'''\n",
    "\n",
    "Total_Price=int(input(\"Price: \"))\n",
    "if Total_Price<100:\n",
    "    discount=Total_Price*0.04\n",
    "    print (\"Discount Rupess: \"+str(discount))\n",
    "elif Total_Price<500:\n",
    "    discount=Total_Price*0.08\n",
    "    print (\"Discount Rupess: \"+str(discount))\n",
    "else:\n",
    "    discount=Total_Price*0.1\n",
    "    print (\"Discount Rupess: \"+str(discount))\n",
    "print (\"Net payable Amount: \",Total_Price-discount)"
   ]
  },
  {
   "cell_type": "markdown",
   "id": "21a55335-8df6-47a2-a626-cf44dbaf976f",
   "metadata": {},
   "source": [
    "### Nested If statement\n",
    "\n",
    "   - In some of the cases, it is required to have other check condition inside a check condition (when it `True`)\n",
    "   - Such type of scenarios required to have a nested arrangement.\n",
    "   - Under a nested if arrangement, an `if-elif-else` can be construct inside an another `if-elif-else` construct.\n",
    "   \n",
    "**Examples**"
   ]
  },
  {
   "cell_type": "code",
   "execution_count": 9,
   "id": "6ded59cf-cdeb-4fa0-b94c-ff11609c0fe8",
   "metadata": {},
   "outputs": [
    {
     "name": "stdin",
     "output_type": "stream",
     "text": [
      "Enter a number:  120\n"
     ]
    },
    {
     "name": "stdout",
     "output_type": "stream",
     "text": [
      "Entered number is Positive\n"
     ]
    }
   ],
   "source": [
    "'''Its a simple example to check whether \n",
    "a number is zero or positive or negative \n",
    "using nested if-else statement'''\n",
    "\n",
    "val = float(input(\"Enter a number: \"))\n",
    "if val >= 0:\n",
    "    if val == 0:\n",
    "        print(\"Zero\")\n",
    "    else:\n",
    "        print(\"Entered number is Positive\")\n",
    "else:\n",
    "    print(\"Entered number is Negative\")"
   ]
  },
  {
   "cell_type": "code",
   "execution_count": 41,
   "id": "b046f58e-0707-4565-b767-efc189e2e9b7",
   "metadata": {},
   "outputs": [],
   "source": [
    "## mall - input the product price\n",
    "## product >3000 rs 20% off\n",
    "## price is ==4000 you get a trip to Goa\n",
    "## print the product price after removing the discount\n",
    "## product >=2000 rs and <=3000 30% off\n",
    "## print the product price after removing the discount\n",
    "## price ==2999  u will get adiitional gift\n",
    "## product 100 rs and <=2000 40% off\n",
    "## print the product price after removing the discount"
   ]
  },
  {
   "cell_type": "code",
   "execution_count": 45,
   "id": "3edef094-d443-4764-81c8-d6d437a14001",
   "metadata": {},
   "outputs": [
    {
     "name": "stdin",
     "output_type": "stream",
     "text": [
      "Enter the price 1600\n"
     ]
    },
    {
     "name": "stdout",
     "output_type": "stream",
     "text": [
      "we will try next time\n"
     ]
    }
   ],
   "source": [
    "product_price=int(input(\"Enter the price\"))\n",
    "if product_price>3000:\n",
    "    if product_price==4000:\n",
    "        print('you get a trip to goa')\n",
    "    print(\"The price of the product is {}\".format(product_price*0.8))\n",
    "elif product_price>=2000 and product_price<=3000:\n",
    "     print(\"The price of the product is {}\".format(product_price*0.7))\n",
    "elif product_price==2999:\n",
    "    if product_price>=100 and product_price<2000:\n",
    "        print(\"The price of the product is {}\".format(product_price*0.6))\n",
    "    print('you will get addtitional benefit')\n",
    "else:\n",
    "    print('we will try next time')"
   ]
  },
  {
   "cell_type": "markdown",
   "id": "b0abd2ce-d0dd-4826-b197-8670d2d342bb",
   "metadata": {},
   "source": [
    "### 4.1.5 Single Statement Suites\n",
    "\n",
    "   - If the suite of `if` section have only a single line, then the header statement may go at same line.\n",
    "\n",
    "**Examples**"
   ]
  },
  {
   "cell_type": "code",
   "execution_count": 47,
   "id": "fb85dd25-2d1a-4d48-9189-25a382fbc8ce",
   "metadata": {},
   "outputs": [
    {
     "name": "stdin",
     "output_type": "stream",
     "text": [
      "Enter the number 1000\n"
     ]
    },
    {
     "name": "stdout",
     "output_type": "stream",
     "text": [
      "try next time\n"
     ]
    }
   ],
   "source": [
    "## Single statement Suites\n",
    "val=int(input('Enter the number'))\n",
    "if(val<=999):print(\"Value is less than equal to 999\")\n",
    "else:\n",
    "    print(\"try next time\")"
   ]
  },
  {
   "cell_type": "markdown",
   "id": "27f13bdc-e63c-4f36-b9e0-7811eecf44a5",
   "metadata": {},
   "source": [
    "## 4.2 Loops Statements \n",
    "   * In loop, the statements are sequentially executed, execution of first function statement is done first, then second and so on.\n",
    "   * In situation where you need to perform a block of code many times then loop statement will come in to picture. \n",
    "   * It allows to execute/run group of statements or a statement multiple time.\n",
    "   \n",
    "**These are several topics of loop statements which going to be discussed below:**\n",
    "   1. **while Loop** \n",
    "   2. **for Loop**\n",
    "   3. **Nested loops**\n",
    "   4. **Loop Control**\n",
    "      * **break**\n",
    "      * **continue**\n",
    "      * **pass**"
   ]
  },
  {
   "cell_type": "markdown",
   "id": "f121a982-3af4-42c4-9dc2-a2d0959a46fa",
   "metadata": {},
   "source": [
    "### While Loop\n",
    "\n",
    "   * It repeats a statement or multiple statements when a provided condition is `True`.\n",
    "   * Before performing a loop body it check for a condition\n",
    "   \n",
    "**Examples**"
   ]
  },
  {
   "cell_type": "code",
   "execution_count": 15,
   "id": "fe005ba1-1002-4cf9-bb95-938be95702a3",
   "metadata": {},
   "outputs": [
    {
     "name": "stdout",
     "output_type": "stream",
     "text": [
      "1\n",
      "2\n",
      "3\n",
      "4\n",
      "5\n",
      "Total money 50 rupees\n"
     ]
    }
   ],
   "source": [
    "''' A child is learning to count number of 10 rupess in his hand \n",
    "and here we have given 5 notes of 10 rupess. \n",
    "Output will display the counting of notes and total amount'''\n",
    "notes=5\n",
    "i=1\n",
    "while i <= notes:\n",
    "    print(i)\n",
    "    i+=1\n",
    "print('Total money',notes*10,'rupees')\n",
    "    "
   ]
  },
  {
   "cell_type": "code",
   "execution_count": 16,
   "id": "8499be12-b825-44d4-a088-83ca794489d9",
   "metadata": {},
   "outputs": [
    {
     "name": "stdout",
     "output_type": "stream",
     "text": [
      "1\n",
      "2\n",
      "3\n",
      "4\n",
      "5\n",
      "No 10 rupees note left\n",
      "Total Money:  50 Rupees\n"
     ]
    }
   ],
   "source": [
    "'''Continuing with same example, \n",
    "here we using else statement'''\n",
    "\n",
    "notes = 5\n",
    "i=1 # starting number intialize\n",
    "while i<=notes:\n",
    "    print(i)\n",
    "    i += 1\n",
    "else:\n",
    "    print(\"No 10 rupees note left\")\n",
    "print('Total Money: ',notes*10,'Rupees')"
   ]
  },
  {
   "cell_type": "code",
   "execution_count": 18,
   "id": "fc41f452-b95a-4e21-b0e0-c6dde4d69ee5",
   "metadata": {},
   "outputs": [
    {
     "name": "stdout",
     "output_type": "stream",
     "text": [
      "25\n",
      "26\n",
      "27\n",
      "28\n",
      "29\n",
      "30\n",
      "31\n",
      "32\n",
      "33\n",
      "34\n",
      "35\n",
      "36\n",
      "37\n",
      "38\n",
      "39\n",
      "40\n",
      "41\n",
      "42\n",
      "43\n",
      "44\n",
      "45\n",
      "46\n",
      "47\n",
      "48\n",
      "49\n",
      "50\n",
      "Its time for retirement\n"
     ]
    }
   ],
   "source": [
    "\n",
    "joining_age=25\n",
    "while joining_age<=50:\n",
    "    print(joining_age)\n",
    "    joining_age=joining_age+1\n",
    "    \n",
    "else:\n",
    "    print(\"Its time for retirement\")\n",
    "\n"
   ]
  },
  {
   "cell_type": "code",
   "execution_count": 11,
   "id": "6e454e06-4757-4699-8cc2-1597a04e215f",
   "metadata": {},
   "outputs": [
    {
     "name": "stdout",
     "output_type": "stream",
     "text": [
      "1000\n",
      "900\n",
      "800\n",
      "700\n",
      "600\n",
      "500\n",
      "400\n",
      "300\n",
      "200\n",
      "100\n",
      "need more amount\n"
     ]
    }
   ],
   "source": [
    "### Atm machine with 1000 rs.every time transaction done only 100rs coming out.if money exhuasted display no money in atm.\n",
    "total_amount =1000\n",
    "while total_amount!=0:\n",
    "    print(total_amount)\n",
    "    total_amount=total_amount-100\n",
    "print('need more amount')"
   ]
  },
  {
   "cell_type": "markdown",
   "id": "8532fe3a-ec5a-4c7d-a210-9bd52c96655b",
   "metadata": {},
   "source": [
    "### For Loop\n",
    "\n",
    "   * Here `for` loop statement is used to iterates over an item at any order, items can be a `string` or a `list`.\n",
    "   \n",
    "**Examples**"
   ]
  },
  {
   "cell_type": "code",
   "execution_count": 19,
   "id": "b345a6f7-256f-40ee-812f-221c49ba7a47",
   "metadata": {},
   "outputs": [
    {
     "name": "stdout",
     "output_type": "stream",
     "text": [
      "Mango\n",
      "Cherry\n",
      "Apple\n",
      "Papaya\n",
      "Banana\n"
     ]
    }
   ],
   "source": [
    "''' A simple example has taken where \n",
    "we have several fruits in a list and we display \n",
    "this fruit as per the arrangement in list'''\n",
    "\n",
    "fruits_list = [\"Mango\",\"Cherry\",\"Apple\",\"Papaya\",\"Banana\"] ## List containing friuts name\n",
    "for x in fruits_list:\n",
    "    print(x)"
   ]
  },
  {
   "cell_type": "code",
   "execution_count": 20,
   "id": "0963d3c1-ce79-4b4b-927a-12306ae895e8",
   "metadata": {},
   "outputs": [
    {
     "name": "stdout",
     "output_type": "stream",
     "text": [
      "Mango\n",
      "Cherry\n",
      "Apple\n",
      "Papaya\n",
      "Banana\n",
      "List has no fruit left!\n"
     ]
    }
   ],
   "source": [
    "'''Continuing the previous example with using else statement'''\n",
    "\n",
    "fruits_list = [\"Mango\",\"Cherry\",\"Apple\",\"Papaya\",\"Banana\"] ## List containing friuts name\n",
    "for x in fruits_list:\n",
    "    print(x)\n",
    "else:\n",
    "    print(\"List has no fruit left!\")"
   ]
  },
  {
   "cell_type": "code",
   "execution_count": 21,
   "id": "9cc26bce-a95c-47eb-9dc6-666dc4ab1009",
   "metadata": {},
   "outputs": [
    {
     "name": "stdout",
     "output_type": "stream",
     "text": [
      "M\n",
      "a\n",
      "n\n",
      "g\n",
      "o\n"
     ]
    }
   ],
   "source": [
    "'''An iterative example of string is shown here'''\n",
    "\n",
    "f_name = \"Mango\" ## string as input\n",
    "for x in f_name:\n",
    "    print(x)"
   ]
  },
  {
   "cell_type": "code",
   "execution_count": 24,
   "id": "560afdd6-7a6e-4861-91b2-7d7b94c4d8ae",
   "metadata": {},
   "outputs": [
    {
     "name": "stdout",
     "output_type": "stream",
     "text": [
      "1\n",
      "2\n",
      "3\n",
      "4\n",
      "5\n",
      "6\n",
      "7\n",
      "8\n",
      "9\n"
     ]
    }
   ],
   "source": [
    "## range\n",
    "for i in range(1,10):\n",
    "    print(i)"
   ]
  },
  {
   "cell_type": "code",
   "execution_count": 25,
   "id": "0e84b5c5-3353-4221-a412-a0af074cd129",
   "metadata": {},
   "outputs": [
    {
     "name": "stdout",
     "output_type": "stream",
     "text": [
      "1\n",
      "3\n",
      "5\n",
      "7\n",
      "9\n"
     ]
    }
   ],
   "source": [
    "for i in range(1,10,2):\n",
    "    print(i)"
   ]
  },
  {
   "cell_type": "markdown",
   "id": "b250a3aa-6cf4-42b9-aa5b-c4a35f485de6",
   "metadata": {},
   "source": [
    "### Nested Loops\n",
    "\n",
    "   * Nested loops is used to create one and more number of loop inside an existing `for` or `while` loop.\n",
    "   \n",
    "**Examples**"
   ]
  },
  {
   "cell_type": "code",
   "execution_count": 22,
   "id": "96ba02a4-0cec-4314-9d89-db4c244a906e",
   "metadata": {},
   "outputs": [
    {
     "name": "stdout",
     "output_type": "stream",
     "text": [
      "* \n",
      "* * \n",
      "* * * \n",
      "* * * * \n",
      "* * * * * \n",
      "* * * * * * \n",
      "* * * * * * * \n"
     ]
    }
   ],
   "source": [
    "'''Here we use nested for loop to create a triangle'''\n",
    "\n",
    "n=7 #n is length and width of triangle\n",
    "for i in range(0, n): #loop to handle the rows \n",
    "\n",
    "    for j in range(0, i+1): #loop to handle the columns \n",
    "\n",
    "        print(\"* \",end=\"\") #printing the stars \n",
    "\n",
    "    print(\"\\r\") #after each row line will end"
   ]
  },
  {
   "cell_type": "code",
   "execution_count": 1,
   "id": "61876d61-2ee1-4388-9891-e879a602b41b",
   "metadata": {},
   "outputs": [
    {
     "name": "stdin",
     "output_type": "stream",
     "text": [
      "Enter the triangle Length: 5\n"
     ]
    },
    {
     "name": "stdout",
     "output_type": "stream",
     "text": [
      "    * \n",
      "   * * \n",
      "  * * * \n",
      " * * * * \n",
      "* * * * * \n"
     ]
    }
   ],
   "source": [
    "#assignment\n",
    "# display stars in eqilateral triangle form\n",
    "\n",
    "n = int(input(\"Enter the triangle Length:\"))\n",
    "for i in range(n):\n",
    "    for j in range(n-i-1):\n",
    "        print(\" \",end=\"\")\n",
    "    for j in range(i+1):\n",
    "        print(\"*\",end=\" \")\n",
    "    print()"
   ]
  },
  {
   "cell_type": "markdown",
   "id": "0d8974f6-9400-414d-babc-ce5ca6a0ada2",
   "metadata": {},
   "source": [
    "###  Loop Control\n",
    "The loop control is used to change its preceding sequence to different form.\n",
    "\n",
    "**break statement -** This statement used for a premature terminates of current loop immediately and executes the further statement, just like `break` statement in `C` language.\n",
    "\n",
    "**continue statement -** When `continue` statement is encountered during an iteration, it directly goes to next iteration without performing remaining statements in present iteration. It returns execution to the starting point of current loop and start further iteration.\n",
    "\n",
    "   >**Note:** `break` and `continue` can be used in both `while` and `for` loop.\n",
    "\n",
    "**pass statement -** The `pass` statement is considered as a `null` operation. It is useful when a code (i.e., code required in future) has not written till now, but your code will go eventually.\n"
   ]
  },
  {
   "cell_type": "markdown",
   "id": "f19ebb02-0831-4fc1-9efe-963e982e745c",
   "metadata": {},
   "source": [
    "#### Break statement\n",
    "**Examples**"
   ]
  },
  {
   "cell_type": "code",
   "execution_count": 23,
   "id": "cf21609b-64eb-4e58-81bd-3f6539080432",
   "metadata": {},
   "outputs": [
    {
     "name": "stdout",
     "output_type": "stream",
     "text": [
      "1\n",
      "2\n",
      "3\n",
      "4\n"
     ]
    }
   ],
   "source": [
    "'''It is a simple example of break, \n",
    "where it immediatly terminate an operation of \n",
    "statement body when x is equal to 4'''\n",
    "\n",
    "x = 1\n",
    "while x < 7:\n",
    "    print(x)\n",
    "    if x == 4:\n",
    "        break\n",
    "    x += 1"
   ]
  },
  {
   "cell_type": "code",
   "execution_count": 24,
   "id": "637d4907-dea3-4817-8b84-cc6c566342d1",
   "metadata": {},
   "outputs": [
    {
     "name": "stdout",
     "output_type": "stream",
     "text": [
      "Mango\n",
      "Cherry\n",
      "Apple\n"
     ]
    }
   ],
   "source": [
    "'''Here it terminates the \n",
    "operational body when fruit name is Papaya'''\n",
    "\n",
    "fruits_list = [\"Mango\",\"Cherry\",\"Apple\",\"Papaya\",\"Banana\"] ## List containing friuts name\n",
    "for x in fruits_list:\n",
    "    if x == \"Papaya\":\n",
    "        break\n",
    "    print(x)"
   ]
  },
  {
   "cell_type": "code",
   "execution_count": 46,
   "id": "40e5b417-5fe5-454d-883d-d1f760836935",
   "metadata": {},
   "outputs": [
    {
     "name": "stdout",
     "output_type": "stream",
     "text": [
      "Mango\n",
      "Cherry\n",
      "Apple\n",
      "apple is my fav food\n"
     ]
    }
   ],
   "source": [
    "for x in fruits_list:\n",
    "    print(x)\n",
    "    if x=='Apple':\n",
    "            print('apple is my fav food')\n",
    "            break\n",
    "            print(x)"
   ]
  },
  {
   "cell_type": "markdown",
   "id": "0a14b4d2-cf61-499d-9a5f-b948825da2ca",
   "metadata": {},
   "source": [
    "#### Continue statement\n",
    "**Examples**"
   ]
  },
  {
   "cell_type": "code",
   "execution_count": 25,
   "id": "6ad04e26-69cd-403c-b094-5102324eb293",
   "metadata": {},
   "outputs": [
    {
     "name": "stdout",
     "output_type": "stream",
     "text": [
      "1\n",
      "2\n",
      "3\n",
      "5\n",
      "6\n",
      "7\n"
     ]
    }
   ],
   "source": [
    "'''It is a simple example of continue, \n",
    "where it simply terminate an current iteration \n",
    "when x is equal to 4 and \n",
    "continues with next iteration'''\n",
    "\n",
    "x = 0\n",
    "while x < 7:\n",
    "    x += 1\n",
    "    if x == 4:\n",
    "        continue\n",
    "    print(x)"
   ]
  },
  {
   "cell_type": "code",
   "execution_count": 26,
   "id": "d81a5e6e-a2ba-4df1-927c-13eb053f11e1",
   "metadata": {},
   "outputs": [
    {
     "name": "stdout",
     "output_type": "stream",
     "text": [
      "Mango\n",
      "Cherry\n",
      "Apple\n",
      "Banana\n"
     ]
    }
   ],
   "source": [
    "'''In this example it simply terminate \n",
    "an current iteration when fruit name is Papaya and \n",
    "continues with next iteration'''\n",
    "\n",
    "fruits_list = [\"Mango\",\"Cherry\",\"Apple\",\"Papaya\",\"Banana\"] ## List containing friuts name\n",
    "for x in fruits_list:\n",
    "    if x == \"Papaya\":\n",
    "        continue\n",
    "    print(x)"
   ]
  },
  {
   "cell_type": "markdown",
   "id": "3c777ce2-9d25-4067-bd69-d6f0df310f2d",
   "metadata": {},
   "source": [
    "#### Pass statement\n",
    "**Examples**"
   ]
  },
  {
   "cell_type": "code",
   "execution_count": 27,
   "id": "ef25e148-8342-431e-8ebc-15218c5cfc05",
   "metadata": {},
   "outputs": [],
   "source": [
    "'''A simple example of pass, \n",
    "where it is not decided what to do with i'''\n",
    "\n",
    "for i in [10, 100, 200]:\n",
    "    pass"
   ]
  },
  {
   "cell_type": "code",
   "execution_count": 28,
   "id": "451dfc42-3b23-4314-bcde-6beaa9573ec6",
   "metadata": {},
   "outputs": [
    {
     "ename": "SyntaxError",
     "evalue": "incomplete input (2344064802.py, line 4)",
     "output_type": "error",
     "traceback": [
      "\u001b[0;36m  Cell \u001b[0;32mIn[28], line 4\u001b[0;36m\u001b[0m\n\u001b[0;31m    for i in [10, 100, 200]:\u001b[0m\n\u001b[0m                            ^\u001b[0m\n\u001b[0;31mSyntaxError\u001b[0m\u001b[0;31m:\u001b[0m incomplete input\n"
     ]
    }
   ],
   "source": [
    "'''Continuing with same above example \n",
    "if for loop body left simply, then it will throw an error'''\n",
    "\n",
    "for i in [10, 100, 200]:"
   ]
  },
  {
   "cell_type": "code",
   "execution_count": null,
   "id": "8a071862-713e-4beb-9a02-3dc38de9a945",
   "metadata": {},
   "outputs": [],
   "source": []
  }
 ],
 "metadata": {
  "kernelspec": {
   "display_name": "Python 3 (ipykernel)",
   "language": "python",
   "name": "python3"
  },
  "language_info": {
   "codemirror_mode": {
    "name": "ipython",
    "version": 3
   },
   "file_extension": ".py",
   "mimetype": "text/x-python",
   "name": "python",
   "nbconvert_exporter": "python",
   "pygments_lexer": "ipython3",
   "version": "3.10.8"
  }
 },
 "nbformat": 4,
 "nbformat_minor": 5
}
