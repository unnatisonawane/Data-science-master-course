{
 "cells": [
  {
   "cell_type": "markdown",
   "id": "ad518fa7-8cab-4fbc-902c-b87fb05ad319",
   "metadata": {},
   "source": [
    "## Operators\n",
    "\n",
    "* Logical\n",
    "* Equality \n",
    "* Comparision\n",
    "* Arithmetic\n",
    "* Bitwise"
   ]
  },
  {
   "cell_type": "markdown",
   "id": "e4979849-e080-47d3-be28-e128cd43889f",
   "metadata": {},
   "source": [
    "### Logical Operators\n",
    "In python following keywords are used for boolean operations -\n",
    "\n",
    "|Keywords | Meaning|\n",
    "|-|-|\n",
    "|**not**|unary negation|\n",
    "|**and**|conditional AND|\n",
    "|**or**|conditional OR| \n",
    "\n",
    "**EXAMPLES**:"
   ]
  },
  {
   "cell_type": "code",
   "execution_count": 1,
   "id": "dae6df32-9b0f-4ec4-8dea-333303bbf654",
   "metadata": {},
   "outputs": [
    {
     "data": {
      "text/plain": [
       "True"
      ]
     },
     "execution_count": 1,
     "metadata": {},
     "output_type": "execute_result"
    }
   ],
   "source": [
    "True and True"
   ]
  },
  {
   "cell_type": "code",
   "execution_count": 2,
   "id": "8142f748-3ea8-4e6a-9201-50b1ee2dd6a5",
   "metadata": {},
   "outputs": [
    {
     "data": {
      "text/plain": [
       "True"
      ]
     },
     "execution_count": 2,
     "metadata": {},
     "output_type": "execute_result"
    }
   ],
   "source": [
    "True or False"
   ]
  },
  {
   "cell_type": "code",
   "execution_count": 3,
   "id": "dc0ae251-4cea-4f1b-8efd-d118773b486b",
   "metadata": {},
   "outputs": [
    {
     "name": "stdout",
     "output_type": "stream",
     "text": [
      "Defined value of START = True\n",
      "Defined value of STOP = False \n",
      "\n",
      "Defined value of START = True\n",
      "Value of STOP by negating START= False \n",
      "\n",
      "Value of START by negating STOP = True\n",
      "Defined value of STOP = False \n",
      "\n"
     ]
    }
   ],
   "source": [
    "# Lets define two variables having boolean values True and False-\n",
    "START = True\n",
    "STOP = False\n",
    "\n",
    "# Print the values as it is\n",
    "print(f\"Defined value of START = {START}\")\n",
    "print(f\"Defined value of STOP = {STOP} \\n\")\n",
    "\n",
    "# if can also be written as - \n",
    "print(f\"Defined value of START = {START}\")\n",
    "print(f\"Value of STOP by negating START= {not START} \\n\")\n",
    "\n",
    "# alternatively -\n",
    "print(f\"Value of START by negating STOP = {not STOP}\")\n",
    "print(f\"Defined value of STOP = {STOP} \\n\")"
   ]
  },
  {
   "cell_type": "code",
   "execution_count": 4,
   "id": "262e842e-3c14-4c99-b0ff-492ea8e2d550",
   "metadata": {},
   "outputs": [
    {
     "data": {
      "text/plain": [
       "False"
      ]
     },
     "execution_count": 4,
     "metadata": {},
     "output_type": "execute_result"
    }
   ],
   "source": [
    "not True"
   ]
  },
  {
   "cell_type": "code",
   "execution_count": 5,
   "id": "ef6c812d-eef4-4e9f-a2ae-6860e3d6d33e",
   "metadata": {},
   "outputs": [
    {
     "data": {
      "text/plain": [
       "True"
      ]
     },
     "execution_count": 5,
     "metadata": {},
     "output_type": "execute_result"
    }
   ],
   "source": [
    "not int(bool(0))"
   ]
  },
  {
   "cell_type": "code",
   "execution_count": 6,
   "id": "513a11e0-8d73-4282-ad1d-db5be548f8fd",
   "metadata": {},
   "outputs": [
    {
     "data": {
      "text/plain": [
       "False"
      ]
     },
     "execution_count": 6,
     "metadata": {},
     "output_type": "execute_result"
    }
   ],
   "source": [
    "not 1"
   ]
  },
  {
   "cell_type": "code",
   "execution_count": 7,
   "id": "0c1aa0db-423f-457b-8c57-69dc73475db1",
   "metadata": {},
   "outputs": [
    {
     "data": {
      "text/plain": [
       "True"
      ]
     },
     "execution_count": 7,
     "metadata": {},
     "output_type": "execute_result"
    }
   ],
   "source": [
    "not 0"
   ]
  },
  {
   "cell_type": "code",
   "execution_count": 8,
   "id": "6f436dcb-44ea-4ba9-92c9-36feb0c6e43b",
   "metadata": {},
   "outputs": [
    {
     "data": {
      "text/plain": [
       "False"
      ]
     },
     "execution_count": 8,
     "metadata": {},
     "output_type": "execute_result"
    }
   ],
   "source": [
    "not -1"
   ]
  },
  {
   "cell_type": "markdown",
   "id": "0975f0ae-445f-43db-8591-e024480686b3",
   "metadata": {},
   "source": [
    "> Lets define two variables with integer values 1 and 0-"
   ]
  },
  {
   "cell_type": "code",
   "execution_count": 9,
   "id": "227bcc2c-4b88-4bca-abfe-f33eed5a1349",
   "metadata": {},
   "outputs": [
    {
     "name": "stdout",
     "output_type": "stream",
     "text": [
      "Defined value of START = 1\n",
      "Defined value of STOP = 0 \n",
      "\n",
      "Defined value of START = 1\n",
      "Value of STOP by negating START= 0 \n",
      "\n",
      "Value of START by negating STOP = 1\n",
      "Defined value of STOP = 0 \n",
      "\n"
     ]
    }
   ],
   "source": [
    "START = 1\n",
    "STOP = 0\n",
    "\n",
    "# Print the values as it is\n",
    "print(f\"Defined value of START = {START}\")\n",
    "print(f\"Defined value of STOP = {STOP} \\n\")\n",
    "\n",
    "# if can also be written as - \n",
    "print(f\"Defined value of START = {START}\")\n",
    "print(f\"Value of STOP by negating START= {int(not START)} \\n\")\n",
    "\n",
    "# alternatively -\n",
    "print(f\"Value of START by negating STOP = {int(not STOP)}\")\n",
    "print(f\"Defined value of STOP = {STOP} \\n\")"
   ]
  },
  {
   "cell_type": "code",
   "execution_count": 10,
   "id": "3f2f01b9-c4ab-46c2-abfa-6dd4180b04a5",
   "metadata": {},
   "outputs": [
    {
     "name": "stdout",
     "output_type": "stream",
     "text": [
      "boolean value of no. 0 is False\n",
      "boolean value of no. 1 is True\n",
      "negation of 0 is True and negation of 1 is False\n",
      "\n",
      "#------------------------#\n",
      "\n"
     ]
    }
   ],
   "source": [
    "zero = 0\n",
    "one = 1\n",
    "\n",
    "print(f\"boolean value of no. {zero} is {bool(zero)}\")\n",
    "print(f\"boolean value of no. {one} is {bool(one)}\")\n",
    "print(f\"negation of {zero} is {not zero} and negation of {one} is {not one}\")\n",
    "print(\"\\n#------------------------#\\n\")"
   ]
  },
  {
   "cell_type": "code",
   "execution_count": 11,
   "id": "01616c5e-39fd-49bc-8ba6-2df7d01acc89",
   "metadata": {},
   "outputs": [
    {
     "name": "stdout",
     "output_type": "stream",
     "text": [
      "boolean value of no. -5 is True\n",
      "boolean value of no. 5 is True\n",
      "negation of -5 is False and negation of 5 is False\n",
      "\n",
      "#------------------------#\n",
      "\n"
     ]
    }
   ],
   "source": [
    "Some_negative_integer = -5\n",
    "Some_positive_integer = 5\n",
    "\n",
    "print(f\"boolean value of no. {Some_negative_integer} is {bool(Some_negative_integer)}\")\n",
    "print(f\"boolean value of no. {Some_positive_integer} is {bool(Some_positive_integer)}\")\n",
    "print(f\"negation of {Some_negative_integer} is {not Some_negative_integer} \\\n",
    "and negation of {Some_positive_integer} is {not Some_positive_integer}\")\n",
    "\n",
    "print(\"\\n#------------------------#\\n\")"
   ]
  },
  {
   "cell_type": "code",
   "execution_count": 12,
   "id": "862886ad-74aa-4ec6-8099-e9f98fe50e7f",
   "metadata": {},
   "outputs": [
    {
     "name": "stdout",
     "output_type": "stream",
     "text": [
      "boolean value of no. -5.99 is True\n",
      "boolean value of no. 5.6 is True\n",
      "negation of -5.99 is False and negation of 5.6 is False\n"
     ]
    }
   ],
   "source": [
    "Some_negative_float = -5.99\n",
    "Some_positive_float = 5.6\n",
    "\n",
    "print(f\"boolean value of no. {Some_negative_float} is {bool(Some_negative_float)}\")\n",
    "print(f\"boolean value of no. {Some_positive_float} is {bool(Some_positive_float)}\")\n",
    "print(f\"negation of {Some_negative_float} is {not Some_negative_float} \\\n",
    "and negation of {Some_positive_float} is {not Some_positive_float}\")"
   ]
  },
  {
   "cell_type": "markdown",
   "id": "0ff990b7-bb52-4544-9150-303d442aa26a",
   "metadata": {},
   "source": [
    "> Example for logical AND operation-"
   ]
  },
  {
   "cell_type": "code",
   "execution_count": 1,
   "id": "4780cba3-51a4-437f-bf5c-8dde4a422f7a",
   "metadata": {},
   "outputs": [
    {
     "name": "stdout",
     "output_type": "stream",
     "text": [
      "Dish contains VEGETABLES: True\n",
      "Dish contains SALT: False\n",
      "Hence dish prepared was good: False\n",
      "\n",
      "Dish contains VEGETABLES: True\n",
      "Dish contains SALT: True\n",
      "Hence dish prepared was good: True\n",
      "\n"
     ]
    }
   ],
   "source": [
    "VEGETABLES = True\n",
    "SALT = False\n",
    "DISH = VEGETABLES and SALT\n",
    "\n",
    "print(f\"Dish contains VEGETABLES: {VEGETABLES}\")\n",
    "print(f\"Dish contains SALT: {SALT}\")\n",
    "print(f\"Hence dish prepared was good: {DISH}\\n\")\n",
    "\n",
    "VEGETABLES = True\n",
    "SALT = True\n",
    "DISH = VEGETABLES and SALT\n",
    "\n",
    "print(f\"Dish contains VEGETABLES: {VEGETABLES}\")\n",
    "print(f\"Dish contains SALT: {SALT}\")\n",
    "print(f\"Hence dish prepared was good: {DISH}\\n\")"
   ]
  },
  {
   "cell_type": "markdown",
   "id": "18bd1137-0d95-492d-a342-62ad60283ac2",
   "metadata": {},
   "source": [
    "Above example in tablular format-\n",
    "\n",
    "|VEGETABLES|SALT|DISH|\n",
    "|:-:|:-:|:-:|\n",
    "|False|False|False|\n",
    "|False|True|False|\n",
    "|True|False|False|\n",
    "|True|True|True|\n",
    "\n",
    "Above table represents AND gate's Truth table-\n",
    "\n",
    "|X|Y|Z|\n",
    "|-|-|-|\n",
    "|0|0|0|\n",
    "|0|1|0|\n",
    "|1|0|0|\n",
    "|1|1|1|\n"
   ]
  },
  {
   "cell_type": "code",
   "execution_count": 14,
   "id": "9539f29d-90b9-4c8d-93f6-4edf6306bbd7",
   "metadata": {},
   "outputs": [
    {
     "data": {
      "text/plain": [
       "True"
      ]
     },
     "execution_count": 14,
     "metadata": {},
     "output_type": "execute_result"
    }
   ],
   "source": [
    "not(False)*False == True\n"
   ]
  },
  {
   "cell_type": "code",
   "execution_count": 15,
   "id": "b72d3ca0-3468-45f3-80ea-4c214e89671a",
   "metadata": {},
   "outputs": [
    {
     "name": "stdout",
     "output_type": "stream",
     "text": [
      "0\n"
     ]
    }
   ],
   "source": [
    "print((not(False)) * False)\n"
   ]
  },
  {
   "cell_type": "markdown",
   "id": "07807fa2-a2cd-4c61-bd8a-c3fbd05b3d79",
   "metadata": {},
   "source": [
    "> Example for logical OR operation"
   ]
  },
  {
   "cell_type": "code",
   "execution_count": 4,
   "id": "ced57c7b-ecdb-4acc-bcc6-acef0713d0a3",
   "metadata": {},
   "outputs": [
    {
     "name": "stdout",
     "output_type": "stream",
     "text": [
      "You have BIKE: True\n",
      "You have CAR: True\n",
      "You can travel 100 KMs: True\n",
      "\n",
      "You have BIKE: True\n",
      "You have CAR: False\n",
      "You can travel 100 KMs: True\n",
      "\n",
      "You have BIKE: False\n",
      "You have CAR: True\n",
      "You can travel 100 KMs: True\n",
      "\n",
      "You have BIKE: False\n",
      "You have CAR: False\n",
      "You can travel 100 KMs: False\n"
     ]
    }
   ],
   "source": [
    "BIKE = True\n",
    "CAR = True\n",
    "TRAVEL_100_KM = BIKE or CAR\n",
    "\n",
    "print(f\"You have BIKE: {BIKE}\")\n",
    "print(f\"You have CAR: {CAR}\")\n",
    "print(f\"You can travel 100 KMs: {TRAVEL_100_KM}\\n\")\n",
    "\n",
    "BIKE = True\n",
    "CAR = False\n",
    "TRAVEL_100_KM = BIKE or CAR\n",
    "\n",
    "print(f\"You have BIKE: {BIKE}\")\n",
    "print(f\"You have CAR: {CAR}\")\n",
    "print(f\"You can travel 100 KMs: {TRAVEL_100_KM}\\n\")\n",
    "\n",
    "\n",
    "BIKE = False\n",
    "CAR = True\n",
    "TRAVEL_100_KM = BIKE or CAR\n",
    "\n",
    "print(f\"You have BIKE: {BIKE}\")\n",
    "print(f\"You have CAR: {CAR}\")\n",
    "print(f\"You can travel 100 KMs: {TRAVEL_100_KM}\\n\")\n",
    "\n",
    "BIKE = False\n",
    "CAR = False\n",
    "TRAVEL_100_KM = BIKE or CAR\n",
    "\n",
    "print(f\"You have BIKE: {BIKE}\")\n",
    "print(f\"You have CAR: {CAR}\")\n",
    "print(f\"You can travel 100 KMs: {TRAVEL_100_KM}\")"
   ]
  },
  {
   "cell_type": "markdown",
   "id": "10251498-fc2a-4a3c-b7b1-b5cd6b189faa",
   "metadata": {},
   "source": [
    "Above example in tablular format-\n",
    "\n",
    "|BIKE|CAR|TRAVEL_100_KM|\n",
    "|:-:|:-:|:-:|\n",
    "|False|False|False|\n",
    "|False|True|True|\n",
    "|True|False|True|\n",
    "|True|True|True|\n",
    "\n",
    "Above table represents OR gates Truth table-\n",
    "\n",
    "|X|Y|Z|\n",
    "|-|-|-|\n",
    "|0|0|0|\n",
    "|0|1|1|\n",
    "|1|0|1|\n",
    "|1|1|1|\n",
    "\n",
    "---\n",
    "\n"
   ]
  },
  {
   "cell_type": "markdown",
   "id": "5c93aaca-afb3-4eaa-b65d-c42eeed5e62a",
   "metadata": {},
   "source": [
    "### Equality Operators\n",
    "\n",
    "Following operations are present in python for equlity check operation-\n",
    "\n",
    "|Operators|Meaning|\n",
    "|-|-|\n",
    "|**is**|***a is b*** returns true if variable/identifiers a and b *points* to the *same object*|\n",
    "|**is not**|***a is not b*** returns true if variable/identifiers a and b *points* to the *different object*|\n",
    "|**==**|***a == b*** returns true if variable/identifiers a and b has same value|\n",
    "|**!=**|***a != b*** returns true if variable/identifiers a and b has different value|"
   ]
  },
  {
   "cell_type": "code",
   "execution_count": 5,
   "id": "4e07aff9-c971-42d6-ba1d-7a092103a55c",
   "metadata": {},
   "outputs": [
    {
     "name": "stdout",
     "output_type": "stream",
     "text": [
      "id of list_a = 139704013013440\n",
      "id of list_b = 139704012988032\n",
      "list_a is list_b = False\n",
      "list_a == list_b = True\n"
     ]
    }
   ],
   "source": [
    "list_a = [1,2,3]\n",
    "list_b = [1,2,3]\n",
    "\n",
    "print(f\"id of list_a = {id(list_a)}\")\n",
    "print(f\"id of list_b = {id(list_b)}\")\n",
    "print(f\"list_a is list_b = {list_a is list_b}\")\n",
    "print(f\"list_a == list_b = {list_a == list_b}\")\n"
   ]
  },
  {
   "cell_type": "code",
   "execution_count": 6,
   "id": "cbb3c878-8618-47b5-b7ec-35af308c9682",
   "metadata": {},
   "outputs": [
    {
     "name": "stdout",
     "output_type": "stream",
     "text": [
      "id of list_a = 139704013013440\n",
      "id of list_c = 139704013013440\n",
      "list_a is list_c = True\n",
      "list_a == list_c = True\n"
     ]
    }
   ],
   "source": [
    "list_c = list_a\n",
    "\n",
    "print(f\"id of list_a = {id(list_a)}\")\n",
    "print(f\"id of list_c = {id(list_c)}\")\n",
    "print(f\"list_a is list_c = {list_a is list_c}\")\n",
    "print(f\"list_a == list_c = {list_a == list_c}\")"
   ]
  },
  {
   "cell_type": "markdown",
   "id": "ce313114-5e5a-4761-b35a-799ee1ef1c8c",
   "metadata": {},
   "source": [
    "> Example for **is not** Operator"
   ]
  },
  {
   "cell_type": "code",
   "execution_count": 7,
   "id": "3684a3ca-e1ed-4854-a234-bd6e748fd4f5",
   "metadata": {},
   "outputs": [
    {
     "name": "stdout",
     "output_type": "stream",
     "text": [
      "list_d is not list_e = True\n"
     ]
    }
   ],
   "source": [
    "list_d = [1,2,3]\n",
    "list_e = [3,4]\n",
    "\n",
    "print(f\"list_d is not list_e = {list_d is not list_e}\")"
   ]
  },
  {
   "cell_type": "markdown",
   "id": "1b082c59-3313-4ce3-988e-5f14e62eff7e",
   "metadata": {},
   "source": [
    "> Example for **==** Operator"
   ]
  },
  {
   "cell_type": "code",
   "execution_count": 8,
   "id": "39da06e5-904c-4ce7-ba0e-a8ecbb5e6103",
   "metadata": {},
   "outputs": [
    {
     "name": "stdout",
     "output_type": "stream",
     "text": [
      "list_d == list_e = False\n"
     ]
    }
   ],
   "source": [
    "list_d = [1,2,3]\n",
    "list_e = [3,4]\n",
    "\n",
    "print(f\"list_d == list_e = {list_d == list_e}\")"
   ]
  },
  {
   "cell_type": "markdown",
   "id": "784f0520-5a69-425e-b76d-656079591b3c",
   "metadata": {},
   "source": [
    "> Example for **!=** Operator"
   ]
  },
  {
   "cell_type": "code",
   "execution_count": 9,
   "id": "e5aab3c6-a7fb-40c5-a1ed-266637813809",
   "metadata": {},
   "outputs": [
    {
     "name": "stdout",
     "output_type": "stream",
     "text": [
      "list_d == list_e = True\n"
     ]
    }
   ],
   "source": [
    "list_d = [1,2,3]\n",
    "list_e = [3,4]\n",
    "\n",
    "print(f\"list_d == list_e = {list_d != list_e}\")"
   ]
  },
  {
   "cell_type": "code",
   "execution_count": 12,
   "id": "efd88e33-2bdf-45a2-8bf3-c35fbe6ad088",
   "metadata": {},
   "outputs": [
    {
     "data": {
      "text/plain": [
       "[1, 2, 55]"
      ]
     },
     "execution_count": 12,
     "metadata": {},
     "output_type": "execute_result"
    }
   ],
   "source": [
    "list_a[2]=55 # mutable\n",
    "list_a"
   ]
  },
  {
   "cell_type": "markdown",
   "id": "b4c9d577-f17e-44dd-9199-2710a270961d",
   "metadata": {},
   "source": [
    "## Comparison operation\n",
    "|Operation|Meaning|\n",
    "|:-:|:-:|\n",
    "| **<** |less than|\n",
    "| **<=** |less than or equal to|\n",
    "| **>** |greater than|\n",
    "| **>=** |greater than or equal to|\n"
   ]
  },
  {
   "cell_type": "code",
   "execution_count": 28,
   "id": "4182791b-d5f0-41e7-a13a-d2883ca3a6fc",
   "metadata": {},
   "outputs": [
    {
     "name": "stdout",
     "output_type": "stream",
     "text": [
      "bike is faster than car: False\n"
     ]
    }
   ],
   "source": [
    "maxium_speed_of_bike = 150\n",
    "max_speed_of_car = 200\n",
    "\n",
    "print(f\"bike is faster than car: {maxium_speed_of_bike >= max_speed_of_car}\")"
   ]
  },
  {
   "cell_type": "code",
   "execution_count": 13,
   "id": "318a7e7b-bf2b-45d5-bf24-8e306bb02d6a",
   "metadata": {},
   "outputs": [
    {
     "name": "stdout",
     "output_type": "stream",
     "text": [
      "today's temperature is less than or equal to yesterday's: True\n"
     ]
    }
   ],
   "source": [
    "temp_today = 25\n",
    "temp_yesterday = 27\n",
    "predicted_temp_nextDay = 27\n",
    "\n",
    "print(f\"today's temperature is less than or equal to yesterday's: {temp_today <= temp_yesterday}\")"
   ]
  },
  {
   "cell_type": "markdown",
   "id": "9b9c6c6a-3729-4805-9925-eabc651fe12a",
   "metadata": {},
   "source": [
    "## Arithmethic Operations\n",
    "|Operation|Meaning|\n",
    "|:-:|:-:|\n",
    "| **+** |addition|\n",
    "| **-** |subtraction|\n",
    "| **\\*** |multiplication|\n",
    "| **/** |true division|\n",
    "| **//** |integer division|\n",
    "| **%** |the modulo operator|"
   ]
  },
  {
   "cell_type": "markdown",
   "id": "f6cd5d39-6005-4264-8e41-6b57a98e0ca6",
   "metadata": {},
   "source": [
    "Here `+`, `-`, `*`, `/` are regular arithmatic operators. Lets look at the `//` and `%` operators"
   ]
  },
  {
   "cell_type": "code",
   "execution_count": 14,
   "id": "77f19418-8eea-4cb1-891a-ad1bc7ce3f0d",
   "metadata": {},
   "outputs": [
    {
     "name": "stdout",
     "output_type": "stream",
     "text": [
      "integer division:\n",
      "25/5=5\n"
     ]
    }
   ],
   "source": [
    "var_a = 5\n",
    "var_b = 25\n",
    "integer_division = var_b // var_a\n",
    "print(f\"integer division:\\n{var_b}/{var_a}={integer_division}\")"
   ]
  },
  {
   "cell_type": "code",
   "execution_count": 15,
   "id": "4125d134-cdfc-4a89-a9d1-59dd6253395c",
   "metadata": {},
   "outputs": [
    {
     "name": "stdout",
     "output_type": "stream",
     "text": [
      "integer division:\n",
      "25/3=8\n"
     ]
    }
   ],
   "source": [
    "var_a = 3\n",
    "var_b = 25\n",
    "integer_division = var_b // var_a\n",
    "print(f\"integer division:\\n{var_b}/{var_a}={integer_division}\")"
   ]
  },
  {
   "cell_type": "code",
   "execution_count": 16,
   "id": "acc3e431-760f-411c-87c2-c392e304e284",
   "metadata": {},
   "outputs": [
    {
     "name": "stdout",
     "output_type": "stream",
     "text": [
      "remainder:\n",
      "25/5 is 0\n"
     ]
    }
   ],
   "source": [
    "var_a = 5\n",
    "var_b = 25\n",
    "remainder = var_b % var_a\n",
    "print(f\"remainder:\\n{var_b}/{var_a} is {remainder}\")"
   ]
  },
  {
   "cell_type": "markdown",
   "id": "8f32d926-53cd-4ce5-876d-826670ddf47d",
   "metadata": {},
   "source": [
    "### Bitwise Operators\n",
    "|Operation|Meaning|\n",
    "|:-:|:-:|\n",
    "| **∼** |bitwise complement (prefix unary operator)|\n",
    "| **&** |bitwise and|\n",
    "| **\\|** |bitwise or|\n",
    "| **^** |bitwise exclusive-or|\n",
    "| **<<** |shift bits left, filling in with zeros|\n",
    "| **>>** |shift bits right, filling in with sign bit|\n"
   ]
  },
  {
   "cell_type": "markdown",
   "id": "46cc701a-32d2-41cc-b21f-0a232af21155",
   "metadata": {},
   "source": [
    "|x|y|&|\n",
    "|:-:|:-:|:-:|\n",
    "|0|0|0|\n",
    "|0|1|0|\n",
    "|1|0|0|\n",
    "|1|1|1|\n",
    "\n",
    "\n",
    "|x|y|\\||\n",
    "|:-:|:-:|:-:|\n",
    "|0|0|0|\n",
    "|0|1|1|\n",
    "|1|0|1|\n",
    "|1|1|1|\n",
    "\n",
    "\n",
    "|x|y|^|\n",
    "|:-:|:-:|:-:|\n",
    "|0|0|0|\n",
    "|0|1|1|\n",
    "|1|0|1|\n",
    "|1|1|0|\n",
    "\n"
   ]
  },
  {
   "cell_type": "code",
   "execution_count": 17,
   "id": "cf5ce854-d0ca-40fd-bf12-f50acef98303",
   "metadata": {},
   "outputs": [
    {
     "name": "stdout",
     "output_type": "stream",
     "text": [
      "var_a: 10 binary of var_a: 0b1010\n",
      "complement of var_a: -11 binary of complement of var_a: -0b1011\n"
     ]
    }
   ],
   "source": [
    "var_a = 10\n",
    "binary_a = bin(var_a)\n",
    "\n",
    "complement_a = ~var_a\n",
    "binary_complement_a = bin(complement_a)\n",
    "\n",
    "print(f\"var_a: {var_a} binary of var_a: {binary_a}\")\n",
    "print(f\"complement of var_a: {complement_a} \\\n",
    "binary of complement of var_a: {binary_complement_a}\") # returns one's compliment"
   ]
  },
  {
   "cell_type": "code",
   "execution_count": 18,
   "id": "6f989851-2de2-456a-ada2-51a774c75d85",
   "metadata": {},
   "outputs": [
    {
     "name": "stdout",
     "output_type": "stream",
     "text": [
      "var_a: 10, var_b: 4\n",
      "binary of var_a: 0b1010, binary of var_b: 0b100\n",
      "bitwise_and: 0, binary_of_bitwise_and: 0b0\n"
     ]
    }
   ],
   "source": [
    "var_a = 10\n",
    "var_b = 4\n",
    "\n",
    "binary_a = bin(var_a)\n",
    "binary_b = bin(var_b)\n",
    "\n",
    "bitwise_and = var_a & var_b\n",
    "binary_bitwise_and = bin(bitwise_and)\n",
    "\n",
    "print(f\"var_a: {var_a}, var_b: {var_b}\")\n",
    "print(f\"binary of var_a: {binary_a}, binary of var_b: {binary_b}\")\n",
    "\n",
    "print(f\"bitwise_and: {bitwise_and}, binary_of_bitwise_and: {binary_bitwise_and}\")"
   ]
  },
  {
   "cell_type": "code",
   "execution_count": 19,
   "id": "3b250369-c7c9-4bc3-bd09-7e91cee5384f",
   "metadata": {},
   "outputs": [
    {
     "name": "stdout",
     "output_type": "stream",
     "text": [
      "var_a: 10, var_b: 4\n",
      "binary of var_a: 0b1010, binary of var_b: 0b100\n",
      "bitwise_or: 14, binary_bitwise_or: 0b0\n"
     ]
    }
   ],
   "source": [
    "var_a = 10\n",
    "var_b = 4\n",
    "\n",
    "binary_a = bin(var_a)\n",
    "binary_b = bin(var_b)\n",
    "\n",
    "bitwise_or = var_a | var_b\n",
    "binary_bitwise_or = bin(bitwise_and)\n",
    "\n",
    "print(f\"var_a: {var_a}, var_b: {var_b}\")\n",
    "print(f\"binary of var_a: {binary_a}, binary of var_b: {binary_b}\")\n",
    "\n",
    "print(f\"bitwise_or: {bitwise_or}, binary_bitwise_or: {binary_bitwise_or}\")"
   ]
  },
  {
   "cell_type": "code",
   "execution_count": 20,
   "id": "cdc2f3f7-05fb-4502-bd87-458d5154e01c",
   "metadata": {},
   "outputs": [
    {
     "name": "stdout",
     "output_type": "stream",
     "text": [
      "var_a: 10, var_b: 4\n",
      "binary of var_a: 0b1010, binary of var_b: 0b100\n",
      "bitwise_xor: 14, binary_bitwise_xor: 0b0\n"
     ]
    }
   ],
   "source": [
    "var_a = 10\n",
    "var_b = 4\n",
    "\n",
    "binary_a = bin(var_a)\n",
    "binary_b = bin(var_b)\n",
    "\n",
    "bitwise_xor = var_a ^ var_b\n",
    "binary_bitwise_xor = bin(bitwise_and)\n",
    "\n",
    "print(f\"var_a: {var_a}, var_b: {var_b}\")\n",
    "print(f\"binary of var_a: {binary_a}, binary of var_b: {binary_b}\")\n",
    "\n",
    "print(f\"bitwise_xor: {bitwise_xor}, binary_bitwise_xor: {binary_bitwise_xor}\")"
   ]
  },
  {
   "cell_type": "code",
   "execution_count": 21,
   "id": "39642ade-b985-4b76-87a5-33315035f80e",
   "metadata": {},
   "outputs": [
    {
     "name": "stdout",
     "output_type": "stream",
     "text": [
      "var_a: 50\n",
      "binary of var_a: 0b110010\n",
      "right_shift: 25\n",
      "binary_right_shift: 0b11001\n"
     ]
    }
   ],
   "source": [
    "var_a = 50\n",
    "\n",
    "binary_a = bin(var_a)\n",
    "\n",
    "right_shift = var_a >> 1\n",
    "binary_right_shift = bin(right_shift)\n",
    "\n",
    "print(f\"var_a: {var_a}\")\n",
    "print(f\"binary of var_a: {binary_a}\")\n",
    "\n",
    "print(f\"right_shift: {right_shift}\")\n",
    "print(f\"binary_right_shift: {binary_right_shift}\")"
   ]
  },
  {
   "cell_type": "code",
   "execution_count": 24,
   "id": "2a185618-5120-4fcd-9903-4a197fcfd2f4",
   "metadata": {},
   "outputs": [
    {
     "data": {
      "text/plain": [
       "True"
      ]
     },
     "execution_count": 24,
     "metadata": {},
     "output_type": "execute_result"
    }
   ],
   "source": [
    "# compare above results with interger division\n",
    "N = 1\n",
    "var_a // 2**N == var_a >> N "
   ]
  },
  {
   "cell_type": "code",
   "execution_count": 25,
   "id": "294b0993-e908-448f-89fd-4a1e366c9d6e",
   "metadata": {},
   "outputs": [
    {
     "data": {
      "text/plain": [
       "True"
      ]
     },
     "execution_count": 25,
     "metadata": {},
     "output_type": "execute_result"
    }
   ],
   "source": [
    "N = 2\n",
    "var_a // 2**N == var_a >> N "
   ]
  },
  {
   "cell_type": "code",
   "execution_count": 26,
   "id": "eff1ee34-908d-4740-a857-ff2b6e415fc4",
   "metadata": {},
   "outputs": [
    {
     "data": {
      "text/plain": [
       "True"
      ]
     },
     "execution_count": 26,
     "metadata": {},
     "output_type": "execute_result"
    }
   ],
   "source": [
    "var_a = 5\n",
    "N = 2\n",
    "var_a // 2**N == var_a >> N "
   ]
  },
  {
   "cell_type": "code",
   "execution_count": 27,
   "id": "d6d9ad9b-8749-4f66-8ffc-b00225ad413d",
   "metadata": {},
   "outputs": [
    {
     "name": "stdout",
     "output_type": "stream",
     "text": [
      "var_a: 50\n",
      "binary of var_a: 0b110010\n",
      "left_shift: 100\n",
      "binary_left_shift: 0b1100100\n"
     ]
    }
   ],
   "source": [
    "var_a = 50\n",
    "\n",
    "binary_a = bin(var_a)\n",
    "\n",
    "left_shift = var_a << 1\n",
    "binary_left_shift = bin(left_shift)\n",
    "\n",
    "print(f\"var_a: {var_a}\")\n",
    "print(f\"binary of var_a: {binary_a}\")\n",
    "\n",
    "print(f\"left_shift: {left_shift}\")\n",
    "print(f\"binary_left_shift: {binary_left_shift}\")\n"
   ]
  },
  {
   "cell_type": "code",
   "execution_count": 28,
   "id": "1db5b875-828a-4d14-84bc-94e965beb080",
   "metadata": {},
   "outputs": [
    {
     "data": {
      "text/plain": [
       "True"
      ]
     },
     "execution_count": 28,
     "metadata": {},
     "output_type": "execute_result"
    }
   ],
   "source": [
    "# compare the above results with multiplication by powers of 2\n",
    "var_a = 5\n",
    "N = 2\n",
    "var_a * 2**N == var_a << N "
   ]
  },
  {
   "cell_type": "code",
   "execution_count": 29,
   "id": "7e86e6f8-3106-4784-a772-f6b6dc4ae369",
   "metadata": {},
   "outputs": [
    {
     "data": {
      "text/plain": [
       "True"
      ]
     },
     "execution_count": 29,
     "metadata": {},
     "output_type": "execute_result"
    }
   ],
   "source": [
    "# compare the above results with multiplication by powers of 2\n",
    "var_a = 25\n",
    "N = 2\n",
    "var_a * 2**N == var_a << N "
   ]
  },
  {
   "cell_type": "markdown",
   "id": "e801f7dc-7cb4-4d80-8d2f-629dd3b1386f",
   "metadata": {},
   "source": [
    "## Operators for Sets and Dictionaries"
   ]
  },
  {
   "cell_type": "markdown",
   "id": "e22a9bd0-a242-4078-abbc-45acebaf8305",
   "metadata": {},
   "source": [
    "|Operation|Meaning|\n",
    "|:-:|:-:|\n",
    "|key in s|containment check|\n",
    "| key not in s | non-containment check |\n",
    "| s1 == s2 | s1 is equivalent to s2 |\n",
    "| s1 != s2 | s1 is not equivalent to s2 |\n",
    "| s1 <= s2 | s1 is subset of s2 |\n",
    "| s1 < s2 | s1 is proper subset of s2 | \n",
    "| s1 >= s2 | s1 is superset of s2 | \n",
    "| s1 > s2 | s1 is proper superset of s2 |\n",
    "| s1 \\| s2 | the union of s1 and s2 |\n",
    "| s1 & s2 | the intersection of s1 and s2 |\n",
    "| s1 − s2 | the set of elements in s1 but not s2 |\n",
    "| s1 ˆ s2 | the set of elements in precisely one of s1 or s2 |"
   ]
  },
  {
   "cell_type": "markdown",
   "id": "218dd6f9-648f-4482-aca9-8b049b9daf2c",
   "metadata": {},
   "source": [
    "> Operations on Dictionary"
   ]
  },
  {
   "cell_type": "code",
   "execution_count": 33,
   "id": "216c4953-66c1-412e-b3d9-dc923fbb1b36",
   "metadata": {},
   "outputs": [
    {
     "data": {
      "text/plain": [
       "True"
      ]
     },
     "execution_count": 33,
     "metadata": {},
     "output_type": "execute_result"
    }
   ],
   "source": [
    "\"x\" in {\"x\":25, \"y\":34}"
   ]
  },
  {
   "cell_type": "code",
   "execution_count": 34,
   "id": "43b1bae5-2d7c-4bb7-99c4-171abe651815",
   "metadata": {},
   "outputs": [
    {
     "data": {
      "text/plain": [
       "False"
      ]
     },
     "execution_count": 34,
     "metadata": {},
     "output_type": "execute_result"
    }
   ],
   "source": [
    "\"z\" in {\"x\":25, \"y\":34}"
   ]
  },
  {
   "cell_type": "code",
   "execution_count": 35,
   "id": "50231410-3b69-4fae-8639-dad0e962d4c4",
   "metadata": {},
   "outputs": [
    {
     "data": {
      "text/plain": [
       "True"
      ]
     },
     "execution_count": 35,
     "metadata": {},
     "output_type": "execute_result"
    }
   ],
   "source": [
    "\"y\" not in {\"x\":25, \"z\":34}"
   ]
  },
  {
   "cell_type": "markdown",
   "id": "3ba9274f-39eb-45ea-b025-08f796f695ae",
   "metadata": {},
   "source": [
    "> Operations on Sets"
   ]
  },
  {
   "cell_type": "code",
   "execution_count": 39,
   "id": "a6fa29fe-3cf0-419b-b77e-8b9f5a93c04b",
   "metadata": {},
   "outputs": [
    {
     "data": {
      "text/plain": [
       "False"
      ]
     },
     "execution_count": 39,
     "metadata": {},
     "output_type": "execute_result"
    }
   ],
   "source": [
    "set_1 = {1,2,3}\n",
    "set_2 = {1,2,5}\n",
    "\n",
    "set_1 == set_2"
   ]
  },
  {
   "cell_type": "code",
   "execution_count": 40,
   "id": "5bb61f82-e95b-4cc5-8db6-0a7ec615d715",
   "metadata": {},
   "outputs": [
    {
     "data": {
      "text/plain": [
       "True"
      ]
     },
     "execution_count": 40,
     "metadata": {},
     "output_type": "execute_result"
    }
   ],
   "source": [
    "set_1 == set_1"
   ]
  },
  {
   "cell_type": "code",
   "execution_count": 41,
   "id": "23478dd6-2bf2-49c1-87aa-fbc569f13402",
   "metadata": {},
   "outputs": [
    {
     "data": {
      "text/plain": [
       "True"
      ]
     },
     "execution_count": 41,
     "metadata": {},
     "output_type": "execute_result"
    }
   ],
   "source": [
    "set_1 != set_2"
   ]
  },
  {
   "cell_type": "markdown",
   "id": "2c2ee675-8871-410d-a622-e825c0148aff",
   "metadata": {},
   "source": [
    "> set_1 $\\subseteq$ set_2"
   ]
  },
  {
   "cell_type": "code",
   "execution_count": 42,
   "id": "c240330b-2365-4622-8934-c885bd7a2d46",
   "metadata": {},
   "outputs": [
    {
     "data": {
      "text/plain": [
       "False"
      ]
     },
     "execution_count": 42,
     "metadata": {},
     "output_type": "execute_result"
    }
   ],
   "source": [
    "set_1 <= set_2"
   ]
  },
  {
   "cell_type": "code",
   "execution_count": 43,
   "id": "a0d0073b-e874-41ab-ac20-60d65dca4a1c",
   "metadata": {},
   "outputs": [
    {
     "data": {
      "text/plain": [
       "True"
      ]
     },
     "execution_count": 43,
     "metadata": {},
     "output_type": "execute_result"
    }
   ],
   "source": [
    "set_1 = {1,2,3}\n",
    "set_2 = {1,2}\n",
    "\n",
    "set_2 <= set_1"
   ]
  },
  {
   "cell_type": "markdown",
   "id": "1f8d274c-f429-4591-8fdb-db05eeebfc97",
   "metadata": {},
   "source": [
    "> set_1 $\\subset$ set_2"
   ]
  },
  {
   "cell_type": "code",
   "execution_count": 44,
   "id": "78f17400-526c-4c4f-837b-8d8ba67170ab",
   "metadata": {},
   "outputs": [
    {
     "data": {
      "text/plain": [
       "True"
      ]
     },
     "execution_count": 44,
     "metadata": {},
     "output_type": "execute_result"
    }
   ],
   "source": [
    "set_2 < set_1"
   ]
  },
  {
   "cell_type": "markdown",
   "id": "552e7a07-020b-405a-ba10-7c599e9a2716",
   "metadata": {},
   "source": [
    "> set_1 $\\supseteq$ set_2"
   ]
  },
  {
   "cell_type": "code",
   "execution_count": 46,
   "id": "9e12c018-8396-4a76-a5e6-304e53196497",
   "metadata": {},
   "outputs": [
    {
     "data": {
      "text/plain": [
       "True"
      ]
     },
     "execution_count": 46,
     "metadata": {},
     "output_type": "execute_result"
    }
   ],
   "source": [
    "set_1 > set_2"
   ]
  },
  {
   "cell_type": "markdown",
   "id": "158eaa49-97c4-4fbe-bda5-08a43ec9299a",
   "metadata": {},
   "source": [
    "> set_1 $\\cap$ set_2"
   ]
  },
  {
   "cell_type": "code",
   "execution_count": 47,
   "id": "d3f7396a-d9f6-42c4-bc9a-393c488d4b94",
   "metadata": {},
   "outputs": [
    {
     "data": {
      "text/plain": [
       "{1, 2}"
      ]
     },
     "execution_count": 47,
     "metadata": {},
     "output_type": "execute_result"
    }
   ],
   "source": [
    "set_1 & set_2\n"
   ]
  },
  {
   "cell_type": "markdown",
   "id": "f87cc658-acc8-48e4-8f36-458874b0e913",
   "metadata": {},
   "source": [
    "> set_1 - set_2"
   ]
  },
  {
   "cell_type": "code",
   "execution_count": 48,
   "id": "ebb49314-c8ab-4aba-820b-b10b0bc60cec",
   "metadata": {},
   "outputs": [
    {
     "data": {
      "text/plain": [
       "{3}"
      ]
     },
     "execution_count": 48,
     "metadata": {},
     "output_type": "execute_result"
    }
   ],
   "source": [
    "set_1 ^ set_2"
   ]
  },
  {
   "cell_type": "markdown",
   "id": "a1571e45-017e-4a3a-802a-7709caf2b246",
   "metadata": {},
   "source": [
    "## Extended Assignment Operators\n",
    "\n"
   ]
  },
  {
   "cell_type": "code",
   "execution_count": 50,
   "id": "694b5ec1-7fe8-4a22-8466-f69c15ad32ac",
   "metadata": {},
   "outputs": [
    {
     "name": "stdout",
     "output_type": "stream",
     "text": [
      "[1, 2, 3, 4, 5]\n",
      "[1, 2, 3, 4, 5, 6, 7]\n"
     ]
    }
   ],
   "source": [
    "alpha = [1, 2, 3]\n",
    "beta = alpha # an alias for alpha\n",
    "beta += [4, 5] # extends the original list with two more elements\n",
    "beta = beta + [6, 7] # reassigns beta to a new\n",
    "print(alpha)\n",
    "print(beta)"
   ]
  },
  {
   "cell_type": "markdown",
   "id": "c6c91ca2-2216-402f-b97f-341e93237644",
   "metadata": {},
   "source": [
    "##  Operator Precedence\n",
    "\n",
    "Following table represents operators from highest to the lowest precedence -"
   ]
  },
  {
   "cell_type": "markdown",
   "id": "f9965fce-8d36-4b7d-b371-1b764fb049a7",
   "metadata": {},
   "source": [
    "| Operator Precedence |\n",
    "|: - :|\n",
    "\n",
    "|Precedence| Type | Symbols |\n",
    "|:-:|:-:|:-:|\n",
    "|1| member access | expr.member |\n",
    "|2| function/method calls | expr(...) |\n",
    "|3| container subscripts/slices | expr[...] | \n",
    "|4| exponentiation | ** |\n",
    "|5| unary operators | +expr, −expr, ~expr |\n",
    "|6| multiplication, division | *, /, //, % |\n",
    "|7| addition, subtraction | +, − |\n",
    "|8| bitwise shifting | <<, >> |\n",
    "|9| bitwise-and | & |\n",
    "|10| bitwise-xor | ˆ |\n",
    "|11| bitwise-or |\\| | \n",
    "|12| comparisons | is, is not, ==, !=, <, <=, >, >= |\n",
    "|13| containment | in, not in |\n",
    "|14| logical-not | not expr |\n",
    "|15| logical-and | and |\n",
    "|16| logical-or | or |\n",
    "|17| conditional | val1 if condition else val2 |\n",
    "|18| assignments | =, +=, −=, =, etc. |"
   ]
  },
  {
   "cell_type": "code",
   "execution_count": null,
   "id": "34d1249a-78a4-4def-a222-b978a4905243",
   "metadata": {},
   "outputs": [],
   "source": []
  }
 ],
 "metadata": {
  "kernelspec": {
   "display_name": "Python 3 (ipykernel)",
   "language": "python",
   "name": "python3"
  },
  "language_info": {
   "codemirror_mode": {
    "name": "ipython",
    "version": 3
   },
   "file_extension": ".py",
   "mimetype": "text/x-python",
   "name": "python",
   "nbconvert_exporter": "python",
   "pygments_lexer": "ipython3",
   "version": "3.10.8"
  }
 },
 "nbformat": 4,
 "nbformat_minor": 5
}
