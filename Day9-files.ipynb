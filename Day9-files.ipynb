{
 "cells": [
  {
   "cell_type": "markdown",
   "id": "637b7459-d0f8-421b-90b9-131a73ffe0d1",
   "metadata": {},
   "source": [
    "# Working with files"
   ]
  },
  {
   "cell_type": "code",
   "execution_count": 37,
   "id": "129104fc-c326-45c0-8310-351a1d00d2c2",
   "metadata": {},
   "outputs": [],
   "source": [
    "#open file in writing mode\n",
    "f=open('file_test.txt','w')"
   ]
  },
  {
   "cell_type": "code",
   "execution_count": 38,
   "id": "cd658a1a-87af-4023-8273-2abe07f9481e",
   "metadata": {},
   "outputs": [
    {
     "name": "stdout",
     "output_type": "stream",
     "text": [
      "\u001b[0m\u001b[01;34m'Assignments & tasks'\u001b[0m/\n",
      "'Day1-control flow and loop statement.ipynb'\n",
      " Day2-operator.ipynb\n",
      "'Day3-string manupulation.ipynb'\n",
      " Day4-list.ipynb\n",
      " Day5-tuple,dict,set.ipynb\n",
      " Day6-function.ipynb\n",
      "\"day7-oop's .ipynb\"\n",
      "'Day8-decorators & methods.ipynb'\n",
      " Day9-files.ipynb\n",
      "'different types of patterns.ipynb'\n",
      " file_test.txt\n",
      " practice.ipynb\n"
     ]
    }
   ],
   "source": [
    "ls"
   ]
  },
  {
   "cell_type": "code",
   "execution_count": 39,
   "id": "5e5ba634-6974-47b5-adac-0143744dada1",
   "metadata": {},
   "outputs": [
    {
     "data": {
      "text/plain": [
       "44"
      ]
     },
     "execution_count": 39,
     "metadata": {},
     "output_type": "execute_result"
    }
   ],
   "source": [
    "f.write('this is my first write operation in the file')"
   ]
  },
  {
   "cell_type": "code",
   "execution_count": 40,
   "id": "5f5e281f-8e3a-4b57-a419-ee83eacee2a6",
   "metadata": {},
   "outputs": [],
   "source": [
    "f.close()"
   ]
  },
  {
   "cell_type": "code",
   "execution_count": 45,
   "id": "e8ea072c-5f48-4a1e-98fd-491139497a31",
   "metadata": {},
   "outputs": [],
   "source": [
    "#open file in write and append mode\n",
    "f2=open('test.txt','a')"
   ]
  },
  {
   "cell_type": "code",
   "execution_count": 46,
   "id": "826db53f-eb49-453c-a82b-9260c82632fb",
   "metadata": {},
   "outputs": [
    {
     "data": {
      "text/plain": [
       "279"
      ]
     },
     "execution_count": 46,
     "metadata": {},
     "output_type": "execute_result"
    }
   ],
   "source": [
    "f2.write('Data science is the study of data to extract meaningful insights for business. It is a multidisciplinary approach that combines principles and practices from the fields of mathematics, statistics, artificial intelligence, and computer engineering to analyze large amounts of data')"
   ]
  },
  {
   "cell_type": "code",
   "execution_count": 47,
   "id": "bc547e79-9c8b-4e85-9c94-c1fc67fd888b",
   "metadata": {},
   "outputs": [],
   "source": [
    "f2.close()"
   ]
  },
  {
   "cell_type": "code",
   "execution_count": 48,
   "id": "40fa2006-6198-4365-be2a-2ba3e9290de6",
   "metadata": {},
   "outputs": [],
   "source": [
    "#open file for reading\n",
    "data=open('test.txt','r')"
   ]
  },
  {
   "cell_type": "code",
   "execution_count": 49,
   "id": "69b35943-bded-4b95-b722-49e12b60112d",
   "metadata": {},
   "outputs": [
    {
     "data": {
      "text/plain": [
       "'Data science is the study of data to extract meaningful insights for business. It is a multidisciplinary approach that combines principles and practices from the fields of mathematics, statistics, artificial intelligence, and computer engineering to analyze large amounts of dataData science is the study of data to extract meaningful insights for business. It is a multidisciplinary approach that combines principles and practices from the fields of mathematics, statistics, artificial intelligence, and computer engineering to analyze large amounts of data'"
      ]
     },
     "execution_count": 49,
     "metadata": {},
     "output_type": "execute_result"
    }
   ],
   "source": [
    "data.read()"
   ]
  },
  {
   "cell_type": "code",
   "execution_count": 50,
   "id": "19cddeda-3d55-4da9-b6ab-20c1f77b0579",
   "metadata": {},
   "outputs": [
    {
     "data": {
      "text/plain": [
       "''"
      ]
     },
     "execution_count": 50,
     "metadata": {},
     "output_type": "execute_result"
    }
   ],
   "source": [
    "data.read()"
   ]
  },
  {
   "cell_type": "code",
   "execution_count": 55,
   "id": "a3bc9a2b-eeb4-46ff-a603-159788971782",
   "metadata": {},
   "outputs": [
    {
     "data": {
      "text/plain": [
       "100"
      ]
     },
     "execution_count": 55,
     "metadata": {},
     "output_type": "execute_result"
    }
   ],
   "source": [
    "data.seek(100)"
   ]
  },
  {
   "cell_type": "code",
   "execution_count": 56,
   "id": "ae94ca64-4681-475a-88b9-3c7372959670",
   "metadata": {},
   "outputs": [
    {
     "data": {
      "text/plain": [
       "'nary approach that combines principles and practices from the fields of mathematics, statistics, artificial intelligence, and computer engineering to analyze large amounts of dataData science is the study of data to extract meaningful insights for business. It is a multidisciplinary approach that combines principles and practices from the fields of mathematics, statistics, artificial intelligence, and computer engineering to analyze large amounts of data'"
      ]
     },
     "execution_count": 56,
     "metadata": {},
     "output_type": "execute_result"
    }
   ],
   "source": [
    "data.read()"
   ]
  },
  {
   "cell_type": "code",
   "execution_count": 57,
   "id": "5e7b8a4d-a387-46de-a829-18f456fd3bf4",
   "metadata": {},
   "outputs": [],
   "source": [
    "data1=open('test.txt','r')"
   ]
  },
  {
   "cell_type": "code",
   "execution_count": 58,
   "id": "787d3c21-8726-41eb-905b-f5eea84f4a61",
   "metadata": {},
   "outputs": [
    {
     "name": "stdout",
     "output_type": "stream",
     "text": [
      "Data science is the study of data to extract meaningful insights for business. It is a multidisciplinary approach that combines principles and practices from the fields of mathematics, statistics, artificial intelligence, and computer engineering to analyze large amounts of dataData science is the study of data to extract meaningful insights for business. It is a multidisciplinary approach that combines principles and practices from the fields of mathematics, statistics, artificial intelligence, and computer engineering to analyze large amounts of data\n"
     ]
    }
   ],
   "source": [
    "for i in data1:\n",
    "    print(i)"
   ]
  },
  {
   "cell_type": "code",
   "execution_count": 59,
   "id": "d1d38b6a-2a9a-4a48-998f-4539963ddb96",
   "metadata": {},
   "outputs": [
    {
     "data": {
      "text/plain": [
       "558"
      ]
     },
     "execution_count": 59,
     "metadata": {},
     "output_type": "execute_result"
    }
   ],
   "source": [
    "#size of file\n",
    "import os\n",
    "os.path.getsize('test.txt')"
   ]
  },
  {
   "cell_type": "code",
   "execution_count": 60,
   "id": "a24ff783-d042-46f7-a99a-4ac1ad4b14a0",
   "metadata": {},
   "outputs": [
    {
     "data": {
      "text/plain": [
       "'new_test.txt'"
      ]
     },
     "execution_count": 60,
     "metadata": {},
     "output_type": "execute_result"
    }
   ],
   "source": [
    "#copy of file\n",
    "import shutil\n",
    "shutil.copy('test.txt','new_test.txt')"
   ]
  },
  {
   "cell_type": "code",
   "execution_count": 61,
   "id": "654ed670-5800-4db2-b93c-e8558c2eec34",
   "metadata": {},
   "outputs": [],
   "source": [
    "#delete file\n",
    "os.remove('test.txt')"
   ]
  },
  {
   "cell_type": "code",
   "execution_count": 62,
   "id": "791c1fc6-fd09-492c-b101-c6d28d82799b",
   "metadata": {},
   "outputs": [
    {
     "name": "stdout",
     "output_type": "stream",
     "text": [
      "Data science is the study of data to extract meaningful insights for business. It is a multidisciplinary approach that combines principles and practices from the fields of mathematics, statistics, artificial intelligence, and computer engineering to analyze large amounts of dataData science is the study of data to extract meaningful insights for business. It is a multidisciplinary approach that combines principles and practices from the fields of mathematics, statistics, artificial intelligence, and computer engineering to analyze large amounts of data\n"
     ]
    }
   ],
   "source": [
    "#another way to open a file\n",
    "with open('new_test.txt','r') as f:\n",
    "    print(f.read())\n",
    "    "
   ]
  },
  {
   "cell_type": "code",
   "execution_count": 63,
   "id": "8dc01a83-a92f-4232-bf04-bf875f7b46cd",
   "metadata": {},
   "outputs": [],
   "source": [
    "#rename file\n",
    "os.rename('new_test.txt','test1.txt')"
   ]
  },
  {
   "cell_type": "code",
   "execution_count": 64,
   "id": "b4c8d54a-ba6d-4a53-9b50-15c1ea9c9839",
   "metadata": {},
   "outputs": [],
   "source": [
    "# saving file in other format\n",
    "data={\n",
    "    'name':'unnati',\n",
    "    'emailid':'unnati@gmail.com',\n",
    "    'mobile no.':4789478947,\n",
    "    'courses':['data science','big data','data analytics']\n",
    "}"
   ]
  },
  {
   "cell_type": "code",
   "execution_count": 65,
   "id": "0a348fda-1ae0-4b27-bd49-61d151704263",
   "metadata": {},
   "outputs": [],
   "source": [
    "import json"
   ]
  },
  {
   "cell_type": "code",
   "execution_count": 74,
   "id": "3999e191-2559-44a1-94d4-3ebb6e0a8c30",
   "metadata": {},
   "outputs": [],
   "source": [
    "#write mode\n",
    "with open('test2.json','w') as f:\n",
    "    json.dump(data,f)"
   ]
  },
  {
   "cell_type": "code",
   "execution_count": 75,
   "id": "e7f8b193-dd4d-4642-b533-35f99b2e4ab8",
   "metadata": {},
   "outputs": [],
   "source": [
    "# read mode\n",
    "with open('test2.json','r') as f:\n",
    "    data1= json.load(f)"
   ]
  },
  {
   "cell_type": "code",
   "execution_count": 76,
   "id": "bd437552-d1aa-4f87-abe1-691beac8957b",
   "metadata": {},
   "outputs": [
    {
     "data": {
      "text/plain": [
       "{'name': 'unnati',\n",
       " 'emailid': 'unnati@gmail.com',\n",
       " 'mobile no.': 4789478947,\n",
       " 'courses': ['data science', 'big data', 'data analytics']}"
      ]
     },
     "execution_count": 76,
     "metadata": {},
     "output_type": "execute_result"
    }
   ],
   "source": [
    "data1"
   ]
  },
  {
   "cell_type": "code",
   "execution_count": 78,
   "id": "9af4b741-d679-40f9-9e00-23cc29af645c",
   "metadata": {},
   "outputs": [
    {
     "data": {
      "text/plain": [
       "'big data'"
      ]
     },
     "execution_count": 78,
     "metadata": {},
     "output_type": "execute_result"
    }
   ],
   "source": [
    "data1['courses'][1]"
   ]
  },
  {
   "cell_type": "code",
   "execution_count": 79,
   "id": "f6c4a1a7-1388-49c0-a1cc-3f6bfb0fbbc1",
   "metadata": {},
   "outputs": [],
   "source": [
    "data=[['name','emailid','number'],\n",
    "      ['sudh','sudh@gmail.com',123456789],\n",
    "      ['krish','krish@gmail.com',278345979]\n",
    "     ]"
   ]
  },
  {
   "cell_type": "code",
   "execution_count": 84,
   "id": "fdd92650-8d37-4716-b531-365b572c530b",
   "metadata": {},
   "outputs": [],
   "source": [
    "#write and read csv file"
   ]
  },
  {
   "cell_type": "code",
   "execution_count": 80,
   "id": "f3fdb5d9-4d2a-4c5f-a23c-607e866d81a2",
   "metadata": {},
   "outputs": [],
   "source": [
    "import csv"
   ]
  },
  {
   "cell_type": "code",
   "execution_count": 81,
   "id": "de0e6039-6c19-4a88-a532-75d7a602c1b3",
   "metadata": {},
   "outputs": [],
   "source": [
    "with open('test3.csv','w') as f:\n",
    "    w= csv.writer(f)\n",
    "    for i in data:\n",
    "        w.writerow(i)\n",
    "    "
   ]
  },
  {
   "cell_type": "code",
   "execution_count": 83,
   "id": "6b45365f-b739-45e7-acce-bd00b80e3421",
   "metadata": {},
   "outputs": [
    {
     "name": "stdout",
     "output_type": "stream",
     "text": [
      "['name', 'emailid', 'number']\n",
      "['sudh', 'sudh@gmail.com', '123456789']\n",
      "['krish', 'krish@gmail.com', '278345979']\n"
     ]
    }
   ],
   "source": [
    "with open('test3.csv','r') as f:\n",
    "    r= csv.reader(f)\n",
    "    for i in r:\n",
    "        print(i)\n",
    "    "
   ]
  },
  {
   "cell_type": "code",
   "execution_count": 85,
   "id": "dd2f47e9-cbf4-498a-86a4-a715929005ef",
   "metadata": {},
   "outputs": [],
   "source": [
    "# read and write binary data"
   ]
  },
  {
   "cell_type": "code",
   "execution_count": 87,
   "id": "0d012bd5-94e0-48f3-8cbc-162fb5d896aa",
   "metadata": {},
   "outputs": [],
   "source": [
    "with open('test4.bin','wb') as f:\n",
    "    f.write(b'\\x01\\x02\\x03')"
   ]
  },
  {
   "cell_type": "code",
   "execution_count": 88,
   "id": "b3957db6-e85e-4596-88eb-a4967053ba36",
   "metadata": {},
   "outputs": [
    {
     "name": "stdout",
     "output_type": "stream",
     "text": [
      "b'\\x01\\x02\\x03'\n"
     ]
    }
   ],
   "source": [
    "with open('test4.bin','rb') as f:\n",
    "    print(f.read())"
   ]
  },
  {
   "cell_type": "code",
   "execution_count": null,
   "id": "bbc281f0-6532-4c22-93fa-06b307e253de",
   "metadata": {},
   "outputs": [],
   "source": []
  },
  {
   "cell_type": "markdown",
   "id": "934c29cb-1c7b-46d7-83e8-c81d0b69d32d",
   "metadata": {},
   "source": [
    "Buffered Read And Write Other File Methods"
   ]
  },
  {
   "cell_type": "code",
   "execution_count": 89,
   "id": "a3b4e8a8-a0ba-49bb-88c4-28555623f6ec",
   "metadata": {},
   "outputs": [],
   "source": [
    "import io"
   ]
  },
  {
   "cell_type": "code",
   "execution_count": 92,
   "id": "98eed946-45ae-42c9-96f4-007bba994893",
   "metadata": {},
   "outputs": [],
   "source": [
    "with open('test5.txt','wb') as f:\n",
    "    file=io.BufferedWriter(f)\n",
    "    file.write(b'this is my buffer write\\n')\n",
    "    file.write(b'this is my second line that i m trying to write')\n",
    "    file.flush()"
   ]
  },
  {
   "cell_type": "code",
   "execution_count": 97,
   "id": "391fa222-ac86-43f8-b327-251378690ede",
   "metadata": {},
   "outputs": [],
   "source": [
    "with open('test5.txt','rb') as f:\n",
    "    file=io.BufferedReader(f)\n",
    "    data=file.read()"
   ]
  },
  {
   "cell_type": "code",
   "execution_count": 98,
   "id": "fdc228a2-23a1-4129-a7d8-5fa22f02e6f3",
   "metadata": {},
   "outputs": [
    {
     "data": {
      "text/plain": [
       "b'this is my buffer write\\nthis is my second line that i m trying to write'"
      ]
     },
     "execution_count": 98,
     "metadata": {},
     "output_type": "execute_result"
    }
   ],
   "source": [
    "data"
   ]
  },
  {
   "cell_type": "code",
   "execution_count": null,
   "id": "88f9a662-c241-4637-b49d-9a5724fb2aa2",
   "metadata": {},
   "outputs": [],
   "source": []
  }
 ],
 "metadata": {
  "kernelspec": {
   "display_name": "Python 3 (ipykernel)",
   "language": "python",
   "name": "python3"
  },
  "language_info": {
   "codemirror_mode": {
    "name": "ipython",
    "version": 3
   },
   "file_extension": ".py",
   "mimetype": "text/x-python",
   "name": "python",
   "nbconvert_exporter": "python",
   "pygments_lexer": "ipython3",
   "version": "3.10.8"
  }
 },
 "nbformat": 4,
 "nbformat_minor": 5
}
