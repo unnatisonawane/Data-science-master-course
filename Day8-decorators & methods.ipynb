{
 "cells": [
  {
   "cell_type": "markdown",
   "id": "42eb21f4-b60f-4a83-b30b-23587ad10bef",
   "metadata": {},
   "source": [
    "# Decorators\n",
    "     the decorators are used to modify the behaviour of function or class. In Decorators, functions are taken as the argument into another function and then called inside the wrapper function."
   ]
  },
  {
   "cell_type": "code",
   "execution_count": 2,
   "id": "28cb1055-22c1-4724-b9ea-17c8ea3f6f86",
   "metadata": {},
   "outputs": [],
   "source": [
    "def deco(func):\n",
    "    def inner_deco():\n",
    "        print('this is my start func')\n",
    "        print(4+5)\n",
    "        print('this is my end func')\n",
    "    return inner_deco"
   ]
  },
  {
   "cell_type": "code",
   "execution_count": 5,
   "id": "b3cc5f4e-510d-4fbb-b7f4-692ffe0db8fe",
   "metadata": {},
   "outputs": [],
   "source": [
    "@deco\n",
    "def test1():\n",
    "    print(4+5)"
   ]
  },
  {
   "cell_type": "code",
   "execution_count": 6,
   "id": "be589840-565f-4c00-b799-d44029aa954e",
   "metadata": {},
   "outputs": [
    {
     "name": "stdout",
     "output_type": "stream",
     "text": [
      "this is my start func\n",
      "9\n",
      "this is my end func\n"
     ]
    }
   ],
   "source": [
    "test1()"
   ]
  },
  {
   "cell_type": "code",
   "execution_count": 27,
   "id": "aeac73da-e1e3-4c18-a71b-28cadb586065",
   "metadata": {},
   "outputs": [],
   "source": [
    "import time\n",
    "def timer_test(func):\n",
    "    def timer_test_inner():\n",
    "        start=time.time()\n",
    "        func()\n",
    "        end=time.time()\n",
    "        print('total time taken by func',end-start)\n",
    "    return timer_test_inner\n",
    "        "
   ]
  },
  {
   "cell_type": "code",
   "execution_count": 28,
   "id": "5db65fbc-8eb6-4315-b301-117ed567c540",
   "metadata": {},
   "outputs": [],
   "source": [
    "@timer_test\n",
    "def test2():\n",
    "    print('this is my own world')\n",
    "    "
   ]
  },
  {
   "cell_type": "code",
   "execution_count": 29,
   "id": "bbb1aee6-a1c5-4ac9-8362-0bb95d957272",
   "metadata": {},
   "outputs": [
    {
     "name": "stdout",
     "output_type": "stream",
     "text": [
      "this is my own world\n",
      "total time taken by func 4.458427429199219e-05\n"
     ]
    }
   ],
   "source": [
    "test2()"
   ]
  },
  {
   "cell_type": "code",
   "execution_count": 30,
   "id": "a0b58eb1-3799-473a-b267-7c92b87af802",
   "metadata": {},
   "outputs": [],
   "source": [
    "@timer_test\n",
    "def test3():\n",
    "    for i in range(1000):\n",
    "        pass"
   ]
  },
  {
   "cell_type": "code",
   "execution_count": 23,
   "id": "784df47a-c35a-4926-b158-4e6fda3388f9",
   "metadata": {},
   "outputs": [
    {
     "name": "stdout",
     "output_type": "stream",
     "text": [
      "total time taken by func 2.002716064453125e-05\n"
     ]
    }
   ],
   "source": [
    "test3()"
   ]
  },
  {
   "cell_type": "markdown",
   "id": "8009d72a-9899-4299-820d-297b46239743",
   "metadata": {},
   "source": [
    "# Class Method\n",
    "     classmethod() methods are bound to a class rather than an object. Class methods can be called by both class and object. These methods can be called with a class or with an object. "
   ]
  },
  {
   "cell_type": "code",
   "execution_count": 31,
   "id": "e4344b40-d1de-41a2-8cab-f2bdb8da7c2a",
   "metadata": {},
   "outputs": [],
   "source": [
    "class pwskill():\n",
    "    def __init__(self,name,email):\n",
    "        self.name=name\n",
    "        self.email=email\n",
    "        \n",
    "    def student_details(self):\n",
    "        print(self.name,self.email)"
   ]
  },
  {
   "cell_type": "code",
   "execution_count": 57,
   "id": "6213770f-d028-4836-80c5-6c6fca15547e",
   "metadata": {},
   "outputs": [],
   "source": [
    "pw=pwskill('mohan','mohan@gmail')"
   ]
  },
  {
   "cell_type": "code",
   "execution_count": 58,
   "id": "4c9de63e-f16b-473d-aed8-4c50047d802e",
   "metadata": {},
   "outputs": [
    {
     "data": {
      "text/plain": [
       "'mohan'"
      ]
     },
     "execution_count": 58,
     "metadata": {},
     "output_type": "execute_result"
    }
   ],
   "source": [
    "pw.name"
   ]
  },
  {
   "cell_type": "code",
   "execution_count": 59,
   "id": "dd40d97e-094e-4706-8918-6175b5e8da2d",
   "metadata": {},
   "outputs": [
    {
     "data": {
      "text/plain": [
       "'mohan@gmail'"
      ]
     },
     "execution_count": 59,
     "metadata": {},
     "output_type": "execute_result"
    }
   ],
   "source": [
    "pw.email"
   ]
  },
  {
   "cell_type": "code",
   "execution_count": 60,
   "id": "cf93db7e-35c3-4eed-8f4a-8d094bba9ee8",
   "metadata": {},
   "outputs": [
    {
     "name": "stdout",
     "output_type": "stream",
     "text": [
      "mohan mohan@gmail\n"
     ]
    }
   ],
   "source": [
    "pw.student_details()"
   ]
  },
  {
   "cell_type": "code",
   "execution_count": 61,
   "id": "cea37266-b7a0-48f4-8cc4-d0ab5eaf2636",
   "metadata": {},
   "outputs": [],
   "source": [
    "class pwskill1():\n",
    "    def __init__(self,name,email):\n",
    "        self.name=name\n",
    "        self.email=email\n",
    "        \n",
    "    @classmethod\n",
    "    def details(cls,name,email):\n",
    "        return cls(name,email)\n",
    "        \n",
    "        \n",
    "    def student_details(self):\n",
    "        print(self.name,self.email)"
   ]
  },
  {
   "cell_type": "code",
   "execution_count": 62,
   "id": "4bdf7d8f-76f9-4496-87de-0b26b0443d44",
   "metadata": {},
   "outputs": [],
   "source": [
    "pw1=pwskill1.details('mohan','mohan@gmial.com')"
   ]
  },
  {
   "cell_type": "code",
   "execution_count": 63,
   "id": "fe297843-50f3-43c2-a236-99ebfa6fabdb",
   "metadata": {},
   "outputs": [
    {
     "data": {
      "text/plain": [
       "'mohan'"
      ]
     },
     "execution_count": 63,
     "metadata": {},
     "output_type": "execute_result"
    }
   ],
   "source": [
    "pw1.name"
   ]
  },
  {
   "cell_type": "code",
   "execution_count": 64,
   "id": "7688f962-fadc-44bd-a59c-84588a343cab",
   "metadata": {},
   "outputs": [
    {
     "name": "stdout",
     "output_type": "stream",
     "text": [
      "mohan mohan@gmial.com\n"
     ]
    }
   ],
   "source": [
    "pw1.student_details()"
   ]
  },
  {
   "cell_type": "code",
   "execution_count": 68,
   "id": "0f400b6f-0264-42df-b379-b1f2389bd9cc",
   "metadata": {},
   "outputs": [],
   "source": [
    "class pwskill3():\n",
    "    mobile_no=4897989789\n",
    "    def __init__(self,name,email):\n",
    "        self.name=name\n",
    "        self.email=email\n",
    "        \n",
    "    @classmethod\n",
    "    def details(cls,name,email):\n",
    "        return cls(name,email)\n",
    "        \n",
    "        \n",
    "    def student_details(self):\n",
    "        print(self.name,self.email,pwskill3.mobile_no)"
   ]
  },
  {
   "cell_type": "code",
   "execution_count": 69,
   "id": "4247194d-47c5-40b8-a9d2-a9633a688271",
   "metadata": {},
   "outputs": [],
   "source": [
    "pw2=pwskill3.details('mohan','mohan@gmail.com')"
   ]
  },
  {
   "cell_type": "code",
   "execution_count": 70,
   "id": "d90a4485-0d74-4c85-b1f1-e48be2a9d9f7",
   "metadata": {},
   "outputs": [
    {
     "data": {
      "text/plain": [
       "'mohan'"
      ]
     },
     "execution_count": 70,
     "metadata": {},
     "output_type": "execute_result"
    }
   ],
   "source": [
    "pw2.name"
   ]
  },
  {
   "cell_type": "code",
   "execution_count": 71,
   "id": "7f1ea78c-560c-471f-b87d-29e7750f60c2",
   "metadata": {},
   "outputs": [
    {
     "data": {
      "text/plain": [
       "4897989789"
      ]
     },
     "execution_count": 71,
     "metadata": {},
     "output_type": "execute_result"
    }
   ],
   "source": [
    "pw2.mobile_no"
   ]
  },
  {
   "cell_type": "code",
   "execution_count": 72,
   "id": "a3faa621-52e1-47bf-8f31-70a82ad28063",
   "metadata": {},
   "outputs": [
    {
     "data": {
      "text/plain": [
       "4897989789"
      ]
     },
     "execution_count": 72,
     "metadata": {},
     "output_type": "execute_result"
    }
   ],
   "source": [
    "pwskill3.mobile_no"
   ]
  },
  {
   "cell_type": "code",
   "execution_count": 74,
   "id": "ac84ba9f-8278-4377-9cf8-44b569aedc53",
   "metadata": {},
   "outputs": [
    {
     "name": "stdout",
     "output_type": "stream",
     "text": [
      "mohan mohan@gmail.com 4897989789\n"
     ]
    }
   ],
   "source": [
    "pw2.student_details()"
   ]
  },
  {
   "cell_type": "code",
   "execution_count": 76,
   "id": "becd3e1a-24bc-4d5a-a617-5259182eaac2",
   "metadata": {},
   "outputs": [],
   "source": [
    "class pwskill3():\n",
    "    mobile_no=4897989789\n",
    "    def __init__(self,name,email):\n",
    "        self.name=name\n",
    "        self.email=email\n",
    "        \n",
    "    @classmethod\n",
    "    def change_no(cls,mobile):\n",
    "        pwskill3.mobile_no=mobile\n",
    "        \n",
    "        \n",
    "    @classmethod\n",
    "    def details(cls,name,email):\n",
    "        return cls(name,email)\n",
    "        \n",
    "        \n",
    "    def student_details(self):\n",
    "        print(self.name,self.email,pwskill3.mobile_no)"
   ]
  },
  {
   "cell_type": "code",
   "execution_count": 78,
   "id": "18b32b7d-74c2-4c3b-af7d-10b9f956c225",
   "metadata": {},
   "outputs": [
    {
     "data": {
      "text/plain": [
       "4897989789"
      ]
     },
     "execution_count": 78,
     "metadata": {},
     "output_type": "execute_result"
    }
   ],
   "source": [
    "pwskill3.mobile_no"
   ]
  },
  {
   "cell_type": "code",
   "execution_count": 79,
   "id": "56a2f3e4-a6fb-45df-b2b7-a7f4932039c1",
   "metadata": {},
   "outputs": [],
   "source": [
    "pwskill3.change_no(2247894646)"
   ]
  },
  {
   "cell_type": "code",
   "execution_count": 80,
   "id": "286ce302-df4e-4afd-bfde-a8b1317db157",
   "metadata": {},
   "outputs": [
    {
     "data": {
      "text/plain": [
       "2247894646"
      ]
     },
     "execution_count": 80,
     "metadata": {},
     "output_type": "execute_result"
    }
   ],
   "source": [
    "pwskill3.mobile_no"
   ]
  },
  {
   "cell_type": "code",
   "execution_count": 81,
   "id": "b9ff07bc-c3c5-4772-83ce-0f4001a39c97",
   "metadata": {},
   "outputs": [],
   "source": [
    "def course_details(cls,course_name):\n",
    "    print('course details',course_name)"
   ]
  },
  {
   "cell_type": "code",
   "execution_count": 82,
   "id": "28ede24d-b0da-4d21-a8e6-3d7d37b21b39",
   "metadata": {},
   "outputs": [],
   "source": [
    "pwskill3.course_details=classmethod(course_details)"
   ]
  },
  {
   "cell_type": "code",
   "execution_count": 83,
   "id": "be5b26c7-7b4a-4041-9a40-043756b8e703",
   "metadata": {},
   "outputs": [
    {
     "name": "stdout",
     "output_type": "stream",
     "text": [
      "course details data science\n"
     ]
    }
   ],
   "source": [
    "pwskill3.course_details('data science')"
   ]
  },
  {
   "cell_type": "code",
   "execution_count": 85,
   "id": "894100c8-651a-4e5e-ba35-4a40874b52d8",
   "metadata": {},
   "outputs": [],
   "source": [
    "class pwskill4():\n",
    "    mobile_no=4897989789\n",
    "    def __init__(self,name,email):\n",
    "        self.name=name\n",
    "        self.email=email\n",
    "        \n",
    "    @classmethod\n",
    "    def change_no(cls,mobile):\n",
    "        pwskill3.mobile_no=mobile\n",
    "        \n",
    "        \n",
    "    @classmethod\n",
    "    def details(cls,name,email):\n",
    "        return cls(name,email)\n",
    "        \n",
    "        \n",
    "    def student_details(self):\n",
    "        print(self.name,self.email,pwskill3.mobile_no)"
   ]
  },
  {
   "cell_type": "code",
   "execution_count": 87,
   "id": "a6b8eba9-3d0f-4891-adb7-8cbacec015ea",
   "metadata": {},
   "outputs": [],
   "source": [
    "del pwskill4.change_no"
   ]
  },
  {
   "cell_type": "code",
   "execution_count": 88,
   "id": "65ecf054-d7b1-414d-8e5e-ec496e0f80be",
   "metadata": {},
   "outputs": [],
   "source": [
    "delattr(pwskill4,'details')"
   ]
  },
  {
   "cell_type": "code",
   "execution_count": 89,
   "id": "ddbdec30-4570-4066-ba78-0cbf0325e1db",
   "metadata": {},
   "outputs": [
    {
     "data": {
      "text/plain": [
       "4897989789"
      ]
     },
     "execution_count": 89,
     "metadata": {},
     "output_type": "execute_result"
    }
   ],
   "source": [
    "pwskill4.mobile_no"
   ]
  },
  {
   "cell_type": "code",
   "execution_count": 91,
   "id": "9e371d34-86af-4858-9e0e-7fcab3dc90a6",
   "metadata": {},
   "outputs": [],
   "source": [
    "delattr(pwskill4,'mobile_no')"
   ]
  },
  {
   "cell_type": "code",
   "execution_count": 92,
   "id": "be518eb7-1f8c-4248-8174-6ff4d49f86d8",
   "metadata": {},
   "outputs": [
    {
     "ename": "AttributeError",
     "evalue": "type object 'pwskill4' has no attribute 'mobile_no'",
     "output_type": "error",
     "traceback": [
      "\u001b[0;31m---------------------------------------------------------------------------\u001b[0m",
      "\u001b[0;31mAttributeError\u001b[0m                            Traceback (most recent call last)",
      "Cell \u001b[0;32mIn[92], line 1\u001b[0m\n\u001b[0;32m----> 1\u001b[0m \u001b[43mpwskill4\u001b[49m\u001b[38;5;241;43m.\u001b[39;49m\u001b[43mmobile_no\u001b[49m\n",
      "\u001b[0;31mAttributeError\u001b[0m: type object 'pwskill4' has no attribute 'mobile_no'"
     ]
    }
   ],
   "source": [
    "pwskill4.mobile_no"
   ]
  },
  {
   "cell_type": "markdown",
   "id": "1aba8f30-cb87-48e6-9c47-96b96079839c",
   "metadata": {},
   "source": [
    "# static method\n",
    "     They are utility-type methods that take some parameters and work upon those parameters"
   ]
  },
  {
   "cell_type": "code",
   "execution_count": 113,
   "id": "0bc6ae5d-b168-4434-8ee4-23022d78b17b",
   "metadata": {},
   "outputs": [],
   "source": [
    "class courses():\n",
    "    def course_name(self,name,email):\n",
    "        print(name,email)"
   ]
  },
  {
   "cell_type": "code",
   "execution_count": 114,
   "id": "835fda47-5636-4b91-a559-9d05f6eb2d44",
   "metadata": {},
   "outputs": [],
   "source": [
    "obj1=courses()"
   ]
  },
  {
   "cell_type": "code",
   "execution_count": 115,
   "id": "eeb90921-7f01-4ad9-84e9-9a653277a9b8",
   "metadata": {},
   "outputs": [
    {
     "name": "stdout",
     "output_type": "stream",
     "text": [
      "sudh sudh@gmail.com\n"
     ]
    }
   ],
   "source": [
    "obj1.course_name('sudh','sudh@gmail.com')"
   ]
  },
  {
   "cell_type": "code",
   "execution_count": 116,
   "id": "353cd94d-c396-4252-84fe-367e5085f9b0",
   "metadata": {},
   "outputs": [],
   "source": [
    "class courses():\n",
    "    def course_name(self,name,email):\n",
    "        print(name,email)\n",
    "        \n",
    "    @staticmethod\n",
    "    def mentor_list(mentor):\n",
    "        print(mentor)\n",
    "    \n",
    "    def mentor_class(self,list_mentor):\n",
    "        print(list_mentor)"
   ]
  },
  {
   "cell_type": "code",
   "execution_count": 117,
   "id": "4538bffc-3de2-419f-b8cb-0ff3a54a858a",
   "metadata": {},
   "outputs": [
    {
     "name": "stdout",
     "output_type": "stream",
     "text": [
      "['sudh', 'krish']\n"
     ]
    }
   ],
   "source": [
    "courses.mentor_list(['sudh','krish'])"
   ]
  },
  {
   "cell_type": "code",
   "execution_count": 118,
   "id": "37a4b877-f8a4-40c7-af92-8b1a0a70b28e",
   "metadata": {},
   "outputs": [],
   "source": [
    "obj2=courses()"
   ]
  },
  {
   "cell_type": "code",
   "execution_count": 119,
   "id": "4074a129-79a1-4f00-a20b-c0ffbbf41038",
   "metadata": {},
   "outputs": [
    {
     "name": "stdout",
     "output_type": "stream",
     "text": [
      "['unnati', 'sudh']\n"
     ]
    }
   ],
   "source": [
    "obj2.mentor_class(['unnati','sudh'])"
   ]
  },
  {
   "cell_type": "code",
   "execution_count": 120,
   "id": "a114360e-45b8-4956-a7a2-652a75bf73dc",
   "metadata": {},
   "outputs": [
    {
     "name": "stdout",
     "output_type": "stream",
     "text": [
      "['sudh', 'naik']\n"
     ]
    }
   ],
   "source": [
    "obj2.mentor_list(['sudh','naik'])"
   ]
  },
  {
   "cell_type": "code",
   "execution_count": 121,
   "id": "8f709e1f-d30f-46b2-856f-fa7a05fe9858",
   "metadata": {},
   "outputs": [],
   "source": [
    "class pwskills1:\n",
    "    def student_details(self , name , mail_id , number) : \n",
    "        print(name , mail_id, number)\n",
    "        \n",
    "    @staticmethod\n",
    "    def mentor_mail_id(mail_id):\n",
    "        print(mail_id)\n",
    "        \n",
    "    @staticmethod\n",
    "    def mentor_class(list_mentor) : \n",
    "        print(list_mentor)\n",
    "        pwskills1.mentor_mail_id([\"krish@gmail.com\" , \"sudh@gmail.com\"])\n",
    "        \n",
    "    @classmethod\n",
    "    def class_name(cls,class_name):\n",
    "        cls.mentor_class([\"sudh\" , \"krish\"])\n",
    "        \n",
    "    def mentor(self , mentor_list) :\n",
    "        print(mentor_list)\n",
    "        self.mentor_class([\"krish\" , \"sudh\"])"
   ]
  },
  {
   "cell_type": "code",
   "execution_count": 122,
   "id": "6f1e3632-2fed-40c6-8b29-b0d821809949",
   "metadata": {},
   "outputs": [],
   "source": [
    "pw1 = pwskills1()"
   ]
  },
  {
   "cell_type": "code",
   "execution_count": 123,
   "id": "2d4f4338-2c9f-453a-84e5-95f3ae8e3cef",
   "metadata": {},
   "outputs": [
    {
     "name": "stdout",
     "output_type": "stream",
     "text": [
      "mohan mohan@gmail.com 9675657657\n"
     ]
    }
   ],
   "source": [
    "pw1.student_details(\"mohan\" , \"mohan@gmail.com\" , 9675657657)"
   ]
  },
  {
   "cell_type": "code",
   "execution_count": 124,
   "id": "0b3dc945-1899-425e-b955-610d45b4aeb0",
   "metadata": {},
   "outputs": [
    {
     "name": "stdout",
     "output_type": "stream",
     "text": [
      "['krish@gmail.com', 'sudh@gmail.com']\n"
     ]
    }
   ],
   "source": [
    "pw1.mentor_mail_id([\"krish@gmail.com\" , \"sudh@gmail.com\"])"
   ]
  },
  {
   "cell_type": "code",
   "execution_count": 125,
   "id": "1dbbe6f4-a751-4c12-af51-7d87a06e4005",
   "metadata": {},
   "outputs": [
    {
     "name": "stdout",
     "output_type": "stream",
     "text": [
      "['sudh', 'krish']\n",
      "['krish@gmail.com', 'sudh@gmail.com']\n"
     ]
    }
   ],
   "source": [
    "pw1.class_name(\"data science masters\")"
   ]
  },
  {
   "cell_type": "code",
   "execution_count": 126,
   "id": "2e3db359-1613-4cbd-9b33-fb11b09781db",
   "metadata": {},
   "outputs": [
    {
     "name": "stdout",
     "output_type": "stream",
     "text": [
      "['krish@gmail.com', 'sudh@gmail.com']\n"
     ]
    }
   ],
   "source": [
    "pwskills1.mentor_mail_id([\"krish@gmail.com\" , \"sudh@gmail.com\"])"
   ]
  },
  {
   "cell_type": "code",
   "execution_count": null,
   "id": "daa4b581-247d-4513-b6f8-f37dd29f589b",
   "metadata": {},
   "outputs": [],
   "source": []
  },
  {
   "cell_type": "markdown",
   "id": "eea0c605-cad6-4889-864a-2f50b493a93d",
   "metadata": {},
   "source": [
    "# Special (Magic Dunder) Methods\n",
    "    Dunder or magic methods in Python are the methods having two prefix and suffix underscores in the method name. "
   ]
  },
  {
   "cell_type": "code",
   "execution_count": 127,
   "id": "b99b049a-4808-4785-b306-e53453b2f420",
   "metadata": {},
   "outputs": [
    {
     "data": {
      "text/plain": [
       "['__abs__',\n",
       " '__add__',\n",
       " '__and__',\n",
       " '__bool__',\n",
       " '__ceil__',\n",
       " '__class__',\n",
       " '__delattr__',\n",
       " '__dir__',\n",
       " '__divmod__',\n",
       " '__doc__',\n",
       " '__eq__',\n",
       " '__float__',\n",
       " '__floor__',\n",
       " '__floordiv__',\n",
       " '__format__',\n",
       " '__ge__',\n",
       " '__getattribute__',\n",
       " '__getnewargs__',\n",
       " '__gt__',\n",
       " '__hash__',\n",
       " '__index__',\n",
       " '__init__',\n",
       " '__init_subclass__',\n",
       " '__int__',\n",
       " '__invert__',\n",
       " '__le__',\n",
       " '__lshift__',\n",
       " '__lt__',\n",
       " '__mod__',\n",
       " '__mul__',\n",
       " '__ne__',\n",
       " '__neg__',\n",
       " '__new__',\n",
       " '__or__',\n",
       " '__pos__',\n",
       " '__pow__',\n",
       " '__radd__',\n",
       " '__rand__',\n",
       " '__rdivmod__',\n",
       " '__reduce__',\n",
       " '__reduce_ex__',\n",
       " '__repr__',\n",
       " '__rfloordiv__',\n",
       " '__rlshift__',\n",
       " '__rmod__',\n",
       " '__rmul__',\n",
       " '__ror__',\n",
       " '__round__',\n",
       " '__rpow__',\n",
       " '__rrshift__',\n",
       " '__rshift__',\n",
       " '__rsub__',\n",
       " '__rtruediv__',\n",
       " '__rxor__',\n",
       " '__setattr__',\n",
       " '__sizeof__',\n",
       " '__str__',\n",
       " '__sub__',\n",
       " '__subclasshook__',\n",
       " '__truediv__',\n",
       " '__trunc__',\n",
       " '__xor__',\n",
       " 'as_integer_ratio',\n",
       " 'bit_count',\n",
       " 'bit_length',\n",
       " 'conjugate',\n",
       " 'denominator',\n",
       " 'from_bytes',\n",
       " 'imag',\n",
       " 'numerator',\n",
       " 'real',\n",
       " 'to_bytes']"
      ]
     },
     "execution_count": 127,
     "metadata": {},
     "output_type": "execute_result"
    }
   ],
   "source": [
    "dir(int)"
   ]
  },
  {
   "cell_type": "code",
   "execution_count": 128,
   "id": "42f7935c-ff1a-4984-8d00-b774a09a9153",
   "metadata": {},
   "outputs": [
    {
     "data": {
      "text/plain": [
       "16"
      ]
     },
     "execution_count": 128,
     "metadata": {},
     "output_type": "execute_result"
    }
   ],
   "source": [
    "a=10\n",
    "a+6"
   ]
  },
  {
   "cell_type": "code",
   "execution_count": 131,
   "id": "3f1d533c-3e4a-41e6-8ce8-9e9a46c65ab7",
   "metadata": {},
   "outputs": [
    {
     "data": {
      "text/plain": [
       "16"
      ]
     },
     "execution_count": 131,
     "metadata": {},
     "output_type": "execute_result"
    }
   ],
   "source": [
    "a=10\n",
    "a.__add__(6)"
   ]
  },
  {
   "cell_type": "code",
   "execution_count": 132,
   "id": "8ef1f2dd-51ad-48d2-bb3f-48ba45213d73",
   "metadata": {},
   "outputs": [],
   "source": [
    "class pwskills :\n",
    "    \n",
    "    def __new__(cls) : \n",
    "        print(\"this is my new\")\n",
    "        \n",
    "    \n",
    "    def __init__(self):\n",
    "        print(\"this is my init\")\n",
    "        "
   ]
  },
  {
   "cell_type": "code",
   "execution_count": 133,
   "id": "abc33420-2220-4a07-8063-299a150c484a",
   "metadata": {},
   "outputs": [
    {
     "name": "stdout",
     "output_type": "stream",
     "text": [
      "this is my new\n"
     ]
    }
   ],
   "source": [
    "pw = pwskills()"
   ]
  },
  {
   "cell_type": "code",
   "execution_count": 135,
   "id": "2ace51b8-b81d-4112-adc9-0eeba5fbfd6d",
   "metadata": {},
   "outputs": [],
   "source": [
    "class pwskills1 :\n",
    "\n",
    "  \n",
    "    def __init__(self):\n",
    "        \n",
    "        \n",
    "        self.mobile_number = 934223424\n",
    "        \n",
    "    def __str__(self) : \n",
    "        return \"this is a magic method which will print something for object \" "
   ]
  },
  {
   "cell_type": "code",
   "execution_count": 136,
   "id": "9d4ece2b-c471-4b89-98b7-2416f9bae0f9",
   "metadata": {},
   "outputs": [],
   "source": [
    "pw1  = pwskills1()"
   ]
  },
  {
   "cell_type": "code",
   "execution_count": 137,
   "id": "d0e55ca7-bae0-482d-880c-1afc3a0e2f76",
   "metadata": {},
   "outputs": [
    {
     "data": {
      "text/plain": [
       "<__main__.pwskills1 at 0x7fa3560f0be0>"
      ]
     },
     "execution_count": 137,
     "metadata": {},
     "output_type": "execute_result"
    }
   ],
   "source": [
    "pw1"
   ]
  },
  {
   "cell_type": "code",
   "execution_count": 138,
   "id": "c6ed919e-9e0f-4806-a401-0cf70c9ea7df",
   "metadata": {},
   "outputs": [
    {
     "name": "stdout",
     "output_type": "stream",
     "text": [
      "this is a magic method which will print something for object \n"
     ]
    }
   ],
   "source": [
    "print(pw1)"
   ]
  },
  {
   "cell_type": "markdown",
   "id": "84b6f5e4-df9c-4293-b811-d235dd088578",
   "metadata": {},
   "source": [
    "# Property Decorators Getters, Setters, And Deletes\n",
    "    Which is used to return the property attributes of a class from the stated getter, setter and deleter as parameters."
   ]
  },
  {
   "cell_type": "code",
   "execution_count": null,
   "id": "6b450bfd-b7e1-4cd7-bee3-00b097805b18",
   "metadata": {},
   "outputs": [],
   "source": []
  },
  {
   "cell_type": "code",
   "execution_count": 139,
   "id": "8736f8eb-656f-48cb-b2b9-de96094c6d49",
   "metadata": {},
   "outputs": [],
   "source": [
    "class pwskills:\n",
    "    \n",
    "    def __init__(self, course_price , course_name):\n",
    "        self.__course_price = course_price\n",
    "        self.course_name = course_name\n",
    "        \n",
    "    @property\n",
    "    def course_price_access(self):\n",
    "        return self.__course_price\n",
    "    \n",
    "    @course_price_access.setter\n",
    "    def course_price_set(self , price):\n",
    "        if price <= 3500:\n",
    "            pass\n",
    "        else :\n",
    "            self.__course_price = price\n",
    "            \n",
    "    @course_price_access.deleter \n",
    "    def course_price_del(self):\n",
    "        del  self.__course_price\n",
    "    \n",
    "        \n",
    "    \n",
    "    "
   ]
  },
  {
   "cell_type": "code",
   "execution_count": 140,
   "id": "8feb9dfa-6a22-4030-8300-6ed0c0e44522",
   "metadata": {},
   "outputs": [],
   "source": [
    "pw = pwskills(3500 , \"data science masters\")"
   ]
  },
  {
   "cell_type": "code",
   "execution_count": 141,
   "id": "4310e6e2-8afd-4260-ba7c-a0ddf3c1b13a",
   "metadata": {},
   "outputs": [
    {
     "data": {
      "text/plain": [
       "3500"
      ]
     },
     "execution_count": 141,
     "metadata": {},
     "output_type": "execute_result"
    }
   ],
   "source": [
    "pw.course_price_access"
   ]
  },
  {
   "cell_type": "code",
   "execution_count": 142,
   "id": "4196dd02-a34b-462d-a421-bcf6c6c25be6",
   "metadata": {},
   "outputs": [],
   "source": [
    "del pw.course_price_del"
   ]
  },
  {
   "cell_type": "code",
   "execution_count": 143,
   "id": "e862b9bb-22c4-4869-8c88-3abf48ff756b",
   "metadata": {},
   "outputs": [],
   "source": [
    "pw.course_price_set = 2300"
   ]
  },
  {
   "cell_type": "code",
   "execution_count": 144,
   "id": "bad0b86a-5ed3-4d86-ab15-a84408f13919",
   "metadata": {},
   "outputs": [
    {
     "ename": "AttributeError",
     "evalue": "'pwskills' object has no attribute '_pwskills__course_price'",
     "output_type": "error",
     "traceback": [
      "\u001b[0;31m---------------------------------------------------------------------------\u001b[0m",
      "\u001b[0;31mAttributeError\u001b[0m                            Traceback (most recent call last)",
      "Cell \u001b[0;32mIn[144], line 1\u001b[0m\n\u001b[0;32m----> 1\u001b[0m \u001b[43mpw\u001b[49m\u001b[38;5;241;43m.\u001b[39;49m\u001b[43mcourse_price_access\u001b[49m\n",
      "Cell \u001b[0;32mIn[139], line 9\u001b[0m, in \u001b[0;36mpwskills.course_price_access\u001b[0;34m(self)\u001b[0m\n\u001b[1;32m      7\u001b[0m \u001b[38;5;129m@property\u001b[39m\n\u001b[1;32m      8\u001b[0m \u001b[38;5;28;01mdef\u001b[39;00m \u001b[38;5;21mcourse_price_access\u001b[39m(\u001b[38;5;28mself\u001b[39m):\n\u001b[0;32m----> 9\u001b[0m     \u001b[38;5;28;01mreturn\u001b[39;00m \u001b[38;5;28;43mself\u001b[39;49m\u001b[38;5;241;43m.\u001b[39;49m\u001b[43m__course_price\u001b[49m\n",
      "\u001b[0;31mAttributeError\u001b[0m: 'pwskills' object has no attribute '_pwskills__course_price'"
     ]
    }
   ],
   "source": [
    "pw.course_price_access"
   ]
  },
  {
   "cell_type": "code",
   "execution_count": 145,
   "id": "b11e5be6-7286-46e8-b00e-7aa1a3eaf969",
   "metadata": {},
   "outputs": [],
   "source": [
    "pw.course_price_set = 4500"
   ]
  },
  {
   "cell_type": "code",
   "execution_count": 146,
   "id": "86c094d2-6650-4acc-a710-60dfe27873e8",
   "metadata": {},
   "outputs": [
    {
     "data": {
      "text/plain": [
       "4500"
      ]
     },
     "execution_count": 146,
     "metadata": {},
     "output_type": "execute_result"
    }
   ],
   "source": [
    "pw.course_price_access"
   ]
  },
  {
   "cell_type": "code",
   "execution_count": 147,
   "id": "4a3929e6-8d4f-43da-9230-f65135d98967",
   "metadata": {},
   "outputs": [
    {
     "data": {
      "text/plain": [
       "'data science masters'"
      ]
     },
     "execution_count": 147,
     "metadata": {},
     "output_type": "execute_result"
    }
   ],
   "source": [
    "pw.course_name"
   ]
  },
  {
   "cell_type": "code",
   "execution_count": 148,
   "id": "c0c30b08-9acd-47f8-a316-d84b7060114f",
   "metadata": {},
   "outputs": [
    {
     "data": {
      "text/plain": [
       "4500"
      ]
     },
     "execution_count": 148,
     "metadata": {},
     "output_type": "execute_result"
    }
   ],
   "source": [
    "pw._pwskills__course_price"
   ]
  },
  {
   "cell_type": "code",
   "execution_count": null,
   "id": "4af335b7-b0b4-4804-a62e-3904409888b8",
   "metadata": {},
   "outputs": [],
   "source": []
  },
  {
   "cell_type": "code",
   "execution_count": null,
   "id": "189b650e-b630-4267-8fe1-255b4523b4bf",
   "metadata": {},
   "outputs": [],
   "source": []
  }
 ],
 "metadata": {
  "kernelspec": {
   "display_name": "Python 3 (ipykernel)",
   "language": "python",
   "name": "python3"
  },
  "language_info": {
   "codemirror_mode": {
    "name": "ipython",
    "version": 3
   },
   "file_extension": ".py",
   "mimetype": "text/x-python",
   "name": "python",
   "nbconvert_exporter": "python",
   "pygments_lexer": "ipython3",
   "version": "3.10.8"
  }
 },
 "nbformat": 4,
 "nbformat_minor": 5
}
