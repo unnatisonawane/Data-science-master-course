{
 "cells": [
  {
   "cell_type": "markdown",
   "id": "1cd6994f-c6ab-4225-b843-554e2d1631f0",
   "metadata": {},
   "source": [
    "Q1. Which function is used to open a file? What are the different modes of opening a file? Explain each mode\n",
    "of file opening."
   ]
  },
  {
   "cell_type": "markdown",
   "id": "bc8d4cc8-489c-4ade-9e5f-c08bfcd0b429",
   "metadata": {},
   "source": [
    "In Python, the open() function is used to open a file. It takes two arguments: the path to the file (either relative or absolute), and the mode in which the file should be opened. The mode argument is optional and if it is not specified, the file is opened in read-only mode by default.\n",
    "\n",
    "Here are the different modes of opening a file in Python:\n",
    "\n",
    "'r' - read-only mode: This is the default mode for opening a file. It allows you to read the contents of the file but not modify them. If the file does not exist, a FileNotFoundError is raised.\n",
    "\n",
    "'w' - write mode: This mode allows you to write to the file. If the file exists, its contents are overwritten. If the file does not exist, a new file is created.\n",
    "\n",
    "'a' - append mode: This mode allows you to append new data to the end of the file. If the file does not exist, a new file is created.\n",
    "\n",
    "'x' - exclusive creation mode: This mode creates a new file and opens it for writing. If the file already exists, a FileExistsError is raised.\n",
    "\n",
    "'b' - binary mode: This mode is used when working with binary files like images, audio, or video. It is used in conjunction with any of the above modes.\n",
    "\n",
    "'t' - text mode: This mode is used when working with text files. It is the default mode if the mode argument is not specified.\n",
    "\n",
    "'+' - read and write mode: This mode allows you to both read and write to a file. It is used in conjunction with any of the above modes.\n",
    "\n",
    "For example, to open a file named example.txt in write mode, you would use the following code:\n",
    "\n",
    "python\n",
    "Copy code\n",
    "file = open('example.txt', 'w')\n"
   ]
  },
  {
   "cell_type": "markdown",
   "id": "60944123-fe50-4c49-9247-d650386f7310",
   "metadata": {},
   "source": [
    "Q2. Why close() function is used? Why is it important to close a file?"
   ]
  },
  {
   "cell_type": "markdown",
   "id": "bc46080f-a82e-412b-9a82-f65b29ba7180",
   "metadata": {},
   "source": [
    "In Python, when you open a file using the open() function, it's important to close the file after you're done working with it using the close() function. The close() function is used to release the resources (like memory) used by the file object and also to flush any data that may be in the file object's buffer before closing it.\n",
    "\n",
    "Here are some reasons why it's important to close a file:\n",
    "1. Release resources\n",
    "2. save changes\n",
    "3. Prevent data corruption"
   ]
  },
  {
   "cell_type": "markdown",
   "id": "0b224c72-bfb3-459d-bbba-566d655138bb",
   "metadata": {},
   "source": [
    "Q3. Write a python program to create a text file. Write ‘I want to become a Data Scientist’ in that file. Then\n",
    "close the file. Open this file and read the content of the file."
   ]
  },
  {
   "cell_type": "code",
   "execution_count": 1,
   "id": "fbee8344-7e4a-4a31-9ef8-d3c2849222c5",
   "metadata": {},
   "outputs": [],
   "source": [
    "#open file in writing mode\n",
    "f=open('file_test.txt','w')"
   ]
  },
  {
   "cell_type": "code",
   "execution_count": 2,
   "id": "00deca03-2d5c-4f9c-a2ce-4f2983773a14",
   "metadata": {},
   "outputs": [
    {
     "data": {
      "text/plain": [
       "33"
      ]
     },
     "execution_count": 2,
     "metadata": {},
     "output_type": "execute_result"
    }
   ],
   "source": [
    "f.write('I want to become a Data Scientist')"
   ]
  },
  {
   "cell_type": "code",
   "execution_count": 3,
   "id": "c3f95a61-8ef1-4992-957f-de98abe4788d",
   "metadata": {},
   "outputs": [],
   "source": [
    "f.close()"
   ]
  },
  {
   "cell_type": "code",
   "execution_count": 4,
   "id": "c49405ff-a251-4907-9622-7bde15b6eec1",
   "metadata": {},
   "outputs": [],
   "source": [
    "#open file for reading\n",
    "data=open('file_test.txt','r')"
   ]
  },
  {
   "cell_type": "code",
   "execution_count": 6,
   "id": "4d75be01-4cab-4dc8-a97f-bc1cc16c04e6",
   "metadata": {},
   "outputs": [
    {
     "data": {
      "text/plain": [
       "'I want to become a Data Scientist'"
      ]
     },
     "execution_count": 6,
     "metadata": {},
     "output_type": "execute_result"
    }
   ],
   "source": [
    "data.read()"
   ]
  },
  {
   "cell_type": "markdown",
   "id": "96240061-6d7f-4fa3-a192-bc979a81840a",
   "metadata": {},
   "source": [
    "Q4. Explain the following with python code: read(), readline() and readlines()."
   ]
  },
  {
   "cell_type": "code",
   "execution_count": 43,
   "id": "605f318c-ee0f-4030-af43-9bb4831cae89",
   "metadata": {},
   "outputs": [],
   "source": [
    "# Open a file in read mode\n",
    "file = open('example.txt', 'w')\n"
   ]
  },
  {
   "cell_type": "code",
   "execution_count": 44,
   "id": "51dd9b2d-ab06-484e-bcf7-edae770c75e8",
   "metadata": {},
   "outputs": [
    {
     "data": {
      "text/plain": [
       "15"
      ]
     },
     "execution_count": 44,
     "metadata": {},
     "output_type": "execute_result"
    }
   ],
   "source": [
    "file.write('I have enroll for data science master class.\\n')\n",
    "file.write('It will take 6 months to complete.\\n')\n",
    "file.write('I like teaching')"
   ]
  },
  {
   "cell_type": "code",
   "execution_count": 45,
   "id": "a455802f-c9b2-4a9f-aed6-48ba28d2fbbf",
   "metadata": {},
   "outputs": [],
   "source": [
    "file.close()"
   ]
  },
  {
   "cell_type": "code",
   "execution_count": 46,
   "id": "927820da-641c-422e-a619-dadacad24984",
   "metadata": {},
   "outputs": [],
   "source": [
    "#open file for reading\n",
    "file=open('example.txt','r')"
   ]
  },
  {
   "cell_type": "code",
   "execution_count": 47,
   "id": "007759dc-1d02-4626-9c5f-dd4cb66f651f",
   "metadata": {},
   "outputs": [],
   "source": [
    "data=file.read()"
   ]
  },
  {
   "cell_type": "code",
   "execution_count": 48,
   "id": "7ac2504b-d3d8-4ba3-b40c-da72b61e45a4",
   "metadata": {},
   "outputs": [
    {
     "name": "stdout",
     "output_type": "stream",
     "text": [
      "I have enroll for data science master class.\n",
      "It will take 6 months to complete.\n",
      "I like teaching\n"
     ]
    }
   ],
   "source": [
    "print(data)"
   ]
  },
  {
   "cell_type": "code",
   "execution_count": 49,
   "id": "75db0ada-c157-44ba-b066-c9477fa52aa8",
   "metadata": {},
   "outputs": [],
   "source": [
    "file.close()"
   ]
  },
  {
   "cell_type": "code",
   "execution_count": 50,
   "id": "cbb9033f-6933-430c-a286-feddbddafb82",
   "metadata": {},
   "outputs": [
    {
     "name": "stdout",
     "output_type": "stream",
     "text": [
      "I have enroll for data science master class.\n",
      "\n"
     ]
    }
   ],
   "source": [
    "# Open a file in read mode\n",
    "file = open('example.txt', 'r')\n",
    "\n",
    "# Read the first line of the file\n",
    "line = file.readline()\n",
    "\n",
    "# Print the line\n",
    "print(line)\n",
    "\n",
    "# Close the file\n",
    "file.close()"
   ]
  },
  {
   "cell_type": "code",
   "execution_count": 51,
   "id": "49a63a23-49aa-4a48-b542-b97c00f9c910",
   "metadata": {},
   "outputs": [
    {
     "name": "stdout",
     "output_type": "stream",
     "text": [
      "I have enroll for data science master class.\n",
      "\n",
      "It will take 6 months to complete.\n",
      "\n",
      "I like teaching\n"
     ]
    }
   ],
   "source": [
    "# Open a file in read mode\n",
    "file = open('example.txt', 'r')\n",
    "\n",
    "# Read all the lines of the file\n",
    "lines = file.readlines()\n",
    "\n",
    "# Print each line\n",
    "for line in lines:\n",
    "    print(line)\n",
    "\n",
    "# Close the file\n",
    "file.close()"
   ]
  },
  {
   "cell_type": "markdown",
   "id": "56c71473-3bdb-4bd8-abac-c8d70026f333",
   "metadata": {},
   "source": [
    "Q5. Explain why with statement is used with open(). What is the advantage of using with statement and\n",
    "open() together?"
   ]
  },
  {
   "cell_type": "markdown",
   "id": "1d1efe6b-1d14-4d48-b18a-8ead3eac8c15",
   "metadata": {},
   "source": [
    "In Python, the with statement is used with open() to handle file I/O operations in a safe and efficient manner. The with statement provides a way to guarantee that a file is closed properly after it has been used, regardless of whether an exception is raised or not.\n",
    "The advantage of using the with statement with open() is that it automatically takes care of closing the file once the block of code inside the with statement is executed. "
   ]
  },
  {
   "cell_type": "code",
   "execution_count": 59,
   "id": "b71de9a9-d00d-48db-9a3c-bf05498631f1",
   "metadata": {},
   "outputs": [
    {
     "name": "stdout",
     "output_type": "stream",
     "text": [
      "17\n"
     ]
    }
   ],
   "source": [
    "#another way to open a file\n",
    "with open('example.txt','w') as file:\n",
    "    print(file.write('my name is unnati'))"
   ]
  },
  {
   "cell_type": "markdown",
   "id": "e9561d93-dd93-4d60-9a1d-e26b029029c0",
   "metadata": {},
   "source": [
    "Q6. Explain the write() and writelines() functions. Give a suitable example."
   ]
  },
  {
   "cell_type": "markdown",
   "id": "40e70feb-7f4c-4a69-b6cb-27c872cbebb1",
   "metadata": {},
   "source": [
    "the write() and writelines() functions are used to write data to a file in Python. The write() function writes a single string to the file, while the writelines() function writes a list of strings to the file."
   ]
  },
  {
   "cell_type": "code",
   "execution_count": 60,
   "id": "1419318f-4c3e-4130-9f57-9030b1d0fdf6",
   "metadata": {},
   "outputs": [],
   "source": [
    "# Open a file in write mode\n",
    "file = open('example.txt', 'w')\n",
    "\n",
    "# Write a string to the file\n",
    "file.write('This is a my sample text.')\n",
    "\n",
    "# Close the file\n",
    "file.close()"
   ]
  },
  {
   "cell_type": "code",
   "execution_count": 61,
   "id": "9adde36c-e5e0-4585-9375-aeeea2c626e6",
   "metadata": {},
   "outputs": [],
   "source": [
    "# Open a file in write mode\n",
    "file = open('example.txt', 'w')\n",
    "\n",
    "# Write a list of strings to the file\n",
    "lines = ['This is sample 1.\\n', 'This is sample 2.\\n', 'This is sample 3.\\n']\n",
    "file.writelines(lines)\n",
    "\n",
    "# Close the file\n",
    "file.close()"
   ]
  },
  {
   "cell_type": "code",
   "execution_count": null,
   "id": "160e789a-2417-4784-bf8f-0b03527a0fa6",
   "metadata": {},
   "outputs": [],
   "source": []
  }
 ],
 "metadata": {
  "kernelspec": {
   "display_name": "Python 3 (ipykernel)",
   "language": "python",
   "name": "python3"
  },
  "language_info": {
   "codemirror_mode": {
    "name": "ipython",
    "version": 3
   },
   "file_extension": ".py",
   "mimetype": "text/x-python",
   "name": "python",
   "nbconvert_exporter": "python",
   "pygments_lexer": "ipython3",
   "version": "3.10.8"
  }
 },
 "nbformat": 4,
 "nbformat_minor": 5
}
