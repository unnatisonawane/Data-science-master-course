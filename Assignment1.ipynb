{
 "cells": [
  {
   "cell_type": "markdown",
   "id": "873e6ed4-ef76-4e89-97ef-aa4f828a3d9e",
   "metadata": {},
   "source": [
    "## Q1.What are the characteristics of the tuples? Is tuple immutable?\n",
    "1. Tuples are immutable.\n",
    "2. tuples written in open parenthesis\n",
    "3. tuples are indexed\n",
    "4. tuples are used to store multiple items in a single variable\n",
    "5. tuple is similar to a list in terms of indexing, nested objects, and repetition but a tuple is immutable, unlike lists which are mutable."
   ]
  },
  {
   "cell_type": "markdown",
   "id": "e739b97e-d551-448a-9bf4-9b8df93cdad9",
   "metadata": {},
   "source": [
    "## Q2. What are the two tuple methods in python? Give an example of each method. Give a reason why tuples have only two in-built methods as compared to Lists.\n",
    "1. The methods used on a tuple are count() and index().\n",
    "2. Count() – This method returns the number of times a specific value occurs in a tuple\n",
    "3. index() – This method searches the tuple for a specific value after which it returns the position of the specific value.\n",
    "    \n",
    "    There are only two built-in methods that can be used on a tuple. This is because methods that can add or remove items are not available in the tuple."
   ]
  },
  {
   "cell_type": "code",
   "execution_count": 1,
   "id": "1b4d4f07-049f-4be2-b13d-a9f703d559ab",
   "metadata": {},
   "outputs": [],
   "source": [
    "## example of count()\n",
    "t1= ('fruits','apple','banana',888,45,4,4,'apple')"
   ]
  },
  {
   "cell_type": "code",
   "execution_count": 2,
   "id": "cd95156b-ff09-4b99-a428-b06897dc25b6",
   "metadata": {},
   "outputs": [
    {
     "data": {
      "text/plain": [
       "2"
      ]
     },
     "execution_count": 2,
     "metadata": {},
     "output_type": "execute_result"
    }
   ],
   "source": [
    "t1.count('apple') # apple appear two times in tuple"
   ]
  },
  {
   "cell_type": "code",
   "execution_count": 9,
   "id": "47080578-6589-4071-8e7b-51de586cb9a4",
   "metadata": {},
   "outputs": [
    {
     "data": {
      "text/plain": [
       "5"
      ]
     },
     "execution_count": 9,
     "metadata": {},
     "output_type": "execute_result"
    }
   ],
   "source": [
    "## example of index\n",
    "t1.index(4)"
   ]
  },
  {
   "cell_type": "markdown",
   "id": "02f0685f-055a-4e4d-908b-4f0908892911",
   "metadata": {},
   "source": [
    "## Q3. Which collection datatypes in python do not allow duplicate items? Write a code using a set to remove duplicates from the given list.\n",
    "    A set is unique in Python. It does not allow duplicates."
   ]
  },
  {
   "cell_type": "code",
   "execution_count": 43,
   "id": "92372ae2-90b9-48cb-8a7d-a16345aa3ab8",
   "metadata": {},
   "outputs": [],
   "source": [
    "List=[1, 1, 1, 2, 1, 3, 1, 4, 2, 1, 2, 2, 2, 3, 2, 4, 3, 1, 3, 2, 3, 3, 3, 4, 4, 1, 4, 2, 4, 3, 4, 4]"
   ]
  },
  {
   "cell_type": "code",
   "execution_count": 44,
   "id": "80f40d9d-a958-4bb6-af6d-8293079d68b8",
   "metadata": {},
   "outputs": [
    {
     "data": {
      "text/plain": [
       "list"
      ]
     },
     "execution_count": 44,
     "metadata": {},
     "output_type": "execute_result"
    }
   ],
   "source": [
    "type(List)"
   ]
  },
  {
   "cell_type": "code",
   "execution_count": 45,
   "id": "d9f39adb-103d-4f65-80bd-f17d21398ecf",
   "metadata": {},
   "outputs": [
    {
     "data": {
      "text/plain": [
       "{1, 2, 3, 4}"
      ]
     },
     "execution_count": 45,
     "metadata": {},
     "output_type": "execute_result"
    }
   ],
   "source": [
    "set(List)"
   ]
  },
  {
   "cell_type": "markdown",
   "id": "72917134-37d5-4a2e-b297-d4e7701117ad",
   "metadata": {},
   "source": [
    "## Q4. Explain the difference between the union() and update() methods for a set. Give an example of each method.\n",
    "    union -Return the union of sets as a new set. duplicates are excluded\n",
    "    update-Update a set with the union of itself and others.\n",
    "    both have same functionality but union give return value where as there is no return value for update,need to separately print out the set."
   ]
  },
  {
   "cell_type": "code",
   "execution_count": 55,
   "id": "35b33b9b-2c47-42b6-8e16-e09dcbcd9c8f",
   "metadata": {},
   "outputs": [],
   "source": [
    "s1={'power bi','tableau','visualiation','analyst'}\n",
    "s2={'python','SQL','excel','tableau'}"
   ]
  },
  {
   "cell_type": "code",
   "execution_count": 71,
   "id": "a5f2c444-362f-48d1-816c-774d6b89070f",
   "metadata": {},
   "outputs": [
    {
     "data": {
      "text/plain": [
       "{'SQL', 'analyst', 'excel', 'power bi', 'python', 'tableau', 'visualiation'}"
      ]
     },
     "execution_count": 71,
     "metadata": {},
     "output_type": "execute_result"
    }
   ],
   "source": [
    "s1.union(s2)\n",
    "s3"
   ]
  },
  {
   "cell_type": "code",
   "execution_count": 75,
   "id": "ddc15590-d73c-44de-b4ba-2c3b511927ac",
   "metadata": {},
   "outputs": [
    {
     "data": {
      "text/plain": [
       "{'SQL', 'analyst', 'excel', 'power bi', 'python', 'tableau', 'visualiation'}"
      ]
     },
     "execution_count": 75,
     "metadata": {},
     "output_type": "execute_result"
    }
   ],
   "source": [
    "s1.update(s2)\n",
    "s2"
   ]
  },
  {
   "cell_type": "markdown",
   "id": "f29cbe85-8fc2-4bce-8820-03d08fdc0599",
   "metadata": {},
   "source": [
    "## Q5. What is a dictionary? Give an example. Also, state whether a dictionary is ordered or unordered.\n",
    "    A Dictionary is the unordered and changeable collection of data values that holds key-value pairs.\n",
    "    Enclosed in a comma-separated list of key-value pairs using curly braces {}.\n",
    "    It is classified into two elements: Keys and Values.\n",
    "    Keys will be a single element\n",
    "    Values can be a list or list within a list, numbers, etc."
   ]
  },
  {
   "cell_type": "code",
   "execution_count": 76,
   "id": "80855e80-02e5-41c2-8a54-b2a99fdf4253",
   "metadata": {},
   "outputs": [],
   "source": [
    "d1={'name':'devansh','age':10,'school':'abc'}"
   ]
  },
  {
   "cell_type": "code",
   "execution_count": 78,
   "id": "12f1a546-4512-4557-974d-a7fc8f9d859d",
   "metadata": {},
   "outputs": [
    {
     "data": {
      "text/plain": [
       "dict"
      ]
     },
     "execution_count": 78,
     "metadata": {},
     "output_type": "execute_result"
    }
   ],
   "source": [
    "type(d1)"
   ]
  },
  {
   "cell_type": "markdown",
   "id": "04583b5b-a000-4f1b-9d82-f8bf7d0e9e54",
   "metadata": {},
   "source": [
    "## Q6. Can we create a nested dictionary? If so, please give an example by creating a simple one-level nested dictionary.\n",
    "    Nested dictionary can be created by placing the comma-separated dictionaries enclosed within braces. "
   ]
  },
  {
   "cell_type": "code",
   "execution_count": 79,
   "id": "c0851899-4a9b-46bb-a0f1-c9d8e7f93118",
   "metadata": {},
   "outputs": [],
   "source": [
    "#example of nested dictionary\n",
    "new_dict= {'fruit':'apple','vegetable':'tomato','dict2':{'A':8,'B':4}}"
   ]
  },
  {
   "cell_type": "code",
   "execution_count": 80,
   "id": "961ccf15-8e62-46ae-9dae-1cfdbc634168",
   "metadata": {},
   "outputs": [
    {
     "data": {
      "text/plain": [
       "{'fruit': 'apple', 'vegetable': 'tomato', 'dict2': {'A': 8, 'B': 4}}"
      ]
     },
     "execution_count": 80,
     "metadata": {},
     "output_type": "execute_result"
    }
   ],
   "source": [
    "new_dict"
   ]
  },
  {
   "cell_type": "markdown",
   "id": "fa92cc14-3351-4952-8d1a-47f287f61973",
   "metadata": {},
   "source": [
    "## Q7. Using setdefault() method, create key named topics in the given dictionary and also add the value of the key as this list ['Python', 'Machine Learning’, 'Deep Learning']"
   ]
  },
  {
   "cell_type": "code",
   "execution_count": 96,
   "id": "62d3507f-f64e-47e4-bd86-c364baf13822",
   "metadata": {},
   "outputs": [],
   "source": [
    "dict1 = {'language' : 'Python', 'course': 'Data Science Masters'}"
   ]
  },
  {
   "cell_type": "code",
   "execution_count": 97,
   "id": "868baaed-c349-42f1-96c7-28c2698e30ca",
   "metadata": {},
   "outputs": [
    {
     "data": {
      "text/plain": [
       "['Python', 'Machine Learning', 'Deep Learning']"
      ]
     },
     "execution_count": 97,
     "metadata": {},
     "output_type": "execute_result"
    }
   ],
   "source": [
    "dict1.setdefault('interested in', ['Python', 'Machine Learning', 'Deep Learning'])"
   ]
  },
  {
   "cell_type": "code",
   "execution_count": 98,
   "id": "29c9685b-2d6b-4669-baf3-a085662eb46c",
   "metadata": {},
   "outputs": [
    {
     "data": {
      "text/plain": [
       "{'language': 'Python',\n",
       " 'course': 'Data Science Masters',\n",
       " 'interested in': ['Python', 'Machine Learning', 'Deep Learning']}"
      ]
     },
     "execution_count": 98,
     "metadata": {},
     "output_type": "execute_result"
    }
   ],
   "source": [
    "dict1"
   ]
  },
  {
   "cell_type": "markdown",
   "id": "f5793237-a8ff-4beb-b6b0-4f7fa013a23b",
   "metadata": {},
   "source": [
    "## Q8. What are the three view objects in dictionaries? Use the three in-built methods in python to display these three view objects for the given dictionary.\n",
    "    The three main view objects of dictionary in python are keys, values and items"
   ]
  },
  {
   "cell_type": "code",
   "execution_count": 99,
   "id": "e0143e3e-6b32-4fc4-8878-37dfcf59e989",
   "metadata": {},
   "outputs": [],
   "source": [
    "dict1 = {'Sport': 'Cricket' , 'Teams': ['India', 'Australia', 'England', 'South Africa', 'Sri Lanka', 'New Zealand']}"
   ]
  },
  {
   "cell_type": "code",
   "execution_count": 100,
   "id": "ea6f815e-b4a1-4797-8276-a847a3a3cb5e",
   "metadata": {},
   "outputs": [
    {
     "data": {
      "text/plain": [
       "dict_keys(['Sport', 'Teams'])"
      ]
     },
     "execution_count": 100,
     "metadata": {},
     "output_type": "execute_result"
    }
   ],
   "source": [
    "dict1.keys()"
   ]
  },
  {
   "cell_type": "code",
   "execution_count": 102,
   "id": "6203c238-3692-4176-aa66-02223c660582",
   "metadata": {},
   "outputs": [
    {
     "data": {
      "text/plain": [
       "dict_values(['Cricket', ['India', 'Australia', 'England', 'South Africa', 'Sri Lanka', 'New Zealand']])"
      ]
     },
     "execution_count": 102,
     "metadata": {},
     "output_type": "execute_result"
    }
   ],
   "source": [
    "dict1.values()"
   ]
  },
  {
   "cell_type": "code",
   "execution_count": 103,
   "id": "bf886b81-1f16-4972-82a3-c3d7001abd65",
   "metadata": {},
   "outputs": [
    {
     "data": {
      "text/plain": [
       "dict_items([('Sport', 'Cricket'), ('Teams', ['India', 'Australia', 'England', 'South Africa', 'Sri Lanka', 'New Zealand'])])"
      ]
     },
     "execution_count": 103,
     "metadata": {},
     "output_type": "execute_result"
    }
   ],
   "source": [
    "dict1.items()"
   ]
  },
  {
   "cell_type": "code",
   "execution_count": null,
   "id": "68142d7b-e695-4d14-ad3d-962e5bb8dca2",
   "metadata": {},
   "outputs": [],
   "source": []
  }
 ],
 "metadata": {
  "kernelspec": {
   "display_name": "Python 3 (ipykernel)",
   "language": "python",
   "name": "python3"
  },
  "language_info": {
   "codemirror_mode": {
    "name": "ipython",
    "version": 3
   },
   "file_extension": ".py",
   "mimetype": "text/x-python",
   "name": "python",
   "nbconvert_exporter": "python",
   "pygments_lexer": "ipython3",
   "version": "3.10.8"
  }
 },
 "nbformat": 4,
 "nbformat_minor": 5
}
