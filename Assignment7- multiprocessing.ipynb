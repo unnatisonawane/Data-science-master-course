{
 "cells": [
  {
   "cell_type": "markdown",
   "id": "d754bc15-2c85-4d8e-a50d-d01067b86605",
   "metadata": {},
   "source": [
    "## Q1. What is multiprocessing in python? Why is it useful?"
   ]
  },
  {
   "cell_type": "markdown",
   "id": "24b76c52-1241-4dee-bc53-c752456ab1fe",
   "metadata": {},
   "source": [
    "Multiprocessing in Python refers to the ability to run multiple processes simultaneously, taking advantage of multiple CPU cores or processors in a computer system.\n",
    "\n",
    "Multiprocessing is useful for several reasons:\n",
    "\n",
    "Increased Performance\n",
    "\n",
    "Concurrency\n",
    "\n",
    "Isolation:If one process encounters an error or crashes, it does not affect the execution of other processes.\n",
    "\n",
    "Interprocess Communication: Multiprocessing provides various mechanisms for communication between processes, such as pipes, shared memory, and message queues."
   ]
  },
  {
   "cell_type": "markdown",
   "id": "9f228b07-ff32-4163-92a8-e1ca2904c9b9",
   "metadata": {},
   "source": [
    "## Q2. What are the differences between multiprocessing and multithreading?"
   ]
  },
  {
   "cell_type": "markdown",
   "id": "809116a0-f168-4231-9fec-60536fc64770",
   "metadata": {},
   "source": [
    "Multithreading:\n",
    "\n",
    "1. Multithreading is the concurrent execution of multiple threads within the same process.\n",
    "2. Threads within a process share the same memory space.\n",
    "3. Multithreading is suitable for tasks that involve I/O-bound operations, such as network communication or disk access.\n",
    "4. Multiple threads can run on different CPU cores, but they share the same memory and resources.\n",
    "5. Threads can communicate with each other more easily and directly using shared data.\n",
    "6. However, due to the shared memory space, multithreading requires careful synchronization to avoid data races and other concurrency issues.\n",
    "7. Python's Global Interpreter Lock (GIL) limits the parallel execution of multiple threads in CPython, the default Python interpreter. Therefore, multithreading in Python may not achieve true parallelism for CPU-bound tasks.\n",
    "\n",
    "Multiprocessing:\n",
    "\n",
    "1. Multiprocessing is the execution of multiple processes, each running independently.\n",
    "2. Processes have their own separate memory space and resources.\n",
    "3. Multiprocessing is suitable for tasks that involve CPU-bound operations, such as complex computations.\n",
    "4. Each process runs on a separate CPU core, providing true parallelism.\n",
    "5. Processes communicate with each other using interprocess communication (IPC) mechanisms like pipes, shared memory, or message queues.\n",
    "6. Communication between processes is more explicit and requires serialization of data.\n",
    "7. Multiprocessing in Python overcomes the limitations of the Global Interpreter Lock (GIL) and enables true parallel execution of multiple processes.\n",
    "\n"
   ]
  },
  {
   "cell_type": "markdown",
   "id": "f3896267-35f0-434d-9076-2280ba03ce04",
   "metadata": {},
   "source": [
    "## Q3. Write a python code to create a process using the multiprocessing module."
   ]
  },
  {
   "cell_type": "code",
   "execution_count": 1,
   "id": "dbaead23-c2e2-4df9-840c-8e5874858291",
   "metadata": {},
   "outputs": [
    {
     "name": "stdout",
     "output_type": "stream",
     "text": [
      "Subprocess executing\n",
      "Main process exiting\n"
     ]
    }
   ],
   "source": [
    "import multiprocessing\n",
    "\n",
    "def my_function():\n",
    "    # Code to be executed by the subprocess\n",
    "    print(\"Subprocess executing\")\n",
    "\n",
    "if __name__ == '__main__':\n",
    "    # Creating a Process object\n",
    "    my_process = multiprocessing.Process(target=my_function)\n",
    "\n",
    "    # Starting the process\n",
    "    my_process.start()\n",
    "\n",
    "    # Waiting for the process to finish\n",
    "    my_process.join()\n",
    "\n",
    "    # Code after the process has finished\n",
    "    print(\"Main process exiting\")"
   ]
  },
  {
   "cell_type": "markdown",
   "id": "8c07c0ba-1be2-4994-ac4b-f6ed6bef784e",
   "metadata": {},
   "source": [
    "## Q4. What is a multiprocessing pool in python? Why is it used?"
   ]
  },
  {
   "cell_type": "markdown",
   "id": "3bc4abd0-f45b-405b-94ae-ae105b0f602f",
   "metadata": {},
   "source": [
    "A multiprocessing pool in Python refers to a collection of worker processes that can be used to execute tasks in parallel. It is provided by the multiprocessing.Pool class in the multiprocessing module.\n",
    "\n",
    "A multiprocessing pool is used for distributing work among a fixed number of worker processes, where each process takes a task from a queue and executes it. It simplifies the management of worker processes and provides a high-level interface for parallel processing."
   ]
  },
  {
   "cell_type": "markdown",
   "id": "767c487e-59f0-4a25-9f8f-18f67afe966e",
   "metadata": {},
   "source": [
    "## Q5. How can we create a pool of worker processes in python using the multiprocessing module?"
   ]
  },
  {
   "cell_type": "code",
   "execution_count": 2,
   "id": "9068680f-5ee5-43bd-8cf9-0f453b1eb136",
   "metadata": {},
   "outputs": [],
   "source": [
    "import multiprocessing\n",
    "\n",
    "num_processes = 4  # Example: Creating a pool with 4 worker processes\n",
    "pool = multiprocessing.Pool(processes=num_processes)\n",
    "\n"
   ]
  },
  {
   "cell_type": "markdown",
   "id": "67c70e4c-9631-4e7e-b484-09ca99a6ce52",
   "metadata": {},
   "source": [
    "## Q6. Write a python program to create 4 processes, each process should print a different number using the multiprocessing module in python."
   ]
  },
  {
   "cell_type": "code",
   "execution_count": 3,
   "id": "a7419c4d-9fb3-4291-ada4-3cf456c69570",
   "metadata": {},
   "outputs": [
    {
     "name": "stdout",
     "output_type": "stream",
     "text": [
      "Process 1: My number is 1\n",
      "Process 2: My number is 2\n",
      "Process 3: My number is 3\n",
      "Process 4: My number is 4\n"
     ]
    }
   ],
   "source": [
    "import multiprocessing\n",
    "\n",
    "def print_number(number):\n",
    "    print(f\"Process {number}: My number is {number}\")\n",
    "\n",
    "if __name__ == '__main__':\n",
    "    processes = []\n",
    "    num_processes = 4\n",
    "\n",
    "    for i in range(num_processes):\n",
    "        process = multiprocessing.Process(target=print_number, args=(i+1,))\n",
    "        processes.append(process)\n",
    "\n",
    "    for process in processes:\n",
    "        process.start()\n",
    "\n",
    "    for process in processes:\n",
    "        process.join()\n"
   ]
  },
  {
   "cell_type": "code",
   "execution_count": null,
   "id": "c955e17f-a3fc-4480-a54f-dc12679c8c34",
   "metadata": {},
   "outputs": [],
   "source": []
  }
 ],
 "metadata": {
  "kernelspec": {
   "display_name": "Python 3 (ipykernel)",
   "language": "python",
   "name": "python3"
  },
  "language_info": {
   "codemirror_mode": {
    "name": "ipython",
    "version": 3
   },
   "file_extension": ".py",
   "mimetype": "text/x-python",
   "name": "python",
   "nbconvert_exporter": "python",
   "pygments_lexer": "ipython3",
   "version": "3.10.8"
  }
 },
 "nbformat": 4,
 "nbformat_minor": 5
}
