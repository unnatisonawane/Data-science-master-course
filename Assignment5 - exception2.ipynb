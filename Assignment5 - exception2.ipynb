{
 "cells": [
  {
   "cell_type": "markdown",
   "id": "c20e1112-2d3f-43a5-8217-ac5b395fdc48",
   "metadata": {},
   "source": [
    "## Q1. Explain why we have to use the Exception class while creating a Custom Exception."
   ]
  },
  {
   "cell_type": "markdown",
   "id": "65340b5b-aee7-4ce8-9c79-8534c477e115",
   "metadata": {},
   "source": [
    "When creating a custom exception in Python, it is recommended to inherit from the built-in Exception class or one of its subclasses. Here are a few reasons why using the Exception class as the base class for custom exceptions is beneficial:\n",
    "\n",
    "1. Standardization: Inheriting from the Exception class ensures that your custom exception adheres to the standard exception hierarchy in Python\n",
    " 2. Catching and Handling: By inheriting from the Exception class, your custom exception can be caught and handled using a generic except block that captures all types of exceptions. \n",
    " 3. Code Compatibility: Inheriting from the Exception class makes your custom exception compatible with existing exception handling practices and libraries in Python. \n",
    " 4. Exception Hierarchy: The Exception class is at the top of the exception hierarchy in Python, with various specialized exception subclasses beneath it.\n",
    " 5. Consistency: Using the Exception class as the base class for custom exceptions promotes consistency within your codebase and among other developers."
   ]
  },
  {
   "cell_type": "markdown",
   "id": "a49a0ddb-90e7-45ac-9928-ffa3fab8ea8b",
   "metadata": {},
   "source": [
    "## Q2. Write a python program to print Python Exception Hierarchy."
   ]
  },
  {
   "cell_type": "code",
   "execution_count": 1,
   "id": "55f857e5-88e7-4364-bf8a-89a0e86cf823",
   "metadata": {},
   "outputs": [
    {
     "name": "stdout",
     "output_type": "stream",
     "text": [
      "Exception\n",
      "  - BaseException\n",
      "  - StandardError\n",
      "  - Warning\n",
      "BaseException\n",
      "  - SystemExit\n",
      "  - KeyboardInterrupt\n",
      "  - GeneratorExit\n",
      "StandardError\n",
      "  - AssertionError\n",
      "  - AttributeError\n",
      "Warning\n",
      "  - UserWarning\n",
      "  - DeprecationWarning\n"
     ]
    }
   ],
   "source": [
    "def print_exception_hierarchy():\n",
    "    exception_hierarchy = {\n",
    "        \"Exception\": [\n",
    "            \"BaseException\",\n",
    "            \"StandardError\",\n",
    "            \"Warning\"\n",
    "        ],\n",
    "        \"BaseException\": [\n",
    "            \"SystemExit\",\n",
    "            \"KeyboardInterrupt\",\n",
    "            \"GeneratorExit\"\n",
    "        ],\n",
    "        \"StandardError\": [\n",
    "            \"AssertionError\",\n",
    "            \"AttributeError\"\n",
    "        ],\n",
    "        \"Warning\": [\n",
    "            \"UserWarning\",\n",
    "            \"DeprecationWarning\"\n",
    "        ]\n",
    "    }\n",
    "\n",
    "    for exception, subclasses in exception_hierarchy.items():\n",
    "        print(exception)\n",
    "        for subclass in subclasses:\n",
    "            print(\"  -\", subclass)\n",
    "\n",
    "\n",
    "# Print a subset of the exception hierarchy\n",
    "print_exception_hierarchy()\n"
   ]
  },
  {
   "cell_type": "markdown",
   "id": "7fa024b0-2cf2-41f0-be91-0f39beed5779",
   "metadata": {},
   "source": [
    "## Q3. What errors are defined in the ArithmeticError class? Explain any two with an example."
   ]
  },
  {
   "cell_type": "markdown",
   "id": "558835b7-bf15-4711-86aa-0181f31b05e9",
   "metadata": {},
   "source": [
    "The ArithmeticError class in Python is a base class for exceptions that occur during arithmetic operations\n",
    "Here are two commonly used exceptions derived from ArithmeticError\n",
    "1. ZeroDivisionError\n",
    "2. ValueError"
   ]
  },
  {
   "cell_type": "code",
   "execution_count": 10,
   "id": "e3d0dce9-71df-4c92-9994-ca81ca9616bd",
   "metadata": {},
   "outputs": [
    {
     "name": "stdout",
     "output_type": "stream",
     "text": [
      "Result: 5.0\n",
      "Error: Division by zero is not allowed.\n"
     ]
    }
   ],
   "source": [
    "# example of zero divsion error\n",
    "def divide_numbers(a, b):\n",
    "    try:\n",
    "        result = a / b\n",
    "        print(\"Result:\", result)\n",
    "    except ZeroDivisionError:\n",
    "        print(\"Error: Division by zero is not allowed.\")\n",
    "\n",
    "# Example usage\n",
    "divide_numbers(10, 2) \n",
    "divide_numbers(8, 0)"
   ]
  },
  {
   "cell_type": "code",
   "execution_count": 11,
   "id": "c451e185-281c-4730-af96-f5507b6d434a",
   "metadata": {},
   "outputs": [
    {
     "name": "stdout",
     "output_type": "stream",
     "text": [
      "Square root: 4.0\n",
      "Error: Invalid input for square root calculation.\n"
     ]
    }
   ],
   "source": [
    "import math\n",
    "\n",
    "def calculate_square_root(x):\n",
    "    try:\n",
    "        result = math.sqrt(x)\n",
    "        print(\"Square root:\", result)\n",
    "    except ValueError:\n",
    "        print(\"Error: Invalid input for square root calculation.\")\n",
    "\n",
    "# Example usage\n",
    "calculate_square_root(16)   \n",
    "calculate_square_root(-9)"
   ]
  },
  {
   "cell_type": "markdown",
   "id": "ce93292d-c02e-49c0-b6ba-30018edca9a2",
   "metadata": {},
   "source": [
    "## Q4. Why LookupError class is used? Explain with an example KeyError and IndexError."
   ]
  },
  {
   "cell_type": "markdown",
   "id": "9ca49583-febd-4e21-a8be-a6cfeeb2ce8a",
   "metadata": {},
   "source": [
    "The LookupError class in Python is a base class for exceptions that occur when a lookup or indexing operation fails"
   ]
  },
  {
   "cell_type": "code",
   "execution_count": 12,
   "id": "a9c91c61-db4d-4d16-82b6-2536839fdc52",
   "metadata": {},
   "outputs": [
    {
     "name": "stdout",
     "output_type": "stream",
     "text": [
      "KeyError: Key not found in the dictionary.\n"
     ]
    }
   ],
   "source": [
    "# Example 4: KeyError\n",
    "try:\n",
    "    student_grades = {\"Alice\": 85, \"Bob\": 92, \"Charlie\": 78}\n",
    "    print(student_grades[\"David\"])\n",
    "except KeyError:\n",
    "    print(\"KeyError: Key not found in the dictionary.\")"
   ]
  },
  {
   "cell_type": "code",
   "execution_count": 13,
   "id": "63c0d184-1635-47bf-8d81-3ddf5f15a8f6",
   "metadata": {},
   "outputs": [
    {
     "name": "stdout",
     "output_type": "stream",
     "text": [
      "IndexError: List index out of range.\n"
     ]
    }
   ],
   "source": [
    "# Example 3: IndexError\n",
    "try:\n",
    "    numbers = [1, 2, 3]\n",
    "    print(numbers[5])\n",
    "except IndexError:\n",
    "    print(\"IndexError: List index out of range.\")"
   ]
  },
  {
   "cell_type": "markdown",
   "id": "b1946fa4-7783-4360-95de-d2f198a94f08",
   "metadata": {},
   "source": [
    "## Q5. Explain ImportError. What is ModuleNotFoundError?"
   ]
  },
  {
   "cell_type": "markdown",
   "id": "d6e53368-ed32-4f59-806e-0f628e393b1d",
   "metadata": {},
   "source": [
    "ImportError: This exception is raised when an imported module, submodule, or name cannot be found or accessed. It occurs when there are problems with importing and loading modules during the execution of a Python program. ImportError is a base class for more specific import-related exceptions.\n",
    "\n",
    "ModuleNotFoundError: This exception is a subclass of ImportError and is specifically raised when a module or package cannot be found during an import operation"
   ]
  },
  {
   "cell_type": "code",
   "execution_count": 17,
   "id": "14347c23-2589-4f51-9d3a-2963233b472b",
   "metadata": {},
   "outputs": [
    {
     "name": "stdout",
     "output_type": "stream",
     "text": [
      "failed to import module\n"
     ]
    }
   ],
   "source": [
    "try:\n",
    "    import my_module\n",
    "    print('module imported successfully')\n",
    "except ImportError:\n",
    "    print('failed to import module')"
   ]
  },
  {
   "cell_type": "code",
   "execution_count": 18,
   "id": "fc892bab-c91f-4859-b613-4a9ec2361b8a",
   "metadata": {},
   "outputs": [
    {
     "name": "stdout",
     "output_type": "stream",
     "text": [
      "the module could not found\n"
     ]
    }
   ],
   "source": [
    "try: \n",
    "    import non_existence_module\n",
    "    print('module imported successfully')\n",
    "except ModuleNotFoundError:\n",
    "    print('the module could not found')"
   ]
  },
  {
   "cell_type": "markdown",
   "id": "bc5477e2-ff79-4f97-a931-ab13e65962b2",
   "metadata": {},
   "source": [
    "## Q6. List down some best practices for exception handling in python."
   ]
  },
  {
   "cell_type": "markdown",
   "id": "6a117c47-8786-45f0-ac64-e6bfc07f4bf2",
   "metadata": {},
   "source": [
    "1. Be specific in exception handling\n",
    "2. Use multiple except blocks\n",
    "3. Use a finally block\n",
    "4. Avoid overly broad except statements\n",
    "5. Handle exceptions at the appropriate level\n",
    "6. Provide informative error messages\n",
    "7. Use logging\n",
    "8. Reraise exceptions when necessary\n",
    "9. Test exception handling"
   ]
  },
  {
   "cell_type": "code",
   "execution_count": null,
   "id": "3c1ce438-2cf4-41ed-b193-773e336caafa",
   "metadata": {},
   "outputs": [],
   "source": []
  }
 ],
 "metadata": {
  "kernelspec": {
   "display_name": "Python 3 (ipykernel)",
   "language": "python",
   "name": "python3"
  },
  "language_info": {
   "codemirror_mode": {
    "name": "ipython",
    "version": 3
   },
   "file_extension": ".py",
   "mimetype": "text/x-python",
   "name": "python",
   "nbconvert_exporter": "python",
   "pygments_lexer": "ipython3",
   "version": "3.10.8"
  }
 },
 "nbformat": 4,
 "nbformat_minor": 5
}
