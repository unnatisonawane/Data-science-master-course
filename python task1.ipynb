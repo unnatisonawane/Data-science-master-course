{
 "cells": [
  {
   "cell_type": "markdown",
   "id": "c1bf2e85-1e6d-4ed4-a277-7c888f3466a6",
   "metadata": {},
   "source": [
    "## Q1. Create a function which will take a list as an argument and return the product of all the numbers after creating a flat list.\n",
    "    Use the below-given list as an argument for your function.\n",
    "    list1 = [1,2,3,4, [44,55,66, True], False, (34,56,78,89,34), {1,2,3,3,2,1}, {1:34, \"key2\": [55, 67, 78, 89],\n",
    "    4:(45,22, 61, 34)}, [56, 'data science'], 'Machine Learning']\n",
    "Note: you must extract numeric keys and values of the dictionary also."
   ]
  },
  {
   "cell_type": "code",
   "execution_count": 60,
   "id": "e3296c77-3edc-45c6-8155-3d0d0e9970b2",
   "metadata": {},
   "outputs": [],
   "source": [
    "list1 = [1,2,3,4, [44,55,66, True], False, (34,56,78,89,34), {1,2,3,3,2,1}, {1:34, \"key2\": [55, 67, 78, 89],\n",
    "4:(45,22, 61, 34)}, [56, 'data science'], 'Machine Learning']"
   ]
  },
  {
   "cell_type": "code",
   "execution_count": 61,
   "id": "3cad10d1-f306-41b3-a7bd-e6e554ad535a",
   "metadata": {},
   "outputs": [],
   "source": [
    "def num_product(in_list):\n",
    "    product=1\n",
    "    l=[]\n",
    "    for i in in_list:\n",
    "        if type(i) == int:\n",
    "            l.append(i)\n",
    "        elif type(i) in [list, tuple, set]:\n",
    "            for ele in i:\n",
    "                if type(ele)==int:\n",
    "                    l.append(ele)\n",
    "        elif type(i)==dict:\n",
    "            for ele in i.keys():\n",
    "                if type(ele)==int:\n",
    "                    l.append(ele)\n",
    "            for ele in i.values():\n",
    "                if type(ele)==int:\n",
    "                    l.append(ele)\n",
    "                elif type(ele) in [list, tuple]:\n",
    "                    for ele1 in ele:\n",
    "                        if type(ele1)==int:\n",
    "                            l.append(ele1)\n",
    "    for i in l:\n",
    "        product *=i\n",
    "    return f\"The product of all the numbers in flat list is {product}\""
   ]
  },
  {
   "cell_type": "code",
   "execution_count": 62,
   "id": "7bffa341-de50-47de-8227-2423193a7216",
   "metadata": {},
   "outputs": [
    {
     "data": {
      "text/plain": [
       "'The product of all the numbers in flat list is 4134711838987085478833841242112000'"
      ]
     },
     "execution_count": 62,
     "metadata": {},
     "output_type": "execute_result"
    }
   ],
   "source": [
    "num_product(list1)"
   ]
  },
  {
   "cell_type": "markdown",
   "id": "0c317ae4-f634-4313-b0eb-566f96623171",
   "metadata": {},
   "source": [
    "## Q2. Write a python program for encrypting a message sent to you by your friend. \n",
    "The logic of encryption should be such that, for a the output should be z. For b, the output should be y. For c, the output should be x respectively. Also, the whitespace should be replaced with a dollar sign. Keep the punctuation marks unchanged. Input Sentence: I want to become a Data Scientist. Encrypt the above input sentence using the program you just created.\n",
    "Note: Convert the given input sentence into lowercase before encrypting. The final output should be\n",
    "lowercase."
   ]
  },
  {
   "cell_type": "code",
   "execution_count": 63,
   "id": "4883b2ef-1975-47b1-92b1-24b68e6d78a1",
   "metadata": {},
   "outputs": [
    {
     "name": "stdout",
     "output_type": "stream",
     "text": [
      "i$wznt$to$yexome$z$dztz$sxientist.\n"
     ]
    }
   ],
   "source": [
    "def encrypt_message(message):\n",
    "    encrypted_message = ''\n",
    "    for char in message:\n",
    "        if char == 'a':\n",
    "            encrypted_message += 'z'\n",
    "        elif char == 'b':\n",
    "            encrypted_message += 'y'\n",
    "        elif char == 'c':\n",
    "            encrypted_message += 'x'\n",
    "        elif char == ' ':\n",
    "            encrypted_message += '$'\n",
    "        else:\n",
    "            encrypted_message += char\n",
    "    return encrypted_message.lower()\n",
    "\n",
    "input_sentence = 'I want to become a Data Scientist.'\n",
    "encrypted_sentence = encrypt_message(input_sentence)\n",
    "print(encrypted_sentence)"
   ]
  },
  {
   "cell_type": "code",
   "execution_count": null,
   "id": "4a6716fb-ec62-4e7c-8e7f-69d88e2df8cc",
   "metadata": {},
   "outputs": [],
   "source": []
  }
 ],
 "metadata": {
  "kernelspec": {
   "display_name": "Python 3 (ipykernel)",
   "language": "python",
   "name": "python3"
  },
  "language_info": {
   "codemirror_mode": {
    "name": "ipython",
    "version": 3
   },
   "file_extension": ".py",
   "mimetype": "text/x-python",
   "name": "python",
   "nbconvert_exporter": "python",
   "pygments_lexer": "ipython3",
   "version": "3.10.8"
  }
 },
 "nbformat": 4,
 "nbformat_minor": 5
}
