{
 "cells": [
  {
   "cell_type": "markdown",
   "id": "aeaa1697-8fd7-4d83-b9a9-6fb346339619",
   "metadata": {},
   "source": [
    "# Exception Handling\n",
    "    Exception handling is a mechanism in programming that allows you to handle and respond to unexpected or exceptional situations that may occur during the execution of a program"
   ]
  },
  {
   "cell_type": "markdown",
   "id": "72e4de07-c188-465f-a2a3-33c0c75ed6ea",
   "metadata": {},
   "source": [
    "## 1. try except block"
   ]
  },
  {
   "cell_type": "code",
   "execution_count": 1,
   "id": "4ecea3ef-9773-4067-9615-0d7c8d4f4db6",
   "metadata": {},
   "outputs": [
    {
     "ename": "FileNotFoundError",
     "evalue": "[Errno 2] No such file or directory: 'test1.txt'",
     "output_type": "error",
     "traceback": [
      "\u001b[0;31m---------------------------------------------------------------------------\u001b[0m",
      "\u001b[0;31mFileNotFoundError\u001b[0m                         Traceback (most recent call last)",
      "Cell \u001b[0;32mIn[1], line 1\u001b[0m\n\u001b[0;32m----> 1\u001b[0m f\u001b[38;5;241m=\u001b[39m\u001b[38;5;28;43mopen\u001b[39;49m\u001b[43m(\u001b[49m\u001b[38;5;124;43m'\u001b[39;49m\u001b[38;5;124;43mtest1.txt\u001b[39;49m\u001b[38;5;124;43m'\u001b[39;49m\u001b[43m,\u001b[49m\u001b[38;5;124;43m'\u001b[39;49m\u001b[38;5;124;43mr\u001b[39;49m\u001b[38;5;124;43m'\u001b[39;49m\u001b[43m)\u001b[49m\n\u001b[1;32m      2\u001b[0m \u001b[38;5;28mprint\u001b[39m(\u001b[38;5;124m'\u001b[39m\u001b[38;5;124mthis is my code\u001b[39m\u001b[38;5;124m'\u001b[39m)\n",
      "File \u001b[0;32m/opt/conda/lib/python3.10/site-packages/IPython/core/interactiveshell.py:282\u001b[0m, in \u001b[0;36m_modified_open\u001b[0;34m(file, *args, **kwargs)\u001b[0m\n\u001b[1;32m    275\u001b[0m \u001b[38;5;28;01mif\u001b[39;00m file \u001b[38;5;129;01min\u001b[39;00m {\u001b[38;5;241m0\u001b[39m, \u001b[38;5;241m1\u001b[39m, \u001b[38;5;241m2\u001b[39m}:\n\u001b[1;32m    276\u001b[0m     \u001b[38;5;28;01mraise\u001b[39;00m \u001b[38;5;167;01mValueError\u001b[39;00m(\n\u001b[1;32m    277\u001b[0m         \u001b[38;5;124mf\u001b[39m\u001b[38;5;124m\"\u001b[39m\u001b[38;5;124mIPython won\u001b[39m\u001b[38;5;124m'\u001b[39m\u001b[38;5;124mt let you open fd=\u001b[39m\u001b[38;5;132;01m{\u001b[39;00mfile\u001b[38;5;132;01m}\u001b[39;00m\u001b[38;5;124m by default \u001b[39m\u001b[38;5;124m\"\u001b[39m\n\u001b[1;32m    278\u001b[0m         \u001b[38;5;124m\"\u001b[39m\u001b[38;5;124mas it is likely to crash IPython. If you know what you are doing, \u001b[39m\u001b[38;5;124m\"\u001b[39m\n\u001b[1;32m    279\u001b[0m         \u001b[38;5;124m\"\u001b[39m\u001b[38;5;124myou can use builtins\u001b[39m\u001b[38;5;124m'\u001b[39m\u001b[38;5;124m open.\u001b[39m\u001b[38;5;124m\"\u001b[39m\n\u001b[1;32m    280\u001b[0m     )\n\u001b[0;32m--> 282\u001b[0m \u001b[38;5;28;01mreturn\u001b[39;00m \u001b[43mio_open\u001b[49m\u001b[43m(\u001b[49m\u001b[43mfile\u001b[49m\u001b[43m,\u001b[49m\u001b[43m \u001b[49m\u001b[38;5;241;43m*\u001b[39;49m\u001b[43margs\u001b[49m\u001b[43m,\u001b[49m\u001b[43m \u001b[49m\u001b[38;5;241;43m*\u001b[39;49m\u001b[38;5;241;43m*\u001b[39;49m\u001b[43mkwargs\u001b[49m\u001b[43m)\u001b[49m\n",
      "\u001b[0;31mFileNotFoundError\u001b[0m: [Errno 2] No such file or directory: 'test1.txt'"
     ]
    }
   ],
   "source": [
    "f=open('test1.txt','r')\n",
    "print('this is my code')"
   ]
  },
  {
   "cell_type": "code",
   "execution_count": 5,
   "id": "a0b2f7fd-a721-4cad-b3ba-4f9305456260",
   "metadata": {},
   "outputs": [
    {
     "name": "stdout",
     "output_type": "stream",
     "text": [
      "there is some issue with my code [Errno 2] No such file or directory: 'test1.txt'\n",
      "it will not stop below code\n"
     ]
    },
    {
     "data": {
      "text/plain": [
       "10"
      ]
     },
     "execution_count": 5,
     "metadata": {},
     "output_type": "execute_result"
    }
   ],
   "source": [
    "try:\n",
    "    f=open('test1.txt','r')\n",
    "except Exception as e:\n",
    "    print('there is some issue with my code',e)\n",
    "print('it will not stop below code')\n",
    "a=10\n",
    "a"
   ]
  },
  {
   "cell_type": "markdown",
   "id": "932e445c-ea1e-44f2-8f93-e2ce8bce8f48",
   "metadata": {},
   "source": [
    "## 2. else block inside try-except block\n",
    "    else block will always execute when try block will execute itself without exception."
   ]
  },
  {
   "cell_type": "code",
   "execution_count": 23,
   "id": "3b600284-9cce-4cd6-8dbb-cfeb3fbb67ea",
   "metadata": {},
   "outputs": [
    {
     "name": "stdout",
     "output_type": "stream",
     "text": [
      "it will always exceute when try block will execute itself\n"
     ]
    }
   ],
   "source": [
    "try:\n",
    "    f=open('test1.txt','w')\n",
    "    f.write('this is my mg')\n",
    "    f.close()\n",
    "except Exception as e:\n",
    "    print('there is some issue with my code',e)\n",
    "\n",
    "else:\n",
    "    print('it will always exceute when try block will execute itself')\n",
    "    "
   ]
  },
  {
   "cell_type": "code",
   "execution_count": 24,
   "id": "34df2009-60d0-4573-a4f8-c5e6263daa36",
   "metadata": {},
   "outputs": [
    {
     "name": "stdout",
     "output_type": "stream",
     "text": [
      "it will always exceute when try block will execute itself without exception\n"
     ]
    }
   ],
   "source": [
    "try:\n",
    "    f=open('test1.txt','w')\n",
    "    f.write('this is my mg')\n",
    "\n",
    "except Exception as e:\n",
    "    print('there is some issue with my code',e)\n",
    "\n",
    "else:\n",
    "    f.close()\n",
    "    print('it will always exceute when try block will execute itself without exception')\n",
    "    "
   ]
  },
  {
   "cell_type": "code",
   "execution_count": 15,
   "id": "7730c712-2342-4e9c-a628-87ff5484a10e",
   "metadata": {},
   "outputs": [
    {
     "name": "stdout",
     "output_type": "stream",
     "text": [
      "there is some issue with my code [Errno 2] No such file or directory: 'test2.txt'\n"
     ]
    }
   ],
   "source": [
    "try:\n",
    "    f=open('test2.txt','r')\n",
    "    f.write('this is my mg')\n",
    "\n",
    "\n",
    "except Exception as e:\n",
    "    print('there is some issue with my code',e)\n",
    "\n",
    "else:\n",
    "    f.close()\n",
    "    print('it will always exceute when try block will execute itself without exception')\n",
    "    "
   ]
  },
  {
   "cell_type": "markdown",
   "id": "338f9b5f-a1ff-484c-b049-20907ee41ad9",
   "metadata": {},
   "source": [
    "## 3. finally block\n",
    "     it will always execute even when whatever error rises in try block"
   ]
  },
  {
   "cell_type": "code",
   "execution_count": 16,
   "id": "74d2e711-f8f9-4874-b58d-cd066a8ccf6f",
   "metadata": {},
   "outputs": [
    {
     "name": "stdout",
     "output_type": "stream",
     "text": [
      "this will always execute\n"
     ]
    },
    {
     "ename": "FileNotFoundError",
     "evalue": "[Errno 2] No such file or directory: 'test2.txt'",
     "output_type": "error",
     "traceback": [
      "\u001b[0;31m---------------------------------------------------------------------------\u001b[0m",
      "\u001b[0;31mFileNotFoundError\u001b[0m                         Traceback (most recent call last)",
      "Cell \u001b[0;32mIn[16], line 2\u001b[0m\n\u001b[1;32m      1\u001b[0m \u001b[38;5;28;01mtry\u001b[39;00m:\n\u001b[0;32m----> 2\u001b[0m     f\u001b[38;5;241m=\u001b[39m\u001b[38;5;28;43mopen\u001b[39;49m\u001b[43m(\u001b[49m\u001b[38;5;124;43m'\u001b[39;49m\u001b[38;5;124;43mtest2.txt\u001b[39;49m\u001b[38;5;124;43m'\u001b[39;49m\u001b[43m,\u001b[49m\u001b[38;5;124;43m'\u001b[39;49m\u001b[38;5;124;43mr\u001b[39;49m\u001b[38;5;124;43m'\u001b[39;49m\u001b[43m)\u001b[49m\n\u001b[1;32m      3\u001b[0m     f\u001b[38;5;241m.\u001b[39mwrite(\u001b[38;5;124m'\u001b[39m\u001b[38;5;124mthis is my mg\u001b[39m\u001b[38;5;124m'\u001b[39m)\n\u001b[1;32m      5\u001b[0m \u001b[38;5;28;01mfinally\u001b[39;00m:\n",
      "File \u001b[0;32m/opt/conda/lib/python3.10/site-packages/IPython/core/interactiveshell.py:282\u001b[0m, in \u001b[0;36m_modified_open\u001b[0;34m(file, *args, **kwargs)\u001b[0m\n\u001b[1;32m    275\u001b[0m \u001b[38;5;28;01mif\u001b[39;00m file \u001b[38;5;129;01min\u001b[39;00m {\u001b[38;5;241m0\u001b[39m, \u001b[38;5;241m1\u001b[39m, \u001b[38;5;241m2\u001b[39m}:\n\u001b[1;32m    276\u001b[0m     \u001b[38;5;28;01mraise\u001b[39;00m \u001b[38;5;167;01mValueError\u001b[39;00m(\n\u001b[1;32m    277\u001b[0m         \u001b[38;5;124mf\u001b[39m\u001b[38;5;124m\"\u001b[39m\u001b[38;5;124mIPython won\u001b[39m\u001b[38;5;124m'\u001b[39m\u001b[38;5;124mt let you open fd=\u001b[39m\u001b[38;5;132;01m{\u001b[39;00mfile\u001b[38;5;132;01m}\u001b[39;00m\u001b[38;5;124m by default \u001b[39m\u001b[38;5;124m\"\u001b[39m\n\u001b[1;32m    278\u001b[0m         \u001b[38;5;124m\"\u001b[39m\u001b[38;5;124mas it is likely to crash IPython. If you know what you are doing, \u001b[39m\u001b[38;5;124m\"\u001b[39m\n\u001b[1;32m    279\u001b[0m         \u001b[38;5;124m\"\u001b[39m\u001b[38;5;124myou can use builtins\u001b[39m\u001b[38;5;124m'\u001b[39m\u001b[38;5;124m open.\u001b[39m\u001b[38;5;124m\"\u001b[39m\n\u001b[1;32m    280\u001b[0m     )\n\u001b[0;32m--> 282\u001b[0m \u001b[38;5;28;01mreturn\u001b[39;00m \u001b[43mio_open\u001b[49m\u001b[43m(\u001b[49m\u001b[43mfile\u001b[49m\u001b[43m,\u001b[49m\u001b[43m \u001b[49m\u001b[38;5;241;43m*\u001b[39;49m\u001b[43margs\u001b[49m\u001b[43m,\u001b[49m\u001b[43m \u001b[49m\u001b[38;5;241;43m*\u001b[39;49m\u001b[38;5;241;43m*\u001b[39;49m\u001b[43mkwargs\u001b[49m\u001b[43m)\u001b[49m\n",
      "\u001b[0;31mFileNotFoundError\u001b[0m: [Errno 2] No such file or directory: 'test2.txt'"
     ]
    }
   ],
   "source": [
    "try:\n",
    "    f=open('test2.txt','r')\n",
    "    f.write('this is my mg')\n",
    "    \n",
    "finally:\n",
    "    print('this will always execute')\n",
    "    "
   ]
  },
  {
   "cell_type": "code",
   "execution_count": 17,
   "id": "483db1ca-1a4e-43ef-85c7-7718087afe5b",
   "metadata": {},
   "outputs": [
    {
     "name": "stdout",
     "output_type": "stream",
     "text": [
      "there is some issue with my code [Errno 2] No such file or directory: 'test2.txt'\n",
      "it will execute always\n"
     ]
    }
   ],
   "source": [
    "try:\n",
    "    f=open('test2.txt','r')\n",
    "    f.write('this is my mg')\n",
    "\n",
    "except Exception as e:\n",
    "    print('there is some issue with my code',e)\n",
    "\n",
    "else:\n",
    "    f.close()\n",
    "    print('it will always exceute when try block will execute itself without exception')\n",
    "\n",
    "finally:\n",
    "    print('it will execute always')"
   ]
  },
  {
   "cell_type": "markdown",
   "id": "751b2bb5-bac7-48bb-b41f-0e40916fbd1c",
   "metadata": {},
   "source": [
    "## Custom Exeception handling"
   ]
  },
  {
   "cell_type": "code",
   "execution_count": 33,
   "id": "3f5db5b0-366c-4105-8c23-143bd739cfcb",
   "metadata": {},
   "outputs": [],
   "source": [
    "class validateage(Exception):\n",
    "    def __init__(self,msg):\n",
    "        self.msg=msg"
   ]
  },
  {
   "cell_type": "code",
   "execution_count": 34,
   "id": "a7b652e7-0e1f-4edc-965d-3c1a51f7745b",
   "metadata": {},
   "outputs": [],
   "source": [
    "def validate_age(age):\n",
    "    if age <0:\n",
    "        raise validateage('age should not be less than zero')\n",
    "    elif age >200:\n",
    "        raise validateage('age is too high')\n",
    "    else:\n",
    "        print('age is valid')"
   ]
  },
  {
   "cell_type": "code",
   "execution_count": 35,
   "id": "46f70503-44a0-48d8-91eb-80cb6d3fb8ef",
   "metadata": {},
   "outputs": [
    {
     "name": "stdin",
     "output_type": "stream",
     "text": [
      "enter your age -247\n"
     ]
    },
    {
     "name": "stdout",
     "output_type": "stream",
     "text": [
      "age should not be less than zero\n"
     ]
    }
   ],
   "source": [
    "try:\n",
    "    age=int(input('enter your age'))\n",
    "    validate_age(age)\n",
    "except validateage as e:\n",
    "    print(e)"
   ]
  },
  {
   "cell_type": "markdown",
   "id": "3ffa2116-a3e8-4f22-aaae-79918c7deb00",
   "metadata": {},
   "source": [
    "## List Of General Use Exceptions\n",
    "    always remember exception is a super class for all exception. "
   ]
  },
  {
   "cell_type": "code",
   "execution_count": 36,
   "id": "36e1af43-272c-427f-a9b5-6f1640d59c57",
   "metadata": {},
   "outputs": [
    {
     "name": "stdout",
     "output_type": "stream",
     "text": [
      "TypeError: Unsupported operand type.\n"
     ]
    },
    {
     "name": "stdin",
     "output_type": "stream",
     "text": [
      "Enter your age:  42\n"
     ]
    },
    {
     "name": "stdout",
     "output_type": "stream",
     "text": [
      "IndexError: List index out of range.\n",
      "KeyError: Key not found in the dictionary.\n",
      "FileNotFoundError: File not found.\n",
      "ZeroDivisionError: Division by zero.\n",
      "IOError: Input/output error occurred.\n",
      "AttributeError: 'str' object has no attribute 'length'.\n",
      "ImportError: Module not found.\n"
     ]
    }
   ],
   "source": [
    "# Example 1: TypeError\n",
    "try:\n",
    "    result = 10 / \"2\"\n",
    "except TypeError:\n",
    "    print(\"TypeError: Unsupported operand type.\")\n",
    "    \n",
    "    \n",
    "# Example 2: ValueError\n",
    "try:\n",
    "    age = int(input(\"Enter your age: \"))\n",
    "    if age < 0:\n",
    "        raise ValueError(\"Invalid age. Age cannot be negative.\")\n",
    "except ValueError as e:\n",
    "    print(\"ValueError:\", e)\n",
    "    \n",
    "    \n",
    "# Example 3: IndexError\n",
    "try:\n",
    "    numbers = [1, 2, 3]\n",
    "    print(numbers[5])\n",
    "except IndexError:\n",
    "    print(\"IndexError: List index out of range.\")\n",
    "    \n",
    "    \n",
    "# Example 4: KeyError\n",
    "try:\n",
    "    student_grades = {\"Alice\": 85, \"Bob\": 92, \"Charlie\": 78}\n",
    "    print(student_grades[\"David\"])\n",
    "except KeyError:\n",
    "    print(\"KeyError: Key not found in the dictionary.\")\n",
    "    \n",
    "    \n",
    "# Example 5: FileNotFoundError\n",
    "try:\n",
    "    file = open(\"nonexistent.txt\", \"r\")\n",
    "except FileNotFoundError:\n",
    "    print(\"FileNotFoundError: File not found.\")\n",
    "    \n",
    "    \n",
    "# Example 6: ZeroDivisionError\n",
    "try:\n",
    "    result = 10 / 0\n",
    "except ZeroDivisionError:\n",
    "    print(\"ZeroDivisionError: Division by zero.\")\n",
    "    \n",
    "    \n",
    "# Example 7: IOError\n",
    "try:\n",
    "    file = open(\"file.txt\", \"r\")\n",
    "    file.write(\"Hello, World!\")\n",
    "except IOError:\n",
    "    print(\"IOError: Input/output error occurred.\")\n",
    "    \n",
    "    \n",
    "# Example 8: AttributeError\n",
    "try:\n",
    "    name = \"John\"\n",
    "    name.length()\n",
    "except AttributeError:\n",
    "    print(\"AttributeError: 'str' object has no attribute 'length'.\")\n",
    "    \n",
    "    \n",
    "# Example 9: ImportError\n",
    "try:\n",
    "    import nonexistent_module\n",
    "except ImportError:\n",
    "    print(\"ImportError: Module not found.\")\n",
    "    \n",
    "    \n",
    "# Example 10: RuntimeError\n",
    "try:\n",
    "    x = 5\n",
    "    if x > 10:\n",
    "        raise RuntimeError(\"Invalid value of x.\")\n",
    "except RuntimeError as e:\n",
    "    print(\"RuntimeError:\", e)\n"
   ]
  },
  {
   "cell_type": "markdown",
   "id": "38197dc4-6dd7-4f6d-b6ca-4481ec9543a0",
   "metadata": {},
   "source": [
    "## Best Practice Exception Handling"
   ]
  },
  {
   "cell_type": "code",
   "execution_count": 37,
   "id": "172aa06c-533c-4495-b4c9-87a9fb61f5d5",
   "metadata": {},
   "outputs": [
    {
     "name": "stdout",
     "output_type": "stream",
     "text": [
      "division by zero\n"
     ]
    }
   ],
   "source": [
    "# use always specific exception\n",
    "try:\n",
    "    10/0\n",
    "except Exception as e:\n",
    "    print(e)"
   ]
  },
  {
   "cell_type": "code",
   "execution_count": 38,
   "id": "6132f49c-9617-48dd-8f2e-9678c4063b45",
   "metadata": {},
   "outputs": [
    {
     "name": "stdout",
     "output_type": "stream",
     "text": [
      "division by zero\n"
     ]
    }
   ],
   "source": [
    "try:\n",
    "    10/0\n",
    "except ZeroDivisionError as e:\n",
    "    print(e)"
   ]
  },
  {
   "cell_type": "code",
   "execution_count": 39,
   "id": "3d81f2cd-7090-4baf-bf9a-da6fba934e32",
   "metadata": {},
   "outputs": [
    {
     "name": "stdout",
     "output_type": "stream",
     "text": [
      "this is my zero division error i am handling division by zero\n"
     ]
    }
   ],
   "source": [
    "# print always a valid msg\n",
    "try:\n",
    "    10/0\n",
    "except ZeroDivisionError as e:\n",
    "    print('this is my zero division error i am handling',e)"
   ]
  },
  {
   "cell_type": "code",
   "execution_count": 42,
   "id": "2bb67e6a-bba9-4cd4-840e-ce75e34ca2c5",
   "metadata": {},
   "outputs": [],
   "source": [
    "# always try to log\n",
    "import logging\n",
    "logging.basicConfig(filename='error.log',level=logging.ERROR)\n",
    "\n",
    "try:\n",
    "    10/0\n",
    "except ZeroDivisionError as e:\n",
    "    logging.error('this is my zero division error i am handling {}'.format(e))"
   ]
  },
  {
   "cell_type": "code",
   "execution_count": 47,
   "id": "92c31bf4-7c7a-4809-a9a8-c420b85cc2fb",
   "metadata": {},
   "outputs": [],
   "source": [
    "# always avoid to write multiple exception handling\n",
    "try:\n",
    "    10/0\n",
    "except FileNotFoundError as e:\n",
    "    logging.error('this is my file not found {}'.format(e))\n",
    "    \n",
    "except AttributeError as e:\n",
    "    logging.error('this is my attribute {}'.format(e))\n",
    "    \n",
    "except IndexError as e:\n",
    "    logging.error('this is my index {}'.format(e))\n",
    "    \n",
    "except ZeroDivisionError as e:\n",
    "    logging.error('this is my zero division {}'.format(e))"
   ]
  },
  {
   "cell_type": "code",
   "execution_count": 48,
   "id": "91b40720-e8dc-4156-bcbb-8d7c64899375",
   "metadata": {},
   "outputs": [],
   "source": [
    "# prepare proper documentation"
   ]
  },
  {
   "cell_type": "code",
   "execution_count": 52,
   "id": "5d52c539-321f-4df4-ae66-5627985088c6",
   "metadata": {},
   "outputs": [],
   "source": [
    "# cleanup all the resources\n",
    "try:\n",
    "    with open('test.txt','w') as f:\n",
    "        f.write('this is my msg')\n",
    "        \n",
    "except FileNotFoundError as e:\n",
    "    logging.error('this is my file not found error {}'.format(e))\n",
    "                  \n",
    "finally:\n",
    "                  f.close()"
   ]
  },
  {
   "cell_type": "code",
   "execution_count": null,
   "id": "0da547bb-5ba9-4421-ba9a-c7310a9a0ab1",
   "metadata": {},
   "outputs": [],
   "source": []
  }
 ],
 "metadata": {
  "kernelspec": {
   "display_name": "Python 3 (ipykernel)",
   "language": "python",
   "name": "python3"
  },
  "language_info": {
   "codemirror_mode": {
    "name": "ipython",
    "version": 3
   },
   "file_extension": ".py",
   "mimetype": "text/x-python",
   "name": "python",
   "nbconvert_exporter": "python",
   "pygments_lexer": "ipython3",
   "version": "3.10.8"
  }
 },
 "nbformat": 4,
 "nbformat_minor": 5
}
