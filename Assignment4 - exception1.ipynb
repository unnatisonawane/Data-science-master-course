{
 "cells": [
  {
   "cell_type": "markdown",
   "id": "aedd1200-8501-4a4c-976a-c8cb2a3790a0",
   "metadata": {},
   "source": [
    "## Q1. What is the Exception in python? Write the difference between Exceptions and syntax errors"
   ]
  },
  {
   "cell_type": "markdown",
   "id": "29a7727c-e7b2-4901-9c55-5d60b1366301",
   "metadata": {},
   "source": [
    "In Python, an exception is an event that occurs during the execution of a program and disrupts the normal flow of instructions. Exceptions provide a way to handle and recover from such situations in a controlled manner.\n",
    "Now, let's discuss the difference between exceptions and syntax errors:\n",
    "\n",
    "Exceptions:\n",
    "\n",
    "1. Exceptions occur during the runtime of a program.\n",
    "2. They represent various exceptional situations, including errors, faults, or unexpected conditions.\n",
    "3. Exceptions can be handled using try-except blocks to gracefully respond to and recover from errors.\n",
    "4. Examples of exceptions in Python include ZeroDivisionError, FileNotFoundError, TypeError, and ValueError.\n",
    "5. Exceptions can be raised explicitly using the raise statement or automatically by Python when an error occurs.\n",
    "\n",
    "Syntax Errors:\n",
    "\n",
    "1. Syntax errors are encountered during the parsing phase before the program is executed.\n",
    "2. They occur when the program's code violates the syntax rules of the programming language.\n",
    "3. Syntax errors prevent the program from being compiled or interpreted correctly.\n",
    "4. Examples of syntax errors include missing parentheses, incorrect indentation, or using an invalid keyword.\n",
    "5. Syntax errors need to be fixed by correcting the code before the program can run."
   ]
  },
  {
   "cell_type": "markdown",
   "id": "9259ed23-8e8c-4f64-bd0a-d617e9f2fffe",
   "metadata": {},
   "source": [
    "## Q2. What happened when exception is not handled? explain with an example"
   ]
  },
  {
   "cell_type": "markdown",
   "id": "49a7ae6f-0a6e-4ec8-bcc8-a862bb8d69f3",
   "metadata": {},
   "source": [
    "1. When an exception is not handled in Python, it leads to an unhandled exception error.\n",
    "2. The normal flow of execution is interrupted, and the program stops running without completing its intended tasks.\n"
   ]
  },
  {
   "cell_type": "code",
   "execution_count": 1,
   "id": "5ef4618b-5e9b-434b-9577-7339b230987e",
   "metadata": {},
   "outputs": [],
   "source": [
    "# for example"
   ]
  },
  {
   "cell_type": "code",
   "execution_count": 2,
   "id": "87344bc7-668f-4572-9fda-60f91c20d7c0",
   "metadata": {},
   "outputs": [],
   "source": [
    "def divide_number(a,b):\n",
    "    result=a/b\n",
    "    return result"
   ]
  },
  {
   "cell_type": "code",
   "execution_count": 3,
   "id": "98c3991a-c55f-4cc7-ab7b-984ad07d6d12",
   "metadata": {},
   "outputs": [
    {
     "ename": "ZeroDivisionError",
     "evalue": "division by zero",
     "output_type": "error",
     "traceback": [
      "\u001b[0;31m---------------------------------------------------------------------------\u001b[0m",
      "\u001b[0;31mZeroDivisionError\u001b[0m                         Traceback (most recent call last)",
      "Cell \u001b[0;32mIn[3], line 1\u001b[0m\n\u001b[0;32m----> 1\u001b[0m result\u001b[38;5;241m=\u001b[39m \u001b[43mdivide_number\u001b[49m\u001b[43m(\u001b[49m\u001b[38;5;241;43m10\u001b[39;49m\u001b[43m,\u001b[49m\u001b[38;5;241;43m0\u001b[39;49m\u001b[43m)\u001b[49m\n\u001b[1;32m      2\u001b[0m \u001b[38;5;28mprint\u001b[39m(result)\n",
      "Cell \u001b[0;32mIn[2], line 2\u001b[0m, in \u001b[0;36mdivide_number\u001b[0;34m(a, b)\u001b[0m\n\u001b[1;32m      1\u001b[0m \u001b[38;5;28;01mdef\u001b[39;00m \u001b[38;5;21mdivide_number\u001b[39m(a,b):\n\u001b[0;32m----> 2\u001b[0m     result\u001b[38;5;241m=\u001b[39m\u001b[43ma\u001b[49m\u001b[38;5;241;43m/\u001b[39;49m\u001b[43mb\u001b[49m\n\u001b[1;32m      3\u001b[0m     \u001b[38;5;28;01mreturn\u001b[39;00m result\n",
      "\u001b[0;31mZeroDivisionError\u001b[0m: division by zero"
     ]
    }
   ],
   "source": [
    "result= divide_number(10,0)\n",
    "print(result)"
   ]
  },
  {
   "cell_type": "markdown",
   "id": "511f3400-0537-46e4-a728-48c9ee033a04",
   "metadata": {},
   "source": [
    "To avoid unhandled exceptions shown in above example, it's essential to include appropriate exception handling mechanisms, such as try-except blocks, to catch and handle exceptions gracefully. "
   ]
  },
  {
   "cell_type": "markdown",
   "id": "ce71c800-9a3b-4f8d-b6ab-4d7712b90913",
   "metadata": {},
   "source": [
    "## Q.3 Which python statement are used to catch and handle exception? explain with an example"
   ]
  },
  {
   "cell_type": "markdown",
   "id": "94e17eb0-4488-4f6c-98bf-663c1253baec",
   "metadata": {},
   "source": [
    "In Python, the try-except statement is used to catch and handle exceptions. It allows you to specify a block of code that might raise an exception and provide a mechanism to handle that exception gracefully."
   ]
  },
  {
   "cell_type": "code",
   "execution_count": 13,
   "id": "f31287f4-e522-4555-a08d-8297208371ae",
   "metadata": {},
   "outputs": [
    {
     "name": "stdout",
     "output_type": "stream",
     "text": [
      "Error: Division by zero is not allowed!\n"
     ]
    }
   ],
   "source": [
    "def divide_numbers(a, b):\n",
    "    try:\n",
    "        result = a / b\n",
    "        print(\"The result is:\", result)\n",
    "    except ZeroDivisionError:\n",
    "        print(\"Error: Division by zero is not allowed!\")\n",
    "\n",
    "# Calling the function with exception handling\n",
    "divide_numbers(10, 0)"
   ]
  },
  {
   "cell_type": "markdown",
   "id": "fb11e040-6d54-483b-9097-33fbbb3b27e7",
   "metadata": {},
   "source": [
    "## Q.4 Explain with an example\n",
    "    1. try-except\n",
    "    2. else\n",
    "    3. finally"
   ]
  },
  {
   "cell_type": "code",
   "execution_count": 17,
   "id": "f08547bb-1e39-45a3-a498-c91d41756a70",
   "metadata": {},
   "outputs": [
    {
     "name": "stdout",
     "output_type": "stream",
     "text": [
      "there is some issue with my code [Errno 2] No such file or directory: 'test2.txt'\n",
      "it will execute always\n"
     ]
    }
   ],
   "source": [
    "try:\n",
    "    f=open('test2.txt','r')  # test2.txt file is not available still we are trying to read it so it will not execute\n",
    "    f.write('this is my mg')\n",
    "\n",
    "except Exception as e:\n",
    "    print('there is some issue with my code',e) # this will execute as try block will not execute\n",
    "\n",
    "else:\n",
    "    f.close()\n",
    "    print('it will always exceute when try block will execute itself without exception')\n",
    "\n",
    "finally:\n",
    "    print('it will execute always')"
   ]
  },
  {
   "cell_type": "markdown",
   "id": "2cb3c969-43f9-4d39-b3b3-b82f60b4958a",
   "metadata": {},
   "source": [
    "## Q.5. what are custom exception in python? why do we need custom exception ? Explain with an example"
   ]
  },
  {
   "cell_type": "markdown",
   "id": "c9bd4bd9-46a9-44ea-ade1-f4922487f422",
   "metadata": {},
   "source": [
    "Custom exceptions in Python are user-defined exception classes that allow developers to create their own specific exception types to handle exceptional situations within their code. \n",
    "\n",
    "There are a few reasons why custom exceptions are useful:\n",
    "\n",
    "Improved Readability: Custom exceptions can make the code more expressive and self-explanatory\n",
    "Specific Error Handling: Custom exceptions enable you to handle different exceptional situations in different ways.\n",
    "Code Organization: Custom exceptions help in organizing and categorizing errors"
   ]
  },
  {
   "cell_type": "code",
   "execution_count": 22,
   "id": "59923dd3-b74b-480b-93a4-28fb5d237a23",
   "metadata": {},
   "outputs": [],
   "source": [
    "class insufficientFundsError(Exception):\n",
    "    pass"
   ]
  },
  {
   "cell_type": "code",
   "execution_count": 27,
   "id": "fbb85a5b-fd0a-4de9-9820-5dfceb6ead79",
   "metadata": {},
   "outputs": [],
   "source": [
    "class BankAccount:\n",
    "    def __init__(self,balance):\n",
    "        self.balance=balance\n",
    "        \n",
    "    def withdraw(self,amount):\n",
    "        if amount > self.balance:\n",
    "            raise insufficientFundsError('insufficient fund in account')\n",
    "        self.balance -=amount\n",
    "        print(f\"Withdrew {amount} from the account. Remaining balance: {self.balance}\")"
   ]
  },
  {
   "cell_type": "code",
   "execution_count": 30,
   "id": "41e24f45-7e6d-42ef-9e63-ae2dc1670345",
   "metadata": {},
   "outputs": [
    {
     "name": "stdout",
     "output_type": "stream",
     "text": [
      "Error: insufficient fund in account\n"
     ]
    }
   ],
   "source": [
    "account=BankAccount(1000)\n",
    "try:\n",
    "    account.withdraw(1500)\n",
    "except insufficientFundsError as e:\n",
    "    print(\"Error:\", e)\n",
    "\n",
    "\n",
    "\n",
    "\n",
    "\n",
    "   "
   ]
  },
  {
   "cell_type": "markdown",
   "id": "347441ad-d452-422d-bc82-dcb21a22b64b",
   "metadata": {},
   "source": [
    "## Q.6. create a custom exception class. use this class to handle exception."
   ]
  },
  {
   "cell_type": "code",
   "execution_count": 33,
   "id": "65c490d8-69a0-4adc-a642-4ba0b2a6201d",
   "metadata": {},
   "outputs": [
    {
     "name": "stdin",
     "output_type": "stream",
     "text": [
      "Enter recipient's email address:  jackson@gmail.com\n"
     ]
    },
    {
     "name": "stdout",
     "output_type": "stream",
     "text": [
      "Email sent successfully.\n"
     ]
    }
   ],
   "source": [
    "class InvalidEmailError(Exception):\n",
    "    pass\n",
    "\n",
    "\n",
    "def send_email(to, message):\n",
    "    if \"@\" not in to:\n",
    "        raise InvalidEmailError(\"Invalid email address.\")\n",
    "\n",
    "# Rest of the code to send the email\n",
    "# Example usage\n",
    "try:\n",
    "    recipient_email = input(\"Enter recipient's email address: \")\n",
    "    send_email(recipient_email, \"Hello, this is a test email.\")\n",
    "    print(\"Email sent successfully.\")\n",
    "except InvalidEmailError as e:\n",
    "    print(\"Error:\", e)\n"
   ]
  },
  {
   "cell_type": "code",
   "execution_count": null,
   "id": "be96c26f-7303-40c5-8b56-a94f8b628a77",
   "metadata": {},
   "outputs": [],
   "source": []
  }
 ],
 "metadata": {
  "kernelspec": {
   "display_name": "Python 3 (ipykernel)",
   "language": "python",
   "name": "python3"
  },
  "language_info": {
   "codemirror_mode": {
    "name": "ipython",
    "version": 3
   },
   "file_extension": ".py",
   "mimetype": "text/x-python",
   "name": "python",
   "nbconvert_exporter": "python",
   "pygments_lexer": "ipython3",
   "version": "3.10.8"
  }
 },
 "nbformat": 4,
 "nbformat_minor": 5
}
