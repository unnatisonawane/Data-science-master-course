{
 "cells": [
  {
   "cell_type": "markdown",
   "id": "f9b927de-4c97-46e0-9afa-c39a0b307a7b",
   "metadata": {},
   "source": [
    "##  Class : \n",
    "    1. Class is a blueprint.Which defines some properties and behaviours.\n",
    "    2. Also called as classification of real world entity.\n",
    "    3. It consist of declaration and definition.\n",
    "    4. Classes are created by keyword class.\n",
    "    5. Attributes are the variables that belong to a class.\n",
    "    6. Attributes are always public and can be accessed using the dot (.) operator. Eg.: Myclass.Myattribute\n",
    "    \n",
    "    Object :\n",
    "    1. The object is an entity that has a state and behavior associated with it.\n",
    "    2. It may be any real-world object like a mouse, keyboard, chair, table, pen, etc. Integers, strings, \n",
    "       floating-point numbers, even arrays, and dictionaries, are all objects. \n",
    "    3. Also called as instance of a class or variable of class.\n",
    "    \n",
    "    Example :\n",
    "     suppose we want to create a Vehicle class. What information would we associate with a vehicle, and what behavior would it have? A vehicle may have a type, brand, model and so on. This type of information is stored in python variables called attributes. These things also have behaviors. A Vehicle can drive, stop, honk its horn, and so on. Behaviors are contained in functions and a function that is part of a class is called a method.\n"
   ]
  },
  {
   "cell_type": "markdown",
   "id": "3ddedebd-5200-4a46-8768-c6b34d357125",
   "metadata": {},
   "source": [
    "##  init method\n",
    "    1. The __init__ method is similar to constructors.\n",
    "    2. Constructors are used to initialize the object’s state\n",
    "    3. Constructor also contains a collection of statements(i.e. instructions) that are executed \n",
    "       at the time of Object creation\n",
    "    4. It runs as soon as an object of a class is instantiated."
   ]
  },
  {
   "cell_type": "markdown",
   "id": "4654643a-4e80-434d-8d04-e1589af7ac3a",
   "metadata": {},
   "source": [
    "## self -constructors\n",
    "    1. It works as a reference to the object\n",
    "    2. The self variable is used to represent the instance of the class\n",
    "    3. Whenever we define methods for a class, we use self as the first parameter in each case.\n",
    "    4. If there was no self argument, the class couldn't hold the information for objects."
   ]
  },
  {
   "cell_type": "code",
   "execution_count": 8,
   "id": "5c6a79d5-0643-469c-9609-0c25b96cee13",
   "metadata": {},
   "outputs": [],
   "source": [
    "## A Vehicle class\n",
    "class Vehicle:\n",
    "    def __init__(self, brand, model, type):\n",
    "        self.brand = brand\n",
    "        self.model = model\n",
    "        self.type = type\n",
    "    def return_vehicle_details(self):\n",
    "        return self.brand, self.model, self.type\n",
    "        "
   ]
  },
  {
   "cell_type": "markdown",
   "id": "dc40f6d6-1f15-4301-a115-862b3a92375b",
   "metadata": {},
   "source": [
    "    Constructing an object\n",
    "    An instance of a class is called an object. It’s created by calling the class itself as if it were a function.\n",
    "    The code below passes in three python strings to create a new vehicle object."
   ]
  },
  {
   "cell_type": "code",
   "execution_count": 9,
   "id": "8c65457f-1a3a-4e97-bf85-f01403c3c356",
   "metadata": {},
   "outputs": [],
   "source": [
    "vehicle_object = Vehicle('Honda', 'Ridgeline', 'Truck')"
   ]
  },
  {
   "cell_type": "markdown",
   "id": "8ee22cf9-f185-4bc1-ab2c-e437d517a179",
   "metadata": {},
   "source": [
    "Accessing attribute values"
   ]
  },
  {
   "cell_type": "code",
   "execution_count": 10,
   "id": "78f90f64-0c05-4169-9dfc-79a7daed433e",
   "metadata": {},
   "outputs": [
    {
     "name": "stdout",
     "output_type": "stream",
     "text": [
      "Honda\n",
      "Ridgeline\n",
      "Truck\n"
     ]
    }
   ],
   "source": [
    "print(vehicle_object.brand)\n",
    "print(vehicle_object.model)\n",
    "print(vehicle_object.type)"
   ]
  },
  {
   "cell_type": "markdown",
   "id": "46d06ba4-70f1-4517-b91f-9ef6a4ca1201",
   "metadata": {},
   "source": [
    "Calling methods"
   ]
  },
  {
   "cell_type": "code",
   "execution_count": 11,
   "id": "067bbbfd-1967-4816-9455-8033e53f8803",
   "metadata": {},
   "outputs": [
    {
     "data": {
      "text/plain": [
       "'Honda'"
      ]
     },
     "execution_count": 11,
     "metadata": {},
     "output_type": "execute_result"
    }
   ],
   "source": [
    "vehicle_object.brand"
   ]
  },
  {
   "cell_type": "markdown",
   "id": "5a4c3817-2601-4f5a-8aee-7524595e366b",
   "metadata": {},
   "source": [
    "Creating multiple objects"
   ]
  },
  {
   "cell_type": "code",
   "execution_count": 12,
   "id": "bf08d07b-f69d-4b10-9378-e05a3fde5a39",
   "metadata": {},
   "outputs": [],
   "source": [
    "vehicle_object = Vehicle('Honda', 'Ridgeline', 'Truck')\n",
    "a_subaru = Vehicle('Subaru', 'Forester', 'Crossover')\n",
    "an_suv = Vehicle('Ford', 'Explorer', 'SUV')"
   ]
  },
  {
   "cell_type": "code",
   "execution_count": 13,
   "id": "069275a1-f5de-4b16-8d12-dc8ae02626be",
   "metadata": {},
   "outputs": [
    {
     "name": "stdout",
     "output_type": "stream",
     "text": [
      "Subaru\n",
      "Forester\n",
      "Crossover\n"
     ]
    }
   ],
   "source": [
    "print(a_subaru.brand)\n",
    "print(a_subaru.model)\n",
    "print(a_subaru.type)"
   ]
  },
  {
   "cell_type": "markdown",
   "id": "ecdfb90f-e247-43b2-9bad-225d4218fff6",
   "metadata": {},
   "source": [
    "## Four pillars of OOPs. \n",
    "    1. Polymorphism\n",
    "    2. Encapsulation\n",
    "    3. Inheritence\n",
    "    4. Abstraction\n",
    "    "
   ]
  },
  {
   "cell_type": "markdown",
   "id": "014209ee-93ed-458f-a4a0-0be1ce78cf55",
   "metadata": {},
   "source": [
    "## Polymorphism\n",
    "    polymorphism means the same function name (but different signatures) being used for different types.\n",
    "    \n",
    "    reallife eample\n",
    "    The woman can be wife of someone, mother of her child, can be at role of manager in organisation and \n",
    "    many more at the same time. But the Woman is only one. So, same woman performing different roles is polymorphism."
   ]
  },
  {
   "cell_type": "code",
   "execution_count": 13,
   "id": "addbba84-175c-4875-9ef8-dd6262712dff",
   "metadata": {},
   "outputs": [],
   "source": [
    "#example  1"
   ]
  },
  {
   "cell_type": "code",
   "execution_count": 14,
   "id": "c8c824e3-47aa-4413-8927-8d63748ac3fb",
   "metadata": {},
   "outputs": [],
   "source": [
    "class data_science():\n",
    "    def syllabus(self):\n",
    "        print('this is my data science syllabus')"
   ]
  },
  {
   "cell_type": "code",
   "execution_count": 15,
   "id": "5116684e-0745-407c-bce9-727cbbe7e443",
   "metadata": {},
   "outputs": [],
   "source": [
    "class web_dev():\n",
    "    def syllabus(self):\n",
    "        print('this is my web_dev syllabus')"
   ]
  },
  {
   "cell_type": "code",
   "execution_count": 40,
   "id": "6bb5625c-7a08-4093-a6a2-361315660a73",
   "metadata": {},
   "outputs": [],
   "source": [
    "# below function will behave differently for both the method or class\n",
    "def class_parcer(class_obj):\n",
    "    for i in class_obj:\n",
    "        i.syllabus()"
   ]
  },
  {
   "cell_type": "code",
   "execution_count": 41,
   "id": "57b4c747-4a72-4f38-9ab9-0fc4404f4dc4",
   "metadata": {},
   "outputs": [],
   "source": [
    "obj_data_science=data_science()"
   ]
  },
  {
   "cell_type": "code",
   "execution_count": 42,
   "id": "472b71d9-d18e-43bd-a653-05bc59f94597",
   "metadata": {},
   "outputs": [],
   "source": [
    "obj_web_dev=web_dev()"
   ]
  },
  {
   "cell_type": "code",
   "execution_count": 43,
   "id": "78ac0391-7eb9-4c71-9d49-56931c54ae9b",
   "metadata": {},
   "outputs": [],
   "source": [
    "class_obj=[obj_data_science,obj_web_dev]"
   ]
  },
  {
   "cell_type": "code",
   "execution_count": 44,
   "id": "513812a3-8683-415e-a70b-b43ec0d902ce",
   "metadata": {},
   "outputs": [
    {
     "name": "stdout",
     "output_type": "stream",
     "text": [
      "this is my data science syllabus\n",
      "this is my web_dev syllabus\n"
     ]
    }
   ],
   "source": [
    "class_parcer(class_obj)"
   ]
  },
  {
   "cell_type": "code",
   "execution_count": 45,
   "id": "28d319e3-847b-4021-af08-7b008dfb87ec",
   "metadata": {},
   "outputs": [],
   "source": [
    "# exmaple 2"
   ]
  },
  {
   "cell_type": "code",
   "execution_count": 46,
   "id": "4b785128-1952-44e9-ab77-b7def9534db3",
   "metadata": {},
   "outputs": [],
   "source": [
    "class Maharashtra():\n",
    "    def capital(self):\n",
    "        print('Mumbai is capital of of Maharashtra')\n",
    "    \n",
    "    def language(self):\n",
    "        print('marathi is local language of Maharashtra')\n",
    "    \n",
    "    def dance(self):\n",
    "        print('lavani dance is famous in Maharashtra')\n",
    "        "
   ]
  },
  {
   "cell_type": "code",
   "execution_count": 47,
   "id": "cc5668b3-40c0-4961-a318-a2df4a123d26",
   "metadata": {},
   "outputs": [],
   "source": [
    "class Gujarat():\n",
    "    def capital(self):\n",
    "        print('Gandhinagar is capital of Gujarat')\n",
    "    \n",
    "    def language(self):\n",
    "        print('gujrathi is local language of Gujarat')\n",
    "    \n",
    "    def dance(self):\n",
    "        print('garba dance is famous in Gujarat')\n",
    "        "
   ]
  },
  {
   "cell_type": "code",
   "execution_count": 48,
   "id": "aca8823b-f6a6-4717-92db-c0b9517d0dd4",
   "metadata": {},
   "outputs": [],
   "source": [
    "obj_maha=Maharashtra()"
   ]
  },
  {
   "cell_type": "code",
   "execution_count": 49,
   "id": "d840b9e9-4f43-4be7-9c82-ffed32ecf4a8",
   "metadata": {},
   "outputs": [],
   "source": [
    "obj_guj=Gujarat()"
   ]
  },
  {
   "cell_type": "code",
   "execution_count": 50,
   "id": "5e319661-cc83-421d-9c1f-c520efa815c7",
   "metadata": {},
   "outputs": [
    {
     "name": "stdout",
     "output_type": "stream",
     "text": [
      "Mumbai is capital of of Maharashtra\n",
      "marathi is local language of Maharashtra\n",
      "lavani dance is famous in Maharashtra\n",
      "Gandhinagar is capital of Gujarat\n",
      "gujrathi is local language of Gujarat\n",
      "garba dance is famous in Gujarat\n"
     ]
    }
   ],
   "source": [
    "for state in (obj_maha,obj_guj):\n",
    "    state.capital()\n",
    "    state.language()\n",
    "    state.dance()"
   ]
  },
  {
   "cell_type": "code",
   "execution_count": null,
   "id": "d3bf156d-50f4-4cee-a499-fb19bb761b3d",
   "metadata": {},
   "outputs": [],
   "source": []
  },
  {
   "cell_type": "markdown",
   "id": "08e054e4-0a04-4230-aa99-1cb20b33b557",
   "metadata": {},
   "source": [
    "## Encapsulation\n",
    "    This means putting restrictions on accessing variables and methods directly and can prevent the accidental modification of data. \n",
    "    \n",
    "    real life example\n",
    "    Let’s say we have a company selling courses to students, engineers and professionals. The different sections of this company include, operations, finance, accounts, sales, etc. Now, if an employee from the accounts section needs the records of sales in 2022, then he/ she cannot directly access it.\n",
    "\n",
    "    To access, the employee of the account sections needs to get permission from the sales section team member. Therefore, the sales data is hidden from other departments, In the same way, the financials of the company is accessible to only the finance data and is hidden from other sections. The accounts, sales, finance, operations, marketing, etc. data is hidden from other sections"
   ]
  },
  {
   "cell_type": "code",
   "execution_count": 54,
   "id": "02eb890b-6af5-4b20-a61a-544d54015b25",
   "metadata": {},
   "outputs": [
    {
     "name": "stdout",
     "output_type": "stream",
     "text": [
      "Name: Unnati Salary: 10000\n",
      "Unnati is learning  data science\n"
     ]
    }
   ],
   "source": [
    "class Employee:\n",
    "    def __init__(self, name, salary, project):\n",
    "        self.name = name\n",
    "        self.salary = salary\n",
    "        self.project = project\n",
    "\n",
    "    def show(self):\n",
    "        # accessing public data member\n",
    "        print('Name:',self.name, 'Salary:', self.salary)\n",
    "\n",
    "    def learn(self):\n",
    "        print(self.name, 'is learning ', self.project)\n",
    "\n",
    "# creating object of a class\n",
    "emp = Employee('Unnati', 10000, 'data science')\n",
    "\n",
    "# calling public method of the class\n",
    "emp.show()\n",
    "emp.learn()"
   ]
  },
  {
   "cell_type": "code",
   "execution_count": 56,
   "id": "2b7bff8f-77f7-4dcb-8fc3-a337f41642b9",
   "metadata": {},
   "outputs": [],
   "source": [
    "# We can protect variables in the class by marking them private.\n",
    "# To define a private variable add two underscores as a prefix at the start of a variable name."
   ]
  },
  {
   "cell_type": "code",
   "execution_count": 66,
   "id": "9e9592e7-e92f-4dfe-af90-a068963f1cae",
   "metadata": {},
   "outputs": [
    {
     "ename": "AttributeError",
     "evalue": "'Employee' object has no attribute '__salary'",
     "output_type": "error",
     "traceback": [
      "\u001b[0;31m---------------------------------------------------------------------------\u001b[0m",
      "\u001b[0;31mAttributeError\u001b[0m                            Traceback (most recent call last)",
      "Cell \u001b[0;32mIn[66], line 13\u001b[0m\n\u001b[1;32m     10\u001b[0m emp \u001b[38;5;241m=\u001b[39m Employee(\u001b[38;5;124m'\u001b[39m\u001b[38;5;124munnati\u001b[39m\u001b[38;5;124m'\u001b[39m, \u001b[38;5;241m10000\u001b[39m)\n\u001b[1;32m     12\u001b[0m \u001b[38;5;66;03m# accessing private data members\u001b[39;00m\n\u001b[0;32m---> 13\u001b[0m \u001b[38;5;28mprint\u001b[39m(\u001b[38;5;124m'\u001b[39m\u001b[38;5;124mSalary:\u001b[39m\u001b[38;5;124m'\u001b[39m, \u001b[43memp\u001b[49m\u001b[38;5;241;43m.\u001b[39;49m\u001b[43m__salary\u001b[49m) \n",
      "\u001b[0;31mAttributeError\u001b[0m: 'Employee' object has no attribute '__salary'"
     ]
    }
   ],
   "source": [
    "class Employee:\n",
    "    \n",
    "    def __init__(self, name, salary):\n",
    "        # public data member\n",
    "        self.name = name\n",
    "        # private member\n",
    "        self.__salary = salary #restricted using double underscore\n",
    "\n",
    "# creating object of a class\n",
    "emp = Employee('unnati', 10000)\n",
    "\n",
    "# accessing private data members\n",
    "print('Salary:', emp.__salary) "
   ]
  },
  {
   "cell_type": "markdown",
   "id": "4995c229-699b-4d42-bf6a-4055a0e4dfa0",
   "metadata": {},
   "source": [
    "We can access private members from outside of a class using the following two approaches\n",
    "\n",
    "    Create public method to access private members\n",
    "    Use name mangling"
   ]
  },
  {
   "cell_type": "code",
   "execution_count": 59,
   "id": "b5b67462-15de-4da8-869d-6313aa5c4659",
   "metadata": {},
   "outputs": [
    {
     "name": "stdout",
     "output_type": "stream",
     "text": [
      "Name:  Unnati Salary: 10000\n"
     ]
    }
   ],
   "source": [
    "\n",
    "class Employee:\n",
    "  \n",
    "    def __init__(self, name, salary):\n",
    "        self.name = name\n",
    "        self.__salary = salary\n",
    "\n",
    "    def show(self):\n",
    "        # private members are accessible from a class\n",
    "        print(\"Name: \", self.name, 'Salary:', self.__salary)\n",
    "\n",
    "# creating object of a class\n",
    "emp = Employee('Unnati', 10000)\n",
    "\n",
    "# calling public method of the class\n",
    "emp.show()"
   ]
  },
  {
   "cell_type": "code",
   "execution_count": 61,
   "id": "6f70f333-7946-4b1b-88e1-07691e061de8",
   "metadata": {},
   "outputs": [
    {
     "name": "stdout",
     "output_type": "stream",
     "text": [
      "Name: unnati\n",
      "Salary: 10000\n"
     ]
    }
   ],
   "source": [
    "class Employee:\n",
    "    def __init__(self, name, salary):\n",
    "        self.name = name\n",
    "        self.__salary = salary\n",
    "        \n",
    "emp = Employee('unnati', 10000)\n",
    "\n",
    "print('Name:', emp.name)\n",
    "# direct access to private member using name mangling\n",
    "print('Salary:', emp._Employee__salary)"
   ]
  },
  {
   "cell_type": "code",
   "execution_count": 67,
   "id": "b3f672a5-3c37-4807-a500-f7d124e447d2",
   "metadata": {},
   "outputs": [
    {
     "name": "stdout",
     "output_type": "stream",
     "text": [
      "Name: unnati\n",
      "Salary: 10000\n"
     ]
    }
   ],
   "source": [
    "# Protected method example\n",
    "class Employee:\n",
    "    def __init__(self, name, salary):\n",
    "        self.name = name\n",
    "        self._salary = salary # protected using single under score\n",
    "        \n",
    "emp = Employee('unnati', 10000)\n",
    "\n",
    "print('Name:', emp.name)\n",
    "#  Direct access protected data member\n",
    "print('Salary:', emp._salary)"
   ]
  },
  {
   "cell_type": "markdown",
   "id": "851603e3-4ad5-484b-b5e4-c12408a0b42f",
   "metadata": {},
   "source": [
    "Use the getter method to access data members and the setter methods to modify the data members."
   ]
  },
  {
   "cell_type": "code",
   "execution_count": 1,
   "id": "5714a7da-3a96-4ff1-a26e-5400bb920a99",
   "metadata": {},
   "outputs": [
    {
     "name": "stdout",
     "output_type": "stream",
     "text": [
      "Name: unnati 28\n",
      "Name: unnati 25\n"
     ]
    }
   ],
   "source": [
    "class Student:\n",
    "    def __init__(self, name, age):\n",
    "        # private member\n",
    "        self.name = name\n",
    "        self.__age = age\n",
    "\n",
    "    # getter method\n",
    "    def get_age(self):\n",
    "        return self.__age\n",
    "\n",
    "    # setter method\n",
    "    def set_age(self, age):\n",
    "        self.__age = age\n",
    "\n",
    "stud = Student('unnati', 28)\n",
    "\n",
    "# retrieving age using getter\n",
    "print('Name:', stud.name, stud.get_age())\n",
    "\n",
    "# changing age using setter\n",
    "stud.set_age(25)\n",
    "\n",
    "# retrieving age using getter\n",
    "print('Name:', stud.name, stud.get_age())"
   ]
  },
  {
   "cell_type": "code",
   "execution_count": 2,
   "id": "a3f5dec6-4cf2-4bb3-8316-a1521b67ef6f",
   "metadata": {},
   "outputs": [],
   "source": [
    "#example "
   ]
  },
  {
   "cell_type": "code",
   "execution_count": 60,
   "id": "7e716b9c-c697-4dbf-8eea-03307b95be8f",
   "metadata": {},
   "outputs": [],
   "source": [
    "class bank_acc():\n",
    "    def __init__(self,balance):\n",
    "        self.__balance=balance\n",
    "        \n",
    "    def deposit(self,amount):\n",
    "        self.__balance=self.__balance+amount\n",
    "        \n",
    "    def withdrawal(self,amount):\n",
    "        if self.__balance>=amount:\n",
    "            self.__balance=self.__balance-amount\n",
    "            return True\n",
    "        else:\n",
    "            return ('limit exceed')\n",
    "        \n",
    "    def get_balance(self):\n",
    "        return self.__balance"
   ]
  },
  {
   "cell_type": "code",
   "execution_count": 61,
   "id": "a44a7665-9513-4992-b6b4-564b1bc5a38c",
   "metadata": {},
   "outputs": [],
   "source": [
    "obj_bank_acc=bank_acc(1000)"
   ]
  },
  {
   "cell_type": "code",
   "execution_count": 62,
   "id": "c95d7ea7-fd11-471f-8ff0-9c4311e8f44a",
   "metadata": {},
   "outputs": [],
   "source": [
    "obj_bank_acc.deposit(5000)"
   ]
  },
  {
   "cell_type": "code",
   "execution_count": 63,
   "id": "b625e329-40f8-4847-84a1-83f68e8234da",
   "metadata": {},
   "outputs": [
    {
     "data": {
      "text/plain": [
       "6000"
      ]
     },
     "execution_count": 63,
     "metadata": {},
     "output_type": "execute_result"
    }
   ],
   "source": [
    "obj_bank_acc.get_balance()"
   ]
  },
  {
   "cell_type": "code",
   "execution_count": 64,
   "id": "8827cef3-0561-4d1e-8d5c-4e501a849fb6",
   "metadata": {},
   "outputs": [
    {
     "data": {
      "text/plain": [
       "'limit exceed'"
      ]
     },
     "execution_count": 64,
     "metadata": {},
     "output_type": "execute_result"
    }
   ],
   "source": [
    "obj_bank_acc.withdrawal(7000)"
   ]
  },
  {
   "cell_type": "code",
   "execution_count": 65,
   "id": "f20b2514-3940-4079-b71c-c9067dbf0b2d",
   "metadata": {},
   "outputs": [
    {
     "data": {
      "text/plain": [
       "True"
      ]
     },
     "execution_count": 65,
     "metadata": {},
     "output_type": "execute_result"
    }
   ],
   "source": [
    "obj_bank_acc.withdrawal(2000)"
   ]
  },
  {
   "cell_type": "code",
   "execution_count": 66,
   "id": "95a1f19b-ff2e-4a3c-80da-0c8fdb76abc1",
   "metadata": {},
   "outputs": [
    {
     "data": {
      "text/plain": [
       "4000"
      ]
     },
     "execution_count": 66,
     "metadata": {},
     "output_type": "execute_result"
    }
   ],
   "source": [
    "obj_bank_acc.get_balance()"
   ]
  },
  {
   "cell_type": "markdown",
   "id": "8c2c50f8-b404-49da-9953-56c37ead75a4",
   "metadata": {},
   "source": [
    "## Inheritance"
   ]
  },
  {
   "cell_type": "code",
   "execution_count": 75,
   "id": "6562b333-37b6-4126-9a64-c200e3edb43f",
   "metadata": {},
   "outputs": [],
   "source": [
    "#example of single inheritance"
   ]
  },
  {
   "cell_type": "code",
   "execution_count": 71,
   "id": "42c8cc27-080f-474a-beaf-17b5be899456",
   "metadata": {},
   "outputs": [],
   "source": [
    "class parent():\n",
    "    def test_parent(self):\n",
    "        print('this is my parent class')"
   ]
  },
  {
   "cell_type": "code",
   "execution_count": 97,
   "id": "510be07c-0123-4ae2-8e9c-1d585b3883a3",
   "metadata": {},
   "outputs": [],
   "source": [
    "class child(parent):\n",
    "    pass"
   ]
  },
  {
   "cell_type": "code",
   "execution_count": 98,
   "id": "22ab3eaa-1b51-4e4e-b503-551295e087f3",
   "metadata": {},
   "outputs": [],
   "source": [
    "obj_child=child()"
   ]
  },
  {
   "cell_type": "code",
   "execution_count": 99,
   "id": "44263057-239d-46eb-a4e5-43008b9f8281",
   "metadata": {},
   "outputs": [
    {
     "name": "stdout",
     "output_type": "stream",
     "text": [
      "this is my parent class\n"
     ]
    }
   ],
   "source": [
    "obj_child.test_parent()"
   ]
  },
  {
   "cell_type": "code",
   "execution_count": 76,
   "id": "1b932f51-8081-4c88-b476-4ee8c4310e33",
   "metadata": {},
   "outputs": [],
   "source": [
    "#example of multilabel inheritance"
   ]
  },
  {
   "cell_type": "code",
   "execution_count": 78,
   "id": "43f18e63-bcf7-4f45-ac03-c015fdcd89c9",
   "metadata": {},
   "outputs": [],
   "source": [
    "class class1():\n",
    "    def test_class1(self):\n",
    "        print('this is my class1')"
   ]
  },
  {
   "cell_type": "code",
   "execution_count": 79,
   "id": "44d7a6bd-cba0-4eee-b719-50cfe2573b99",
   "metadata": {},
   "outputs": [],
   "source": [
    "class class2(class1):\n",
    "    def test_class2(self):\n",
    "        print('this is my class2')"
   ]
  },
  {
   "cell_type": "code",
   "execution_count": 80,
   "id": "b7574f13-f853-49f3-a557-2c3c0c2495c9",
   "metadata": {},
   "outputs": [],
   "source": [
    "class class3(class2):\n",
    "    def test_class3(self):\n",
    "        print('this is my class3')"
   ]
  },
  {
   "cell_type": "code",
   "execution_count": 81,
   "id": "a02f551b-a996-474b-99a5-64b64b9991ad",
   "metadata": {},
   "outputs": [],
   "source": [
    "obj_class3=class3()"
   ]
  },
  {
   "cell_type": "code",
   "execution_count": 82,
   "id": "9800f8c5-acdd-41a5-8948-8f874687440d",
   "metadata": {},
   "outputs": [
    {
     "name": "stdout",
     "output_type": "stream",
     "text": [
      "this is my class2\n"
     ]
    }
   ],
   "source": [
    "obj_class3.test_class2()"
   ]
  },
  {
   "cell_type": "code",
   "execution_count": 83,
   "id": "15279222-81b6-4a99-9a22-9e656682c62f",
   "metadata": {},
   "outputs": [],
   "source": [
    "#example of multilevel inheritance"
   ]
  },
  {
   "cell_type": "code",
   "execution_count": 92,
   "id": "487a1957-cbf0-4b75-bc54-2115da455ad6",
   "metadata": {},
   "outputs": [],
   "source": [
    "class class1():\n",
    "    def test1(self):\n",
    "        print('this is my class 1')\n",
    "        \n",
    "class class2():\n",
    "    def test2(self):\n",
    "        print('this is my class 2')\n",
    "        \n",
    "class class3(class1, class2):\n",
    "    pass"
   ]
  },
  {
   "cell_type": "code",
   "execution_count": 93,
   "id": "f4cb0643-9c54-4307-8ad3-0fd7035d8d14",
   "metadata": {},
   "outputs": [],
   "source": [
    "obj_class3=class3()"
   ]
  },
  {
   "cell_type": "code",
   "execution_count": 96,
   "id": "eb530394-46a3-465e-8bcd-8049097c2965",
   "metadata": {},
   "outputs": [
    {
     "name": "stdout",
     "output_type": "stream",
     "text": [
      "this is my class 2\n"
     ]
    }
   ],
   "source": [
    "obj_class3.test2()"
   ]
  },
  {
   "cell_type": "markdown",
   "id": "929cd0ef-a435-44a6-92f6-06127bccd7f2",
   "metadata": {},
   "source": [
    "## Abstraction \n",
    "    In Python, abstraction refers to the ability to represent complex real-world entities as simpler, more generalized concepts in code. It allows programmers to focus on the essential features of an object or system, while hiding unnecessary details."
   ]
  },
  {
   "cell_type": "code",
   "execution_count": 100,
   "id": "18949b73-3e70-4fdb-966b-75563b9f1f25",
   "metadata": {},
   "outputs": [],
   "source": [
    "import abc"
   ]
  },
  {
   "cell_type": "code",
   "execution_count": 101,
   "id": "b768ecdb-fdbc-4601-9e70-28dd5cb5c4b9",
   "metadata": {},
   "outputs": [],
   "source": [
    "class course():\n",
    "    \n",
    "    @abc.abstractmethod\n",
    "    def student_details(self):\n",
    "        pass\n",
    "    @abc.abstractmethod\n",
    "    def marks(self):\n",
    "        pass\n",
    "    \n",
    "    @abc.abstractmethod\n",
    "    def assignments(self):\n",
    "        pass"
   ]
  },
  {
   "cell_type": "code",
   "execution_count": 106,
   "id": "7412d39e-a502-4aa2-bba4-318338501406",
   "metadata": {},
   "outputs": [],
   "source": [
    "class pwskill(course):\n",
    "    def student_details(self):\n",
    "        print('this is my class of student details for pwskill')\n",
    "        \n",
    "    def marks(self):\n",
    "        print('this is my class of marks for pwskill')\n",
    "        "
   ]
  },
  {
   "cell_type": "code",
   "execution_count": 111,
   "id": "57212df2-e881-41be-a94e-b9bbb0b3520c",
   "metadata": {},
   "outputs": [],
   "source": [
    "class web_dev(course):\n",
    "    def student_details(self):\n",
    "        print('this is my class of student details for web dev')\n",
    "        \n",
    "    def assignments(self):\n",
    "        print('this is my class of assignmnet for web dev')"
   ]
  },
  {
   "cell_type": "code",
   "execution_count": 112,
   "id": "227694d2-b1a7-4837-8dae-3f98e42e136b",
   "metadata": {},
   "outputs": [],
   "source": [
    "obj_pwskill=pwskill()"
   ]
  },
  {
   "cell_type": "code",
   "execution_count": 113,
   "id": "765c8662-4b43-46b6-a380-2103da28dc31",
   "metadata": {},
   "outputs": [
    {
     "name": "stdout",
     "output_type": "stream",
     "text": [
      "this is my class of student details for pwskill\n"
     ]
    }
   ],
   "source": [
    "obj_pwskill.student_details()"
   ]
  },
  {
   "cell_type": "code",
   "execution_count": 114,
   "id": "24647bdd-d562-4d90-8a0b-883410004228",
   "metadata": {},
   "outputs": [],
   "source": [
    "obj_webdev=web_dev()"
   ]
  },
  {
   "cell_type": "code",
   "execution_count": 116,
   "id": "a3e82b9c-56df-4d71-899c-84c77e240304",
   "metadata": {},
   "outputs": [
    {
     "name": "stdout",
     "output_type": "stream",
     "text": [
      "this is my class of student details for web dev\n"
     ]
    }
   ],
   "source": [
    "obj_webdev.student_details()"
   ]
  },
  {
   "cell_type": "code",
   "execution_count": 117,
   "id": "e5f51813-e6d7-46c7-b4b5-4b35265cc13d",
   "metadata": {},
   "outputs": [],
   "source": [
    "#example 2"
   ]
  },
  {
   "cell_type": "code",
   "execution_count": 118,
   "id": "54c33bd7-a52b-4be2-8096-b996a287bdc2",
   "metadata": {},
   "outputs": [
    {
     "name": "stdout",
     "output_type": "stream",
     "text": [
      "Toyota\n",
      "Starting the car...\n",
      "Accelerating the car...\n",
      "Stopping the car...\n"
     ]
    }
   ],
   "source": [
    "# Define a class for a car\n",
    "class Car:\n",
    "    def __init__(self, make, model, year):\n",
    "        self.make = make\n",
    "        self.model = model\n",
    "        self.year = year\n",
    "        \n",
    "    def start(self):\n",
    "        print(\"Starting the car...\")\n",
    "    \n",
    "    def stop(self):\n",
    "        print(\"Stopping the car...\")\n",
    "        \n",
    "    def accelerate(self):\n",
    "        print(\"Accelerating the car...\")\n",
    "        \n",
    "# Create an object of the Car class\n",
    "my_car = Car(\"Toyota\", \"Camry\", 2021)\n",
    "\n",
    "# Access properties and methods of the object\n",
    "print(my_car.make)  # Output: Toyota\n",
    "\n",
    "my_car.start()  \n",
    "my_car.accelerate()\n",
    "my_car.stop() \n"
   ]
  },
  {
   "cell_type": "code",
   "execution_count": null,
   "id": "b680fc45-6e32-43a8-81a1-409baa80623f",
   "metadata": {},
   "outputs": [],
   "source": []
  }
 ],
 "metadata": {
  "kernelspec": {
   "display_name": "Python 3 (ipykernel)",
   "language": "python",
   "name": "python3"
  },
  "language_info": {
   "codemirror_mode": {
    "name": "ipython",
    "version": 3
   },
   "file_extension": ".py",
   "mimetype": "text/x-python",
   "name": "python",
   "nbconvert_exporter": "python",
   "pygments_lexer": "ipython3",
   "version": "3.10.8"
  }
 },
 "nbformat": 4,
 "nbformat_minor": 5
}
