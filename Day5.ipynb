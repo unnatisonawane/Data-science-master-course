{
 "cells": [
  {
   "cell_type": "markdown",
   "id": "3234e8d8-17c7-4aa6-8dd2-a4b3d102dc6d",
   "metadata": {},
   "source": [
    "## Tuples"
   ]
  },
  {
   "cell_type": "code",
   "execution_count": 1,
   "id": "31ea616b-a9ec-48c5-ade9-6dfbb672b152",
   "metadata": {},
   "outputs": [],
   "source": [
    "t = ()"
   ]
  },
  {
   "cell_type": "code",
   "execution_count": 2,
   "id": "0e8407c5-5b0d-47f7-be15-d4dc5e803c5d",
   "metadata": {},
   "outputs": [
    {
     "data": {
      "text/plain": [
       "tuple"
      ]
     },
     "execution_count": 2,
     "metadata": {},
     "output_type": "execute_result"
    }
   ],
   "source": [
    "type(t)"
   ]
  },
  {
   "cell_type": "code",
   "execution_count": 3,
   "id": "e49b20af-1c15-45da-b9b6-d1af810736a0",
   "metadata": {},
   "outputs": [],
   "source": [
    "t1 = (1,2,3,4,45,45.45 , 45+7j , \"apple\" , True)"
   ]
  },
  {
   "cell_type": "code",
   "execution_count": 4,
   "id": "bbff4231-2127-44ca-ae69-844b9cf7fff2",
   "metadata": {},
   "outputs": [
    {
     "data": {
      "text/plain": [
       "tuple"
      ]
     },
     "execution_count": 4,
     "metadata": {},
     "output_type": "execute_result"
    }
   ],
   "source": [
    "type(t1)"
   ]
  },
  {
   "cell_type": "code",
   "execution_count": 5,
   "id": "2219981a-55a1-46fe-951e-34355c191ea2",
   "metadata": {},
   "outputs": [
    {
     "data": {
      "text/plain": [
       "(1, 2, 3, 4, 45, 45.45, (45+7j), 'apple', True)"
      ]
     },
     "execution_count": 5,
     "metadata": {},
     "output_type": "execute_result"
    }
   ],
   "source": [
    "t1"
   ]
  },
  {
   "cell_type": "code",
   "execution_count": 6,
   "id": "c9366942-bbdf-4114-9393-388cc1d945b3",
   "metadata": {},
   "outputs": [
    {
     "data": {
      "text/plain": [
       "1"
      ]
     },
     "execution_count": 6,
     "metadata": {},
     "output_type": "execute_result"
    }
   ],
   "source": [
    "t1[0]"
   ]
  },
  {
   "cell_type": "code",
   "execution_count": 7,
   "id": "790d7a34-0b8b-41fb-b789-cf0d1b174793",
   "metadata": {},
   "outputs": [
    {
     "data": {
      "text/plain": [
       "'apple'"
      ]
     },
     "execution_count": 7,
     "metadata": {},
     "output_type": "execute_result"
    }
   ],
   "source": [
    "t1[7]"
   ]
  },
  {
   "cell_type": "code",
   "execution_count": 8,
   "id": "472d9214-65a0-4032-8f61-81b9207cb8e3",
   "metadata": {},
   "outputs": [
    {
     "data": {
      "text/plain": [
       "(True, 'apple', (45+7j), 45.45, 45, 4, 3, 2, 1)"
      ]
     },
     "execution_count": 8,
     "metadata": {},
     "output_type": "execute_result"
    }
   ],
   "source": [
    "t1[::-1]"
   ]
  },
  {
   "cell_type": "code",
   "execution_count": 9,
   "id": "66ce41e6-1ca3-4bfd-9755-ad893c595e1b",
   "metadata": {},
   "outputs": [],
   "source": [
    "t1 = t1[::-1]"
   ]
  },
  {
   "cell_type": "code",
   "execution_count": 10,
   "id": "e29080d3-f4d5-4c49-a326-73809d7862b2",
   "metadata": {},
   "outputs": [
    {
     "data": {
      "text/plain": [
       "(True, 'apple', (45+7j), 45.45, 45, 4, 3, 2, 1)"
      ]
     },
     "execution_count": 10,
     "metadata": {},
     "output_type": "execute_result"
    }
   ],
   "source": [
    "t1"
   ]
  },
  {
   "cell_type": "code",
   "execution_count": 11,
   "id": "a5099bf3-0d7e-4fe9-9f74-dde86f79f545",
   "metadata": {},
   "outputs": [
    {
     "data": {
      "text/plain": [
       "(True, 'apple', (45+7j))"
      ]
     },
     "execution_count": 11,
     "metadata": {},
     "output_type": "execute_result"
    }
   ],
   "source": [
    "t1[0:3]"
   ]
  },
  {
   "cell_type": "code",
   "execution_count": 12,
   "id": "9d6f0324-3b5d-4218-97f9-4dfdaf67829d",
   "metadata": {},
   "outputs": [
    {
     "data": {
      "text/plain": [
       "(True, 'apple', (45+7j), 45.45, 45, 4, 3, 2, 1)"
      ]
     },
     "execution_count": 12,
     "metadata": {},
     "output_type": "execute_result"
    }
   ],
   "source": [
    "t1"
   ]
  },
  {
   "cell_type": "code",
   "execution_count": 13,
   "id": "9f7fd60e-730f-43ef-b5b5-4bc17267dfdb",
   "metadata": {},
   "outputs": [
    {
     "data": {
      "text/plain": [
       "1"
      ]
     },
     "execution_count": 13,
     "metadata": {},
     "output_type": "execute_result"
    }
   ],
   "source": [
    "t1.count(4)"
   ]
  },
  {
   "cell_type": "code",
   "execution_count": 14,
   "id": "56afc27a-90fd-47c9-9329-822384864177",
   "metadata": {},
   "outputs": [
    {
     "data": {
      "text/plain": [
       "0"
      ]
     },
     "execution_count": 14,
     "metadata": {},
     "output_type": "execute_result"
    }
   ],
   "source": [
    "t1.count(\"abc\")"
   ]
  },
  {
   "cell_type": "code",
   "execution_count": 15,
   "id": "1e7e22a8-6223-44ee-a0c8-b4b4cd74c36d",
   "metadata": {},
   "outputs": [
    {
     "data": {
      "text/plain": [
       "0"
      ]
     },
     "execution_count": 15,
     "metadata": {},
     "output_type": "execute_result"
    }
   ],
   "source": [
    "t1.index(1)"
   ]
  },
  {
   "cell_type": "code",
   "execution_count": 17,
   "id": "cd310fd3-7283-49c2-a0e5-e96ecf96acf4",
   "metadata": {},
   "outputs": [
    {
     "data": {
      "text/plain": [
       "1"
      ]
     },
     "execution_count": 17,
     "metadata": {},
     "output_type": "execute_result"
    }
   ],
   "source": [
    "t1.index(\"apple\")"
   ]
  },
  {
   "cell_type": "code",
   "execution_count": 18,
   "id": "a56796b9-7e80-4b17-8c57-74d0810f0416",
   "metadata": {},
   "outputs": [
    {
     "data": {
      "text/plain": [
       "(True, 'apple', (45+7j), 45.45, 45, 4, 3, 2, 1)"
      ]
     },
     "execution_count": 18,
     "metadata": {},
     "output_type": "execute_result"
    }
   ],
   "source": [
    "t1"
   ]
  },
  {
   "cell_type": "markdown",
   "id": "6b7da598-2528-4924-8772-c85fe23faa4c",
   "metadata": {},
   "source": [
    "\"\"\"Tuple are basically follows  Immutability concepts where it is not going to allow to change any element at a perticular index\"\"\""
   ]
  },
  {
   "cell_type": "code",
   "execution_count": 20,
   "id": "28d4d97c-5531-4720-bf12-e0734af3adaa",
   "metadata": {},
   "outputs": [
    {
     "ename": "TypeError",
     "evalue": "'tuple' object does not support item assignment",
     "output_type": "error",
     "traceback": [
      "\u001b[0;31m---------------------------------------------------------------------------\u001b[0m",
      "\u001b[0;31mTypeError\u001b[0m                                 Traceback (most recent call last)",
      "Cell \u001b[0;32mIn[20], line 1\u001b[0m\n\u001b[0;32m----> 1\u001b[0m \u001b[43mt1\u001b[49m\u001b[43m[\u001b[49m\u001b[38;5;241;43m0\u001b[39;49m\u001b[43m]\u001b[49m \u001b[38;5;241m=\u001b[39m \u001b[38;5;241m345\u001b[39m\n",
      "\u001b[0;31mTypeError\u001b[0m: 'tuple' object does not support item assignment"
     ]
    }
   ],
   "source": [
    "t1[0] = 345"
   ]
  },
  {
   "cell_type": "code",
   "execution_count": 21,
   "id": "1c8b107c-517c-4bd8-814e-d35ddf76b1fa",
   "metadata": {},
   "outputs": [
    {
     "name": "stdout",
     "output_type": "stream",
     "text": [
      "True <class 'bool'>\n",
      "apple <class 'str'>\n",
      "(45+7j) <class 'complex'>\n",
      "45.45 <class 'float'>\n",
      "45 <class 'int'>\n",
      "4 <class 'int'>\n",
      "3 <class 'int'>\n",
      "2 <class 'int'>\n",
      "1 <class 'int'>\n"
     ]
    }
   ],
   "source": [
    "for i in t1 :\n",
    "    print(i , type(i))"
   ]
  },
  {
   "cell_type": "code",
   "execution_count": 22,
   "id": "ca588b2c-86f2-482f-82ef-0b3d13b5f545",
   "metadata": {},
   "outputs": [],
   "source": [
    "t2 = (1,2,3,3,4)"
   ]
  },
  {
   "cell_type": "code",
   "execution_count": 23,
   "id": "cca00e06-b922-4280-b91b-f6d89c436e6e",
   "metadata": {},
   "outputs": [
    {
     "data": {
      "text/plain": [
       "(1, 2, 3, 3, 4)"
      ]
     },
     "execution_count": 23,
     "metadata": {},
     "output_type": "execute_result"
    }
   ],
   "source": [
    "t2"
   ]
  },
  {
   "cell_type": "code",
   "execution_count": 24,
   "id": "f4150a36-92e7-4ffc-8e85-ce74a0cb0ab7",
   "metadata": {},
   "outputs": [
    {
     "data": {
      "text/plain": [
       "(1, 2, 3, 3, 4, 1, 2, 3, 3, 4, 1, 2, 3, 3, 4)"
      ]
     },
     "execution_count": 24,
     "metadata": {},
     "output_type": "execute_result"
    }
   ],
   "source": [
    "t2 * 3"
   ]
  },
  {
   "cell_type": "code",
   "execution_count": 25,
   "id": "3ed35344-d242-44be-a446-b37691101237",
   "metadata": {},
   "outputs": [
    {
     "data": {
      "text/plain": [
       "4"
      ]
     },
     "execution_count": 25,
     "metadata": {},
     "output_type": "execute_result"
    }
   ],
   "source": [
    "max(t2)"
   ]
  },
  {
   "cell_type": "code",
   "execution_count": 26,
   "id": "4e3f960a-63fa-477d-b212-3c97ce25972f",
   "metadata": {},
   "outputs": [
    {
     "data": {
      "text/plain": [
       "1"
      ]
     },
     "execution_count": 26,
     "metadata": {},
     "output_type": "execute_result"
    }
   ],
   "source": [
    "min(t2)"
   ]
  },
  {
   "cell_type": "code",
   "execution_count": 27,
   "id": "c294110e-9405-4247-a0dc-e0c034c41065",
   "metadata": {},
   "outputs": [],
   "source": [
    "t1 = (1,2,32,4)\n",
    "t2 = (4,5,6,7,8)"
   ]
  },
  {
   "cell_type": "code",
   "execution_count": 28,
   "id": "d529b240-4351-4a48-8355-20742baab713",
   "metadata": {},
   "outputs": [],
   "source": [
    "t3 = (t1,t2)"
   ]
  },
  {
   "cell_type": "code",
   "execution_count": 34,
   "id": "23a9319a-3397-4179-b337-50cb97b37789",
   "metadata": {},
   "outputs": [
    {
     "data": {
      "text/plain": [
       "((1, 2, 32, 4), (4, 5, 6, 7, 8))"
      ]
     },
     "execution_count": 34,
     "metadata": {},
     "output_type": "execute_result"
    }
   ],
   "source": [
    "t3"
   ]
  },
  {
   "cell_type": "code",
   "execution_count": 35,
   "id": "a9741e2c-e2cb-4df4-a895-b18cc6e086db",
   "metadata": {},
   "outputs": [],
   "source": [
    "t4 = ((1,2,3,4,5) , [1,3,5,6,7,8])"
   ]
  },
  {
   "cell_type": "code",
   "execution_count": 36,
   "id": "3a8e1a3b-8aed-4d06-bf12-91ff9be2865d",
   "metadata": {},
   "outputs": [
    {
     "data": {
      "text/plain": [
       "((1, 2, 3, 4, 5), [1, 3, 5, 6, 7, 8])"
      ]
     },
     "execution_count": 36,
     "metadata": {},
     "output_type": "execute_result"
    }
   ],
   "source": [
    "t4"
   ]
  },
  {
   "cell_type": "markdown",
   "id": "80a9ce19-6642-4994-ad36-baaf9bbd29ba",
   "metadata": {},
   "source": [
    "## Dictionary"
   ]
  },
  {
   "cell_type": "code",
   "execution_count": 40,
   "id": "63fb2d6a-2032-478e-ac8d-625f985298a1",
   "metadata": {},
   "outputs": [],
   "source": [
    "d = {}"
   ]
  },
  {
   "cell_type": "code",
   "execution_count": 41,
   "id": "27bbd435-b159-4795-acbc-c3f2a6d34bcd",
   "metadata": {},
   "outputs": [
    {
     "data": {
      "text/plain": [
       "dict"
      ]
     },
     "execution_count": 41,
     "metadata": {},
     "output_type": "execute_result"
    }
   ],
   "source": [
    "type(d)"
   ]
  },
  {
   "cell_type": "code",
   "execution_count": 42,
   "id": "87464c4d-7c5a-4aac-96d9-5bb3d7b56a10",
   "metadata": {},
   "outputs": [],
   "source": [
    "d1 = {\"name\" : \"devi\" , \"emiil_id\" : \"ss@gmail.com\" , \"number\" :234324}"
   ]
  },
  {
   "cell_type": "code",
   "execution_count": 43,
   "id": "fd7f6cff-f6d1-4f4a-8d41-8f8ce510609c",
   "metadata": {},
   "outputs": [
    {
     "data": {
      "text/plain": [
       "dict"
      ]
     },
     "execution_count": 43,
     "metadata": {},
     "output_type": "execute_result"
    }
   ],
   "source": [
    "type(d1)"
   ]
  },
  {
   "cell_type": "code",
   "execution_count": 44,
   "id": "400be9fb-6cea-4f12-a644-cef291b16b8a",
   "metadata": {},
   "outputs": [
    {
     "data": {
      "text/plain": [
       "{'name': 'devi', 'emiil_id': 'ss@gmail.com', 'number': 234324}"
      ]
     },
     "execution_count": 44,
     "metadata": {},
     "output_type": "execute_result"
    }
   ],
   "source": [
    "d1"
   ]
  },
  {
   "cell_type": "code",
   "execution_count": 45,
   "id": "81c75407-17ce-4519-9779-22d9cdd623c6",
   "metadata": {},
   "outputs": [],
   "source": [
    "d2 = {\"name\" : \"devi\" , \"name\" : \"devika\"}"
   ]
  },
  {
   "cell_type": "code",
   "execution_count": 46,
   "id": "ee951d54-c95d-4bba-8c7f-32c004e025ff",
   "metadata": {},
   "outputs": [
    {
     "data": {
      "text/plain": [
       "{'name': 'devika'}"
      ]
     },
     "execution_count": 46,
     "metadata": {},
     "output_type": "execute_result"
    }
   ],
   "source": [
    "d2"
   ]
  },
  {
   "cell_type": "code",
   "execution_count": 47,
   "id": "30662c30-d292-4c2d-b8af-6d7efe8580fc",
   "metadata": {},
   "outputs": [],
   "source": [
    "d3 = {234234 : \"abc\"}"
   ]
  },
  {
   "cell_type": "code",
   "execution_count": 48,
   "id": "e3f03d8f-36f8-4aef-a02c-5c9e70fa8b3d",
   "metadata": {},
   "outputs": [
    {
     "data": {
      "text/plain": [
       "{234234: 'abc'}"
      ]
     },
     "execution_count": 48,
     "metadata": {},
     "output_type": "execute_result"
    }
   ],
   "source": [
    "d3"
   ]
  },
  {
   "cell_type": "code",
   "execution_count": 49,
   "id": "85a5641a-369c-424f-ac4f-2e916f67de40",
   "metadata": {},
   "outputs": [],
   "source": [
    "d4 = {234.45 : \"abc\"}"
   ]
  },
  {
   "cell_type": "code",
   "execution_count": 50,
   "id": "2f5af082-7366-49ed-bf96-9440756b0dae",
   "metadata": {},
   "outputs": [
    {
     "data": {
      "text/plain": [
       "{234.45: 'abc'}"
      ]
     },
     "execution_count": 50,
     "metadata": {},
     "output_type": "execute_result"
    }
   ],
   "source": [
    "d4"
   ]
  },
  {
   "cell_type": "code",
   "execution_count": 51,
   "id": "cbe95185-d0ff-4923-9caf-44901e8a0be4",
   "metadata": {},
   "outputs": [],
   "source": [
    "d5 = {True : \"abc\"}"
   ]
  },
  {
   "cell_type": "code",
   "execution_count": 52,
   "id": "1184954c-9e67-45c5-bbf6-f80b62e32dce",
   "metadata": {},
   "outputs": [
    {
     "data": {
      "text/plain": [
       "{True: 'abc'}"
      ]
     },
     "execution_count": 52,
     "metadata": {},
     "output_type": "execute_result"
    }
   ],
   "source": [
    "d5"
   ]
  },
  {
   "cell_type": "code",
   "execution_count": 53,
   "id": "d495dc8d-082a-40ee-9075-6d3552099b79",
   "metadata": {},
   "outputs": [
    {
     "ename": "SyntaxError",
     "evalue": "incomplete input (36680248.py, line 1)",
     "output_type": "error",
     "traceback": [
      "\u001b[0;36m  Cell \u001b[0;32mIn[53], line 1\u001b[0;36m\u001b[0m\n\u001b[0;31m    d6 = {# : \"abc\"}\u001b[0m\n\u001b[0m                    ^\u001b[0m\n\u001b[0;31mSyntaxError\u001b[0m\u001b[0;31m:\u001b[0m incomplete input\n"
     ]
    }
   ],
   "source": [
    "d6 = {# : \"abc\"}"
   ]
  },
  {
   "cell_type": "code",
   "execution_count": 54,
   "id": "c165d533-732c-40d1-bcd4-f848ac9fcd32",
   "metadata": {},
   "outputs": [
    {
     "ename": "SyntaxError",
     "evalue": "invalid syntax (183635709.py, line 1)",
     "output_type": "error",
     "traceback": [
      "\u001b[0;36m  Cell \u001b[0;32mIn[54], line 1\u001b[0;36m\u001b[0m\n\u001b[0;31m    d7 = {@ : \"abc\"}\u001b[0m\n\u001b[0m          ^\u001b[0m\n\u001b[0;31mSyntaxError\u001b[0m\u001b[0;31m:\u001b[0m invalid syntax\n"
     ]
    }
   ],
   "source": [
    "d7 = {@ : \"abc\"} "
   ]
  },
  {
   "cell_type": "code",
   "execution_count": 55,
   "id": "cd43b056-8f22-40f0-9610-db135f9d4267",
   "metadata": {},
   "outputs": [
    {
     "ename": "TypeError",
     "evalue": "unhashable type: 'list'",
     "output_type": "error",
     "traceback": [
      "\u001b[0;31m---------------------------------------------------------------------------\u001b[0m",
      "\u001b[0;31mTypeError\u001b[0m                                 Traceback (most recent call last)",
      "Cell \u001b[0;32mIn[55], line 1\u001b[0m\n\u001b[0;32m----> 1\u001b[0m d8 \u001b[38;5;241m=\u001b[39m {[\u001b[38;5;241m1\u001b[39m,\u001b[38;5;241m2\u001b[39m,\u001b[38;5;241m3\u001b[39m] :\u001b[38;5;124m\"\u001b[39m\u001b[38;5;124mabc\u001b[39m\u001b[38;5;124m\"\u001b[39m}\n",
      "\u001b[0;31mTypeError\u001b[0m: unhashable type: 'list'"
     ]
    }
   ],
   "source": [
    "d8 = {[1,2,3] :\"abc\"}"
   ]
  },
  {
   "cell_type": "code",
   "execution_count": 56,
   "id": "93d12a05-e5ad-4f3b-9d9e-722752aa941e",
   "metadata": {},
   "outputs": [],
   "source": [
    "d9 = {(1,2,3) : \"abc\"}"
   ]
  },
  {
   "cell_type": "code",
   "execution_count": 57,
   "id": "e99d8f2c-845a-4890-a9d3-195731323473",
   "metadata": {},
   "outputs": [
    {
     "data": {
      "text/plain": [
       "{(1, 2, 3): 'abc'}"
      ]
     },
     "execution_count": 57,
     "metadata": {},
     "output_type": "execute_result"
    }
   ],
   "source": [
    "d9"
   ]
  },
  {
   "cell_type": "code",
   "execution_count": 58,
   "id": "520ebffd-b126-4861-a1b5-d1ce188cd272",
   "metadata": {},
   "outputs": [
    {
     "ename": "TypeError",
     "evalue": "unhashable type: 'set'",
     "output_type": "error",
     "traceback": [
      "\u001b[0;31m---------------------------------------------------------------------------\u001b[0m",
      "\u001b[0;31mTypeError\u001b[0m                                 Traceback (most recent call last)",
      "Cell \u001b[0;32mIn[58], line 1\u001b[0m\n\u001b[0;32m----> 1\u001b[0m d10 \u001b[38;5;241m=\u001b[39m {{\u001b[38;5;241m1\u001b[39m,\u001b[38;5;241m2\u001b[39m,\u001b[38;5;241m3\u001b[39m} :\u001b[38;5;124m\"\u001b[39m\u001b[38;5;124mabc\u001b[39m\u001b[38;5;124m\"\u001b[39m} \n",
      "\u001b[0;31mTypeError\u001b[0m: unhashable type: 'set'"
     ]
    }
   ],
   "source": [
    "d10 = {{1,2,3} :\"abc\"} "
   ]
  },
  {
   "cell_type": "code",
   "execution_count": 59,
   "id": "599e48e3-fd69-4017-b2b6-7271382870c4",
   "metadata": {},
   "outputs": [
    {
     "ename": "TypeError",
     "evalue": "unhashable type: 'dict'",
     "output_type": "error",
     "traceback": [
      "\u001b[0;31m---------------------------------------------------------------------------\u001b[0m",
      "\u001b[0;31mTypeError\u001b[0m                                 Traceback (most recent call last)",
      "Cell \u001b[0;32mIn[59], line 1\u001b[0m\n\u001b[0;32m----> 1\u001b[0m d11 \u001b[38;5;241m=\u001b[39m {{\u001b[38;5;124m\"\u001b[39m\u001b[38;5;124mkey\u001b[39m\u001b[38;5;124m\"\u001b[39m:\u001b[38;5;241m234\u001b[39m} : \u001b[38;5;124m\"\u001b[39m\u001b[38;5;124mabc\u001b[39m\u001b[38;5;124m\"\u001b[39m}\n",
      "\u001b[0;31mTypeError\u001b[0m: unhashable type: 'dict'"
     ]
    }
   ],
   "source": [
    "d11 = {{\"key\":234} : \"abc\"}"
   ]
  },
  {
   "cell_type": "code",
   "execution_count": 60,
   "id": "48e206c1-e92f-4193-8e2d-aa7e5aa9a5b2",
   "metadata": {},
   "outputs": [],
   "source": [
    "d12 = {\"course_name\" : [\"data science master\" , \"web dev\" ,\"java with dsa and system Design\"]}"
   ]
  },
  {
   "cell_type": "code",
   "execution_count": 61,
   "id": "82adada4-2282-4102-bfd9-9c191c187938",
   "metadata": {},
   "outputs": [
    {
     "data": {
      "text/plain": [
       "{'course_name': ['data science master',\n",
       "  'web dev',\n",
       "  'java with dsa and system Design']}"
      ]
     },
     "execution_count": 61,
     "metadata": {},
     "output_type": "execute_result"
    }
   ],
   "source": [
    "d12"
   ]
  },
  {
   "cell_type": "code",
   "execution_count": 62,
   "id": "6a532312-2bb8-44a4-8109-30e257eb98eb",
   "metadata": {},
   "outputs": [],
   "source": [
    "d13 = {\"key\" : (1,2,3,4,5)}"
   ]
  },
  {
   "cell_type": "code",
   "execution_count": 63,
   "id": "53243937-9a21-4ad9-b727-9de31a0f25d4",
   "metadata": {},
   "outputs": [],
   "source": [
    "d14 = {\"key\" :{1,2,3,4}}"
   ]
  },
  {
   "cell_type": "code",
   "execution_count": 64,
   "id": "55ed7928-e829-4bae-a476-84d8cf199374",
   "metadata": {},
   "outputs": [],
   "source": [
    "d15 = {\"key\" : {\"name\" : \"sudhanshu\" , \"class\" : \"DSM\"}}"
   ]
  },
  {
   "cell_type": "code",
   "execution_count": 65,
   "id": "845c46c1-616a-489c-8601-45bc8c0f6781",
   "metadata": {},
   "outputs": [
    {
     "data": {
      "text/plain": [
       "{'key': {'name': 'sudhanshu', 'class': 'DSM'}}"
      ]
     },
     "execution_count": 65,
     "metadata": {},
     "output_type": "execute_result"
    }
   ],
   "source": [
    "d15"
   ]
  },
  {
   "cell_type": "code",
   "execution_count": 66,
   "id": "e06b4ea6-f8ba-4152-b8e6-070efa2ef455",
   "metadata": {},
   "outputs": [],
   "source": [
    "d16 = {\"batch_name\" :[\"data science masters\" , \"web dev\" , \"JDS\"] , \"start_date\": (28,14,21),\"mentor_name\" : {\"krish naik\", \"sudhanshu\" , \"hitesh\", \"anurag\" , \"navin\",\"hayder\"}}"
   ]
  },
  {
   "cell_type": "code",
   "execution_count": 67,
   "id": "fb9de0b1-1cc8-45da-8798-298052b4b5cf",
   "metadata": {},
   "outputs": [
    {
     "data": {
      "text/plain": [
       "{'batch_name': ['data science masters', 'web dev', 'JDS'],\n",
       " 'start_date': (28, 14, 21),\n",
       " 'mentor_name': {'anurag',\n",
       "  'hayder',\n",
       "  'hitesh',\n",
       "  'krish naik',\n",
       "  'navin',\n",
       "  'sudhanshu'}}"
      ]
     },
     "execution_count": 67,
     "metadata": {},
     "output_type": "execute_result"
    }
   ],
   "source": [
    "d16"
   ]
  },
  {
   "cell_type": "code",
   "execution_count": 68,
   "id": "f555dc09-46aa-441d-a69a-e336ef1b7048",
   "metadata": {},
   "outputs": [],
   "source": [
    "d16[\"timing\"] = (8 , 8 ,8)"
   ]
  },
  {
   "cell_type": "code",
   "execution_count": 69,
   "id": "1df1fb1e-1e84-4991-b27f-59d1cb7ba9b2",
   "metadata": {},
   "outputs": [
    {
     "data": {
      "text/plain": [
       "{'batch_name': ['data science masters', 'web dev', 'JDS'],\n",
       " 'start_date': (28, 14, 21),\n",
       " 'mentor_name': {'anurag',\n",
       "  'hayder',\n",
       "  'hitesh',\n",
       "  'krish naik',\n",
       "  'navin',\n",
       "  'sudhanshu'},\n",
       " 'timing': (8, 8, 8)}"
      ]
     },
     "execution_count": 69,
     "metadata": {},
     "output_type": "execute_result"
    }
   ],
   "source": [
    "d16"
   ]
  },
  {
   "cell_type": "code",
   "execution_count": 70,
   "id": "9f42b2a5-f9b6-4983-bcb3-0593da875584",
   "metadata": {},
   "outputs": [
    {
     "data": {
      "text/plain": [
       "['data science masters', 'web dev', 'JDS']"
      ]
     },
     "execution_count": 70,
     "metadata": {},
     "output_type": "execute_result"
    }
   ],
   "source": [
    "d16['batch_name']"
   ]
  },
  {
   "cell_type": "code",
   "execution_count": 71,
   "id": "8b6eeb11-b1ca-4041-9714-b6321ac37e43",
   "metadata": {},
   "outputs": [
    {
     "data": {
      "text/plain": [
       "set"
      ]
     },
     "execution_count": 71,
     "metadata": {},
     "output_type": "execute_result"
    }
   ],
   "source": [
    "type(d16['mentor_name'])"
   ]
  },
  {
   "cell_type": "code",
   "execution_count": 74,
   "id": "54e7ac05-9e83-4fe2-bd74-5a8b25ab5aa4",
   "metadata": {},
   "outputs": [],
   "source": [
    "d16[\"name\"]  = \"sudhanshu\""
   ]
  },
  {
   "cell_type": "code",
   "execution_count": 75,
   "id": "00ac69a5-b4c0-48de-9e95-77e13e8c261e",
   "metadata": {},
   "outputs": [
    {
     "data": {
      "text/plain": [
       "{'batch_name': ['data science masters', 'web dev', 'JDS'],\n",
       " 'start_date': (28, 14, 21),\n",
       " 'mentor_name': {'anurag',\n",
       "  'hayder',\n",
       "  'hitesh',\n",
       "  'krish naik',\n",
       "  'navin',\n",
       "  'sudhanshu'},\n",
       " 'timing': (8, 8, 8),\n",
       " 'name': 'sudhanshu'}"
      ]
     },
     "execution_count": 75,
     "metadata": {},
     "output_type": "execute_result"
    }
   ],
   "source": [
    "d16"
   ]
  },
  {
   "cell_type": "code",
   "execution_count": 76,
   "id": "fa1e0f05-2fe2-4d37-bf7c-f5130a8028ee",
   "metadata": {},
   "outputs": [
    {
     "data": {
      "text/plain": [
       "'SUDHANSHU'"
      ]
     },
     "execution_count": 76,
     "metadata": {},
     "output_type": "execute_result"
    }
   ],
   "source": [
    "d16['name'].upper()"
   ]
  },
  {
   "cell_type": "code",
   "execution_count": 77,
   "id": "d01d1a90-5577-4e0c-b503-1321ad38d426",
   "metadata": {},
   "outputs": [
    {
     "data": {
      "text/plain": [
       "{'key': {'name': 'sudhanshu', 'class': 'DSM'}}"
      ]
     },
     "execution_count": 77,
     "metadata": {},
     "output_type": "execute_result"
    }
   ],
   "source": [
    "d15"
   ]
  },
  {
   "cell_type": "code",
   "execution_count": 78,
   "id": "0660616c-98b6-4fe1-bfaf-5adbf6365fcf",
   "metadata": {},
   "outputs": [
    {
     "data": {
      "text/plain": [
       "{'name': 'sudhanshu', 'class': 'DSM'}"
      ]
     },
     "execution_count": 78,
     "metadata": {},
     "output_type": "execute_result"
    }
   ],
   "source": [
    "d15['key']"
   ]
  },
  {
   "cell_type": "code",
   "execution_count": 79,
   "id": "4233f31e-88cc-48d6-9bb0-dc9bf42ad09b",
   "metadata": {},
   "outputs": [
    {
     "data": {
      "text/plain": [
       "dict"
      ]
     },
     "execution_count": 79,
     "metadata": {},
     "output_type": "execute_result"
    }
   ],
   "source": [
    "type(d15['key'])"
   ]
  },
  {
   "cell_type": "code",
   "execution_count": 80,
   "id": "b47aaee3-d479-4a2a-a811-d9f300b2a768",
   "metadata": {},
   "outputs": [
    {
     "data": {
      "text/plain": [
       "'DSM'"
      ]
     },
     "execution_count": 80,
     "metadata": {},
     "output_type": "execute_result"
    }
   ],
   "source": [
    "d15['key']['class']"
   ]
  },
  {
   "cell_type": "code",
   "execution_count": 81,
   "id": "6406a5d1-4c03-4af4-bb83-f4350d8cd211",
   "metadata": {},
   "outputs": [
    {
     "data": {
      "text/plain": [
       "{'key': {'name': 'sudhanshu', 'class': 'DSM'}}"
      ]
     },
     "execution_count": 81,
     "metadata": {},
     "output_type": "execute_result"
    }
   ],
   "source": [
    "d15"
   ]
  },
  {
   "cell_type": "code",
   "execution_count": 82,
   "id": "b54c2316-4eb8-4059-b39a-e7c89205db4f",
   "metadata": {},
   "outputs": [],
   "source": [
    "d15[\"key1\"] = \"abc\""
   ]
  },
  {
   "cell_type": "code",
   "execution_count": 83,
   "id": "54411569-b009-44df-8e05-506bfa44ea42",
   "metadata": {},
   "outputs": [
    {
     "data": {
      "text/plain": [
       "{'key': {'name': 'sudhanshu', 'class': 'DSM'}, 'key1': 'abc'}"
      ]
     },
     "execution_count": 83,
     "metadata": {},
     "output_type": "execute_result"
    }
   ],
   "source": [
    "d15"
   ]
  },
  {
   "cell_type": "code",
   "execution_count": 84,
   "id": "97b10423-a8fc-42a7-9ed2-953547700a31",
   "metadata": {},
   "outputs": [],
   "source": [
    "del d15['key1']"
   ]
  },
  {
   "cell_type": "code",
   "execution_count": 85,
   "id": "2b77f6dd-0fc5-4bbf-a235-7c8ce4ff61c5",
   "metadata": {},
   "outputs": [
    {
     "data": {
      "text/plain": [
       "{'key': {'name': 'sudhanshu', 'class': 'DSM'}}"
      ]
     },
     "execution_count": 85,
     "metadata": {},
     "output_type": "execute_result"
    }
   ],
   "source": [
    "d15"
   ]
  },
  {
   "cell_type": "code",
   "execution_count": 86,
   "id": "b6f32dcc-6835-40f3-a38d-99c8888dab33",
   "metadata": {},
   "outputs": [],
   "source": [
    "d15.clear()"
   ]
  },
  {
   "cell_type": "code",
   "execution_count": 87,
   "id": "55c2d7eb-532c-46aa-8b84-ec960f03872f",
   "metadata": {},
   "outputs": [
    {
     "data": {
      "text/plain": [
       "{}"
      ]
     },
     "execution_count": 87,
     "metadata": {},
     "output_type": "execute_result"
    }
   ],
   "source": [
    "d15"
   ]
  },
  {
   "cell_type": "code",
   "execution_count": 88,
   "id": "327d6bfa-25df-455b-a641-cb302d928234",
   "metadata": {},
   "outputs": [
    {
     "data": {
      "text/plain": [
       "5"
      ]
     },
     "execution_count": 88,
     "metadata": {},
     "output_type": "execute_result"
    }
   ],
   "source": [
    "len(d16)"
   ]
  },
  {
   "cell_type": "code",
   "execution_count": 89,
   "id": "16739f2f-7bdc-47a5-bc07-a063cb06866b",
   "metadata": {},
   "outputs": [
    {
     "data": {
      "text/plain": [
       "{'batch_name': ['data science masters', 'web dev', 'JDS'],\n",
       " 'start_date': (28, 14, 21),\n",
       " 'mentor_name': {'anurag',\n",
       "  'hayder',\n",
       "  'hitesh',\n",
       "  'krish naik',\n",
       "  'navin',\n",
       "  'sudhanshu'},\n",
       " 'timing': (8, 8, 8),\n",
       " 'name': 'sudhanshu'}"
      ]
     },
     "execution_count": 89,
     "metadata": {},
     "output_type": "execute_result"
    }
   ],
   "source": [
    "d16"
   ]
  },
  {
   "cell_type": "code",
   "execution_count": 90,
   "id": "c92c3ae9-fe73-4610-b3f1-0c8c52f57cd9",
   "metadata": {},
   "outputs": [
    {
     "data": {
      "text/plain": [
       "dict_keys(['batch_name', 'start_date', 'mentor_name', 'timing', 'name'])"
      ]
     },
     "execution_count": 90,
     "metadata": {},
     "output_type": "execute_result"
    }
   ],
   "source": [
    "d16.keys()"
   ]
  },
  {
   "cell_type": "code",
   "execution_count": 91,
   "id": "0400936c-1bea-4fbe-9dd7-72b59618067b",
   "metadata": {},
   "outputs": [
    {
     "data": {
      "text/plain": [
       "dict_values([['data science masters', 'web dev', 'JDS'], (28, 14, 21), {'navin', 'krish naik', 'anurag', 'hitesh', 'hayder', 'sudhanshu'}, (8, 8, 8), 'sudhanshu'])"
      ]
     },
     "execution_count": 91,
     "metadata": {},
     "output_type": "execute_result"
    }
   ],
   "source": [
    "d16.values()"
   ]
  },
  {
   "cell_type": "code",
   "execution_count": 92,
   "id": "f0c2ecce-6d5a-4a4f-9fb0-2ee459b08c1b",
   "metadata": {},
   "outputs": [
    {
     "data": {
      "text/plain": [
       "[['data science masters', 'web dev', 'JDS'],\n",
       " (28, 14, 21),\n",
       " {'anurag', 'hayder', 'hitesh', 'krish naik', 'navin', 'sudhanshu'},\n",
       " (8, 8, 8),\n",
       " 'sudhanshu']"
      ]
     },
     "execution_count": 92,
     "metadata": {},
     "output_type": "execute_result"
    }
   ],
   "source": [
    "list(d16.values())"
   ]
  },
  {
   "cell_type": "code",
   "execution_count": 93,
   "id": "7f7496bc-5fee-4637-8c61-1e416bdcc364",
   "metadata": {},
   "outputs": [
    {
     "data": {
      "text/plain": [
       "['batch_name', 'start_date', 'mentor_name', 'timing', 'name']"
      ]
     },
     "execution_count": 93,
     "metadata": {},
     "output_type": "execute_result"
    }
   ],
   "source": [
    "list(d16.keys())"
   ]
  },
  {
   "cell_type": "code",
   "execution_count": 94,
   "id": "ff9314dd-e280-4cc9-b625-f6c85655759b",
   "metadata": {},
   "outputs": [
    {
     "data": {
      "text/plain": [
       "[('batch_name', ['data science masters', 'web dev', 'JDS']),\n",
       " ('start_date', (28, 14, 21)),\n",
       " ('mentor_name',\n",
       "  {'anurag', 'hayder', 'hitesh', 'krish naik', 'navin', 'sudhanshu'}),\n",
       " ('timing', (8, 8, 8)),\n",
       " ('name', 'sudhanshu')]"
      ]
     },
     "execution_count": 94,
     "metadata": {},
     "output_type": "execute_result"
    }
   ],
   "source": [
    "list(d16.items())"
   ]
  },
  {
   "cell_type": "code",
   "execution_count": 95,
   "id": "311ff408-837a-413a-bc89-f433462ac547",
   "metadata": {},
   "outputs": [
    {
     "data": {
      "text/plain": [
       "{'batch_name': ['data science masters', 'web dev', 'JDS'],\n",
       " 'start_date': (28, 14, 21),\n",
       " 'mentor_name': {'anurag',\n",
       "  'hayder',\n",
       "  'hitesh',\n",
       "  'krish naik',\n",
       "  'navin',\n",
       "  'sudhanshu'},\n",
       " 'timing': (8, 8, 8),\n",
       " 'name': 'sudhanshu'}"
      ]
     },
     "execution_count": 95,
     "metadata": {},
     "output_type": "execute_result"
    }
   ],
   "source": [
    "d16"
   ]
  },
  {
   "cell_type": "code",
   "execution_count": 96,
   "id": "aebd87d3-4fbc-4212-8081-7729789f6d3f",
   "metadata": {},
   "outputs": [],
   "source": [
    "d17 = d16.copy()"
   ]
  },
  {
   "cell_type": "code",
   "execution_count": 97,
   "id": "640cf465-ecec-4b78-a6f3-3719f5e32e70",
   "metadata": {},
   "outputs": [
    {
     "data": {
      "text/plain": [
       "{'batch_name': ['data science masters', 'web dev', 'JDS'],\n",
       " 'start_date': (28, 14, 21),\n",
       " 'mentor_name': {'anurag',\n",
       "  'hayder',\n",
       "  'hitesh',\n",
       "  'krish naik',\n",
       "  'navin',\n",
       "  'sudhanshu'},\n",
       " 'timing': (8, 8, 8),\n",
       " 'name': 'sudhanshu'}"
      ]
     },
     "execution_count": 97,
     "metadata": {},
     "output_type": "execute_result"
    }
   ],
   "source": [
    "d17"
   ]
  },
  {
   "cell_type": "code",
   "execution_count": 98,
   "id": "fd7495ba-ec16-43f8-9244-42f3f59fb915",
   "metadata": {},
   "outputs": [],
   "source": [
    "del d16['name']"
   ]
  },
  {
   "cell_type": "code",
   "execution_count": 99,
   "id": "8e0e39d7-e114-4f91-9b12-19ae7c7b544e",
   "metadata": {},
   "outputs": [
    {
     "data": {
      "text/plain": [
       "{'batch_name': ['data science masters', 'web dev', 'JDS'],\n",
       " 'start_date': (28, 14, 21),\n",
       " 'mentor_name': {'anurag',\n",
       "  'hayder',\n",
       "  'hitesh',\n",
       "  'krish naik',\n",
       "  'navin',\n",
       "  'sudhanshu'},\n",
       " 'timing': (8, 8, 8)}"
      ]
     },
     "execution_count": 99,
     "metadata": {},
     "output_type": "execute_result"
    }
   ],
   "source": [
    "d16"
   ]
  },
  {
   "cell_type": "code",
   "execution_count": 100,
   "id": "71aae36c-430b-423e-9564-bb8994ce8e44",
   "metadata": {},
   "outputs": [
    {
     "data": {
      "text/plain": [
       "{'batch_name': ['data science masters', 'web dev', 'JDS'],\n",
       " 'start_date': (28, 14, 21),\n",
       " 'mentor_name': {'anurag',\n",
       "  'hayder',\n",
       "  'hitesh',\n",
       "  'krish naik',\n",
       "  'navin',\n",
       "  'sudhanshu'},\n",
       " 'timing': (8, 8, 8),\n",
       " 'name': 'sudhanshu'}"
      ]
     },
     "execution_count": 100,
     "metadata": {},
     "output_type": "execute_result"
    }
   ],
   "source": [
    "d17"
   ]
  },
  {
   "cell_type": "code",
   "execution_count": 101,
   "id": "61a811ce-b0b9-4e75-9630-90fc5d009e98",
   "metadata": {},
   "outputs": [],
   "source": [
    "d18 = d16"
   ]
  },
  {
   "cell_type": "code",
   "execution_count": 102,
   "id": "23bb5fef-f5ff-47c7-bdf8-041df52fef74",
   "metadata": {},
   "outputs": [
    {
     "data": {
      "text/plain": [
       "{'batch_name': ['data science masters', 'web dev', 'JDS'],\n",
       " 'start_date': (28, 14, 21),\n",
       " 'mentor_name': {'anurag',\n",
       "  'hayder',\n",
       "  'hitesh',\n",
       "  'krish naik',\n",
       "  'navin',\n",
       "  'sudhanshu'},\n",
       " 'timing': (8, 8, 8)}"
      ]
     },
     "execution_count": 102,
     "metadata": {},
     "output_type": "execute_result"
    }
   ],
   "source": [
    "d18"
   ]
  },
  {
   "cell_type": "code",
   "execution_count": 103,
   "id": "1651346b-9f85-4f74-874f-896ebf63f4ab",
   "metadata": {},
   "outputs": [
    {
     "data": {
      "text/plain": [
       "{'batch_name': ['data science masters', 'web dev', 'JDS'],\n",
       " 'start_date': (28, 14, 21),\n",
       " 'mentor_name': {'anurag',\n",
       "  'hayder',\n",
       "  'hitesh',\n",
       "  'krish naik',\n",
       "  'navin',\n",
       "  'sudhanshu'},\n",
       " 'timing': (8, 8, 8)}"
      ]
     },
     "execution_count": 103,
     "metadata": {},
     "output_type": "execute_result"
    }
   ],
   "source": [
    "d16"
   ]
  },
  {
   "cell_type": "code",
   "execution_count": 105,
   "id": "44d29484-2df2-424a-b0ae-884b467ec812",
   "metadata": {},
   "outputs": [
    {
     "data": {
      "text/plain": [
       "(8, 8, 8)"
      ]
     },
     "execution_count": 105,
     "metadata": {},
     "output_type": "execute_result"
    }
   ],
   "source": [
    "d16.pop('timing')"
   ]
  },
  {
   "cell_type": "code",
   "execution_count": 106,
   "id": "b3dbc4bc-04be-4e97-9b53-c4c702c41072",
   "metadata": {},
   "outputs": [
    {
     "data": {
      "text/plain": [
       "{'batch_name': ['data science masters', 'web dev', 'JDS'],\n",
       " 'start_date': (28, 14, 21),\n",
       " 'mentor_name': {'anurag',\n",
       "  'hayder',\n",
       "  'hitesh',\n",
       "  'krish naik',\n",
       "  'navin',\n",
       "  'sudhanshu'}}"
      ]
     },
     "execution_count": 106,
     "metadata": {},
     "output_type": "execute_result"
    }
   ],
   "source": [
    "d16"
   ]
  },
  {
   "cell_type": "code",
   "execution_count": 107,
   "id": "02bbbff1-84da-4094-af2b-d258165b65e5",
   "metadata": {},
   "outputs": [
    {
     "data": {
      "text/plain": [
       "{'anurag', 'hayder', 'hitesh', 'krish naik', 'navin', 'sudhanshu'}"
      ]
     },
     "execution_count": 107,
     "metadata": {},
     "output_type": "execute_result"
    }
   ],
   "source": [
    "d16.pop('mentor_name')"
   ]
  },
  {
   "cell_type": "code",
   "execution_count": 108,
   "id": "2818f612-cfd8-4d4a-9f67-e994f41ebe8c",
   "metadata": {},
   "outputs": [
    {
     "data": {
      "text/plain": [
       "{'batch_name': ['data science masters', 'web dev', 'JDS'],\n",
       " 'start_date': (28, 14, 21)}"
      ]
     },
     "execution_count": 108,
     "metadata": {},
     "output_type": "execute_result"
    }
   ],
   "source": [
    "d16"
   ]
  },
  {
   "cell_type": "code",
   "execution_count": 109,
   "id": "21e75dae-9b7d-40cc-8233-84b8801e4d37",
   "metadata": {},
   "outputs": [
    {
     "data": {
      "text/plain": [
       "{1: ('a', 'b', 'c'), 2: ('a', 'b', 'c'), 3: ('a', 'b', 'c')}"
      ]
     },
     "execution_count": 109,
     "metadata": {},
     "output_type": "execute_result"
    }
   ],
   "source": [
    "d.fromkeys((1,2,3) , ('a','b','c'))"
   ]
  },
  {
   "cell_type": "code",
   "execution_count": 110,
   "id": "3052a57e-333c-4b08-bb4a-8f25a0d5e9bb",
   "metadata": {},
   "outputs": [],
   "source": [
    "d19 = {\"key1\" : \"value\" , \"key2\" : \"value2\"}\n",
    "d20 = {\"key3\" : \"value3\" , \"key4\" :\"value4\"}"
   ]
  },
  {
   "cell_type": "code",
   "execution_count": 111,
   "id": "17d1ca5f-aa84-49a9-acdc-f211befee270",
   "metadata": {},
   "outputs": [
    {
     "data": {
      "text/plain": [
       "({'key1': 'value', 'key2': 'value2'}, {'key3': 'value3', 'key4': 'value4'})"
      ]
     },
     "execution_count": 111,
     "metadata": {},
     "output_type": "execute_result"
    }
   ],
   "source": [
    "(d19,d20)"
   ]
  },
  {
   "cell_type": "code",
   "execution_count": 112,
   "id": "f395b6df-f213-4dd3-abe5-bed7c5a7d89c",
   "metadata": {},
   "outputs": [],
   "source": [
    "d19.update(d20)"
   ]
  },
  {
   "cell_type": "code",
   "execution_count": 113,
   "id": "8dc5c005-07a8-4255-b2c6-ed158b725346",
   "metadata": {},
   "outputs": [
    {
     "data": {
      "text/plain": [
       "{'key1': 'value', 'key2': 'value2', 'key3': 'value3', 'key4': 'value4'}"
      ]
     },
     "execution_count": 113,
     "metadata": {},
     "output_type": "execute_result"
    }
   ],
   "source": [
    "d19"
   ]
  },
  {
   "cell_type": "code",
   "execution_count": 114,
   "id": "dc1f7534-b48e-4f7b-8df2-6b9301eeb558",
   "metadata": {},
   "outputs": [
    {
     "data": {
      "text/plain": [
       "{'key3': 'value3', 'key4': 'value4'}"
      ]
     },
     "execution_count": 114,
     "metadata": {},
     "output_type": "execute_result"
    }
   ],
   "source": [
    "d20"
   ]
  },
  {
   "cell_type": "code",
   "execution_count": 115,
   "id": "529e2756-7c46-4132-b12b-cb622c24e8c4",
   "metadata": {},
   "outputs": [],
   "source": [
    "d20.update(d19)"
   ]
  },
  {
   "cell_type": "code",
   "execution_count": 116,
   "id": "795095fe-5a68-479c-8f1b-26f094cde045",
   "metadata": {},
   "outputs": [
    {
     "data": {
      "text/plain": [
       "{'key3': 'value3', 'key4': 'value4', 'key1': 'value', 'key2': 'value2'}"
      ]
     },
     "execution_count": 116,
     "metadata": {},
     "output_type": "execute_result"
    }
   ],
   "source": [
    "d20"
   ]
  },
  {
   "cell_type": "code",
   "execution_count": 117,
   "id": "0570b638-c70a-4446-a1ad-2b8c955fb737",
   "metadata": {},
   "outputs": [],
   "source": [
    "d20.get(\"sudh\")"
   ]
  },
  {
   "cell_type": "code",
   "execution_count": 118,
   "id": "37e415ef-985f-43c2-9849-d316971af4a4",
   "metadata": {},
   "outputs": [
    {
     "data": {
      "text/plain": [
       "'value3'"
      ]
     },
     "execution_count": 118,
     "metadata": {},
     "output_type": "execute_result"
    }
   ],
   "source": [
    "d20.get(\"key3\")"
   ]
  },
  {
   "cell_type": "code",
   "execution_count": 119,
   "id": "e6d3fc25-21bd-48b6-a9fb-aa99dec362a1",
   "metadata": {},
   "outputs": [
    {
     "data": {
      "text/plain": [
       "'value3'"
      ]
     },
     "execution_count": 119,
     "metadata": {},
     "output_type": "execute_result"
    }
   ],
   "source": [
    "d20[\"key3\"]"
   ]
  },
  {
   "cell_type": "markdown",
   "id": "6fc8eebf-44e1-490d-bbc7-9ecdf4456ffe",
   "metadata": {},
   "source": [
    "Dictionary Comprehensions"
   ]
  },
  {
   "cell_type": "code",
   "execution_count": 121,
   "id": "425b77da-db1c-44f0-bb32-9fc3ba221fc1",
   "metadata": {},
   "outputs": [
    {
     "data": {
      "text/plain": [
       "{1: 1, 2: 4, 3: 9, 4: 16, 5: 25, 6: 36, 7: 49, 8: 64, 9: 81, 10: 100}"
      ]
     },
     "execution_count": 121,
     "metadata": {},
     "output_type": "execute_result"
    }
   ],
   "source": [
    "{i : i**2 for i in range(1,11)}"
   ]
  },
  {
   "cell_type": "code",
   "execution_count": 122,
   "id": "9e213a50-f927-4ee8-bc9c-df1bafea575b",
   "metadata": {},
   "outputs": [
    {
     "data": {
      "text/plain": [
       "[1, 2, 3, 4, 5, 6, 7, 8, 9, 10]"
      ]
     },
     "execution_count": 122,
     "metadata": {},
     "output_type": "execute_result"
    }
   ],
   "source": [
    "list(range(1,11))"
   ]
  },
  {
   "cell_type": "code",
   "execution_count": 123,
   "id": "c4dd01cf-81e3-431f-834b-dfe36d76a29f",
   "metadata": {},
   "outputs": [
    {
     "data": {
      "text/plain": [
       "{1: 11, 2: 12, 3: 13, 4: 14, 5: 15, 6: 16, 7: 17, 8: 18, 9: 19, 10: 20}"
      ]
     },
     "execution_count": 123,
     "metadata": {},
     "output_type": "execute_result"
    }
   ],
   "source": [
    "{i : i+10 for i in range(1,11)}"
   ]
  },
  {
   "cell_type": "code",
   "execution_count": 124,
   "id": "717c46d2-9891-4da4-9763-aa25257862d6",
   "metadata": {},
   "outputs": [],
   "source": [
    "import math\n",
    "d21 = {i :math.log10(i) for i in range(1,11)}"
   ]
  },
  {
   "cell_type": "code",
   "execution_count": 125,
   "id": "1993f129-98af-4cae-a1c9-dae4feecf55b",
   "metadata": {},
   "outputs": [
    {
     "data": {
      "text/plain": [
       "{'batch_name': ['data science masters', 'web dev', 'JDS'],\n",
       " 'start_date': (28, 14, 21)}"
      ]
     },
     "execution_count": 125,
     "metadata": {},
     "output_type": "execute_result"
    }
   ],
   "source": [
    "d16"
   ]
  },
  {
   "cell_type": "code",
   "execution_count": 126,
   "id": "5550e3db-1f7c-42de-a288-cc4a6a018d6d",
   "metadata": {},
   "outputs": [
    {
     "data": {
      "text/plain": [
       "True"
      ]
     },
     "execution_count": 126,
     "metadata": {},
     "output_type": "execute_result"
    }
   ],
   "source": [
    "'batch_name' in d16"
   ]
  },
  {
   "cell_type": "code",
   "execution_count": 127,
   "id": "2c72c164-9cdd-4d1d-a826-3bd800993964",
   "metadata": {},
   "outputs": [
    {
     "data": {
      "text/plain": [
       "{1: 0.0,\n",
       " 2: 0.3010299956639812,\n",
       " 3: 0.47712125471966244,\n",
       " 4: 0.6020599913279624,\n",
       " 5: 0.6989700043360189,\n",
       " 6: 0.7781512503836436,\n",
       " 7: 0.8450980400142568,\n",
       " 8: 0.9030899869919435,\n",
       " 9: 0.9542425094393249,\n",
       " 10: 1.0}"
      ]
     },
     "execution_count": 127,
     "metadata": {},
     "output_type": "execute_result"
    }
   ],
   "source": [
    "d21"
   ]
  },
  {
   "cell_type": "code",
   "execution_count": 128,
   "id": "67b6f869-65fc-4268-9bb9-1d182f206edd",
   "metadata": {},
   "outputs": [
    {
     "data": {
      "text/plain": [
       "dict_keys([1, 2, 3, 4, 5, 6, 7, 8, 9, 10])"
      ]
     },
     "execution_count": 128,
     "metadata": {},
     "output_type": "execute_result"
    }
   ],
   "source": [
    "d21.keys()"
   ]
  },
  {
   "cell_type": "code",
   "execution_count": 129,
   "id": "2d2c93b9-0af5-4399-ad4d-95dca62b9d13",
   "metadata": {},
   "outputs": [
    {
     "name": "stdout",
     "output_type": "stream",
     "text": [
      "0.3010299956639812\n",
      "0.6020599913279624\n",
      "0.7781512503836436\n",
      "0.9030899869919435\n",
      "1.0\n"
     ]
    }
   ],
   "source": [
    "for i in d21.keys():\n",
    "    if i % 2 == 0 :\n",
    "        print(d21[i])\n",
    "        "
   ]
  },
  {
   "cell_type": "markdown",
   "id": "e4180a91-0532-412c-a35a-e433c8bf7011",
   "metadata": {},
   "source": [
    "## Sets"
   ]
  },
  {
   "cell_type": "code",
   "execution_count": 130,
   "id": "20ad10bc-2b63-4cd9-a509-7c469bf514a5",
   "metadata": {},
   "outputs": [],
   "source": [
    "s = {}"
   ]
  },
  {
   "cell_type": "code",
   "execution_count": 131,
   "id": "3bfbe6f3-087d-43b1-b73e-604ef831cf0e",
   "metadata": {},
   "outputs": [
    {
     "data": {
      "text/plain": [
       "dict"
      ]
     },
     "execution_count": 131,
     "metadata": {},
     "output_type": "execute_result"
    }
   ],
   "source": [
    "type(s)"
   ]
  },
  {
   "cell_type": "code",
   "execution_count": 132,
   "id": "4563aca9-b67c-48ab-b3d4-ef7df75f3a99",
   "metadata": {},
   "outputs": [],
   "source": [
    "s1 = {1,2,3,4,5}"
   ]
  },
  {
   "cell_type": "code",
   "execution_count": 133,
   "id": "81cd23ec-554b-4216-b8cd-70107cb55b21",
   "metadata": {},
   "outputs": [
    {
     "data": {
      "text/plain": [
       "set"
      ]
     },
     "execution_count": 133,
     "metadata": {},
     "output_type": "execute_result"
    }
   ],
   "source": [
    "type(s1)"
   ]
  },
  {
   "cell_type": "code",
   "execution_count": 134,
   "id": "344602b3-7f9a-44a1-9362-44fc490c8dbe",
   "metadata": {},
   "outputs": [],
   "source": [
    "s2 = {1,1,12,3,3,3,4,5,5,5,55,523,34,3,45,6,67}"
   ]
  },
  {
   "cell_type": "code",
   "execution_count": 135,
   "id": "3aa291fc-e045-4f8f-bb61-541d4b3e2d06",
   "metadata": {},
   "outputs": [
    {
     "data": {
      "text/plain": [
       "{1, 3, 4, 5, 6, 12, 34, 45, 55, 67, 523}"
      ]
     },
     "execution_count": 135,
     "metadata": {},
     "output_type": "execute_result"
    }
   ],
   "source": [
    "s2"
   ]
  },
  {
   "cell_type": "code",
   "execution_count": 136,
   "id": "1993a8f6-e5ff-41ff-9e2b-54844b41de37",
   "metadata": {},
   "outputs": [],
   "source": [
    "l = list(s2)"
   ]
  },
  {
   "cell_type": "code",
   "execution_count": 137,
   "id": "6560b248-377b-400f-828b-ef7570b0192c",
   "metadata": {},
   "outputs": [
    {
     "data": {
      "text/plain": [
       "(1, 34, 3, 4, 5, 6, 67, 523, 12, 45, 55)"
      ]
     },
     "execution_count": 137,
     "metadata": {},
     "output_type": "execute_result"
    }
   ],
   "source": [
    "tuple(s2)"
   ]
  },
  {
   "cell_type": "code",
   "execution_count": 138,
   "id": "fc45093f-1e61-4f11-9f62-94fad1963519",
   "metadata": {},
   "outputs": [
    {
     "data": {
      "text/plain": [
       "[1, 34, 3, 4, 5, 6, 67, 523, 12, 45, 55]"
      ]
     },
     "execution_count": 138,
     "metadata": {},
     "output_type": "execute_result"
    }
   ],
   "source": [
    "l"
   ]
  },
  {
   "cell_type": "code",
   "execution_count": 139,
   "id": "0473fd3b-352c-4f6b-8eb6-1fe9c7f2201c",
   "metadata": {},
   "outputs": [
    {
     "data": {
      "text/plain": [
       "{1, 3, 4, 5, 6, 12, 34, 45, 55, 67, 523}"
      ]
     },
     "execution_count": 139,
     "metadata": {},
     "output_type": "execute_result"
    }
   ],
   "source": [
    "set(l)"
   ]
  },
  {
   "cell_type": "code",
   "execution_count": 140,
   "id": "5f5e1059-1265-498a-8f5f-1ac4fe9aef6d",
   "metadata": {},
   "outputs": [
    {
     "ename": "TypeError",
     "evalue": "unhashable type: 'list'",
     "output_type": "error",
     "traceback": [
      "\u001b[0;31m---------------------------------------------------------------------------\u001b[0m",
      "\u001b[0;31mTypeError\u001b[0m                                 Traceback (most recent call last)",
      "Cell \u001b[0;32mIn[140], line 1\u001b[0m\n\u001b[0;32m----> 1\u001b[0m s4 \u001b[38;5;241m=\u001b[39m {\u001b[38;5;241m1\u001b[39m,\u001b[38;5;241m2\u001b[39m,\u001b[38;5;241m3\u001b[39m,\u001b[38;5;241m4\u001b[39m,[\u001b[38;5;241m1\u001b[39m,\u001b[38;5;241m2\u001b[39m,\u001b[38;5;241m3\u001b[39m,\u001b[38;5;241m4\u001b[39m]}\n",
      "\u001b[0;31mTypeError\u001b[0m: unhashable type: 'list'"
     ]
    }
   ],
   "source": [
    "s4 = {1,2,3,4,[1,2,3,4]}"
   ]
  },
  {
   "cell_type": "code",
   "execution_count": 141,
   "id": "4ca6eb29-22fb-467a-9225-39dd844da837",
   "metadata": {},
   "outputs": [],
   "source": [
    "s5 = {1,2,3,4, (1,2,3,4)}"
   ]
  },
  {
   "cell_type": "code",
   "execution_count": 142,
   "id": "df8b8d95-f207-49c5-a12b-46cb5d7e59d3",
   "metadata": {},
   "outputs": [
    {
     "data": {
      "text/plain": [
       "{(1, 2, 3, 4), 1, 2, 3, 4}"
      ]
     },
     "execution_count": 142,
     "metadata": {},
     "output_type": "execute_result"
    }
   ],
   "source": [
    "s5"
   ]
  },
  {
   "cell_type": "code",
   "execution_count": 143,
   "id": "65348154-caab-4a44-9086-dca50d1c9a32",
   "metadata": {},
   "outputs": [],
   "source": [
    "s6 = {\"sudh\" , \"Sudh\" , 2,3,4,5}"
   ]
  },
  {
   "cell_type": "code",
   "execution_count": 144,
   "id": "e553d38c-2bd3-4264-a696-d07093b8274b",
   "metadata": {},
   "outputs": [
    {
     "data": {
      "text/plain": [
       "{2, 3, 4, 5, 'Sudh', 'sudh'}"
      ]
     },
     "execution_count": 144,
     "metadata": {},
     "output_type": "execute_result"
    }
   ],
   "source": [
    "s6"
   ]
  },
  {
   "cell_type": "code",
   "execution_count": 145,
   "id": "9fd6e92a-d861-4f7d-9ef2-160a600d68ce",
   "metadata": {},
   "outputs": [],
   "source": [
    "s7  = {\"sudh\" , \"sudh\" , 2,3,4,5}"
   ]
  },
  {
   "cell_type": "code",
   "execution_count": 146,
   "id": "6a801ee6-1597-496b-a3cf-ccae814c5f09",
   "metadata": {},
   "outputs": [
    {
     "data": {
      "text/plain": [
       "{2, 3, 4, 5, 'sudh'}"
      ]
     },
     "execution_count": 146,
     "metadata": {},
     "output_type": "execute_result"
    }
   ],
   "source": [
    "s7"
   ]
  },
  {
   "cell_type": "code",
   "execution_count": 147,
   "id": "efdff2b3-a9b5-43d9-8a35-88987246ed51",
   "metadata": {},
   "outputs": [
    {
     "data": {
      "text/plain": [
       "{2, 3, 4, 5, 'sudh'}"
      ]
     },
     "execution_count": 147,
     "metadata": {},
     "output_type": "execute_result"
    }
   ],
   "source": [
    "s7"
   ]
  },
  {
   "cell_type": "code",
   "execution_count": 148,
   "id": "40769ec2-bb83-4a79-bc41-6e030f708b22",
   "metadata": {},
   "outputs": [
    {
     "ename": "TypeError",
     "evalue": "'set' object is not subscriptable",
     "output_type": "error",
     "traceback": [
      "\u001b[0;31m---------------------------------------------------------------------------\u001b[0m",
      "\u001b[0;31mTypeError\u001b[0m                                 Traceback (most recent call last)",
      "Cell \u001b[0;32mIn[148], line 1\u001b[0m\n\u001b[0;32m----> 1\u001b[0m \u001b[43ms7\u001b[49m\u001b[43m[\u001b[49m\u001b[38;5;241;43m0\u001b[39;49m\u001b[43m]\u001b[49m\n",
      "\u001b[0;31mTypeError\u001b[0m: 'set' object is not subscriptable"
     ]
    }
   ],
   "source": [
    "s7[0]"
   ]
  },
  {
   "cell_type": "code",
   "execution_count": 149,
   "id": "41c625be-c84b-4a8e-8a0f-3b666ee50059",
   "metadata": {},
   "outputs": [
    {
     "ename": "TypeError",
     "evalue": "'set' object is not subscriptable",
     "output_type": "error",
     "traceback": [
      "\u001b[0;31m---------------------------------------------------------------------------\u001b[0m",
      "\u001b[0;31mTypeError\u001b[0m                                 Traceback (most recent call last)",
      "Cell \u001b[0;32mIn[149], line 1\u001b[0m\n\u001b[0;32m----> 1\u001b[0m \u001b[43ms7\u001b[49m\u001b[43m[\u001b[49m\u001b[43m:\u001b[49m\u001b[43m:\u001b[49m\u001b[38;5;241;43m-\u001b[39;49m\u001b[38;5;241;43m1\u001b[39;49m\u001b[43m]\u001b[49m\n",
      "\u001b[0;31mTypeError\u001b[0m: 'set' object is not subscriptable"
     ]
    }
   ],
   "source": [
    "s7[::-1]"
   ]
  },
  {
   "cell_type": "code",
   "execution_count": 150,
   "id": "8876f17d-b085-4546-9057-5153b222601c",
   "metadata": {},
   "outputs": [
    {
     "data": {
      "text/plain": [
       "{2, 3, 4, 5, 'sudh'}"
      ]
     },
     "execution_count": 150,
     "metadata": {},
     "output_type": "execute_result"
    }
   ],
   "source": [
    "s7"
   ]
  },
  {
   "cell_type": "code",
   "execution_count": 151,
   "id": "2445ee40-6ce0-4c11-8292-4504e8b19b82",
   "metadata": {},
   "outputs": [
    {
     "name": "stdout",
     "output_type": "stream",
     "text": [
      "2\n",
      "3\n",
      "4\n",
      "5\n",
      "sudh\n"
     ]
    }
   ],
   "source": [
    "for i in s7 :\n",
    "    print(i)"
   ]
  },
  {
   "cell_type": "code",
   "execution_count": 152,
   "id": "05b9a788-1449-45ab-bf6a-bde2d7cd9cd4",
   "metadata": {},
   "outputs": [
    {
     "data": {
      "text/plain": [
       "{2, 3, 4, 5, 'sudh'}"
      ]
     },
     "execution_count": 152,
     "metadata": {},
     "output_type": "execute_result"
    }
   ],
   "source": [
    "s7"
   ]
  },
  {
   "cell_type": "code",
   "execution_count": 153,
   "id": "8f06a22d-cf07-4855-8dcf-a07f2b9242f6",
   "metadata": {},
   "outputs": [],
   "source": [
    "s7.add(34)"
   ]
  },
  {
   "cell_type": "code",
   "execution_count": 154,
   "id": "d34096ce-3223-4373-a885-0437a52ee213",
   "metadata": {},
   "outputs": [
    {
     "data": {
      "text/plain": [
       "{2, 3, 34, 4, 5, 'sudh'}"
      ]
     },
     "execution_count": 154,
     "metadata": {},
     "output_type": "execute_result"
    }
   ],
   "source": [
    "s7"
   ]
  },
  {
   "cell_type": "code",
   "execution_count": 155,
   "id": "f35c3ca3-4ad0-4edf-8ec8-c35cbff56716",
   "metadata": {},
   "outputs": [],
   "source": [
    "s7.add(2)"
   ]
  },
  {
   "cell_type": "code",
   "execution_count": 156,
   "id": "12a2b619-9cc2-4af0-857b-f17974f0b100",
   "metadata": {},
   "outputs": [
    {
     "data": {
      "text/plain": [
       "{2, 3, 34, 4, 5, 'sudh'}"
      ]
     },
     "execution_count": 156,
     "metadata": {},
     "output_type": "execute_result"
    }
   ],
   "source": [
    "s7"
   ]
  },
  {
   "cell_type": "code",
   "execution_count": 157,
   "id": "586298ea-1045-42d5-a72d-3e745f0d3732",
   "metadata": {},
   "outputs": [
    {
     "data": {
      "text/plain": [
       "6"
      ]
     },
     "execution_count": 157,
     "metadata": {},
     "output_type": "execute_result"
    }
   ],
   "source": [
    "len(s7)"
   ]
  },
  {
   "cell_type": "code",
   "execution_count": 158,
   "id": "831b76d0-752a-4065-82d6-036322d03f5c",
   "metadata": {},
   "outputs": [
    {
     "data": {
      "text/plain": [
       "2"
      ]
     },
     "execution_count": 158,
     "metadata": {},
     "output_type": "execute_result"
    }
   ],
   "source": [
    "s7.pop()"
   ]
  },
  {
   "cell_type": "code",
   "execution_count": 159,
   "id": "3731b3ef-b2d7-436b-b6d4-6fa0d5792f91",
   "metadata": {},
   "outputs": [
    {
     "data": {
      "text/plain": [
       "{3, 34, 4, 5, 'sudh'}"
      ]
     },
     "execution_count": 159,
     "metadata": {},
     "output_type": "execute_result"
    }
   ],
   "source": [
    "s7"
   ]
  },
  {
   "cell_type": "code",
   "execution_count": 160,
   "id": "e575b09a-c1ac-451c-ab7c-038eb1f712b1",
   "metadata": {},
   "outputs": [
    {
     "data": {
      "text/plain": [
       "3"
      ]
     },
     "execution_count": 160,
     "metadata": {},
     "output_type": "execute_result"
    }
   ],
   "source": [
    "s7.pop()"
   ]
  },
  {
   "cell_type": "code",
   "execution_count": 161,
   "id": "c676d20b-d687-4e8f-a1e1-728a5b399dba",
   "metadata": {},
   "outputs": [
    {
     "data": {
      "text/plain": [
       "4"
      ]
     },
     "execution_count": 161,
     "metadata": {},
     "output_type": "execute_result"
    }
   ],
   "source": [
    "s7.pop()"
   ]
  },
  {
   "cell_type": "code",
   "execution_count": 162,
   "id": "6f16745d-9fb5-4332-9e5c-45daf1df37b6",
   "metadata": {},
   "outputs": [
    {
     "data": {
      "text/plain": [
       "5"
      ]
     },
     "execution_count": 162,
     "metadata": {},
     "output_type": "execute_result"
    }
   ],
   "source": [
    "s7.pop()"
   ]
  },
  {
   "cell_type": "code",
   "execution_count": 163,
   "id": "bc35da9e-5c02-4b65-a3ea-af1629fbb02a",
   "metadata": {},
   "outputs": [
    {
     "data": {
      "text/plain": [
       "{34, 'sudh'}"
      ]
     },
     "execution_count": 163,
     "metadata": {},
     "output_type": "execute_result"
    }
   ],
   "source": [
    "s7"
   ]
  },
  {
   "cell_type": "code",
   "execution_count": 164,
   "id": "25338e34-0919-4508-a792-0e6e93ac19e3",
   "metadata": {},
   "outputs": [
    {
     "data": {
      "text/plain": [
       "{34, 'sudh'}"
      ]
     },
     "execution_count": 164,
     "metadata": {},
     "output_type": "execute_result"
    }
   ],
   "source": [
    "s7"
   ]
  },
  {
   "cell_type": "code",
   "execution_count": 165,
   "id": "d9daac75-9a0d-4763-ac1a-2d51f06150ca",
   "metadata": {},
   "outputs": [],
   "source": [
    "s7.clear()"
   ]
  },
  {
   "cell_type": "code",
   "execution_count": 166,
   "id": "bf817341-eb4e-482d-9438-cbab2b17a078",
   "metadata": {},
   "outputs": [
    {
     "data": {
      "text/plain": [
       "set()"
      ]
     },
     "execution_count": 166,
     "metadata": {},
     "output_type": "execute_result"
    }
   ],
   "source": [
    "s7"
   ]
  },
  {
   "cell_type": "code",
   "execution_count": 167,
   "id": "30858fca-46a5-409a-8bd8-4a48e865ab3d",
   "metadata": {},
   "outputs": [],
   "source": [
    "s8 = {1,2,3,4}\n",
    "s9 = {1,2,3,5}"
   ]
  },
  {
   "cell_type": "code",
   "execution_count": 168,
   "id": "4c5b0c3e-efcb-4000-a39e-9d11eded35c2",
   "metadata": {},
   "outputs": [
    {
     "data": {
      "text/plain": [
       "{4}"
      ]
     },
     "execution_count": 168,
     "metadata": {},
     "output_type": "execute_result"
    }
   ],
   "source": [
    "s8.difference(s9)"
   ]
  },
  {
   "cell_type": "code",
   "execution_count": 169,
   "id": "9f1a6fd7-80b9-4ea7-8754-707b2ee93fd7",
   "metadata": {},
   "outputs": [
    {
     "data": {
      "text/plain": [
       "{5}"
      ]
     },
     "execution_count": 169,
     "metadata": {},
     "output_type": "execute_result"
    }
   ],
   "source": [
    "s9.difference(s8)"
   ]
  }
 ],
 "metadata": {
  "kernelspec": {
   "display_name": "Python 3 (ipykernel)",
   "language": "python",
   "name": "python3"
  },
  "language_info": {
   "codemirror_mode": {
    "name": "ipython",
    "version": 3
   },
   "file_extension": ".py",
   "mimetype": "text/x-python",
   "name": "python",
   "nbconvert_exporter": "python",
   "pygments_lexer": "ipython3",
   "version": "3.10.8"
  }
 },
 "nbformat": 4,
 "nbformat_minor": 5
}
