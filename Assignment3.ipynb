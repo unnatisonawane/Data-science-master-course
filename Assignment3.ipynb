{
 "cells": [
  {
   "cell_type": "markdown",
   "id": "2227114f-2820-40fb-a494-fdc7342efe9b",
   "metadata": {},
   "source": [
    "## Q1. Create a python program to sort the given list of tuples based on integer value using a lambda function."
   ]
  },
  {
   "cell_type": "code",
   "execution_count": 1,
   "id": "7a3d7d8a-192d-4b05-981e-1ee6f993ee92",
   "metadata": {},
   "outputs": [],
   "source": [
    "list1=[('Sachin Tendulkar', 34357), ('Ricky Ponting', 27483), ('Jack Kallis', 25534), ('Virat Kohli', 24936)]"
   ]
  },
  {
   "cell_type": "code",
   "execution_count": 17,
   "id": "66ef8667-5c7d-49e6-9de6-8c1549bd74b8",
   "metadata": {},
   "outputs": [],
   "source": [
    "list1.sort(key=lambda x: x[1])"
   ]
  },
  {
   "cell_type": "code",
   "execution_count": 18,
   "id": "a8d3d634-09f4-4a2e-8a6d-80263d6b6f7b",
   "metadata": {},
   "outputs": [
    {
     "data": {
      "text/plain": [
       "[('Virat Kohli', 24936),\n",
       " ('Jack Kallis', 25534),\n",
       " ('Ricky Ponting', 27483),\n",
       " ('Sachin Tendulkar', 34357)]"
      ]
     },
     "execution_count": 18,
     "metadata": {},
     "output_type": "execute_result"
    }
   ],
   "source": [
    "list1"
   ]
  },
  {
   "cell_type": "markdown",
   "id": "46fd0dae-02e9-4e83-9dbc-fa0976ca5055",
   "metadata": {},
   "source": [
    "## Q2. Write a Python Program to find the squares of all the numbers in the given list of integers using lambda and map functions."
   ]
  },
  {
   "cell_type": "code",
   "execution_count": 19,
   "id": "7f883042-ace4-4a04-9c48-b2916c125a8d",
   "metadata": {},
   "outputs": [],
   "source": [
    "list2=[1, 2, 3, 4, 5, 6, 7, 8, 9, 10]"
   ]
  },
  {
   "cell_type": "code",
   "execution_count": 23,
   "id": "50a96cce-82d5-4f6b-8780-42ce75eee734",
   "metadata": {},
   "outputs": [
    {
     "data": {
      "text/plain": [
       "[1, 4, 9, 16, 25, 36, 49, 64, 81, 100]"
      ]
     },
     "execution_count": 23,
     "metadata": {},
     "output_type": "execute_result"
    }
   ],
   "source": [
    "list(map(lambda x: x**2,list2))"
   ]
  },
  {
   "cell_type": "markdown",
   "id": "963eca07-15b4-4e82-931d-8ad9642c6c34",
   "metadata": {},
   "source": [
    "## Q3. Write a python program to convert the given list of integers into a tuple of strings. Use map and lambda functions"
   ]
  },
  {
   "cell_type": "code",
   "execution_count": 24,
   "id": "18973040-ae52-4711-b9ed-dd22a84389b4",
   "metadata": {},
   "outputs": [],
   "source": [
    "Given= [1, 2, 3, 4, 5, 6, 7, 8, 9, 10]\n"
   ]
  },
  {
   "cell_type": "code",
   "execution_count": 27,
   "id": "a845ff94-826f-42b4-beb1-85cd5d365149",
   "metadata": {},
   "outputs": [
    {
     "data": {
      "text/plain": [
       "('1', '2', '3', '4', '5', '6', '7', '8', '9', '10')"
      ]
     },
     "execution_count": 27,
     "metadata": {},
     "output_type": "execute_result"
    }
   ],
   "source": [
    "tuple(list(map(lambda x: str(x),Given)))"
   ]
  },
  {
   "cell_type": "markdown",
   "id": "682a9e5c-9442-4520-9620-3a1191d246b4",
   "metadata": {},
   "source": [
    "## Q4. Write a python program using reduce function to compute the product of a list containing numbers from 1 to 25."
   ]
  },
  {
   "cell_type": "code",
   "execution_count": 46,
   "id": "2f01fdfb-e6b1-4074-9e12-e22f7ce76a47",
   "metadata": {},
   "outputs": [
    {
     "name": "stdout",
     "output_type": "stream",
     "text": [
      "15511210043330985984000000\n"
     ]
    }
   ],
   "source": [
    "numbers = list(range(1, 26))\n",
    "product = reduce(lambda x, y: x * y, numbers)\n",
    "print(product)"
   ]
  },
  {
   "cell_type": "markdown",
   "id": "a0a409d1-2589-4ab1-9b09-16bbfac0d7de",
   "metadata": {},
   "source": [
    "## Q5. Write a python program to filter the numbers in a given list that are divisible by 2 and 3 using the filter function.\n"
   ]
  },
  {
   "cell_type": "code",
   "execution_count": 48,
   "id": "404c1b39-0fde-4976-9e24-d8ee1d18cc90",
   "metadata": {},
   "outputs": [],
   "source": [
    "l3=[2, 3, 6, 9, 27, 60, 90, 120, 55, 46]"
   ]
  },
  {
   "cell_type": "code",
   "execution_count": 52,
   "id": "206f6041-35b2-499f-9c01-e5f302d9905a",
   "metadata": {},
   "outputs": [
    {
     "data": {
      "text/plain": [
       "[6, 60, 90, 120]"
      ]
     },
     "execution_count": 52,
     "metadata": {},
     "output_type": "execute_result"
    }
   ],
   "source": [
    "list(filter(lambda x: x%2==0 and x%3==0, l3))"
   ]
  },
  {
   "cell_type": "markdown",
   "id": "dbbabcfc-c2e2-4d5e-bdfd-6e299b9cceeb",
   "metadata": {},
   "source": [
    "## Q6. Write a python program to find palindromes in the given list of strings using lambda and filter function."
   ]
  },
  {
   "cell_type": "code",
   "execution_count": 53,
   "id": "da5570e6-56e7-49d1-803c-138f02e538c8",
   "metadata": {},
   "outputs": [],
   "source": [
    "l4=['python', 'php', 'aba', 'radar', 'level']"
   ]
  },
  {
   "cell_type": "code",
   "execution_count": 54,
   "id": "2be8b266-785e-492c-bb6c-068ffa60688e",
   "metadata": {},
   "outputs": [
    {
     "data": {
      "text/plain": [
       "['php', 'aba', 'radar', 'level']"
      ]
     },
     "execution_count": 54,
     "metadata": {},
     "output_type": "execute_result"
    }
   ],
   "source": [
    "list(filter(lambda x: (x == \"\".join(reversed(x))), l4)) "
   ]
  },
  {
   "cell_type": "code",
   "execution_count": null,
   "id": "baececfb-ba8e-4a1a-984d-4bf695654e78",
   "metadata": {},
   "outputs": [],
   "source": []
  }
 ],
 "metadata": {
  "kernelspec": {
   "display_name": "Python 3 (ipykernel)",
   "language": "python",
   "name": "python3"
  },
  "language_info": {
   "codemirror_mode": {
    "name": "ipython",
    "version": 3
   },
   "file_extension": ".py",
   "mimetype": "text/x-python",
   "name": "python",
   "nbconvert_exporter": "python",
   "pygments_lexer": "ipython3",
   "version": "3.10.8"
  }
 },
 "nbformat": 4,
 "nbformat_minor": 5
}
