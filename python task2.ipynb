{
 "cells": [
  {
   "cell_type": "markdown",
   "id": "a46e6b8f-9b02-4634-9f05-d60c2dbdafc1",
   "metadata": {},
   "source": [
    "Q1. You are writing code for a company. The requirement of the company is that you create a python\n",
    "function that will check whether the password entered by the user is correct or not. The function should\n",
    "take the password as input and return the string “Valid Password” if the entered password follows the\n",
    "below-given password guidelines else it should return “Invalid Password”.\n",
    "Note: 1. The Password should contain at least two uppercase letters and at least two lowercase letters.\n",
    "2. The Password should contain at least a number and three special characters.\n",
    "3. The length of the password should be 10 characters long."
   ]
  },
  {
   "cell_type": "code",
   "execution_count": 11,
   "id": "93c46a19-74cd-4afb-9cb1-45e800cdce3a",
   "metadata": {},
   "outputs": [],
   "source": [
    "def check_password(password):\n",
    "    # Check length\n",
    "    if len(password) != 10:\n",
    "        return \"Invalid Password\"\n",
    "\n",
    "    # Check uppercase letters\n",
    "    if sum(1 for c in password if c.isupper()) < 2:\n",
    "        return \"Invalid Password\"\n",
    "\n",
    "    # Check lowercase letters\n",
    "    if sum(1 for c in password if c.islower()) < 2:\n",
    "        return \"Invalid Password\"\n",
    "\n",
    "    # Check numbers\n",
    "    if sum(1 for c in password if c.isdigit()) < 1:\n",
    "        return \"Invalid Password\"\n",
    "\n",
    "    # Check special characters\n",
    "    special_chars = \"!@#$%^&*()_+\"\n",
    "    if sum(1 for c in password if c in special_chars) < 3:\n",
    "        return \"Invalid Password\"\n",
    "\n",
    "    # If all checks pass, return \"Valid Password\"\n",
    "    return \"Valid Password\""
   ]
  },
  {
   "cell_type": "code",
   "execution_count": 12,
   "id": "62296b3f-7549-4c1b-8fb3-e3ae2bc9d2fd",
   "metadata": {},
   "outputs": [
    {
     "data": {
      "text/plain": [
       "'Valid Password'"
      ]
     },
     "execution_count": 12,
     "metadata": {},
     "output_type": "execute_result"
    }
   ],
   "source": [
    "check_password('abc12&AG@#')"
   ]
  },
  {
   "cell_type": "code",
   "execution_count": 15,
   "id": "9e6e15a1-bd4b-4f02-a0b0-bfaed6237744",
   "metadata": {},
   "outputs": [
    {
     "data": {
      "text/plain": [
       "'Invalid Password'"
      ]
     },
     "execution_count": 15,
     "metadata": {},
     "output_type": "execute_result"
    }
   ],
   "source": [
    "check_password(\"ABcq23$%^&1\")"
   ]
  },
  {
   "cell_type": "markdown",
   "id": "1c677408-9d9a-4526-8d33-b74947c0b0ed",
   "metadata": {},
   "source": [
    "Q2. Solve the below-given questions using at least one of the following:\n",
    "1. Lambda function\n",
    "2. Filter function\n",
    "3. Map function\n",
    "4. List Comprehension"
   ]
  },
  {
   "cell_type": "markdown",
   "id": "127a3ca0-6fbe-449e-966d-8c5c49cc35c2",
   "metadata": {},
   "source": [
    "    Check if the string starts with a particular letter\n",
    "    Check if the string is numeric\n",
    "    Sort a list of tuples having fruit names and their quantity. \n",
    "    [(\"mango\",99),(\"orange\",80), (\"grapes\", 1000)]\n",
    "    Find the squares of numbers from 1 to 10\n",
    "    Find the cube root of numbers from 1 to 10\n",
    "    Check if a given number is even\n",
    "    Filter odd numbers from the given list.\n",
    "    [1,2,3,4,5,6,7,8,9,10]\n",
    "    Sort a list of integers into positive and negative integers lists.\n",
    "    [1,2,3,4,5,6,-1,-2,-3,-4,-5,0]"
   ]
  },
  {
   "cell_type": "code",
   "execution_count": 17,
   "id": "9478169b-7d36-4e07-a141-291a981265b1",
   "metadata": {},
   "outputs": [
    {
     "name": "stdout",
     "output_type": "stream",
     "text": [
      "True\n"
     ]
    }
   ],
   "source": [
    "starts_with = lambda x: True if x.startswith('P') else False\n",
    "print(starts_with('Pwskill'))"
   ]
  },
  {
   "cell_type": "code",
   "execution_count": 20,
   "id": "8aa8ceaf-976a-4d9a-9c85-9338d04100c9",
   "metadata": {},
   "outputs": [
    {
     "name": "stdout",
     "output_type": "stream",
     "text": [
      "False\n"
     ]
    }
   ],
   "source": [
    "str_is = lambda x: True if x.isnumeric() else False\n",
    "print(str_is('pwskill1'))"
   ]
  },
  {
   "cell_type": "code",
   "execution_count": 28,
   "id": "351f52c7-fedb-46a6-9943-4edf41a9fd3a",
   "metadata": {},
   "outputs": [
    {
     "name": "stdout",
     "output_type": "stream",
     "text": [
      "[('orange', 80), ('mango', 99), ('grapes', 1000)]\n"
     ]
    }
   ],
   "source": [
    "fruits = [(\"mango\", 99), (\"orange\", 80), (\"grapes\", 1000)]\n",
    "sorted_fruits = sorted(fruits, key=lambda x: x[1])\n",
    "print(sorted_fruits)"
   ]
  },
  {
   "cell_type": "code",
   "execution_count": 41,
   "id": "4b117891-b8ca-479c-b9bd-ecb6ca76765a",
   "metadata": {},
   "outputs": [
    {
     "name": "stdout",
     "output_type": "stream",
     "text": [
      "[1, 4, 9, 16, 25, 36, 49, 64, 81, 100]\n"
     ]
    }
   ],
   "source": [
    "squares = list(map(lambda x: x**2, range(1, 11)))\n",
    "print(squares)"
   ]
  },
  {
   "cell_type": "code",
   "execution_count": 42,
   "id": "cedb982b-174c-4664-ac52-0562b7082811",
   "metadata": {},
   "outputs": [
    {
     "name": "stdout",
     "output_type": "stream",
     "text": [
      "[1, 8, 27, 64, 125, 216, 343, 512, 729, 1000]\n"
     ]
    }
   ],
   "source": [
    "cubes = list(map(lambda x: x**3, range(1, 11)))\n",
    "print(cubes)"
   ]
  },
  {
   "cell_type": "code",
   "execution_count": 45,
   "id": "c7133df0-a6c5-488f-8555-f26598444f13",
   "metadata": {},
   "outputs": [
    {
     "name": "stdout",
     "output_type": "stream",
     "text": [
      "True\n"
     ]
    }
   ],
   "source": [
    "is_even=lambda x: x%2==0\n",
    "print(is_even(4))"
   ]
  },
  {
   "cell_type": "code",
   "execution_count": 48,
   "id": "1fbad8fd-483b-4a08-a7dc-0ee0a0a5320a",
   "metadata": {},
   "outputs": [
    {
     "data": {
      "text/plain": [
       "[1, 3, 5, 7, 9]"
      ]
     },
     "execution_count": 48,
     "metadata": {},
     "output_type": "execute_result"
    }
   ],
   "source": [
    "list1=[1,2,3,4,5,6,7,8,9,10]\n",
    "odd= list(filter(lambda x: x%2!=0, list1))\n",
    "odd"
   ]
  },
  {
   "cell_type": "code",
   "execution_count": 53,
   "id": "b7f32dec-4014-4547-b7f9-52c0d4469417",
   "metadata": {},
   "outputs": [
    {
     "name": "stdout",
     "output_type": "stream",
     "text": [
      "[1, 2, 3, 4, 5, 6]\n",
      "[-1, -2, -3, -4, -5]\n"
     ]
    }
   ],
   "source": [
    "list2=[1,2,3,4,5,6,-1,-2,-3,-4,-5,0]\n",
    "pov_list=list(filter(lambda x : x>0, list2))\n",
    "neg_list=list(filter(lambda x : x<0, list2))\n",
    "print(pov_list)\n",
    "print(neg_list)"
   ]
  },
  {
   "cell_type": "markdown",
   "id": "365d7de7-338c-4835-be0b-3c360334545d",
   "metadata": {},
   "source": [
    "Using list comprehension\n"
   ]
  },
  {
   "cell_type": "code",
   "execution_count": 55,
   "id": "29a6d06e-e9a4-4cca-8683-1e6ec0fdbdf2",
   "metadata": {},
   "outputs": [
    {
     "data": {
      "text/plain": [
       "True"
      ]
     },
     "execution_count": 55,
     "metadata": {},
     "output_type": "execute_result"
    }
   ],
   "source": [
    "char='apple'\n",
    "start='a'\n",
    "result = True if char.startswith(start) else False\n",
    "result"
   ]
  },
  {
   "cell_type": "code",
   "execution_count": 58,
   "id": "20b4c21e-5513-4d42-a3bc-2b905655b28c",
   "metadata": {},
   "outputs": [
    {
     "data": {
      "text/plain": [
       "False"
      ]
     },
     "execution_count": 58,
     "metadata": {},
     "output_type": "execute_result"
    }
   ],
   "source": [
    "char='apple1'\n",
    "result = True if char.isdigit() else False\n",
    "result"
   ]
  },
  {
   "cell_type": "code",
   "execution_count": 59,
   "id": "36371a22-8623-4667-8c0b-939444e018af",
   "metadata": {},
   "outputs": [
    {
     "data": {
      "text/plain": [
       "[('orange', 80), ('mango', 99), ('grapes', 1000)]"
      ]
     },
     "execution_count": 59,
     "metadata": {},
     "output_type": "execute_result"
    }
   ],
   "source": [
    "lst = [(\"mango\",99),(\"orange\",80),(\"grapes\",1000)]\n",
    "result = sorted(lst, key=lambda x: x[1])\n",
    "result"
   ]
  },
  {
   "cell_type": "code",
   "execution_count": 61,
   "id": "24751387-9c6d-41e4-847e-2fabad4dec6e",
   "metadata": {},
   "outputs": [
    {
     "data": {
      "text/plain": [
       "[1, 4, 9, 16, 25, 36, 49, 64, 81, 100]"
      ]
     },
     "execution_count": 61,
     "metadata": {},
     "output_type": "execute_result"
    }
   ],
   "source": [
    "lst = [1,2,3,4,5,6,7,8,9,10]\n",
    "result = [num**2 for num in lst]\n",
    "result"
   ]
  },
  {
   "cell_type": "code",
   "execution_count": 62,
   "id": "a3cf393f-519a-48f5-b674-2112a28d516c",
   "metadata": {},
   "outputs": [
    {
     "data": {
      "text/plain": [
       "[1.0,\n",
       " 1.2599210498948732,\n",
       " 1.4422495703074083,\n",
       " 1.5874010519681994,\n",
       " 1.7099759466766968,\n",
       " 1.8171205928321397,\n",
       " 1.912931182772389,\n",
       " 2.0,\n",
       " 2.080083823051904,\n",
       " 2.154434690031884]"
      ]
     },
     "execution_count": 62,
     "metadata": {},
     "output_type": "execute_result"
    }
   ],
   "source": [
    "lst = [1,2,3,4,5,6,7,8,9,10]\n",
    "result = [num**(1/3) for num in lst]\n",
    "result"
   ]
  },
  {
   "cell_type": "code",
   "execution_count": 63,
   "id": "d6c66efd-6bdc-426c-965e-a335eada42cb",
   "metadata": {},
   "outputs": [
    {
     "data": {
      "text/plain": [
       "True"
      ]
     },
     "execution_count": 63,
     "metadata": {},
     "output_type": "execute_result"
    }
   ],
   "source": [
    "num = 10\n",
    "result = True if num % 2 == 0 else False\n",
    "result"
   ]
  },
  {
   "cell_type": "code",
   "execution_count": 65,
   "id": "1cc0d605-2771-49ee-baba-bd5b550a9472",
   "metadata": {},
   "outputs": [
    {
     "data": {
      "text/plain": [
       "True"
      ]
     },
     "execution_count": 65,
     "metadata": {},
     "output_type": "execute_result"
    }
   ],
   "source": [
    "num = 5\n",
    "result = True if num % 2 != 0 else False\n",
    "result"
   ]
  },
  {
   "cell_type": "code",
   "execution_count": 67,
   "id": "b7db59ed-f2a6-4e94-a1b4-d3613031d736",
   "metadata": {},
   "outputs": [
    {
     "data": {
      "text/plain": [
       "[1, 3, 5, 7, 9]"
      ]
     },
     "execution_count": 67,
     "metadata": {},
     "output_type": "execute_result"
    }
   ],
   "source": [
    "lst = [1,2,3,4,5,6,7,8,9,10]\n",
    "result = [num for num in lst if num % 2]\n",
    "result"
   ]
  },
  {
   "cell_type": "code",
   "execution_count": null,
   "id": "6d0fc2ca-ecbf-4ef8-b46d-4286a1eed2b2",
   "metadata": {},
   "outputs": [],
   "source": []
  }
 ],
 "metadata": {
  "kernelspec": {
   "display_name": "Python 3 (ipykernel)",
   "language": "python",
   "name": "python3"
  },
  "language_info": {
   "codemirror_mode": {
    "name": "ipython",
    "version": 3
   },
   "file_extension": ".py",
   "mimetype": "text/x-python",
   "name": "python",
   "nbconvert_exporter": "python",
   "pygments_lexer": "ipython3",
   "version": "3.10.8"
  }
 },
 "nbformat": 4,
 "nbformat_minor": 5
}
