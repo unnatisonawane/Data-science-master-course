{
 "cells": [
  {
   "cell_type": "code",
   "execution_count": 1,
   "id": "2cca378a-896f-4f39-b7cb-488d4e2aa25a",
   "metadata": {},
   "outputs": [],
   "source": [
    "def test(id):\n",
    "    print('this is my id %d' %id)\n",
    "    "
   ]
  },
  {
   "cell_type": "code",
   "execution_count": 2,
   "id": "ae9c0921-6c90-4777-ba1f-e9ecfc1770cb",
   "metadata": {},
   "outputs": [
    {
     "name": "stdout",
     "output_type": "stream",
     "text": [
      "this is my id 10\n"
     ]
    }
   ],
   "source": [
    "test(10)"
   ]
  },
  {
   "cell_type": "code",
   "execution_count": 3,
   "id": "f81c583a-dd1d-42ad-8fa8-5713a697a901",
   "metadata": {},
   "outputs": [
    {
     "name": "stdout",
     "output_type": "stream",
     "text": [
      "this is my id 12\n"
     ]
    }
   ],
   "source": [
    "test(12)"
   ]
  },
  {
   "cell_type": "code",
   "execution_count": 4,
   "id": "9e932ac2-9765-4664-be0b-6fc77f158c82",
   "metadata": {},
   "outputs": [
    {
     "name": "stdout",
     "output_type": "stream",
     "text": [
      "this is my id 13\n"
     ]
    }
   ],
   "source": [
    "test(13)"
   ]
  },
  {
   "cell_type": "markdown",
   "id": "9bd204f9-48ea-4244-a08f-a3e488c2cbc6",
   "metadata": {},
   "source": [
    "## Threading\n",
    "   1. Multithreading is a way to execute multiple tasks simultaneously within a program.\n",
    "   2. In a similar way, multithreading allows a program to perform multiple tasks concurrently. Each task is called a thread,      and these threads can work independently while sharing the same resources of the program."
   ]
  },
  {
   "cell_type": "code",
   "execution_count": 5,
   "id": "9e4d1b05-19eb-4360-ada0-54cfdc09c1fa",
   "metadata": {},
   "outputs": [],
   "source": [
    "import threading"
   ]
  },
  {
   "cell_type": "code",
   "execution_count": 7,
   "id": "86a42bf7-3823-48a6-a9ee-4e1e7f529ec7",
   "metadata": {},
   "outputs": [],
   "source": [
    "thred=[threading.Thread(target=test,args=(i,)) for i in (10,12,13)]"
   ]
  },
  {
   "cell_type": "code",
   "execution_count": 10,
   "id": "1b3e27dc-5a63-4d41-a8d2-226386006621",
   "metadata": {},
   "outputs": [
    {
     "name": "stdout",
     "output_type": "stream",
     "text": [
      "this is my id 10\n",
      "this is my id 12\n",
      "this is my id 13\n"
     ]
    }
   ],
   "source": [
    "for t in thred:\n",
    "    t.start()"
   ]
  },
  {
   "cell_type": "code",
   "execution_count": 11,
   "id": "0827bcc4-650a-4dda-bf2c-c31dba16baa5",
   "metadata": {},
   "outputs": [
    {
     "name": "stdout",
     "output_type": "stream",
     "text": [
      "Thread 1: 1\n",
      "Thread 1: 2\n",
      "Thread 1: 3\n",
      "Thread 1: 4\n",
      "Thread 1: 5\n"
     ]
    }
   ],
   "source": [
    "import threading\n",
    "\n",
    "# Define a function that will be executed by a thread\n",
    "def print_numbers():\n",
    "    for i in range(1, 6):\n",
    "        print(\"Thread 1:\", i)\n",
    "\n",
    "# Create a new thread and assign the function to it\n",
    "thread1 = threading.Thread(target=print_numbers)\n",
    "\n",
    "# Start the thread\n",
    "thread1.start()"
   ]
  },
  {
   "cell_type": "code",
   "execution_count": 12,
   "id": "f0b26767-97eb-43bc-966c-289e9e3799df",
   "metadata": {},
   "outputs": [
    {
     "name": "stdout",
     "output_type": "stream",
     "text": [
      "Main Thread: 6\n",
      "Main Thread: 7\n",
      "Main Thread: 8\n",
      "Main Thread: 9\n",
      "Main Thread: 10\n"
     ]
    }
   ],
   "source": [
    "# Continue with the main program\n",
    "for i in range(6, 11):\n",
    "    print(\"Main Thread:\", i)"
   ]
  },
  {
   "cell_type": "code",
   "execution_count": 14,
   "id": "2cb6ec10-a360-4bae-aa05-70176dd312db",
   "metadata": {},
   "outputs": [
    {
     "name": "stdout",
     "output_type": "stream",
     "text": [
      "Thread 1: 1\n",
      "Thread 1: 2\n",
      "Thread 1: 3\n",
      "Thread 1: 4\n",
      "Thread 1: 5\n",
      "Thread 2: A\n",
      "Thread 2: B\n",
      "Thread 2: C\n",
      "Thread 2: D\n",
      "Thread 2: E\n"
     ]
    }
   ],
   "source": [
    "import threading\n",
    "\n",
    "# Define two functions to be executed by threads\n",
    "def print_numbers():\n",
    "    for i in range(1, 6):\n",
    "        print(\"Thread 1:\", i)\n",
    "\n",
    "def print_letters():\n",
    "    for letter in ['A', 'B', 'C', 'D', 'E']:\n",
    "        print(\"Thread 2:\", letter)\n",
    "\n",
    "# Create two threads and assign functions to them\n",
    "thread1 = threading.Thread(target=print_numbers)\n",
    "thread2 = threading.Thread(target=print_letters)\n",
    "\n",
    "# Start the threads\n",
    "thread1.start()\n",
    "thread2.start()"
   ]
  },
  {
   "cell_type": "code",
   "execution_count": 16,
   "id": "3a915e00-3b68-4741-a748-1c7329cc499a",
   "metadata": {},
   "outputs": [],
   "source": [
    "# storing data from multiple url link in a file with different file name\n",
    "import urllib.request\n",
    "\n",
    "def file_download(url , filename):\n",
    "    urllib.request.urlretrieve(url , filename)\n",
    "    \n",
    "url_list = ['https://raw.githubusercontent.com/itsfoss/text-files/master/agatha.txt' , 'https://raw.githubusercontent.com/itsfoss/text-files/master/sherlock.txt' ,'https://raw.githubusercontent.com/itsfoss/text-files/master/sample_log_file.txt' ]\n",
    "\n",
    "data_file_list = ['data1.txt', 'data2.txt','data3.txt']\n",
    "\n",
    "thread1 = [threading.Thread(target=file_download , args=(url_list[i],data_file_list[i])) for i in range(len(url_list))]\n",
    "\n",
    "for t in thread1:\n",
    "    t.start()"
   ]
  },
  {
   "cell_type": "code",
   "execution_count": 18,
   "id": "914b405a-96d8-4adc-97f7-8f4931b77bf9",
   "metadata": {},
   "outputs": [
    {
     "name": "stdout",
     "output_type": "stream",
     "text": [
      " test1 print the value of x 100 and print the value of i 0 \n",
      " test1 print the value of x 10 and print the value of i 0 \n",
      " test1 print the value of x 20 and print the value of i 0 \n",
      " test1 print the value of x 5 and print the value of i 0 \n",
      " test1 print the value of x 100 and print the value of i 1 \n",
      " test1 print the value of x 20 and print the value of i 1 \n",
      " test1 print the value of x 10 and print the value of i 1 \n",
      " test1 print the value of x 5 and print the value of i 1 \n",
      " test1 print the value of x 100 and print the value of i 2 \n",
      " test1 print the value of x 20 and print the value of i 2 \n",
      " test1 print the value of x 10 and print the value of i 2 \n",
      " test1 print the value of x 5 and print the value of i 2 \n",
      " test1 print the value of x 100 and print the value of i 3 \n",
      " test1 print the value of x 20 and print the value of i 3 \n",
      " test1 print the value of x 10 and print the value of i 3 \n",
      " test1 print the value of x 5 and print the value of i 3 \n",
      " test1 print the value of x 10 and print the value of i 4  test1 print the value of x 100 and print the value of i 4 \n",
      "\n",
      " test1 print the value of x 20 and print the value of i 4 \n",
      " test1 print the value of x 5 and print the value of i 4 \n",
      " test1 print the value of x 100 and print the value of i 5  test1 print the value of x 10 and print the value of i 5 \n",
      " test1 print the value of x 20 and print the value of i 5 \n",
      "\n",
      " test1 print the value of x 5 and print the value of i 5 \n",
      " test1 print the value of x 10 and print the value of i 6 \n",
      " test1 print the value of x 20 and print the value of i 6 \n",
      " test1 print the value of x 5 and print the value of i 6 \n",
      " test1 print the value of x 100 and print the value of i 6 \n",
      " test1 print the value of x 10 and print the value of i 7 \n",
      " test1 print the value of x 5 and print the value of i 7 \n",
      " test1 print the value of x 100 and print the value of i 7 \n",
      " test1 print the value of x 20 and print the value of i 7 \n",
      " test1 print the value of x 10 and print the value of i 8 \n",
      " test1 print the value of x 20 and print the value of i 8 \n",
      " test1 print the value of x 5 and print the value of i 8 \n",
      " test1 print the value of x 100 and print the value of i 8 \n",
      " test1 print the value of x 10 and print the value of i 9  test1 print the value of x 100 and print the value of i 9 \n",
      "\n",
      " test1 print the value of x 20 and print the value of i 9 \n",
      " test1 print the value of x 5 and print the value of i 9 \n"
     ]
    }
   ],
   "source": [
    "# example of time module to add delays between thread execution\n",
    "import time\n",
    "def test2(x) : \n",
    "    for i in range(10) : \n",
    "        print(\" test1 print the value of x %d and print the value of i %d \" %(x,i))\n",
    "        time.sleep(1)\n",
    "        \n",
    "thread2 = [threading.Thread(target=test2 , args=(i,)) for i in [100 , 10,20,5]]\n",
    "\n",
    "for t in thread2:\n",
    "    t.start()\n"
   ]
  },
  {
   "cell_type": "code",
   "execution_count": 23,
   "id": "17ccef87-e973-4999-9ad4-e52880b1e327",
   "metadata": {},
   "outputs": [
    {
     "name": "stdout",
     "output_type": "stream",
     "text": [
      "value of x 1 and value of shareed_var 1 \n",
      "value of x 2 and value of shareed_var 2 \n",
      "value of x 3 and value of shareed_var 3 \n",
      "value of x 4 and value of shareed_var 4 \n",
      "value of x 4 and value of shareed_var 5 \n",
      "value of x 5 and value of shareed_var 6 \n"
     ]
    }
   ],
   "source": [
    "#  the use of a shared lock (also known as a mutex) to ensure thread safety\n",
    "\n",
    "shared_var = 0 \n",
    "lock_var = threading.Lock()\n",
    "def test4(x) : \n",
    "    global shared_var\n",
    "    with lock_var : \n",
    "        shared_var = shared_var + 1\n",
    "        print(\"value of x %d and value of shareed_var %d \" %(x, shared_var))\n",
    "        time.sleep(1)\n",
    " \n",
    "thread5  = [threading.Thread(target=test4 , args = (i,)) for i in [1,2,3,4,4,5]]\n",
    "for t in thread5 : \n",
    "    t.start()\n",
    "    "
   ]
  },
  {
   "cell_type": "code",
   "execution_count": 3,
   "id": "087d9870-c79d-4f97-93ed-946de358e476",
   "metadata": {},
   "outputs": [
    {
     "name": "stdout",
     "output_type": "stream",
     "text": [
      "Shared Variable: 4000000\n"
     ]
    }
   ],
   "source": [
    "import threading\n",
    "\n",
    "# Shared resource\n",
    "shared_variable = 0\n",
    "shared_lock = threading.Lock()\n",
    "\n",
    "# Thread function\n",
    "def thread_func():\n",
    "    global shared_variable\n",
    "    for _ in range(1000000):\n",
    "        # Synchronization using a lock\n",
    "        with shared_lock:\n",
    "            shared_variable += 1\n",
    "\n",
    "# Create multiple threads\n",
    "num_threads = 4\n",
    "threads = []\n",
    "\n",
    "for _ in range(num_threads):\n",
    "    t = threading.Thread(target=thread_func)\n",
    "    threads.append(t)\n",
    "\n",
    "# Start the threads\n",
    "for t in threads:\n",
    "    t.start()\n",
    "\n",
    "# Wait for the threads to complete\n",
    "for t in threads:\n",
    "    t.join()\n",
    "# Print the final value of the shared variable\n",
    "print(\"Shared Variable:\", shared_variable)"
   ]
  },
  {
   "cell_type": "code",
   "execution_count": 6,
   "id": "23826eac-186b-4589-ab8d-bf5817d36387",
   "metadata": {},
   "outputs": [
    {
     "name": "stdout",
     "output_type": "stream",
     "text": [
      "Thread A acquired resource X\n",
      "Thread A acquired resource Y\n",
      "Thread B acquired resource Y\n",
      "Thread B acquired resource X\n",
      "Program completed.\n"
     ]
    }
   ],
   "source": [
    "#example of deadlock\n",
    "import threading\n",
    "\n",
    "# Resources\n",
    "resource_x = threading.Lock()\n",
    "resource_y = threading.Lock()\n",
    "\n",
    "# Thread A\n",
    "def thread_a_func():\n",
    "    with resource_x:\n",
    "        print(\"Thread A acquired resource X\")\n",
    "        with resource_y:\n",
    "            print(\"Thread A acquired resource Y\")\n",
    "\n",
    "# Thread B\n",
    "def thread_b_func():\n",
    "    with resource_y:\n",
    "        print(\"Thread B acquired resource Y\")\n",
    "        with resource_x:\n",
    "            print(\"Thread B acquired resource X\")\n",
    "\n",
    "# Create threads\n",
    "thread_a = threading.Thread(target=thread_a_func)\n",
    "thread_b = threading.Thread(target=thread_b_func)\n",
    "\n",
    "# Start threads\n",
    "thread_a.start()\n",
    "thread_b.start()\n",
    "\n",
    "# Wait for threads to complete\n",
    "thread_a.join()\n",
    "thread_b.join()\n",
    "\n",
    "print(\"Program completed.\")"
   ]
  },
  {
   "cell_type": "code",
   "execution_count": 7,
   "id": "7051f4a9-e53d-43d9-baae-6af4597873c0",
   "metadata": {},
   "outputs": [
    {
     "name": "stdout",
     "output_type": "stream",
     "text": [
      "Count: 2000000\n"
     ]
    }
   ],
   "source": [
    "#example of race condtion\n",
    "import threading\n",
    "\n",
    "count = 0\n",
    "\n",
    "# Increment function\n",
    "def increment():\n",
    "    global count\n",
    "    for _ in range(1000000):\n",
    "        count += 1\n",
    "\n",
    "# Create threads\n",
    "thread_a = threading.Thread(target=increment)\n",
    "thread_b = threading.Thread(target=increment)\n",
    "\n",
    "# Start threads\n",
    "thread_a.start()\n",
    "thread_b.start()\n",
    "\n",
    "# Wait for threads to complete\n",
    "thread_a.join()\n",
    "thread_b.join()\n",
    "\n",
    "print(\"Count:\", count)"
   ]
  },
  {
   "cell_type": "markdown",
   "id": "c5bfb77d-f3fb-4288-b66c-a3d672e0a54e",
   "metadata": {},
   "source": [
    "Question: Write a Python program that simulates a simple download manager. The program should create multiple threads, each representing a download task for a file. Implement a mechanism to track the progress of each download and display the overall progress of all downloads."
   ]
  },
  {
   "cell_type": "code",
   "execution_count": 8,
   "id": "19bb4a7b-202f-4aa5-beb9-43b5c560802d",
   "metadata": {},
   "outputs": [
    {
     "name": "stdout",
     "output_type": "stream",
     "text": [
      "Downloading file1.pdf started...\n",
      "Downloading file2.txt started...\n",
      "Downloading file3.jpg started...\n",
      "Overall Progress: 0.00%\n",
      "Overall Progress: 0.00%\n",
      "Overall Progress: 0.00%\n",
      "Downloading file2.txt completed!\n",
      "Downloading file3.jpg completed!\n",
      "Downloading file1.pdf completed!\n",
      "Overall Progress: 100.00%\n",
      "All downloads completed!\n"
     ]
    }
   ],
   "source": [
    "import threading\n",
    "import time\n",
    "\n",
    "def download_file(file_name):\n",
    "    print(f\"Downloading {file_name} started...\")\n",
    "    time.sleep(3)  # Simulating download process\n",
    "    print(f\"Downloading {file_name} completed!\")\n",
    "\n",
    "def main():\n",
    "    files = [\"file1.pdf\", \"file2.txt\", \"file3.jpg\"]\n",
    "    num_files = len(files)\n",
    "    threads = []\n",
    "    completed_count = 0\n",
    "\n",
    "    for file_name in files:\n",
    "        t = threading.Thread(target=download_file, args=(file_name,))\n",
    "        threads.append(t)\n",
    "        t.start()\n",
    "\n",
    "    while completed_count < num_files:\n",
    "        completed_count = 0\n",
    "        for t in threads:\n",
    "            if not t.is_alive():\n",
    "                completed_count += 1\n",
    "\n",
    "        progress = (completed_count / num_files) * 100\n",
    "        print(f\"Overall Progress: {progress:.2f}%\")\n",
    "        time.sleep(1)\n",
    "\n",
    "    print(\"All downloads completed!\")\n",
    "\n",
    "if __name__ == \"__main__\":\n",
    "    main()"
   ]
  },
  {
   "cell_type": "code",
   "execution_count": 19,
   "id": "d047b6f2-bb4a-4172-afde-b1c75aeb4a41",
   "metadata": {},
   "outputs": [
    {
     "name": "stdout",
     "output_type": "stream",
     "text": [
      "Hello from my_function! 10\n",
      "Hello from my_function! 2\n",
      "Hello from my_function! 3\n"
     ]
    }
   ],
   "source": [
    "import threading\n",
    "import time\n",
    "def my_function(id):\n",
    "    print(\"Hello from my_function! %d\" %id)\n",
    "    time.sleep(1)\n",
    "\n",
    "# Create a thread for the function\n",
    "thread = [threading.Thread(target=my_function,args=(i,)) for i in (10,2,3)]\n",
    "\n",
    "# Start the thread\n",
    "for t in thread:\n",
    "    t.start()\n"
   ]
  },
  {
   "cell_type": "code",
   "execution_count": 20,
   "id": "b02924f8-9c88-40ea-8b1f-9f2ac061ff49",
   "metadata": {},
   "outputs": [
    {
     "name": "stdout",
     "output_type": "stream",
     "text": [
      "Hello from my_function! 1\n"
     ]
    }
   ],
   "source": [
    "my_function(1)"
   ]
  },
  {
   "cell_type": "code",
   "execution_count": null,
   "id": "fe67a039-b292-43fb-bd94-c793f7912874",
   "metadata": {},
   "outputs": [],
   "source": []
  }
 ],
 "metadata": {
  "kernelspec": {
   "display_name": "Python 3 (ipykernel)",
   "language": "python",
   "name": "python3"
  },
  "language_info": {
   "codemirror_mode": {
    "name": "ipython",
    "version": 3
   },
   "file_extension": ".py",
   "mimetype": "text/x-python",
   "name": "python",
   "nbconvert_exporter": "python",
   "pygments_lexer": "ipython3",
   "version": "3.10.8"
  }
 },
 "nbformat": 4,
 "nbformat_minor": 5
}
