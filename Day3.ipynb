{
 "cells": [
  {
   "cell_type": "markdown",
   "id": "ebd772bd-fb59-4b78-9ee4-0e07ecd967b3",
   "metadata": {},
   "source": [
    "## 6.2.1 String manipulation\n",
    "\n",
    "Strings are used to record the text information such as name. In Python, Strings act as “Sequence” which means Python tracks every element in the String as a sequence. This is one of the important features of the Python language.\n",
    "\n",
    "For example, Python understands the string \"hello' to be a sequence of letters in a specific order which means the indexing technique to grab particular letters (like first letter or the last letter).\n",
    "\n",
    "As we now know string contains set of characters, let's check how can we manipulate and take subset of string, how can we access charcters out of string and do some manipulation on strings.\n",
    "\n",
    "Subset of string can be access by using slice operator [] or [:](String index starts with 0 and -1 at the end). Lets look at the example."
   ]
  },
  {
   "cell_type": "code",
   "execution_count": 2,
   "id": "1b7ba9ec-b33d-4f24-b9e6-96c00bb8af02",
   "metadata": {},
   "outputs": [],
   "source": [
    "\n",
    "str1=\"Welcome to the Data Science masters\""
   ]
  },
  {
   "cell_type": "code",
   "execution_count": 3,
   "id": "e5e6ae1f-9d90-416a-a2d0-bc9c5f93bc53",
   "metadata": {},
   "outputs": [
    {
     "data": {
      "text/plain": [
       "['__add__',\n",
       " '__class__',\n",
       " '__contains__',\n",
       " '__delattr__',\n",
       " '__dir__',\n",
       " '__doc__',\n",
       " '__eq__',\n",
       " '__format__',\n",
       " '__ge__',\n",
       " '__getattribute__',\n",
       " '__getitem__',\n",
       " '__getnewargs__',\n",
       " '__gt__',\n",
       " '__hash__',\n",
       " '__init__',\n",
       " '__init_subclass__',\n",
       " '__iter__',\n",
       " '__le__',\n",
       " '__len__',\n",
       " '__lt__',\n",
       " '__mod__',\n",
       " '__mul__',\n",
       " '__ne__',\n",
       " '__new__',\n",
       " '__reduce__',\n",
       " '__reduce_ex__',\n",
       " '__repr__',\n",
       " '__rmod__',\n",
       " '__rmul__',\n",
       " '__setattr__',\n",
       " '__sizeof__',\n",
       " '__str__',\n",
       " '__subclasshook__',\n",
       " 'capitalize',\n",
       " 'casefold',\n",
       " 'center',\n",
       " 'count',\n",
       " 'encode',\n",
       " 'endswith',\n",
       " 'expandtabs',\n",
       " 'find',\n",
       " 'format',\n",
       " 'format_map',\n",
       " 'index',\n",
       " 'isalnum',\n",
       " 'isalpha',\n",
       " 'isascii',\n",
       " 'isdecimal',\n",
       " 'isdigit',\n",
       " 'isidentifier',\n",
       " 'islower',\n",
       " 'isnumeric',\n",
       " 'isprintable',\n",
       " 'isspace',\n",
       " 'istitle',\n",
       " 'isupper',\n",
       " 'join',\n",
       " 'ljust',\n",
       " 'lower',\n",
       " 'lstrip',\n",
       " 'maketrans',\n",
       " 'partition',\n",
       " 'removeprefix',\n",
       " 'removesuffix',\n",
       " 'replace',\n",
       " 'rfind',\n",
       " 'rindex',\n",
       " 'rjust',\n",
       " 'rpartition',\n",
       " 'rsplit',\n",
       " 'rstrip',\n",
       " 'split',\n",
       " 'splitlines',\n",
       " 'startswith',\n",
       " 'strip',\n",
       " 'swapcase',\n",
       " 'title',\n",
       " 'translate',\n",
       " 'upper',\n",
       " 'zfill']"
      ]
     },
     "execution_count": 3,
     "metadata": {},
     "output_type": "execute_result"
    }
   ],
   "source": [
    "dir(str1)"
   ]
  },
  {
   "cell_type": "markdown",
   "id": "770bb290-fb35-4327-aa2e-fec63a645be2",
   "metadata": {},
   "source": [
    "### Accessing element from string\n",
    "\n",
    "We know strings are a sequence, which means Python can use indexes to call all the sequence parts. Let's learn how String Indexing works.\n",
    "\n",
    "•\tWe use brackets `[]` after an object to call its index. \n",
    "\n",
    "•\tWe should also note that indexing `starts at 0` for Python.\n",
    "\n",
    "Now, Let's create a new object called s and the walk through a few examples of indexing."
   ]
  },
  {
   "cell_type": "code",
   "execution_count": 60,
   "id": "1c49abfc-9e94-499b-8e35-6ec9a6dc8538",
   "metadata": {},
   "outputs": [],
   "source": [
    "string=\"I like statistics\""
   ]
  },
  {
   "cell_type": "code",
   "execution_count": 61,
   "id": "900ce0a7-3d95-43fa-bd93-e39ea00ccb53",
   "metadata": {},
   "outputs": [
    {
     "name": "stdout",
     "output_type": "stream",
     "text": [
      "I\n"
     ]
    }
   ],
   "source": [
    "# Fetch first character of a string\n",
    "print(string[0])"
   ]
  },
  {
   "cell_type": "code",
   "execution_count": 62,
   "id": "30922330-741f-4eb5-a17e-dbffe70af755",
   "metadata": {},
   "outputs": [
    {
     "name": "stdout",
     "output_type": "stream",
     "text": [
      "s\n"
     ]
    }
   ],
   "source": [
    "# Fetch last element of a string\n",
    "print(string[-1])"
   ]
  },
  {
   "cell_type": "code",
   "execution_count": 64,
   "id": "cfc06345-4242-482c-888e-dd3827ec4cce",
   "metadata": {},
   "outputs": [
    {
     "name": "stdout",
     "output_type": "stream",
     "text": [
      "s\n"
     ]
    }
   ],
   "source": [
    "# Fetch nth element of a string\n",
    "print(string[16])"
   ]
  },
  {
   "cell_type": "code",
   "execution_count": 65,
   "id": "8767e127-ff65-4e36-9e4b-99b710b0ae00",
   "metadata": {},
   "outputs": [
    {
     "name": "stdout",
     "output_type": "stream",
     "text": [
      " like statistics\n"
     ]
    }
   ],
   "source": [
    "# This slice operation will help us to fetch substring from a string.\n",
    "# [ Index given before colon will be starting index and index given after colon will be ending index and \n",
    "# it is not considered to print]\n",
    "#  And if no index is given it will consider till end of string index\n",
    "print(string[1:])"
   ]
  },
  {
   "cell_type": "code",
   "execution_count": 67,
   "id": "86c45960-d41c-40c2-bd9a-c6e3c8a37dac",
   "metadata": {},
   "outputs": [
    {
     "name": "stdout",
     "output_type": "stream",
     "text": [
      " l\n"
     ]
    }
   ],
   "source": [
    "# This will give character starting from index 1 and ending index 2 (Last will not consider for slice operation)\n",
    "print(string[1:3])"
   ]
  },
  {
   "cell_type": "code",
   "execution_count": 68,
   "id": "af951d14-009e-4baf-8a14-74c60f3088d9",
   "metadata": {},
   "outputs": [
    {
     "name": "stdout",
     "output_type": "stream",
     "text": [
      "I like statist\n"
     ]
    }
   ],
   "source": [
    "# It will give all the characters but not the last three characeters\n",
    "print(string[:-3])"
   ]
  },
  {
   "cell_type": "code",
   "execution_count": 69,
   "id": "af366eb7-a340-48e9-9ca1-8e13bc089920",
   "metadata": {},
   "outputs": [
    {
     "name": "stdout",
     "output_type": "stream",
     "text": [
      "like statistics\n"
     ]
    }
   ],
   "source": [
    "# It will give all the characters but not the first two characeters\n",
    "print(string[2:])"
   ]
  },
  {
   "cell_type": "code",
   "execution_count": 70,
   "id": "251fde17-0893-4063-82cb-b41767afc4f2",
   "metadata": {},
   "outputs": [
    {
     "name": "stdout",
     "output_type": "stream",
     "text": [
      "cs\n"
     ]
    }
   ],
   "source": [
    "#It will give the last two char\n",
    "print(string[-2:])"
   ]
  },
  {
   "cell_type": "markdown",
   "id": "8731f059-8f5c-489c-92ba-df9752e0b58f",
   "metadata": {},
   "source": [
    "Index and slice notation is used to grab elements of a sequenec by a specified step size (where in 1 is the default size). For instance we can use two colons in a row and then a number specifying the frequency to grab elements. For example:"
   ]
  },
  {
   "cell_type": "code",
   "execution_count": 71,
   "id": "869f2a16-9b98-4623-a555-df07bcdc06ba",
   "metadata": {},
   "outputs": [
    {
     "data": {
      "text/plain": [
       "'Hello world'"
      ]
     },
     "execution_count": 71,
     "metadata": {},
     "output_type": "execute_result"
    }
   ],
   "source": [
    "# Grab everything, but go in steps size of 1\n",
    "s = \"Hello world\"\n",
    "s[::1]"
   ]
  },
  {
   "cell_type": "code",
   "execution_count": 72,
   "id": "7f92c260-e1d5-4dbf-8746-46894c10e838",
   "metadata": {},
   "outputs": [
    {
     "data": {
      "text/plain": [
       "'Hlowrd'"
      ]
     },
     "execution_count": 72,
     "metadata": {},
     "output_type": "execute_result"
    }
   ],
   "source": [
    "# Grab everything, but go in step sizes of 2\n",
    "s[::2]"
   ]
  },
  {
   "cell_type": "code",
   "execution_count": 73,
   "id": "e3ef0c17-10b5-488b-9826-7d191a0c6625",
   "metadata": {},
   "outputs": [
    {
     "data": {
      "text/plain": [
       "'dlrow olleH'"
      ]
     },
     "execution_count": 73,
     "metadata": {},
     "output_type": "execute_result"
    }
   ],
   "source": [
    "# We can use this to print a string backwards\n",
    "s[::-1]"
   ]
  },
  {
   "cell_type": "markdown",
   "id": "f7859ce9-dc61-489f-97ab-eea50a5ef323",
   "metadata": {},
   "source": [
    "Immutability is one the finest string property whichh is created once and the elements within it cannot be changed or replaced. For example:"
   ]
  },
  {
   "cell_type": "code",
   "execution_count": 74,
   "id": "b6e4a589-9c00-4bf0-a5f9-47eea468c794",
   "metadata": {},
   "outputs": [
    {
     "ename": "TypeError",
     "evalue": "'str' object does not support item assignment",
     "output_type": "error",
     "traceback": [
      "\u001b[0;31m---------------------------------------------------------------------------\u001b[0m",
      "\u001b[0;31mTypeError\u001b[0m                                 Traceback (most recent call last)",
      "Cell \u001b[0;32mIn[74], line 2\u001b[0m\n\u001b[1;32m      1\u001b[0m \u001b[38;5;66;03m# Let's try to change the first letter to 'x'\u001b[39;00m\n\u001b[0;32m----> 2\u001b[0m \u001b[43ms\u001b[49m\u001b[43m[\u001b[49m\u001b[38;5;241;43m0\u001b[39;49m\u001b[43m]\u001b[49m \u001b[38;5;241m=\u001b[39m \u001b[38;5;124m'\u001b[39m\u001b[38;5;124mx\u001b[39m\u001b[38;5;124m'\u001b[39m\n",
      "\u001b[0;31mTypeError\u001b[0m: 'str' object does not support item assignment"
     ]
    }
   ],
   "source": [
    "# Let's try to change the first letter to 'x'\n",
    "s[0] = 'x'"
   ]
  },
  {
   "cell_type": "code",
   "execution_count": 75,
   "id": "ed843e95-afd9-4208-ae13-b21b890bc405",
   "metadata": {},
   "outputs": [
    {
     "data": {
      "text/plain": [
       "'Hello world concatenate me!'"
      ]
     },
     "execution_count": 75,
     "metadata": {},
     "output_type": "execute_result"
    }
   ],
   "source": [
    "# We can reassign s completely though!\n",
    "s = s+ \" concatenate me!\"\n",
    "s"
   ]
  },
  {
   "cell_type": "code",
   "execution_count": 76,
   "id": "64bcf895-4a57-4786-91ab-bee468efde26",
   "metadata": {},
   "outputs": [
    {
     "name": "stdout",
     "output_type": "stream",
     "text": [
      "I like statistics Company \n"
     ]
    }
   ],
   "source": [
    "# String can be concatenate using + sign operator\n",
    "print(string + \" Company \")"
   ]
  },
  {
   "cell_type": "code",
   "execution_count": 77,
   "id": "88fe5c9a-0568-43de-a606-97e90fc50a72",
   "metadata": {},
   "outputs": [
    {
     "name": "stdout",
     "output_type": "stream",
     "text": [
      " Hello  World \n"
     ]
    }
   ],
   "source": [
    "print(\" Hello \" + \" World \")"
   ]
  },
  {
   "cell_type": "code",
   "execution_count": 79,
   "id": "dae5c3d2-5e02-40eb-950c-78010a931869",
   "metadata": {
    "id": "HK6baJGEIPaO",
    "outputId": "243d9f1a-ca0b-44ae-fb3e-f987b32a79ed"
   },
   "outputs": [
    {
     "data": {
      "text/plain": [
       "17"
      ]
     },
     "execution_count": 79,
     "metadata": {},
     "output_type": "execute_result"
    }
   ],
   "source": [
    "# To fing length of a string, we can use len\n",
    "len(string)"
   ]
  },
  {
   "cell_type": "markdown",
   "id": "9750c46f-c189-4766-aeec-0a34b370758b",
   "metadata": {
    "id": "ZqhJEO0TIPaR"
   },
   "source": [
    "Find character/word in a string"
   ]
  },
  {
   "cell_type": "code",
   "execution_count": 80,
   "id": "a5462ddb-2ff0-4717-b95c-05e8ec53153d",
   "metadata": {
    "id": "3OmJMfhgIPaS",
    "outputId": "11317948-874b-496a-a264-6185f6b9f740"
   },
   "outputs": [
    {
     "data": {
      "text/plain": [
       "-1"
      ]
     },
     "execution_count": 80,
     "metadata": {},
     "output_type": "execute_result"
    }
   ],
   "source": [
    "# To find a character in a string, use find and it will give index of that character\n",
    "string.find(\"n\")"
   ]
  },
  {
   "cell_type": "code",
   "execution_count": 81,
   "id": "7a918424-beb5-49a3-9d14-bb2bc0d97bde",
   "metadata": {
    "id": "36EgVChwIPaV",
    "outputId": "5f387be5-c269-4e91-d2a1-6d4e0364135e"
   },
   "outputs": [
    {
     "data": {
      "text/plain": [
       "-1"
      ]
     },
     "execution_count": 81,
     "metadata": {},
     "output_type": "execute_result"
    }
   ],
   "source": [
    "# If it is not able to find character , it will give index as a -1\n",
    "string.find('x')"
   ]
  },
  {
   "cell_type": "markdown",
   "id": "69dbb577-6e4f-4877-8c9e-76d76b1d02c3",
   "metadata": {
    "id": "OicGwvW3IPaZ"
   },
   "source": [
    "### Count characters in a string"
   ]
  },
  {
   "cell_type": "code",
   "execution_count": 82,
   "id": "0d3300f7-23f6-4788-87e7-0bab3f1ba363",
   "metadata": {
    "id": "qCsQ_9AlIPaa",
    "outputId": "52b5cdba-5b23-406c-ea4b-0f1d99fa7d73"
   },
   "outputs": [
    {
     "name": "stdout",
     "output_type": "stream",
     "text": [
      "2\n"
     ]
    }
   ],
   "source": [
    "# To count no. of characters in a string, can use count method\n",
    "print(string.count(' '))"
   ]
  },
  {
   "cell_type": "code",
   "execution_count": 83,
   "id": "4d191104-ea06-4583-8160-94614c32aadb",
   "metadata": {
    "id": "Hx5OdWkJIPac",
    "outputId": "63044f1f-bb69-475f-c776-69f68826d670"
   },
   "outputs": [
    {
     "name": "stdout",
     "output_type": "stream",
     "text": [
      "0\n"
     ]
    }
   ],
   "source": [
    "print(string.count('n'))"
   ]
  },
  {
   "cell_type": "markdown",
   "id": "41d769f3-5857-4838-9897-5f3afd3b2ca5",
   "metadata": {
    "id": "iewJpsdfIPaf"
   },
   "source": [
    "### String split operation"
   ]
  },
  {
   "cell_type": "code",
   "execution_count": 84,
   "id": "345c5a51-83bb-41ff-924a-e268fbed33af",
   "metadata": {
    "id": "00IeefncIPag",
    "outputId": "547295f7-7cf3-4bc3-bcf7-fd0cafab7ff4"
   },
   "outputs": [
    {
     "name": "stdout",
     "output_type": "stream",
     "text": [
      "['I', 'like', 'statistics']\n"
     ]
    }
   ],
   "source": [
    "# To split string at certain space/character, will return list of strings after splitting\n",
    "print(string.split(' '))"
   ]
  },
  {
   "cell_type": "code",
   "execution_count": 86,
   "id": "fbe007b6-f512-4c87-bb1a-e4ad9a269331",
   "metadata": {
    "id": "YApyjsGRIPai",
    "outputId": "f43d90e2-4496-4b58-a83a-6c6b338d5798"
   },
   "outputs": [
    {
     "data": {
      "text/plain": [
       "['I li', 'e statistics']"
      ]
     },
     "execution_count": 86,
     "metadata": {},
     "output_type": "execute_result"
    }
   ],
   "source": [
    "string.split('k')"
   ]
  },
  {
   "cell_type": "markdown",
   "id": "495eab72-a1d5-4243-99a4-b8284ed61634",
   "metadata": {
    "id": "npBnzB13IPal"
   },
   "source": [
    "### Change strings to upper & lower case"
   ]
  },
  {
   "cell_type": "code",
   "execution_count": 87,
   "id": "f16fd1fc-ebfe-4f9c-a6da-318c06d76c90",
   "metadata": {
    "id": "5NSNQDFAIPam",
    "outputId": "ebb79fb0-f300-4fd0-d51c-fac527e2d247"
   },
   "outputs": [
    {
     "name": "stdout",
     "output_type": "stream",
     "text": [
      "I LIKE STATISTICS\n"
     ]
    }
   ],
   "source": [
    "# Changes to upper case\n",
    "print(string.upper())"
   ]
  },
  {
   "cell_type": "code",
   "execution_count": 88,
   "id": "1b0621e3-6be2-4b63-9ad6-483ddab5bb7a",
   "metadata": {
    "id": "gllAj31EIPap",
    "outputId": "2cd3a5a1-03d0-4c8b-d3a6-93fac56f7e00"
   },
   "outputs": [
    {
     "name": "stdout",
     "output_type": "stream",
     "text": [
      "i like statistics\n"
     ]
    }
   ],
   "source": [
    "# Changes to lower case\n",
    "print(string.lower())"
   ]
  },
  {
   "cell_type": "code",
   "execution_count": 89,
   "id": "9449bf2d-bde9-4113-921e-b4c3969ad251",
   "metadata": {
    "id": "qorxK_ndIPar",
    "outputId": "3433e48a-3967-450b-c47a-2df57e1cc5cd"
   },
   "outputs": [
    {
     "name": "stdout",
     "output_type": "stream",
     "text": [
      "i LIKE STATISTICS\n"
     ]
    }
   ],
   "source": [
    "# Swap case from lower to upper & upper to lower\n",
    "print(string.swapcase())"
   ]
  },
  {
   "cell_type": "code",
   "execution_count": 90,
   "id": "630abee9-0f28-4d07-84b6-53470aeed788",
   "metadata": {
    "id": "r_MPgkr9IPav",
    "outputId": "8f4ddf6d-7037-414b-a4db-9222d25649e8"
   },
   "outputs": [
    {
     "name": "stdout",
     "output_type": "stream",
     "text": [
      "I Like Statistics\n"
     ]
    }
   ],
   "source": [
    "print(string.title())"
   ]
  },
  {
   "cell_type": "code",
   "execution_count": 91,
   "id": "fbc500e5-01cc-4382-b919-df7fa684c679",
   "metadata": {
    "id": "pFItmYsQIPax",
    "outputId": "52429456-c2ff-4f99-bc9a-ebd7a57fc704"
   },
   "outputs": [
    {
     "name": "stdout",
     "output_type": "stream",
     "text": [
      "I like statistics\n"
     ]
    }
   ],
   "source": [
    "print(string.capitalize())"
   ]
  },
  {
   "cell_type": "markdown",
   "id": "14c74247-d140-409c-b968-dee7c5ba1279",
   "metadata": {
    "id": "mHg958LzIPa1"
   },
   "source": [
    "### Reverse string"
   ]
  },
  {
   "cell_type": "code",
   "execution_count": 92,
   "id": "209734f2-8ae8-490d-9aa3-dbb491467172",
   "metadata": {
    "id": "G9n4MnxrIPa1",
    "outputId": "80ace252-814b-4298-eaee-6a2f86a99ac4"
   },
   "outputs": [
    {
     "name": "stdout",
     "output_type": "stream",
     "text": [
      "s c i t s i t a t s   e k i l   I\n"
     ]
    }
   ],
   "source": [
    "# Can use reversed for reversing string\n",
    "print(' '.join(reversed(string)))"
   ]
  },
  {
   "cell_type": "code",
   "execution_count": 93,
   "id": "c2b6096a-e70e-4fea-ad00-b7060bc0d3cc",
   "metadata": {
    "id": "SAYA8gC0IPa6",
    "outputId": "f13a264f-599b-4f10-a348-a6e5bf1c1101"
   },
   "outputs": [
    {
     "name": "stdout",
     "output_type": "stream",
     "text": [
      "scitsitats ekil I\n"
     ]
    }
   ],
   "source": [
    "# We can do reverse of a string by extended slice functionality [::1], so here the third one is the optional step size \n",
    "# through which we are reversing by using step size as -1\n",
    "print(string[::-1])"
   ]
  },
  {
   "cell_type": "markdown",
   "id": "af756084-20d5-4902-beb9-d8d2b3fd6aba",
   "metadata": {
    "id": "LSusYSErIPa-"
   },
   "source": [
    "### Removing characters from the end of the string"
   ]
  },
  {
   "cell_type": "code",
   "execution_count": 95,
   "id": "a02b7dad-1275-4887-845d-7595f1e0ba16",
   "metadata": {
    "id": "kJLmQ_-MIPa-"
   },
   "outputs": [],
   "source": [
    "string_a =\" machine \""
   ]
  },
  {
   "cell_type": "code",
   "execution_count": 96,
   "id": "a9d59680-6e41-49c0-9d3a-e1e0dd67375d",
   "metadata": {
    "id": "6-Ed1fXWIPbB",
    "outputId": "cfa83d65-ad36-44d5-e539-50ddfbe3ef01"
   },
   "outputs": [
    {
     "data": {
      "text/plain": [
       "' machine '"
      ]
     },
     "execution_count": 96,
     "metadata": {},
     "output_type": "execute_result"
    }
   ],
   "source": [
    "string_a"
   ]
  },
  {
   "cell_type": "code",
   "execution_count": 97,
   "id": "53980b73-f100-44c5-b68e-87d913750aae",
   "metadata": {
    "id": "XWELixvcIPbF",
    "outputId": "bc8eaa05-6770-46db-a9b6-43153f301cf5"
   },
   "outputs": [
    {
     "data": {
      "text/plain": [
       "'machine'"
      ]
     },
     "execution_count": 97,
     "metadata": {},
     "output_type": "execute_result"
    }
   ],
   "source": [
    "# Strip will remove white space from both end of the strings\n",
    "string_a.strip(\" \")"
   ]
  },
  {
   "cell_type": "code",
   "execution_count": 98,
   "id": "66a09323-6ee2-43b3-b8e8-97a831742aaf",
   "metadata": {
    "id": "0CjhpR1VIPbJ",
    "outputId": "3047184d-f5de-45c5-be64-a61934fe3883"
   },
   "outputs": [
    {
     "data": {
      "text/plain": [
       "'machine '"
      ]
     },
     "execution_count": 98,
     "metadata": {},
     "output_type": "execute_result"
    }
   ],
   "source": [
    "# removes leading character from a string\n",
    "string_a.lstrip(\" \")"
   ]
  },
  {
   "cell_type": "code",
   "execution_count": 99,
   "id": "84ae0769-cbab-4494-85f4-e4cc01a34d12",
   "metadata": {
    "id": "pz2oObXoIPbN",
    "outputId": "5c8194a6-f66e-4a0f-d155-ad4025518009"
   },
   "outputs": [
    {
     "data": {
      "text/plain": [
       "' machine'"
      ]
     },
     "execution_count": 99,
     "metadata": {},
     "output_type": "execute_result"
    }
   ],
   "source": [
    "# removes trailing character from a string\n",
    "string_a.rstrip(\" \")"
   ]
  },
  {
   "cell_type": "markdown",
   "id": "4287f34e-bf98-43e5-b611-ca4e3ffe12ed",
   "metadata": {
    "id": "vir8vehZIPbP"
   },
   "source": [
    "### Join operation in string"
   ]
  },
  {
   "cell_type": "code",
   "execution_count": 5,
   "id": "9fb8ba34-a386-4d8c-824c-7ced1ce5b00a",
   "metadata": {
    "id": "2ddxvnrNIPbQ",
    "outputId": "1df1ae3f-7749-4968-c46a-e6d230a4b852"
   },
   "outputs": [
    {
     "data": {
      "text/plain": [
       "'W e l c o m e   t o   M L w o r l d'"
      ]
     },
     "execution_count": 5,
     "metadata": {},
     "output_type": "execute_result"
    }
   ],
   "source": [
    "\" \".join(\"Welcome to MLworld\")"
   ]
  },
  {
   "cell_type": "markdown",
   "id": "097759f2-cba7-4457-9eb1-bad47839ce53",
   "metadata": {
    "id": "QB2Y-lerIPbT"
   },
   "source": [
    "### Replace string"
   ]
  },
  {
   "cell_type": "code",
   "execution_count": 103,
   "id": "cb567fe2-f796-4b17-8d3e-9fc87453ed4b",
   "metadata": {
    "id": "96c1J8W2IPbT",
    "outputId": "366b1bb2-59a8-4d81-aabd-038bbbe46c46"
   },
   "outputs": [
    {
     "data": {
      "text/plain": [
       "'come from pune'"
      ]
     },
     "execution_count": 103,
     "metadata": {},
     "output_type": "execute_result"
    }
   ],
   "source": [
    "string_n = \"come to pune\"\n",
    "string_n.replace(\"to\",\"from\")"
   ]
  },
  {
   "cell_type": "code",
   "execution_count": 124,
   "id": "655fd653-68d9-4dd2-b227-81dfb347f21a",
   "metadata": {},
   "outputs": [
    {
     "data": {
      "text/plain": [
       "'welcome to course'"
      ]
     },
     "execution_count": 124,
     "metadata": {},
     "output_type": "execute_result"
    }
   ],
   "source": [
    "string_n.replace('come','welcome').replace('pune','course')"
   ]
  },
  {
   "cell_type": "markdown",
   "id": "accd8929-5274-425f-afbc-8adab0b46f77",
   "metadata": {
    "id": "cKTvi4T0IPbY"
   },
   "source": [
    "### Formatting\n",
    "\n",
    "The `center()` method allows you to place your string 'centered' between a provided string with a certain length. "
   ]
  },
  {
   "cell_type": "code",
   "execution_count": 110,
   "id": "e05e7cab-6a76-4a7a-b56e-a1f7e1c500fa",
   "metadata": {
    "id": "dn8AAp_iIPbZ",
    "outputId": "09dc8ef9-515c-4613-b1d3-e7937a892c87"
   },
   "outputs": [
    {
     "data": {
      "text/plain": [
       "'@I like statistics@'"
      ]
     },
     "execution_count": 110,
     "metadata": {},
     "output_type": "execute_result"
    }
   ],
   "source": [
    "string.center(19,'@')"
   ]
  },
  {
   "cell_type": "markdown",
   "id": "9ea1ef93-4481-4bc3-9e02-1a5cdef5aa1c",
   "metadata": {
    "id": "sh9H5ZRUIPbc"
   },
   "source": [
    "`expandtabs()` will expand tab notations \\t into spaces. Let's see an example to understand the concept."
   ]
  },
  {
   "cell_type": "code",
   "execution_count": 111,
   "id": "e58e9e86-1862-4239-9c95-bc55d937e494",
   "metadata": {
    "id": "06B3L89zIPbc",
    "outputId": "7adedd68-843f-4d6a-f297-c8d039aee7be"
   },
   "outputs": [
    {
     "data": {
      "text/plain": [
       "'hello   hi'"
      ]
     },
     "execution_count": 111,
     "metadata": {},
     "output_type": "execute_result"
    }
   ],
   "source": [
    "'hello\\thi'.expandtabs()"
   ]
  },
  {
   "cell_type": "markdown",
   "id": "709d7f94-f2fe-4180-b9c9-e5c43c25a20b",
   "metadata": {
    "id": "gcJ_CDW9IPbi"
   },
   "source": [
    "### Checking string case"
   ]
  },
  {
   "cell_type": "code",
   "execution_count": 112,
   "id": "937a6a07-b195-4219-9ee4-b34d241396ea",
   "metadata": {
    "id": "spKw1bXpIPbj",
    "outputId": "b44c0d16-95b9-4c31-c5ea-a8cbbf352fe9"
   },
   "outputs": [
    {
     "data": {
      "text/plain": [
       "False"
      ]
     },
     "execution_count": 112,
     "metadata": {},
     "output_type": "execute_result"
    }
   ],
   "source": [
    "# Check if string are in upper case\n",
    "string.isupper()"
   ]
  },
  {
   "cell_type": "code",
   "execution_count": 113,
   "id": "131f2a3d-33ce-4284-a972-7f7e563e0da9",
   "metadata": {
    "id": "4-6qzkgZIPbo",
    "outputId": "5a5993dc-bbfd-493e-d7a9-bddf13631dcd"
   },
   "outputs": [
    {
     "data": {
      "text/plain": [
       "False"
      ]
     },
     "execution_count": 113,
     "metadata": {},
     "output_type": "execute_result"
    }
   ],
   "source": [
    "# Check if string are in lower case\n",
    "string.islower()"
   ]
  },
  {
   "cell_type": "code",
   "execution_count": 114,
   "id": "f5c72f00-556a-46be-ae77-5c3d3a802cd9",
   "metadata": {
    "id": "1DDkb2hoIPbs",
    "outputId": "026bcb0c-2923-40fa-96b6-d92f654863dc"
   },
   "outputs": [
    {
     "data": {
      "text/plain": [
       "False"
      ]
     },
     "execution_count": 114,
     "metadata": {},
     "output_type": "execute_result"
    }
   ],
   "source": [
    "# Check if string contains space\n",
    "string.isspace()"
   ]
  },
  {
   "cell_type": "code",
   "execution_count": 115,
   "id": "a3456d09-ec7c-46b9-a1bf-92f3d0a9c9de",
   "metadata": {
    "id": "H8xB3rFGIPbw",
    "outputId": "bcc801f3-3b83-4b8d-d77e-5886d25be34a"
   },
   "outputs": [
    {
     "data": {
      "text/plain": [
       "False"
      ]
     },
     "execution_count": 115,
     "metadata": {},
     "output_type": "execute_result"
    }
   ],
   "source": [
    "# Check if string contains digit\n",
    "string.isdigit() "
   ]
  },
  {
   "cell_type": "code",
   "execution_count": 117,
   "id": "0dd9647c-7438-406f-91cc-1e25f8c9f18e",
   "metadata": {
    "id": "ScUB3y6DIPb1",
    "outputId": "8646b97c-b976-40ab-91be-a11dec147127"
   },
   "outputs": [
    {
     "data": {
      "text/plain": [
       "True"
      ]
     },
     "execution_count": 117,
     "metadata": {},
     "output_type": "execute_result"
    }
   ],
   "source": [
    "# Check if string endswith character n\n",
    "string.endswith('s') "
   ]
  },
  {
   "cell_type": "code",
   "execution_count": 119,
   "id": "b0939d5a-a474-4a47-b080-d260b05cebe6",
   "metadata": {
    "id": "76QmoszoIPb3",
    "outputId": "887b9c28-d7f0-4460-d5a0-732467f01eec"
   },
   "outputs": [
    {
     "data": {
      "text/plain": [
       "True"
      ]
     },
     "execution_count": 119,
     "metadata": {},
     "output_type": "execute_result"
    }
   ],
   "source": [
    "# Check if string startswith character n\n",
    "string.startswith('I') "
   ]
  },
  {
   "cell_type": "code",
   "execution_count": 120,
   "id": "a2365d46-9c86-4a49-b560-e7350e95ed9f",
   "metadata": {
    "id": "o0xbXuYbIPb5",
    "outputId": "7a53049a-82a5-4182-d7fc-ea6c836f8de6"
   },
   "outputs": [
    {
     "data": {
      "text/plain": [
       "True"
      ]
     },
     "execution_count": 120,
     "metadata": {},
     "output_type": "execute_result"
    }
   ],
   "source": [
    "#check if all char in string are alphanumeric\n",
    "a = \"abcd1234\"\n",
    "a.isalnum() "
   ]
  },
  {
   "cell_type": "code",
   "execution_count": 121,
   "id": "69ed65c4-dd7f-4804-b123-3acc5a7850a5",
   "metadata": {
    "id": "fNkFU3GnIPb9",
    "outputId": "73d15813-0456-4120-ee1b-d1a3d52a0622"
   },
   "outputs": [
    {
     "data": {
      "text/plain": [
       "True"
      ]
     },
     "execution_count": 121,
     "metadata": {},
     "output_type": "execute_result"
    }
   ],
   "source": [
    "#test if string contains title words\n",
    "a=\"Abcdef\"\n",
    "a.istitle() "
   ]
  },
  {
   "cell_type": "markdown",
   "id": "a543ef1d-5212-46c4-b481-1736a06cc266",
   "metadata": {
    "id": "9k61R3OwIPcA"
   },
   "source": [
    "### Iterate through a string"
   ]
  },
  {
   "cell_type": "code",
   "execution_count": 132,
   "id": "663a9860-5b44-43ec-8277-73277b9f611f",
   "metadata": {
    "id": "865K-5QsIPcA",
    "outputId": "3e73ae20-1183-4416-bc19-83f04540847b"
   },
   "outputs": [
    {
     "name": "stdout",
     "output_type": "stream",
     "text": [
      "23 letters found\n"
     ]
    }
   ],
   "source": [
    "# Iterating through a string and count letters in a string\n",
    "count = 0\n",
    "for ch in 'Welcome to data science':\n",
    "    count =count+ 1 # we can use count=+1\n",
    "print(count,'letters found')"
   ]
  },
  {
   "cell_type": "code",
   "execution_count": 133,
   "id": "2690e829-97f0-4204-a2eb-437733aae39d",
   "metadata": {
    "id": "OjsFH5UPIPcD",
    "outputId": "8d05701b-b4b5-40c7-ba18-89171545a361"
   },
   "outputs": [
    {
     "data": {
      "text/plain": [
       "23"
      ]
     },
     "execution_count": 133,
     "metadata": {},
     "output_type": "execute_result"
    }
   ],
   "source": [
    "# Same operation can be done using len\n",
    "len(\"Welcome to data science\")"
   ]
  },
  {
   "cell_type": "code",
   "execution_count": 136,
   "id": "f4a5fb85-85fc-4000-865e-e59397054676",
   "metadata": {
    "id": "C2o_I6CrIPcF",
    "outputId": "13302c29-2aa2-4ea3-9fd6-3121018eeea1"
   },
   "outputs": [
    {
     "name": "stdout",
     "output_type": "stream",
     "text": [
      "0 = s\n",
      "1 = t\n",
      "2 = a\n",
      "3 = t\n",
      "4 = i\n",
      "5 = s\n",
      "6 = t\n",
      "7 = i\n",
      "8 = c\n",
      "9 = s\n"
     ]
    }
   ],
   "source": [
    "# Using range() to iterating through a string\n",
    "string = \"statistics\"\n",
    "for ch in range(len(string)):\n",
    "   print(ch,\"=\",string[ch])"
   ]
  },
  {
   "cell_type": "code",
   "execution_count": 7,
   "id": "26e1eecb-b0c3-4fbd-bb84-915bebdded8a",
   "metadata": {},
   "outputs": [
    {
     "name": "stdout",
     "output_type": "stream",
     "text": [
      "s\n",
      "e\n",
      "s\n",
      "r\n",
      "u\n",
      "o\n",
      "c\n"
     ]
    }
   ],
   "source": [
    "# iterate string  reverse order direction\n",
    "string='courses'\n",
    "for i in range(len(string)-1,-1,-1):\n",
    "    print(string[i])\n",
    "    "
   ]
  },
  {
   "cell_type": "code",
   "execution_count": 150,
   "id": "5f373f8e-f6f0-4168-8813-ba4b6ac7cdf8",
   "metadata": {
    "id": "-q1NkXceIPcI",
    "outputId": "e21a9ce1-c265-4f75-8696-b6a243be0b23"
   },
   "outputs": [
    {
     "name": "stdout",
     "output_type": "stream",
     "text": [
      "s\n",
      "l\n",
      "l\n",
      "i\n",
      "k\n",
      "s\n",
      "w\n",
      "p\n"
     ]
    }
   ],
   "source": [
    "# We can use index to iterate string reverse direction\n",
    "string = \"pwskills\"\n",
    "ch = len(string) - 1\n",
    "while ch >= 0:\n",
    "   print(string[ch])\n",
    "   ch = ch-1"
   ]
  },
  {
   "cell_type": "code",
   "execution_count": 151,
   "id": "11c98ecb-dd77-4738-a96a-1907a0c6a7dd",
   "metadata": {},
   "outputs": [
    {
     "name": "stdout",
     "output_type": "stream",
     "text": [
      "s\n",
      "l\n",
      "l\n",
      "i\n",
      "k\n",
      "s\n",
      "w\n",
      "p\n"
     ]
    }
   ],
   "source": [
    "for i in range(len(string)):\n",
    "    print(string[len(string)-(i+1)])"
   ]
  },
  {
   "cell_type": "code",
   "execution_count": 152,
   "id": "956cf3de-eee2-4f78-b381-3a9953dc68f4",
   "metadata": {},
   "outputs": [
    {
     "name": "stdout",
     "output_type": "stream",
     "text": [
      "sllikswp"
     ]
    }
   ],
   "source": [
    "for i in range(len(string)):\n",
    "    print(string[len(string)-(i+1)],end=\"\")"
   ]
  },
  {
   "cell_type": "code",
   "execution_count": null,
   "id": "86bc5480-484f-42f8-a411-5125fc9312ed",
   "metadata": {
    "id": "DRCjSK8tIPcL",
    "outputId": "d1f63ace-f119-4f2f-ef6e-7546a1b1b315"
   },
   "outputs": [
    {
     "name": "stdout",
     "output_type": "stream",
     "text": [
      "i is a vowel\n",
      "n is not a vowel\n",
      "e is a vowel\n",
      "u is a vowel\n",
      "r is not a vowel\n",
      "o is a vowel\n",
      "n is not a vowel\n"
     ]
    }
   ],
   "source": [
    "Name = \"ineuron\"\n",
    "vowels = \"AaEeIiOoUu\"\n",
    "for ch in Name:\n",
    "    if ch in vowels:\n",
    "        print(\"{} is a vowel\".format(ch))\n",
    "    else:\n",
    "        print(\"{} is not a vowel\".format(ch))"
   ]
  },
  {
   "cell_type": "code",
   "execution_count": null,
   "id": "51218639-8550-460b-8f4a-4c857432b0f4",
   "metadata": {
    "id": "mxrgQ-USIPcN",
    "outputId": "35b13761-32d2-4cda-efcd-88775ab7ec0d"
   },
   "outputs": [
    {
     "name": "stdout",
     "output_type": "stream",
     "text": [
      "Yes string is palindrome\n"
     ]
    }
   ],
   "source": [
    "''' We will see famous palindrome program. String is called palindrom if we reverse the string then\n",
    "    original and reversed string are same or not.\n",
    "    function to check string is  \n",
    "    palindrome or not  \n",
    "'''\n",
    "def palindrome_check(str): \n",
    "  \n",
    "    # looping from 0 to len(str)/2  \n",
    "    for i in range(0, int(len(str)/2)):  \n",
    "        if str[i] != str[len(str)-i-1]: \n",
    "            return False\n",
    "    return True\n",
    "\n",
    "    # Or for reversing we can use str == str[::-1] also.\n",
    "  \n",
    "s = \"malayalam\"\n",
    "res = palindrome_check(s) \n",
    "  \n",
    "if (res): \n",
    "    print(\"Yes string is palindrome\") \n",
    "else: \n",
    "    print(\"No string is not palindrome\")"
   ]
  },
  {
   "cell_type": "code",
   "execution_count": 140,
   "id": "0ebbdc67-f3cb-49c3-b009-81f4e06eab6b",
   "metadata": {},
   "outputs": [
    {
     "name": "stdout",
     "output_type": "stream",
     "text": [
      "i\n",
      "t\n",
      "a\n",
      "n\n",
      "n\n",
      "u\n"
     ]
    }
   ],
   "source": [
    "string='unnati'\n",
    "for i in range(len(string)-1,-1,-1):\n",
    "    print(string[i])\n",
    "    "
   ]
  },
  {
   "cell_type": "code",
   "execution_count": 156,
   "id": "a5b70c0b-e910-470b-a7ea-399a5c8c5f6c",
   "metadata": {},
   "outputs": [
    {
     "name": "stdout",
     "output_type": "stream",
     "text": [
      "u is a vowel\n",
      "n is a name\n",
      "n is a name\n",
      "a is a vowel\n",
      "t is a name\n",
      "i is a vowel\n"
     ]
    }
   ],
   "source": [
    "Name='unnati'\n",
    "vowel='aeiou'\n",
    "for x in name:\n",
    "    if x in vowel:\n",
    "        print(\"{} is a vowel\".format(x))\n",
    "    else:\n",
    "        print(\"{} is a name\".format(x))\n",
    "              \n"
   ]
  },
  {
   "cell_type": "code",
   "execution_count": 169,
   "id": "1f044d1d-506b-4c1d-a3ee-27e685119348",
   "metadata": {},
   "outputs": [],
   "source": [
    "list1=['data science']"
   ]
  },
  {
   "cell_type": "code",
   "execution_count": 201,
   "id": "8871bc24-127b-4970-8bf4-62924200a2c8",
   "metadata": {},
   "outputs": [],
   "source": [
    "list1=['data','science','master']"
   ]
  },
  {
   "cell_type": "code",
   "execution_count": 208,
   "id": "7deaafe8-7c89-4cc3-a995-e4da16a4baae",
   "metadata": {},
   "outputs": [
    {
     "name": "stdout",
     "output_type": "stream",
     "text": [
      "science\n"
     ]
    }
   ],
   "source": [
    "for i in list1:\n",
    "    if i=='science':\n",
    "        print(i)\n",
    "        break\n"
   ]
  },
  {
   "cell_type": "code",
   "execution_count": 209,
   "id": "22e5c903-3f39-4d72-ae4b-b78e9385c92a",
   "metadata": {},
   "outputs": [],
   "source": [
    "lst_1=[1,2,3]\n",
    "lst_2=[4,5,6]\n",
    "lst_3=[7,8,9]\n",
    "\n",
    "# Make a list of lists to form a matrix\n",
    "matrix = [lst_1,lst_2,lst_3]"
   ]
  },
  {
   "cell_type": "code",
   "execution_count": 210,
   "id": "4516f74f-779c-43e9-aaeb-f80aa844e786",
   "metadata": {},
   "outputs": [
    {
     "data": {
      "text/plain": [
       "[[1, 2, 3], [4, 5, 6], [7, 8, 9]]"
      ]
     },
     "execution_count": 210,
     "metadata": {},
     "output_type": "execute_result"
    }
   ],
   "source": [
    "matrix"
   ]
  },
  {
   "cell_type": "code",
   "execution_count": 223,
   "id": "4e305917-217d-416a-b0f8-49565af13ae8",
   "metadata": {},
   "outputs": [
    {
     "data": {
      "text/plain": [
       "True"
      ]
     },
     "execution_count": 223,
     "metadata": {},
     "output_type": "execute_result"
    }
   ],
   "source": [
    "4%2==0"
   ]
  },
  {
   "cell_type": "code",
   "execution_count": 8,
   "id": "eaef48be-cf5b-4080-b946-a13fe2b3439e",
   "metadata": {},
   "outputs": [
    {
     "name": "stdout",
     "output_type": "stream",
     "text": [
      "20\n",
      "16\n"
     ]
    }
   ],
   "source": [
    "lst = [1,2,3,4,5,6,7,8]\n",
    "\n",
    "even_sum = 0\n",
    "odd_sum = 0\n",
    "for i in lst:\n",
    "    if i % 2 ==0:\n",
    "        even_sum += i\n",
    "    else:\n",
    "        odd_sum += i        \n",
    "        \n",
    "print(even_sum)\n",
    "print(odd_sum)\n"
   ]
  },
  {
   "cell_type": "code",
   "execution_count": 9,
   "id": "f60a15a5-3b85-4970-8cba-06abadb9c010",
   "metadata": {},
   "outputs": [
    {
     "data": {
      "text/plain": [
       "[1, 4, 9, 16, 25, 36, 49, 64]"
      ]
     },
     "execution_count": 9,
     "metadata": {},
     "output_type": "execute_result"
    }
   ],
   "source": [
    "#print square of each element in string\n",
    "[i**2 for i in lst]"
   ]
  },
  {
   "cell_type": "code",
   "execution_count": 10,
   "id": "7fa4615d-f463-425b-8783-d1a1b2990693",
   "metadata": {},
   "outputs": [],
   "source": [
    "lst1=[1,2,3,-1,-2,-45,40]\n"
   ]
  },
  {
   "cell_type": "code",
   "execution_count": 11,
   "id": "e19d814f-33d3-444e-85b9-ce0219ed4983",
   "metadata": {},
   "outputs": [
    {
     "data": {
      "text/plain": [
       "[1, 2, 3, 40]"
      ]
     },
     "execution_count": 11,
     "metadata": {},
     "output_type": "execute_result"
    }
   ],
   "source": [
    "[i for i in lst1 if i >0]"
   ]
  },
  {
   "cell_type": "code",
   "execution_count": 12,
   "id": "05b5d522-b248-4316-a2b4-e30fd9e1af76",
   "metadata": {},
   "outputs": [],
   "source": [
    "#(9/5)*temp+32\n",
    "list=[0,10,20,30,40,50]\n"
   ]
  },
  {
   "cell_type": "code",
   "execution_count": 13,
   "id": "5d715d6e-a9e8-484f-b03f-a121bad73fac",
   "metadata": {},
   "outputs": [
    {
     "data": {
      "text/plain": [
       "[32.0, 50.0, 68.0, 86.0, 104.0, 122.0]"
      ]
     },
     "execution_count": 13,
     "metadata": {},
     "output_type": "execute_result"
    }
   ],
   "source": [
    "[(9/5)*temp + 32 for temp in list]"
   ]
  },
  {
   "cell_type": "code",
   "execution_count": 14,
   "id": "b5b1245b-327a-4083-82b9-bd05f37b975e",
   "metadata": {},
   "outputs": [
    {
     "data": {
      "text/plain": [
       "[32.0, 50.0, 68.0, 86.0, 104.0, 122.0]"
      ]
     },
     "execution_count": 14,
     "metadata": {},
     "output_type": "execute_result"
    }
   ],
   "source": [
    "[(9/5)*temp + 32 for temp in list]"
   ]
  },
  {
   "cell_type": "code",
   "execution_count": null,
   "id": "8e6f8e03-3e7c-4423-9958-530d927816ce",
   "metadata": {},
   "outputs": [],
   "source": []
  }
 ],
 "metadata": {
  "kernelspec": {
   "display_name": "Python 3 (ipykernel)",
   "language": "python",
   "name": "python3"
  },
  "language_info": {
   "codemirror_mode": {
    "name": "ipython",
    "version": 3
   },
   "file_extension": ".py",
   "mimetype": "text/x-python",
   "name": "python",
   "nbconvert_exporter": "python",
   "pygments_lexer": "ipython3",
   "version": "3.10.8"
  }
 },
 "nbformat": 4,
 "nbformat_minor": 5
}
