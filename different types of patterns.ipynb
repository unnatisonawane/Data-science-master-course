{
 "cells": [
  {
   "cell_type": "markdown",
   "id": "1c8075c6-26f1-4b42-ad61-f8c6d69a028f",
   "metadata": {},
   "source": [
    "patterns examples"
   ]
  },
  {
   "cell_type": "code",
   "execution_count": 142,
   "id": "4fe61979-032d-48da-a500-29a55961d3a0",
   "metadata": {},
   "outputs": [
    {
     "name": "stdin",
     "output_type": "stream",
     "text": [
      "enter no. of rows 8\n"
     ]
    },
    {
     "name": "stdout",
     "output_type": "stream",
     "text": [
      "* \n",
      "* * \n",
      "* * * \n",
      "* * * * \n",
      "* * * * * \n",
      "* * * * * * \n",
      "* * * * * * * \n",
      "* * * * * * * * \n"
     ]
    }
   ],
   "source": [
    "#Simple pyramid pattern\n",
    "n=int(input('enter no. of rows'))\n",
    "for i in range(n):\n",
    "    for j in range(i+1):\n",
    "        print('*',end=\" \")\n",
    "    print()"
   ]
  },
  {
   "cell_type": "code",
   "execution_count": 143,
   "id": "b3298fb9-63ff-4a27-a3aa-95ec26ea2f76",
   "metadata": {},
   "outputs": [
    {
     "name": "stdin",
     "output_type": "stream",
     "text": [
      "no. of rows 8\n"
     ]
    },
    {
     "name": "stdout",
     "output_type": "stream",
     "text": [
      "       * \n",
      "      * * \n",
      "     * * * \n",
      "    * * * * \n",
      "   * * * * * \n",
      "  * * * * * * \n",
      " * * * * * * * \n",
      "* * * * * * * * \n"
     ]
    }
   ],
   "source": [
    "# Reverse right angle pyramid\n",
    "n=int(input('no. of rows'))\n",
    "for i in range(n):\n",
    "    for j in range(n-i-1):\n",
    "        print(' ',end='')\n",
    "    for j in range(i+1):\n",
    "            print('*',end=' ')\n",
    "    print()\n"
   ]
  },
  {
   "cell_type": "code",
   "execution_count": 144,
   "id": "65c483c9-7f0a-445e-a8c2-7a18bb0d95f6",
   "metadata": {},
   "outputs": [
    {
     "name": "stdin",
     "output_type": "stream",
     "text": [
      "no. of rows 8\n"
     ]
    },
    {
     "name": "stdout",
     "output_type": "stream",
     "text": [
      "* * * * * * * * \n",
      "* * * * * * * \n",
      "* * * * * * \n",
      "* * * * * \n",
      "* * * * \n",
      "* * * \n",
      "* * \n",
      "* \n",
      "\n"
     ]
    }
   ],
   "source": [
    "#Printing Downward half - Pyramid\n",
    "n=int(input('no. of rows'))\n",
    "for i in range(n + 1,0, -1):    \n",
    "    for j in range(0, i - 1):  \n",
    "        print(\"*\", end=' ')  \n",
    "    print()  "
   ]
  },
  {
   "cell_type": "code",
   "execution_count": 145,
   "id": "daa4433e-bf67-4a00-9abf-8c5625235467",
   "metadata": {},
   "outputs": [
    {
     "name": "stdin",
     "output_type": "stream",
     "text": [
      "size of triangle 8\n"
     ]
    },
    {
     "name": "stdout",
     "output_type": "stream",
     "text": [
      "* * * * * * * * \n",
      " * * * * * * * \n",
      "  * * * * * * \n",
      "   * * * * * \n",
      "    * * * * \n",
      "     * * * \n",
      "      * * \n",
      "       * \n"
     ]
    }
   ],
   "source": [
    "#Downward Triangle Pattern\n",
    "n=int(input('size of triangle'))\n",
    "for i in range(n,0,-1):\n",
    "    for j in range(0,n-i):\n",
    "        print(' ',end='')\n",
    "    for j in range(0,i):\n",
    "            print('*',end=' ')\n",
    "    print()\n"
   ]
  },
  {
   "cell_type": "code",
   "execution_count": 147,
   "id": "6437a853-4133-4d27-abd3-b7898e2284a3",
   "metadata": {},
   "outputs": [
    {
     "name": "stdin",
     "output_type": "stream",
     "text": [
      "Enter the number of rows:  8\n"
     ]
    },
    {
     "name": "stdout",
     "output_type": "stream",
     "text": [
      "*  \n",
      "* *  \n",
      "* * *  \n",
      "* * * *  \n",
      "* * * * *  \n",
      "* * * * * *  \n",
      "* * * * * * *  \n",
      "* * * * * * * *  \n",
      "* * * * * * * *  \n",
      "* * * * * * *  \n",
      "* * * * * *  \n",
      "* * * * *  \n",
      "* * * *  \n",
      "* * *  \n",
      "* *  \n",
      "*  \n",
      " \n"
     ]
    }
   ],
   "source": [
    "#Print two pyramid in a single pattern\n",
    "n = int(input(\"Enter the number of rows: \")  )\n",
    "for i in range(0, n):   \n",
    "    for j in range(0, i + 1):  \n",
    "        print(\"*\", end=' ')  \n",
    "    print(\" \")   \n",
    "for i in range(n + 1, 0, -1):  \n",
    "    for j in range(0, i - 1):  \n",
    "        print(\"*\", end=' ')  \n",
    "    print(\" \")  "
   ]
  },
  {
   "cell_type": "code",
   "execution_count": 146,
   "id": "8081ff03-2562-4f9e-a1b3-0c8a74911aa5",
   "metadata": {},
   "outputs": [
    {
     "name": "stdin",
     "output_type": "stream",
     "text": [
      "size of triangle 8\n"
     ]
    },
    {
     "name": "stdout",
     "output_type": "stream",
     "text": [
      "       * \n",
      "      * * \n",
      "     * * * \n",
      "    * * * * \n",
      "   * * * * * \n",
      "  * * * * * * \n",
      " * * * * * * * \n",
      "* * * * * * * * \n",
      "* * * * * * * * \n",
      " * * * * * * * \n",
      "  * * * * * * \n",
      "   * * * * * \n",
      "    * * * * \n",
      "     * * * \n",
      "      * * \n",
      "       * \n"
     ]
    }
   ],
   "source": [
    "#Diamond Shaped Pattern\n",
    "n=int(input('size of triangle'))\n",
    "for i in range(n):\n",
    "    for j in range(n-i-1):\n",
    "        print(' ',end='')\n",
    "    for j in range(i+1):\n",
    "            print('*',end=' ')\n",
    "    print()\n",
    "for i in range(n,0,-1):\n",
    "    for j in range(0,n-i):\n",
    "        print(' ',end='')\n",
    "    for j in range(0,i):\n",
    "            print('*',end=' ')\n",
    "    print()"
   ]
  },
  {
   "cell_type": "code",
   "execution_count": 148,
   "id": "919b4c0c-2847-4dfe-9c32-5386e83e48dd",
   "metadata": {},
   "outputs": [
    {
     "name": "stdin",
     "output_type": "stream",
     "text": [
      "size of triangle 8\n"
     ]
    },
    {
     "name": "stdout",
     "output_type": "stream",
     "text": [
      "* * * * * * * * \n",
      " * * * * * * * \n",
      "  * * * * * * \n",
      "   * * * * * \n",
      "    * * * * \n",
      "     * * * \n",
      "      * * \n",
      "       * \n",
      "       * \n",
      "      * * \n",
      "     * * * \n",
      "    * * * * \n",
      "   * * * * * \n",
      "  * * * * * * \n",
      " * * * * * * * \n",
      "* * * * * * * * \n"
     ]
    }
   ],
   "source": [
    "#Hourglass Pattern\n",
    "n=int(input('size of triangle'))\n",
    "for i in range(n,0,-1):\n",
    "    for j in range(0,n-i):\n",
    "        print(' ',end='')\n",
    "    for j in range(0,i):\n",
    "            print('*',end=' ')\n",
    "    print()\n",
    "for i in range(n):\n",
    "    for j in range(n-i-1):\n",
    "        print(' ',end='')\n",
    "    for j in range(i+1):\n",
    "            print('*',end=' ')\n",
    "    print()"
   ]
  },
  {
   "cell_type": "code",
   "execution_count": 149,
   "id": "e6616787-d8ff-42d2-ab4c-13adce309a1e",
   "metadata": {},
   "outputs": [
    {
     "name": "stdin",
     "output_type": "stream",
     "text": [
      "Enter the number of rows:  8\n"
     ]
    },
    {
     "name": "stdout",
     "output_type": "stream",
     "text": [
      " \n",
      "1  \n",
      "2 2  \n",
      "3 3 3  \n",
      "4 4 4 4  \n",
      "5 5 5 5 5  \n",
      "6 6 6 6 6 6  \n",
      "7 7 7 7 7 7 7  \n",
      "8 8 8 8 8 8 8 8  \n"
     ]
    }
   ],
   "source": [
    "n = int(input(\"Enter the number of rows: \"))   \n",
    "for i in range(n+1):  \n",
    "    for j in range(i):  \n",
    "        print(i, end=\" \") \n",
    "    print(\" \")  "
   ]
  },
  {
   "cell_type": "code",
   "execution_count": 161,
   "id": "b6a99cf1-63ec-461d-b529-34ba62e00241",
   "metadata": {},
   "outputs": [
    {
     "name": "stdin",
     "output_type": "stream",
     "text": [
      "no. of rows 8\n"
     ]
    },
    {
     "name": "stdout",
     "output_type": "stream",
     "text": [
      "8 8 8 8 8 8 8 8 \n",
      "7 7 7 7 7 7 7 \n",
      "6 6 6 6 6 6 \n",
      "5 5 5 5 5 \n",
      "4 4 4 4 \n",
      "3 3 3 \n",
      "2 2 \n",
      "1 \n"
     ]
    }
   ],
   "source": [
    "n=int(input('no. of rows'))\n",
    "for i in range(n,0, -1):    \n",
    "    for j in range(i):  \n",
    "        print(i, end=' ')  \n",
    "    print()  "
   ]
  },
  {
   "cell_type": "code",
   "execution_count": 166,
   "id": "0aa0523a-80bd-4eb7-9e67-2c89be9b66fa",
   "metadata": {},
   "outputs": [
    {
     "name": "stdin",
     "output_type": "stream",
     "text": [
      "Enter the number of rows:  8\n"
     ]
    },
    {
     "name": "stdout",
     "output_type": "stream",
     "text": [
      " \n",
      "8  \n",
      "8 8  \n",
      "8 8 8  \n",
      "8 8 8 8  \n",
      "8 8 8 8 8  \n",
      "8 8 8 8 8 8  \n",
      "8 8 8 8 8 8 8  \n",
      "8 8 8 8 8 8 8 8  \n"
     ]
    }
   ],
   "source": [
    "n = int(input(\"Enter the number of rows: \"))   \n",
    "for i in range(n+1):  \n",
    "    for j in range(0,i):  \n",
    "        print(n, end=\" \") \n",
    "    print(\" \")  "
   ]
  },
  {
   "cell_type": "code",
   "execution_count": null,
   "id": "60a1591b-6fd1-4e5d-86e1-0d6e19a8b63c",
   "metadata": {},
   "outputs": [],
   "source": []
  }
 ],
 "metadata": {
  "kernelspec": {
   "display_name": "Python 3 (ipykernel)",
   "language": "python",
   "name": "python3"
  },
  "language_info": {
   "codemirror_mode": {
    "name": "ipython",
    "version": 3
   },
   "file_extension": ".py",
   "mimetype": "text/x-python",
   "name": "python",
   "nbconvert_exporter": "python",
   "pygments_lexer": "ipython3",
   "version": "3.10.8"
  }
 },
 "nbformat": 4,
 "nbformat_minor": 5
}
